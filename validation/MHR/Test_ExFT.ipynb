{
 "cells": [
  {
   "cell_type": "code",
   "execution_count": null,
   "metadata": {},
   "outputs": [],
   "source": [
    "import os\n",
    "import sys\n",
    "import json\n",
    "import tempfile\n",
    "import pandas as pd\n",
    "import numpy as np\n",
    "\n",
    "import datetime\n",
    "\n",
    "from CoolProp.CoolProp import PropsSI\n",
    "from math import exp, factorial, ceil\n",
    "\n",
    "import matplotlib.pyplot as plt\n",
    "%matplotlib inline\n",
    "\n",
    "cwd = os.getcwd()\n",
    "sys.path.append(os.path.normpath(os.path.join(cwd, '..', '..', '..', 'glhe')))\n",
    "sys.path.append(os.path.normpath(os.path.join(cwd, '..', '..', '..', 'standalone')))"
   ]
  },
  {
   "cell_type": "code",
   "execution_count": null,
   "metadata": {},
   "outputs": [],
   "source": [
    "plt.style.use('ggplot')\n",
    "plt.rcParams['figure.figsize'] = [15, 9]\n",
    "plt.rcParams['font.size'] = 14\n",
    "\n",
    "pd.set_option('display.max_columns', None)\n",
    "# pd.set_option('display.max_rows', None)"
   ]
  },
  {
   "cell_type": "code",
   "execution_count": null,
   "metadata": {},
   "outputs": [],
   "source": [
    "df = pd.read_csv(\"out.csv\", index_col=0)"
   ]
  },
  {
   "cell_type": "code",
   "execution_count": null,
   "metadata": {},
   "outputs": [],
   "source": [
    "df.head(2)"
   ]
  },
  {
   "cell_type": "code",
   "execution_count": null,
   "metadata": {},
   "outputs": [],
   "source": [
    "start_time = datetime.datetime(month=1, day=1, year=2018, hour=0, minute=0, second=0)"
   ]
  },
  {
   "cell_type": "code",
   "execution_count": null,
   "metadata": {},
   "outputs": [],
   "source": [
    "l = df['Simulation Time'].tolist()"
   ]
  },
  {
   "cell_type": "code",
   "execution_count": null,
   "metadata": {},
   "outputs": [],
   "source": [
    "dt = [datetime.timedelta(seconds=x) for x in l]"
   ]
  },
  {
   "cell_type": "code",
   "execution_count": null,
   "metadata": {},
   "outputs": [],
   "source": [
    "df.set_index(pd.to_datetime([start_time + x for x in dt]), inplace=True)"
   ]
  },
  {
   "cell_type": "code",
   "execution_count": null,
   "metadata": {},
   "outputs": [],
   "source": [
    "df.plot(y=['GLHE Inlet Temperature [C]', 'GLHE Outlet Temperature [C]'])"
   ]
  },
  {
   "cell_type": "code",
   "execution_count": null,
   "metadata": {},
   "outputs": [],
   "source": [
    "dT = df['GLHE Inlet Temperature [C]'].diff()\n",
    "dt = df['GLHE Inlet Temperature [C]'].index.to_series().diff().dt.total_seconds()\n",
    "\n",
    "df['dT_in/dt'] = dT/dt"
   ]
  },
  {
   "cell_type": "code",
   "execution_count": null,
   "metadata": {},
   "outputs": [],
   "source": [
    "df.plot(y='dT_in/dt')"
   ]
  },
  {
   "cell_type": "code",
   "execution_count": null,
   "metadata": {},
   "outputs": [],
   "source": [
    "df = df.loc['01-01-2018 02:50:00':'01-01-2018 03:30:00']"
   ]
  },
  {
   "cell_type": "code",
   "execution_count": null,
   "metadata": {},
   "outputs": [],
   "source": [
    "def hanby(time, vol_flow_rate, volume):\n",
    "    \"\"\"\n",
    "    Computes the non-dimensional response of a fluid conduit\n",
    "    assuming well mixed nodes. The model accounts for the thermal\n",
    "    capacity of the fluid and diffusive mixing.\n",
    "\n",
    "    Hanby, V.I., J.A. Wright, D.W. Fetcher, D.N.T. Jones. 2002\n",
    "    'Modeling the dynamic response of conduits.' HVAC&R Research 8(1): 1-12.\n",
    "\n",
    "    The model is non-dimensional, so input parameters should have consistent units\n",
    "    for that are able to compute the non-dimensional time parameter, tau.\n",
    "\n",
    "    :math \\tau = \\frac{\\dot{V} \\cdot t}{Vol}\n",
    "\n",
    "\n",
    "    :param time: time of fluid response\n",
    "    :param vol_flow_rate: volume flow rate\n",
    "    :param volume: volume of fluid circuit\n",
    "    :return:\n",
    "    \"\"\"\n",
    "\n",
    "    tau = vol_flow_rate * time / volume\n",
    "    num_nodes = 20\n",
    "    ret_sum = 1\n",
    "    for i in range(1, num_nodes):\n",
    "        ret_sum += (num_nodes * tau) ** i / factorial(i)\n",
    "\n",
    "    return 1 - exp(-num_nodes * tau) * ret_sum"
   ]
  },
  {
   "cell_type": "code",
   "execution_count": null,
   "metadata": {},
   "outputs": [],
   "source": [
    "def hanby_c(time, vol_flow_rate, volume):\n",
    "    return 1 - hanby(time, vol_flow_rate, volume)"
   ]
  },
  {
   "cell_type": "code",
   "execution_count": null,
   "metadata": {},
   "outputs": [],
   "source": [
    "delta_t = df['Simulation Time'][1] - df['Simulation Time'][0]\n",
    "flow = 0.0002\n",
    "vol = 0.05688"
   ]
  },
  {
   "cell_type": "code",
   "execution_count": null,
   "metadata": {},
   "outputs": [],
   "source": [
    "def calc_exft_correction_factors(timestep, flow_rate, volume):\n",
    "    t_tr = volume / flow_rate\n",
    "    time = np.arange(0, t_tr * 2, timestep)\n",
    "    f = np.array([hanby(x, flow_rate, volume) for x in time])\n",
    "    d = np.diff(f)\n",
    "    r = np.diff(f) / sum(d)\n",
    "#     r = np.append(np.zeros(ceil(t_tr/timestep)), r)\n",
    "    if len(r) == 0:\n",
    "        return np.ones(1)\n",
    "    else:\n",
    "        return r"
   ]
  },
  {
   "cell_type": "code",
   "execution_count": null,
   "metadata": {},
   "outputs": [],
   "source": [
    "calc_exft_correction_factors(120, flow, vol)"
   ]
  },
  {
   "cell_type": "code",
   "execution_count": null,
   "metadata": {},
   "outputs": [],
   "source": [
    "def update_exft_correction_factors(r):\n",
    "    if len(r) == 1:\n",
    "        return r\n",
    "    elif r[0] == 1:\n",
    "        return r\n",
    "    else:\n",
    "        pop_val = r[0]\n",
    "        l = np.count_nonzero(r) - 1\n",
    "        delta = pop_val / l\n",
    "        for i, val in enumerate(r):\n",
    "            if r[i] == 0:\n",
    "                break\n",
    "            else:\n",
    "                r[i] += delta\n",
    "\n",
    "        r = np.roll(r, -1)\n",
    "        r[-1] = 0\n",
    "        return r"
   ]
  },
  {
   "cell_type": "code",
   "execution_count": null,
   "metadata": {},
   "outputs": [],
   "source": [
    "cf_0 = calc_exft_correction_factors(delta_t, flow, vol)\n",
    "cf_0"
   ]
  },
  {
   "cell_type": "code",
   "execution_count": null,
   "metadata": {},
   "outputs": [],
   "source": [
    "cf_1 = update_exft_correction_factors(cf_0)\n",
    "cf_1"
   ]
  },
  {
   "cell_type": "code",
   "execution_count": null,
   "metadata": {},
   "outputs": [],
   "source": [
    "cf_2 = update_exft_correction_factors(cf_1)\n",
    "cf_2"
   ]
  },
  {
   "cell_type": "code",
   "execution_count": null,
   "metadata": {},
   "outputs": [],
   "source": [
    "cf_3 = update_exft_correction_factors(cf_2)\n",
    "cf_3"
   ]
  },
  {
   "cell_type": "code",
   "execution_count": null,
   "metadata": {},
   "outputs": [],
   "source": [
    "cf_4 = update_exft_correction_factors(cf_3)\n",
    "cf_4"
   ]
  },
  {
   "cell_type": "code",
   "execution_count": null,
   "metadata": {},
   "outputs": [],
   "source": [
    "def calc_exft(signal, to_correct):\n",
    "\n",
    "    r = calc_exft_correction_factors(delta_t, flow, vol)\n",
    "#     r = np.array(l)\n",
    "    \n",
    "    prev_temps = np.ones(len(r)) * to_correct[0]\n",
    "    prev_signal = signal[0]\n",
    "    \n",
    "    dT_dt_prev = 0\n",
    "    \n",
    "    new_temps = np.empty([0])\n",
    "    \n",
    "    for i, t_sig in enumerate(signal):\n",
    "        dT_dt = (t_sig - prev_signal) / delta_t\n",
    "#         print(dT_dt, t_sig, prev_signal)\n",
    "        \n",
    "        if abs(dT_dt - dT_dt_prev) > 0.01:\n",
    "            r = calc_exft_correction_factors(delta_t, flow, vol)\n",
    "#             r = np.array(l)\n",
    "        \n",
    "        print(r)\n",
    "        \n",
    "        prev_temps[0] = to_correct[i]\n",
    "        \n",
    "        new_temp = sum(r * prev_temps)\n",
    "#         print(to_correct[i], new_temp)\n",
    "    \n",
    "        new_temps = np.append(new_temps, new_temp)\n",
    "#         print(new_temps)\n",
    "        \n",
    "        prev_temps = np.roll(prev_temps, 1)\n",
    "        prev_temps[0] = new_temp\n",
    "        \n",
    "        r = update_exft_correction_factors(r)\n",
    "        prev_sig = t_sig\n",
    "        dT_dt_prev = dT_dt\n",
    "        \n",
    "#         if i == 10:\n",
    "#             break\n",
    "#         else:\n",
    "#             print('\\n')\n",
    "    return new_temps"
   ]
  },
  {
   "cell_type": "code",
   "execution_count": null,
   "metadata": {
    "scrolled": false
   },
   "outputs": [],
   "source": [
    "t_c = calc_exft(df['GLHE Inlet Temperature [C]'], df['GLHE Outlet Temperature [C]'])\n",
    "df['Corrected Temps'] = t_c"
   ]
  },
  {
   "cell_type": "code",
   "execution_count": null,
   "metadata": {},
   "outputs": [],
   "source": [
    "df.plot(y=['GLHE Inlet Temperature [C]', 'GLHE Outlet Temperature [C]', 'Corrected Temps', 'Average Fluid Temp [C]'], marker='X')"
   ]
  },
  {
   "cell_type": "code",
   "execution_count": null,
   "metadata": {},
   "outputs": [],
   "source": [
    "df.head(20)"
   ]
  },
  {
   "cell_type": "code",
   "execution_count": null,
   "metadata": {},
   "outputs": [],
   "source": []
  },
  {
   "cell_type": "code",
   "execution_count": null,
   "metadata": {},
   "outputs": [],
   "source": []
  },
  {
   "cell_type": "code",
   "execution_count": null,
   "metadata": {},
   "outputs": [],
   "source": []
  }
 ],
 "metadata": {
  "kernelspec": {
   "display_name": "Python 3",
   "language": "python",
   "name": "python3"
  },
  "language_info": {
   "codemirror_mode": {
    "name": "ipython",
    "version": 3
   },
   "file_extension": ".py",
   "mimetype": "text/x-python",
   "name": "python",
   "nbconvert_exporter": "python",
   "pygments_lexer": "ipython3",
   "version": "3.6.6"
  }
 },
 "nbformat": 4,
 "nbformat_minor": 2
}
