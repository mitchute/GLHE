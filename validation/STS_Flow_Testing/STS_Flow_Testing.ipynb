{
 "cells": [
  {
   "cell_type": "code",
   "execution_count": null,
   "metadata": {},
   "outputs": [],
   "source": [
    "import os\n",
    "import sys\n",
    "import json\n",
    "import datetime\n",
    "\n",
    "import pandas as pd\n",
    "import numpy as np"
   ]
  },
  {
   "cell_type": "code",
   "execution_count": null,
   "metadata": {},
   "outputs": [],
   "source": [
    "cwd = os.getcwd()\n",
    "join = os.path.join\n",
    "norm = os.path.normpath"
   ]
  },
  {
   "cell_type": "code",
   "execution_count": null,
   "metadata": {},
   "outputs": [],
   "source": [
    "sys.path.append(norm(join(cwd, '..', '..', '..', 'glhe')))"
   ]
  },
  {
   "cell_type": "code",
   "execution_count": null,
   "metadata": {},
   "outputs": [],
   "source": [
    "from standalone.plant_loop import PlantLoop\n",
    "import glhe"
   ]
  },
  {
   "cell_type": "code",
   "execution_count": null,
   "metadata": {},
   "outputs": [],
   "source": [
    "import matplotlib.pyplot as plt\n",
    "%matplotlib inline"
   ]
  },
  {
   "cell_type": "code",
   "execution_count": null,
   "metadata": {},
   "outputs": [],
   "source": [
    "plt.style.use('ggplot')\n",
    "plt.rcParams['figure.figsize'] = [15, 9]\n",
    "plt.rcParams['font.size'] = 14\n",
    "\n",
    "# pd.set_option('display.max_columns', None)\n",
    "# pd.set_option('display.max_rows', None)"
   ]
  },
  {
   "cell_type": "code",
   "execution_count": null,
   "metadata": {},
   "outputs": [],
   "source": [
    "def rename_csv_g_files(new_name):\n",
    "    for root, dirs, files in os.walk(cwd):\n",
    "        for file in files:\n",
    "            if file in ['g.csv', 'g_b.csv', 'sts.csv', 'lts.csv']:\n",
    "                tokens = file.split('.')\n",
    "                name = '{}_{}.csv'.format(tokens[0], new_name)\n",
    "                if os.path.exists(join(cwd, name)):\n",
    "                    os.remove(join(cwd, name))\n",
    "                os.rename(file, name)"
   ]
  },
  {
   "cell_type": "code",
   "execution_count": null,
   "metadata": {},
   "outputs": [],
   "source": [
    "d = glhe.utilities.functions.load_json('STS_Flow_input.json')\n",
    "d['simulation']['output-path'] = cwd\n",
    "\n",
    "alpha = d['soil']['conductivity'] / (d['soil']['specific-heat'] * d['soil']['density'])\n",
    "\n",
    "ts = d['borehole-definitions'][0]['length'] ** 2 / (9 * alpha)"
   ]
  },
  {
   "cell_type": "code",
   "execution_count": null,
   "metadata": {},
   "outputs": [],
   "source": [
    "flow_rate = 0.01\n",
    "\n",
    "d['flow-profile'][0]['value'] = flow_rate\n",
    "d['simulation']['output-csv-name'] = 'out_{:0.2f}.csv'.format(flow_rate)\n",
    "\n",
    "with open(join(cwd, 'in_{:0.2f}.json'.format(flow_rate)), 'w') as f:\n",
    "    f.write(json.dumps(d, sort_keys=True, indent=2, separators=(',', ': ')))\n",
    "    \n",
    "PlantLoop('in_{:0.2f}.json'.format(flow_rate)).simulate()"
   ]
  },
  {
   "cell_type": "code",
   "execution_count": null,
   "metadata": {},
   "outputs": [],
   "source": [
    "flow_rate = 0.05\n",
    "\n",
    "d['flow-profile'][0]['value'] = flow_rate\n",
    "d['simulation']['output-csv-name'] = 'out_{:0.2f}.csv'.format(flow_rate)\n",
    "\n",
    "with open(join(cwd, 'in_{:0.2f}.json'.format(flow_rate)), 'w') as f:\n",
    "    f.write(json.dumps(d, sort_keys=True, indent=2, separators=(',', ': ')))\n",
    "    \n",
    "PlantLoop('in_{:0.2f}.json'.format(flow_rate)).simulate()"
   ]
  },
  {
   "cell_type": "code",
   "execution_count": null,
   "metadata": {},
   "outputs": [],
   "source": [
    "flow_rate = 0.1\n",
    "\n",
    "d['flow-profile'][0]['value'] = flow_rate\n",
    "d['simulation']['output-csv-name'] = 'out_{:0.2f}.csv'.format(flow_rate)\n",
    "\n",
    "with open(join(cwd, 'in_{:0.2f}.json'.format(flow_rate)), 'w') as f:\n",
    "    f.write(json.dumps(d, sort_keys=True, indent=2, separators=(',', ': ')))\n",
    "    \n",
    "PlantLoop('in_{:0.2f}.json'.format(flow_rate)).simulate()"
   ]
  },
  {
   "cell_type": "code",
   "execution_count": null,
   "metadata": {},
   "outputs": [],
   "source": [
    "flow_rate = 0.2\n",
    "\n",
    "d['flow-profile'][0]['value'] = flow_rate\n",
    "d['simulation']['output-csv-name'] = 'out_{:0.2f}.csv'.format(flow_rate)\n",
    "\n",
    "with open(join(cwd, 'in_{:0.2f}.json'.format(flow_rate)), 'w') as f:\n",
    "    f.write(json.dumps(d, sort_keys=True, indent=2, separators=(',', ': ')))\n",
    "    \n",
    "PlantLoop('in_{:0.2f}.json'.format(flow_rate)).simulate()"
   ]
  },
  {
   "cell_type": "code",
   "execution_count": null,
   "metadata": {},
   "outputs": [],
   "source": [
    "flow_rate = 0.3\n",
    "\n",
    "d['flow-profile'][0]['value'] = flow_rate\n",
    "d['simulation']['output-csv-name'] = 'out_{:0.2f}.csv'.format(flow_rate)\n",
    "\n",
    "with open(join(cwd, 'in_{:0.2f}.json'.format(flow_rate)), 'w') as f:\n",
    "    f.write(json.dumps(d, sort_keys=True, indent=2, separators=(',', ': ')))\n",
    "    \n",
    "PlantLoop('in_{:0.2f}.json'.format(flow_rate)).simulate()"
   ]
  },
  {
   "cell_type": "code",
   "execution_count": null,
   "metadata": {},
   "outputs": [],
   "source": [
    "flow_rate = 0.4\n",
    "\n",
    "d['flow-profile'][0]['value'] = flow_rate\n",
    "d['simulation']['output-csv-name'] = 'out_{:0.2f}.csv'.format(flow_rate)\n",
    "\n",
    "with open(join(cwd, 'in_{:0.2f}.json'.format(flow_rate)), 'w') as f:\n",
    "    f.write(json.dumps(d, sort_keys=True, indent=2, separators=(',', ': ')))\n",
    "    \n",
    "PlantLoop('in_{:0.2f}.json'.format(flow_rate)).simulate()"
   ]
  },
  {
   "cell_type": "code",
   "execution_count": null,
   "metadata": {},
   "outputs": [],
   "source": [
    "df_001 = pd.read_csv('out_{:0.2f}.csv'.format(0.01), parse_dates=True, index_col='Date/Time')\n",
    "df_005 = pd.read_csv('out_{:0.2f}.csv'.format(0.05), parse_dates=True, index_col='Date/Time')\n",
    "df_010 = pd.read_csv('out_{:0.2f}.csv'.format(0.1), parse_dates=True, index_col='Date/Time')\n",
    "df_020 = pd.read_csv('out_{:0.2f}.csv'.format(0.2), parse_dates=True, index_col='Date/Time')\n",
    "df_030 = pd.read_csv('out_{:0.2f}.csv'.format(0.3), parse_dates=True, index_col='Date/Time')\n",
    "df_040 = pd.read_csv('out_{:0.2f}.csv'.format(0.4), parse_dates=True, index_col='Date/Time')"
   ]
  },
  {
   "cell_type": "code",
   "execution_count": null,
   "metadata": {},
   "outputs": [],
   "source": [
    "def make_g_b(df):\n",
    "    df['g_b'] = (df['SingleUTubeBHGrouted:BH 1:Outlet Temp. [C]'] - df['GroundHeatExchangerSTS:GHE 1:Borehole Wall Temp. [C]']) / (10 * df['SingleUTubeBHGrouted:BH 1:BH Resist. [m-K/W]'])\n",
    "    df['lntts'] = np.log(df['Elapsed Time [s]'] / ts)\n",
    "    return df"
   ]
  },
  {
   "cell_type": "code",
   "execution_count": null,
   "metadata": {},
   "outputs": [],
   "source": [
    "df_001 = make_g_b(df_001)\n",
    "df_005 = make_g_b(df_005)\n",
    "df_010 = make_g_b(df_010)\n",
    "df_020 = make_g_b(df_020)\n",
    "df_030 = make_g_b(df_030)\n",
    "df_040 = make_g_b(df_040)"
   ]
  },
  {
   "cell_type": "code",
   "execution_count": null,
   "metadata": {},
   "outputs": [],
   "source": [
    "def plot_g_b(dfs, labels):\n",
    "    fig = plt.figure()\n",
    "    for idx, df in enumerate(dfs):\n",
    "        plt.plot(df['lntts'], df['g_b'], label=labels[idx])\n",
    "    plt.legend()\n",
    "    plt.savefig('gb_flow.PNG',bbox_inches='tight')\n",
    "    plt.show()"
   ]
  },
  {
   "cell_type": "code",
   "execution_count": null,
   "metadata": {},
   "outputs": [],
   "source": [
    "plot_g_b([df_001, df_005, df_010, df_020, df_030, df_040], ['0.01', '0.05', '0.10', '0.20', '0.30', '0.40'])"
   ]
  },
  {
   "cell_type": "code",
   "execution_count": null,
   "metadata": {},
   "outputs": [],
   "source": [
    "def plot_temps(dfs, labels):\n",
    "    fig = plt.figure()\n",
    "    for idx, df in enumerate(dfs):\n",
    "        plt.plot(df['SingleUTubeBHGrouted:BH 1:Outlet Temp. [C]'].loc['2019-01-01 00:00:00' : '2019-01-01 00:10:00'], label=labels[idx])\n",
    "    plt.legend()\n",
    "    plt.show()"
   ]
  },
  {
   "cell_type": "code",
   "execution_count": null,
   "metadata": {},
   "outputs": [],
   "source": [
    "plot_temps([df_001, df_005, df_010, df_020, df_030, df_040], ['0.01', '0.05', '0.10', '0.20', '0.30', '0.40'])"
   ]
  },
  {
   "cell_type": "code",
   "execution_count": null,
   "metadata": {},
   "outputs": [],
   "source": []
  }
 ],
 "metadata": {
  "kernelspec": {
   "display_name": "Python 3",
   "language": "python",
   "name": "python3"
  },
  "language_info": {
   "codemirror_mode": {
    "name": "ipython",
    "version": 3
   },
   "file_extension": ".py",
   "mimetype": "text/x-python",
   "name": "python",
   "nbconvert_exporter": "python",
   "pygments_lexer": "ipython3",
   "version": "3.7.3"
  }
 },
 "nbformat": 4,
 "nbformat_minor": 2
}
