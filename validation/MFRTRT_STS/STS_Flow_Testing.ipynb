{
 "cells": [
  {
   "cell_type": "code",
   "execution_count": null,
   "metadata": {},
   "outputs": [],
   "source": [
    "import os\n",
    "import sys\n",
    "import json\n",
    "import datetime\n",
    "\n",
    "import pandas as pd\n",
    "import numpy as np"
   ]
  },
  {
   "cell_type": "code",
   "execution_count": null,
   "metadata": {},
   "outputs": [],
   "source": [
    "cwd = os.getcwd()\n",
    "join = os.path.join\n",
    "norm = os.path.normpath"
   ]
  },
  {
   "cell_type": "code",
   "execution_count": null,
   "metadata": {},
   "outputs": [],
   "source": [
    "sys.path.append(norm(join(cwd, '..', '..', '..', 'glhe')))"
   ]
  },
  {
   "cell_type": "code",
   "execution_count": null,
   "metadata": {},
   "outputs": [],
   "source": [
    "from standalone.plant_loop import PlantLoop\n",
    "import glhe"
   ]
  },
  {
   "cell_type": "code",
   "execution_count": null,
   "metadata": {},
   "outputs": [],
   "source": [
    "import matplotlib.pyplot as plt\n",
    "import matplotlib.dates as mdates\n",
    "import matplotlib.colors as clrs\n",
    "%matplotlib inline"
   ]
  },
  {
   "cell_type": "code",
   "execution_count": null,
   "metadata": {},
   "outputs": [],
   "source": [
    "plt.style.use('seaborn-bright')\n",
    "plt.rcParams['figure.figsize'] = [7, 5]\n",
    "plt.rcParams['font.size'] = 12\n",
    "\n",
    "# pd.set_option('display.max_columns', None)\n",
    "# pd.set_option('display.max_rows', None)"
   ]
  },
  {
   "cell_type": "code",
   "execution_count": null,
   "metadata": {},
   "outputs": [],
   "source": [
    "def sim(flow_rate, q):\n",
    "\n",
    "    f_name = 'flow-{}_q-{}'.format(flow_rate, q)\n",
    "\n",
    "    d = glhe.utilities.functions.load_json('MFRTRT_STS_input.json')\n",
    "    d['ground-heat-exchanger'][0]['g-function-path'] = norm(join(cwd, 'g.csv'))\n",
    "    d.pop('temperature-profile')\n",
    "    d.pop('flow-profile')\n",
    "\n",
    "    h = d['borehole-definitions'][0]['length']\n",
    "    q_tot = q * h\n",
    "\n",
    "    d['load-profile'] = [{'load-profile-type': 'constant', 'name': 'constant-load', 'value': q_tot}]\n",
    "    d['flow-profile'] = [{'flow-profile-type': 'constant', 'name': 'constant-flow', 'value': flow_rate}]\n",
    "\n",
    "    d['topology']['demand-side'][0] = {'comp-type': 'flow-profile', 'name': 'constant-flow'}\n",
    "    d['topology']['demand-side'][1] = {'comp-type': 'load-profile', 'name': 'constant-load'}\n",
    "\n",
    "    d['simulation']['output-path'] = cwd\n",
    "    d['simulation']['output-csv-name'] = 'out_{}.csv'.format(f_name)\n",
    "\n",
    "    d['simulation']['time-step'] = 30\n",
    "    d['simulation']['runtime'] = 3600 * 24\n",
    "    d['borehole-definitions'][0]['number-iterations'] = 2\n",
    "    d['borehole-definitions'][0]['fraction-grout'] = 0.5\n",
    "    d['borehole-definitions'][0]['segments'] = 1\n",
    "\n",
    "    alpha = d['soil']['conductivity'] / (d['soil']['density'] * d['soil']['specific-heat'])\n",
    "    ts = h ** 2 / (9 * alpha)\n",
    "    \n",
    "    with open(join(cwd, 'in_{}.json'.format(f_name)), 'w') as f:\n",
    "        f.write(json.dumps(d, sort_keys=True, indent=2, separators=(',', ': ')))\n",
    "        \n",
    "    PlantLoop('in_{}.json'.format(f_name)).simulate()\n",
    "    \n",
    "    df = pd.read_csv('out_{}.csv'.format(f_name), index_col=0, parse_dates=True)\n",
    "    \n",
    "    df['lntts'] = np.log(df['Elapsed Time [s]'] / ts)\n",
    "    df['lntts'].iloc[0] = -17\n",
    "    \n",
    "    df['Rb'] = df['SingleUTubeBHGrouted:BH 1:BH Resist. [m-K/W]']\n",
    "    df['Rb'].iloc[0] = df['Rb'].iloc[1]\n",
    "    df['Rp'] = df['Pipe:BH 1: PIPE 1:Pipe Resist. [m-K/W]']\n",
    "    df['Rp'].iloc[0] = df['Rp'].iloc[1]\n",
    "    df['Rg']= df['Rb'] - df['Rp']\n",
    "    \n",
    "    df['Re'] = df['Pipe:BH 1: PIPE 1:Reynolds No [-]']\n",
    "    df['Re'].iloc[0] = df['Re'].iloc[1]\n",
    "    \n",
    "    df['gb'] = (df['GroundHeatExchangerSTS:GHE 1:Outlet Temp. [C]'] - df['GroundHeatExchangerSTS:GHE 1:Borehole Wall Temp. [C]']) / (df['GroundHeatExchangerSTS:GHE 1:Heat Rate [W]'] * df['Rb'] / h)\n",
    "    df['gb'] = df['gb'].fillna(0)\n",
    "    \n",
    "    return df, ts"
   ]
  },
  {
   "cell_type": "code",
   "execution_count": null,
   "metadata": {},
   "outputs": [],
   "source": [
    "df_02_02, ts = sim(0.2, 2)"
   ]
  },
  {
   "cell_type": "code",
   "execution_count": null,
   "metadata": {},
   "outputs": [],
   "source": [
    "df_02_10, ts = sim(0.2, 10)"
   ]
  },
  {
   "cell_type": "code",
   "execution_count": null,
   "metadata": {},
   "outputs": [],
   "source": [
    "df_02_40, ts = sim(0.2, 40)"
   ]
  },
  {
   "cell_type": "code",
   "execution_count": null,
   "metadata": {},
   "outputs": [],
   "source": [
    "def plot_resist(var, var_label, time):\n",
    "    fig = plt.figure(dpi=200)\n",
    "\n",
    "    ax = fig.add_subplot(211)\n",
    "    \n",
    "    if time == 'log':\n",
    "        ax.plot(df_02_02['lntts'], df_02_02[var], label=r'$q=2$ W/m')\n",
    "        ax.plot(df_02_10['lntts'], df_02_10[var], label=r'$q=10$ W/m')\n",
    "        ax.plot(df_02_40['lntts'], df_02_40[var], label=r'$q=40$ W/m')\n",
    "    elif time == 'linear':\n",
    "        ax.plot(df_02_02[var], label=r'$q=2$ W/m')\n",
    "        ax.plot(df_02_10[var], label=r'$q=10$ W/m')\n",
    "        ax.plot(df_02_40[var], label=r'$q=40$ W/m')\n",
    "        ax.xaxis.set_major_formatter(mdates.DateFormatter(\"%H\"))\n",
    "        \n",
    "    plt.ylabel(r'${}$ [m-K/W]'.format(var_label))\n",
    "    plt.grid()\n",
    "    plt.legend()\n",
    "\n",
    "    ax2 = fig.add_subplot(212)\n",
    "    err1 = (df_02_02[var] - df_02_40[var]) / df_02_40[var] * 100\n",
    "    err2 = (df_02_10[var] - df_02_40[var]) / df_02_40[var] * 100\n",
    "    \n",
    "    if time == 'log':\n",
    "        ax2.plot(df_02_02['lntts'], err1, label=r'kg/s; $q=2$ W/m')\n",
    "        ax2.plot(df_02_10['lntts'], err2, label=r'$q=10$ W/m')\n",
    "        ax2.set_xlabel(r'$\\ln (t/t_s)$')\n",
    "    elif time == 'linear':\n",
    "        ax2.plot(err1, label=r'$q=2$ W/m')\n",
    "        ax2.plot(err2, label=r'$q=10$ W/m')\n",
    "        ax2.set_xlabel('Hour')\n",
    "        ax2.xaxis.set_major_formatter(mdates.DateFormatter(\"%H\"))\n",
    "\n",
    "    plt.grid()\n",
    "    plt.ylabel('% Error')\n",
    "\n",
    "    plt.savefig('{}-vs-q-{}.PNG'.format(var, time), bbox_inches='tight')\n",
    "    plt.show()"
   ]
  },
  {
   "cell_type": "code",
   "execution_count": null,
   "metadata": {},
   "outputs": [],
   "source": [
    "plot_resist('Rb', 'R_b', 'linear')"
   ]
  },
  {
   "cell_type": "code",
   "execution_count": null,
   "metadata": {},
   "outputs": [],
   "source": [
    "plot_resist('Rb', 'R_b', 'log')"
   ]
  },
  {
   "cell_type": "code",
   "execution_count": null,
   "metadata": {},
   "outputs": [],
   "source": [
    "plot_resist('Rg', 'R_g', 'log')"
   ]
  },
  {
   "cell_type": "code",
   "execution_count": null,
   "metadata": {},
   "outputs": [],
   "source": [
    "plot_resist('Rg', 'R_g', 'linear')"
   ]
  },
  {
   "cell_type": "code",
   "execution_count": null,
   "metadata": {},
   "outputs": [],
   "source": [
    "plot_resist('Rp', 'R_p', 'log')"
   ]
  },
  {
   "cell_type": "code",
   "execution_count": null,
   "metadata": {},
   "outputs": [],
   "source": [
    "plot_resist('Rp', 'R_p', 'linear')"
   ]
  },
  {
   "cell_type": "code",
   "execution_count": null,
   "metadata": {},
   "outputs": [],
   "source": [
    "df_002_10, ts = sim(0.02, 10)"
   ]
  },
  {
   "cell_type": "code",
   "execution_count": null,
   "metadata": {},
   "outputs": [],
   "source": [
    "df_0025_10, ts = sim(0.025, 10)"
   ]
  },
  {
   "cell_type": "code",
   "execution_count": null,
   "metadata": {},
   "outputs": [],
   "source": [
    "df_003_10, ts = sim(0.03, 10)"
   ]
  },
  {
   "cell_type": "code",
   "execution_count": null,
   "metadata": {},
   "outputs": [],
   "source": [
    "df_0038_10, ts = sim(0.038, 10)"
   ]
  },
  {
   "cell_type": "code",
   "execution_count": null,
   "metadata": {},
   "outputs": [],
   "source": [
    "df_004_10, ts = sim(0.04, 10)"
   ]
  },
  {
   "cell_type": "code",
   "execution_count": null,
   "metadata": {},
   "outputs": [],
   "source": [
    "df_0045_10, ts = sim(0.045, 10)"
   ]
  },
  {
   "cell_type": "code",
   "execution_count": null,
   "metadata": {},
   "outputs": [],
   "source": [
    "df_005_10, ts = sim(0.05, 10)"
   ]
  },
  {
   "cell_type": "code",
   "execution_count": null,
   "metadata": {},
   "outputs": [],
   "source": [
    "df_01_10, ts = sim(0.1, 10)"
   ]
  },
  {
   "cell_type": "code",
   "execution_count": null,
   "metadata": {},
   "outputs": [],
   "source": [
    "df_015_10, ts = sim(0.15, 10)"
   ]
  },
  {
   "cell_type": "code",
   "execution_count": null,
   "metadata": {},
   "outputs": [],
   "source": [
    "df_03_10, ts = sim(0.3, 10)"
   ]
  },
  {
   "cell_type": "code",
   "execution_count": null,
   "metadata": {},
   "outputs": [],
   "source": [
    "df_04_10, ts = sim(0.4, 10)"
   ]
  },
  {
   "cell_type": "code",
   "execution_count": null,
   "metadata": {},
   "outputs": [],
   "source": [
    "df_045_10, ts = sim(0.45, 10)"
   ]
  },
  {
   "cell_type": "code",
   "execution_count": null,
   "metadata": {},
   "outputs": [],
   "source": [
    "df_05_10, ts = sim(0.5, 10)"
   ]
  },
  {
   "cell_type": "code",
   "execution_count": null,
   "metadata": {},
   "outputs": [],
   "source": [
    "def plot_resist_2(var, var_label, time):\n",
    "    fig = plt.figure(dpi=200)\n",
    "\n",
    "    ax = fig.add_subplot(211)\n",
    "    \n",
    "    if time == 'log':\n",
    "        ax.plot(df_002_10['lntts'], df_002_10[var], label=r'$\\dot{m}=0.02$ kg/s', linestyle='--')\n",
    "        ax.plot(df_003_10['lntts'], df_003_10[var], label=r'$\\dot{m}=0.03$ kg/s')\n",
    "        ax.plot(df_004_10['lntts'], df_004_10[var], label=r'$\\dot{m}=0.04$ kg/s')\n",
    "        ax.plot(df_005_10['lntts'], df_005_10[var], label=r'$\\dot{m}=0.05$ kg/s')\n",
    "        ax.plot(df_01_10['lntts'], df_01_10[var], label=r'$\\dot{m}=0.1$ kg/s')\n",
    "        ax.plot(df_03_10['lntts'], df_03_10[var], label=r'$\\dot{m}=0.3$ kg/s')\n",
    "        ax.plot(df_05_10['lntts'], df_05_10[var], label=r'$\\dot{m}=0.5$ kg/s')\n",
    "    elif time == 'linear':\n",
    "        ax.plot(df_002_10[var], label=r'$\\dot{m}=0.02$ kg/s', linestyle='--')\n",
    "        ax.plot(df_003_10[var], label=r'$\\dot{m}=0.03$ kg/s')\n",
    "        ax.plot(df_004_10[var], label=r'$\\dot{m}=0.04$ kg/s')\n",
    "        ax.plot(df_005_10[var], label=r'$\\dot{m}=0.05$ kg/s')\n",
    "        ax.plot(df_01_10[var], label=r'$\\dot{m}=0.1$ kg/s')\n",
    "        ax.plot(df_03_10[var], label=r'$\\dot{m}=0.3$ kg/s')\n",
    "        ax.plot(df_05_10[var], label=r'$\\dot{m}=0.5$ kg/s')\n",
    "        ax.xaxis.set_major_formatter(mdates.DateFormatter(\"%H\"))\n",
    "        \n",
    "    plt.ylabel(r'${}$ [m-K/W]'.format(var_label))\n",
    "    plt.grid()\n",
    "    ax.legend(loc='center left', bbox_to_anchor=(1.02, 0.0))\n",
    "\n",
    "    ax2 = fig.add_subplot(212)\n",
    "    \n",
    "    if time == 'log':\n",
    "        ax2.semilogy(df_002_10['lntts'], df_002_10['Re'], label=r'$\\dot{m}=0.02$ kg/s', linestyle='--')\n",
    "        ax2.semilogy(df_003_10['lntts'], df_003_10['Re'], label=r'$\\dot{m}=0.03$ kg/s')\n",
    "        ax2.semilogy(df_004_10['lntts'], df_004_10['Re'], label=r'$\\dot{m}=0.04$ kg/s')\n",
    "        ax2.semilogy(df_005_10['lntts'], df_005_10['Re'], label=r'$\\dot{m}=0.05$ kg/s')\n",
    "        ax2.semilogy(df_01_10['lntts'], df_01_10['Re'], label=r'$\\dot{m}=0.1$ kg/s')\n",
    "        ax2.semilogy(df_03_10['lntts'], df_03_10['Re'], label=r'$\\dot{m}=0.3$ kg/s')\n",
    "        ax2.semilogy(df_05_10['lntts'], df_05_10['Re'], label=r'$\\dot{m}=0.5$ kg/s')\n",
    "        ax2.set_xlabel(r'$\\ln (t/t_s)$')\n",
    "    elif time == 'linear':\n",
    "        ax2.semilogy(df_002_10['Re'], label=r'$\\dot{m}=0.02$ kg/s', linestyle='--')\n",
    "        ax2.semilogy(df_003_10['Re'], label=r'$\\dot{m}=0.03$ kg/s')\n",
    "        ax2.semilogy(df_004_10['Re'], label=r'$\\dot{m}=0.04$ kg/s')\n",
    "        ax2.semilogy(df_005_10['Re'], label=r'$\\dot{m}=0.05$ kg/s')\n",
    "        ax2.semilogy(df_01_10['Re'], label=r'$\\dot{m}=0.1$ kg/s')\n",
    "        ax2.semilogy(df_03_10['Re'], label=r'$\\dot{m}=0.3$ kg/s')\n",
    "        ax2.semilogy(df_05_10['Re'], label=r'$\\dot{m}=0.5$ kg/s')\n",
    "        ax2.set_xlabel('Hour')\n",
    "        ax2.xaxis.set_major_formatter(mdates.DateFormatter(\"%H\"))\n",
    "\n",
    "    plt.grid()\n",
    "    plt.ylabel('Reynolds No. [-]')\n",
    "\n",
    "    plt.savefig('{}-vs-flow-Reynolds_{}.PNG'.format(var, time), bbox_inches='tight')\n",
    "    plt.show()"
   ]
  },
  {
   "cell_type": "code",
   "execution_count": null,
   "metadata": {},
   "outputs": [],
   "source": [
    "plot_resist_2('Rb', 'R_b', 'linear')"
   ]
  },
  {
   "cell_type": "code",
   "execution_count": null,
   "metadata": {},
   "outputs": [],
   "source": [
    "plot_resist_2('Rb', 'R_b', 'linear')"
   ]
  },
  {
   "cell_type": "code",
   "execution_count": null,
   "metadata": {},
   "outputs": [],
   "source": [
    "plot_resist_2('Rg', 'R_g', 'linear')"
   ]
  },
  {
   "cell_type": "code",
   "execution_count": null,
   "metadata": {},
   "outputs": [],
   "source": [
    "plot_resist_2('Rg', 'R_g', 'log')"
   ]
  },
  {
   "cell_type": "code",
   "execution_count": null,
   "metadata": {},
   "outputs": [],
   "source": [
    "plot_resist_2('Rp', 'R_p', 'linear')"
   ]
  },
  {
   "cell_type": "code",
   "execution_count": null,
   "metadata": {
    "scrolled": false
   },
   "outputs": [],
   "source": [
    "plot_resist_2('Rp', 'R_p', 'log')"
   ]
  },
  {
   "cell_type": "code",
   "execution_count": null,
   "metadata": {},
   "outputs": [],
   "source": [
    "fig = plt.figure(dpi=200)\n",
    "\n",
    "ax = fig.add_subplot(111)\n",
    "\n",
    "ax.plot(df_002_10['lntts'], df_002_10['gb'], label=r'$\\dot{m}=0.02$ kg/s', linestyle='--')\n",
    "ax.plot(df_003_10['lntts'], df_003_10['gb'], label=r'$\\dot{m}=0.03$ kg/s')\n",
    "ax.plot(df_004_10['lntts'], df_004_10['gb'], label=r'$\\dot{m}=0.04$ kg/s')\n",
    "ax.plot(df_005_10['lntts'], df_005_10['gb'], label=r'$\\dot{m}=0.05$ kg/s')\n",
    "ax.plot(df_01_10['lntts'], df_01_10['gb'], label=r'$\\dot{m}=0.1$ kg/s')\n",
    "ax.plot(df_03_10['lntts'], df_03_10['gb'], label=r'$\\dot{m}=0.3$ kg/s')\n",
    "ax.plot(df_05_10['lntts'], df_05_10['gb'], label=r'$\\dot{m}=0.5$ kg/s')\n",
    "\n",
    "plt.ylabel(r'$g_b$')\n",
    "plt.xlabel(r'$\\ln (t/t_s)$')\n",
    "plt.grid()\n",
    "plt.legend()\n",
    "plt.savefig('gb-vs-lntts.PNG', bbox_inches='tight')\n",
    "plt.show()"
   ]
  },
  {
   "cell_type": "code",
   "execution_count": null,
   "metadata": {},
   "outputs": [],
   "source": [
    "fig = plt.figure(dpi=200)\n",
    "\n",
    "ax = fig.add_subplot(111)\n",
    "\n",
    "start = '2019-01-01 00:00:00'\n",
    "end = '2019-01-01 02:00:00'\n",
    "\n",
    "ax.plot(df_002_10['GroundHeatExchangerSTS:GHE 1:Outlet Temp. [C]'].loc[start:end], label=r'$\\dot{m}=0.02$ kg/s', linestyle='--')\n",
    "ax.plot(df_003_10['GroundHeatExchangerSTS:GHE 1:Outlet Temp. [C]'].loc[start:end], label=r'$\\dot{m}=0.03$ kg/s')\n",
    "ax.plot(df_004_10['GroundHeatExchangerSTS:GHE 1:Outlet Temp. [C]'].loc[start:end], label=r'$\\dot{m}=0.04$ kg/s')\n",
    "ax.plot(df_005_10['GroundHeatExchangerSTS:GHE 1:Outlet Temp. [C]'].loc[start:end], label=r'$\\dot{m}=0.05$ kg/s')\n",
    "ax.plot(df_01_10['GroundHeatExchangerSTS:GHE 1:Outlet Temp. [C]'].loc[start:end], label=r'$\\dot{m}=0.1$ kg/s')\n",
    "ax.plot(df_03_10['GroundHeatExchangerSTS:GHE 1:Outlet Temp. [C]'].loc[start:end], label=r'$\\dot{m}=0.3$ kg/s')\n",
    "ax.plot(df_05_10['GroundHeatExchangerSTS:GHE 1:Outlet Temp. [C]'].loc[start:end], label=r'$\\dot{m}=0.5$ kg/s')\n",
    "\n",
    "plt.ylabel(r'$T_{ExFT}$ [C]')\n",
    "plt.xlabel('Hour-Min.')\n",
    "ax.xaxis.set_major_formatter(mdates.DateFormatter(\"%H-%M\"))\n",
    "ax.xaxis.set_minor_formatter(mdates.DateFormatter(\"%H\"))\n",
    "plt.grid()\n",
    "plt.legend()\n",
    "plt.savefig('T-ExFT_2hr.PNG', bbox_inches='tight')\n",
    "plt.show()"
   ]
  },
  {
   "cell_type": "code",
   "execution_count": null,
   "metadata": {
    "scrolled": false
   },
   "outputs": [],
   "source": [
    "fig = plt.figure(dpi=200)\n",
    "\n",
    "ax = fig.add_subplot(111)\n",
    "\n",
    "start = '2019-01-01 00:00:00'\n",
    "end = '2019-01-02 00:00:00'\n",
    "\n",
    "ax.plot(df_002_10['GroundHeatExchangerSTS:GHE 1:Outlet Temp. [C]'].loc[start:end], label=r'$\\dot{m}=0.02$ kg/s', linestyle='--')\n",
    "ax.plot(df_003_10['GroundHeatExchangerSTS:GHE 1:Outlet Temp. [C]'].loc[start:end], label=r'$\\dot{m}=0.03$ kg/s')\n",
    "ax.plot(df_004_10['GroundHeatExchangerSTS:GHE 1:Outlet Temp. [C]'].loc[start:end], label=r'$\\dot{m}=0.04$ kg/s')\n",
    "ax.plot(df_005_10['GroundHeatExchangerSTS:GHE 1:Outlet Temp. [C]'].loc[start:end], label=r'$\\dot{m}=0.05$ kg/s')\n",
    "ax.plot(df_01_10['GroundHeatExchangerSTS:GHE 1:Outlet Temp. [C]'].loc[start:end], label=r'$\\dot{m}=0.1$ kg/s')\n",
    "ax.plot(df_03_10['GroundHeatExchangerSTS:GHE 1:Outlet Temp. [C]'].loc[start:end], label=r'$\\dot{m}=0.3$ kg/s')\n",
    "ax.plot(df_05_10['GroundHeatExchangerSTS:GHE 1:Outlet Temp. [C]'].loc[start:end], label=r'$\\dot{m}=0.5$ kg/s')\n",
    "\n",
    "plt.ylabel(r'$T_{ExFT}$ [C]')\n",
    "plt.xlabel('Hour')\n",
    "ax.xaxis.set_major_formatter(mdates.DateFormatter(\"%H\"))\n",
    "ax.xaxis.set_minor_formatter(mdates.DateFormatter(\"%H\"))\n",
    "plt.grid()\n",
    "plt.legend()\n",
    "plt.savefig('T-ExFT_24hr.PNG', bbox_inches='tight')\n",
    "plt.show()"
   ]
  },
  {
   "cell_type": "code",
   "execution_count": null,
   "metadata": {},
   "outputs": [],
   "source": [
    "from glhe.utilities.functions import resample_g_functions as re_g\n",
    "from glhe.utilities.functions import write_arrays_to_csv"
   ]
  },
  {
   "cell_type": "code",
   "execution_count": null,
   "metadata": {},
   "outputs": [],
   "source": [
    "lntts = df_002_10['lntts'].values\n",
    "lntts[0] = -17\n",
    "lntts_out, gb_002 = re_g(lntts, df_002_10['gb'].values)\n",
    "_, gb_0025 = re_g(lntts, df_0025_10['gb'].values)\n",
    "_, gb_003 = re_g(lntts, df_003_10['gb'].values)\n",
    "_, gb_0038 = re_g(lntts, df_0038_10['gb'].values)\n",
    "_, gb_004 = re_g(lntts, df_004_10['gb'].values)\n",
    "_, gb_0045 = re_g(lntts, df_0045_10['gb'].values)\n",
    "_, gb_005 = re_g(lntts, df_005_10['gb'].values)\n",
    "_, gb_01 = re_g(lntts, df_01_10['gb'].values)\n",
    "_, gb_015 = re_g(lntts, df_015_10['gb'].values)\n",
    "_, gb_02 = re_g(lntts, df_02_10['gb'].values)\n",
    "_, gb_03 = re_g(lntts, df_03_10['gb'].values)\n",
    "_, gb_04 = re_g(lntts, df_04_10['gb'].values)\n",
    "_, gb_045 = re_g(lntts, df_045_10['gb'].values)\n",
    "_, gb_05 = re_g(lntts, df_05_10['gb'].values)"
   ]
  },
  {
   "cell_type": "code",
   "execution_count": null,
   "metadata": {},
   "outputs": [],
   "source": [
    "arr_low_interp = np.array([lntts_out, gb_002, gb_003, gb_004, gb_005])\n",
    "arr_low_no_interp = np.array([lntts_out, gb_002, gb_0025, gb_003, gb_0038, gb_0045, gb_005])\n",
    "\n",
    "arr_high_interp = np.array([lntts_out, gb_01, gb_03, gb_05])\n",
    "arr_high_no_interp = np.array([lntts_out, gb_01, gb_015, gb_03, gb_045, gb_05])"
   ]
  },
  {
   "cell_type": "code",
   "execution_count": null,
   "metadata": {},
   "outputs": [],
   "source": [
    "write_arrays_to_csv('gb_low_interp.csv', arr_low_interp)\n",
    "write_arrays_to_csv('gb_low_no_interp.csv', arr_low_no_interp)\n",
    "\n",
    "write_arrays_to_csv('gb_high_interp.csv', arr_high_interp)\n",
    "write_arrays_to_csv('gb_high_no_interp.csv', arr_high_no_interp)"
   ]
  },
  {
   "cell_type": "code",
   "execution_count": null,
   "metadata": {},
   "outputs": [],
   "source": [
    "df_002_10.columns"
   ]
  },
  {
   "cell_type": "code",
   "execution_count": null,
   "metadata": {},
   "outputs": [],
   "source": [
    "def tabulate_gb_data(time):\n",
    "    dfs = [df_002_10, df_003_10, df_004_10, df_005_10, df_01_10, df_03_10, df_05_10]\n",
    "    s_out = 'flow,lntts,gb,Tout,Tbh,q,Rb,dT,q-Rb,Re,qb,Ra,R12\\n'\n",
    "    arr = []\n",
    "    \n",
    "    for df in dfs:\n",
    "        data = df.loc[df['Elapsed Time [s]'] == time]\n",
    "        flow = data['ConstantFlow:CONSTANT-FLOW:Flow Rate [kg/s]'].values[0]\n",
    "        lntts = data['lntts'].values[0]\n",
    "        gb = data['gb'].values[0]\n",
    "        tout = data['GroundHeatExchangerSTS:GHE 1:Outlet Temp. [C]'].values[0]\n",
    "        tbh = data['GroundHeatExchangerSTS:GHE 1:Borehole Wall Temp. [C]'].values[0]\n",
    "        Rb = data['Rb'].values[0]\n",
    "        q = data['GroundHeatExchangerSTS:GHE 1:Heat Rate [W]'].values[0] / 76.2\n",
    "        qb = data['GroundHeatExchangerSTS:GHE 1:BH Heat Rate [W]'].values[0] / 76.2\n",
    "        dT = tout - tbh\n",
    "        qRb = q * Rb\n",
    "        Re = data['Pipe:BH 1: PIPE 1:Reynolds No [-]'].values[0]\n",
    "        Ra = data['SingleUTubeBHGrouted:BH 1:BH Internal Resist. [m-k/W]'].values[0]\n",
    "        R12 = data['SingleUTubeBHGrouted:BH 1:BH Direct Coupling Resist. [m-k/W]'].values[0]\n",
    "    \n",
    "        s_tmp = '{},{},{},{},{},{},{},{},{},{},{}\\n'.format(flow, lntts, gb, tout, tbh, q, Rb, dT, qRb, Re, qb, Ra, R12)\n",
    "        s_out += s_tmp\n",
    "        \n",
    "        arr.append([flow, lntts, gb, tout, tbh, q, Rb, dT, qRb, Re, qb, Ra, R12])\n",
    "        \n",
    "    print(s_out)\n",
    "    return np.array(arr).T"
   ]
  },
  {
   "cell_type": "code",
   "execution_count": null,
   "metadata": {},
   "outputs": [],
   "source": [
    "arr = tabulate_gb_data(86400)"
   ]
  },
  {
   "cell_type": "code",
   "execution_count": null,
   "metadata": {},
   "outputs": [],
   "source": [
    "fig, ax = plt.subplots(dpi=200)\n",
    "pts = ax.scatter(arr[0], arr[2], c=arr[4])\n",
    "cbar = plt.colorbar(pts)\n",
    "cbar.set_label(r'$T_b$ [C]')\n",
    "plt.xlabel('Flow Rate [kg/s]')\n",
    "plt.ylabel(r'$g_b$')\n",
    "plt.grid()\n",
    "plt.savefig('gb-vs-flow-Tb.PNG', bbox_inches='tight')"
   ]
  },
  {
   "cell_type": "code",
   "execution_count": null,
   "metadata": {},
   "outputs": [],
   "source": [
    "fig, ax = plt.subplots(dpi=200)\n",
    "pts = ax.scatter(arr[0], arr[2], c=arr[7])\n",
    "cbar = plt.colorbar(pts)\n",
    "cbar.set_label(r'$T_{out} - T_b$ [C]')\n",
    "plt.xlabel('Flow Rate [kg/s]')\n",
    "plt.ylabel(r'$g_b$')\n",
    "plt.grid()\n",
    "plt.savefig('gb-vs-flow-DeltaT.PNG', bbox_inches='tight')"
   ]
  },
  {
   "cell_type": "code",
   "execution_count": null,
   "metadata": {},
   "outputs": [],
   "source": [
    "fig, ax = plt.subplots(dpi=200)\n",
    "pts = ax.scatter(arr[0], arr[2], c=arr[8])\n",
    "cbar = plt.colorbar(pts)\n",
    "cbar.set_label(r'$q \\cdot R_b$ [K]')\n",
    "plt.xlabel('Flow Rate [kg/s]')\n",
    "plt.ylabel(r'$g_b$')\n",
    "plt.grid()\n",
    "plt.savefig('gb-vs-flow-qRb.PNG', bbox_inches='tight')"
   ]
  },
  {
   "cell_type": "code",
   "execution_count": null,
   "metadata": {},
   "outputs": [],
   "source": [
    "fig, ax = plt.subplots(dpi=200)\n",
    "pts = ax.scatter(arr[0], arr[2], c=arr[5])\n",
    "cbar = plt.colorbar(pts)\n",
    "cbar.set_label(r'$q$ [W/m]')\n",
    "plt.xlabel('Flow Rate [kg/s]')\n",
    "plt.ylabel(r'$g_b$')\n",
    "plt.grid()\n",
    "plt.savefig('gb-vs-flow-q.PNG', bbox_inches='tight')"
   ]
  },
  {
   "cell_type": "code",
   "execution_count": null,
   "metadata": {},
   "outputs": [],
   "source": [
    "fig, ax = plt.subplots(dpi=200)\n",
    "pts = ax.scatter(arr[0], arr[2], c=arr[6])\n",
    "cbar = plt.colorbar(pts)\n",
    "cbar.set_label(r'$R_b$ [m-k/W]')\n",
    "plt.xlabel('Flow Rate [kg/s]')\n",
    "plt.ylabel(r'$g_b$')\n",
    "plt.grid()\n",
    "plt.savefig('gb-vs-flow-Rb.PNG', bbox_inches='tight')"
   ]
  },
  {
   "cell_type": "code",
   "execution_count": null,
   "metadata": {},
   "outputs": [],
   "source": [
    "fig, ax = plt.subplots(dpi=200)\n",
    "pts = ax.scatter(arr[0], arr[2], c=arr[9], norm=clrs.LogNorm())\n",
    "cbar = plt.colorbar(pts)\n",
    "cbar.set_label('Reynolds No.')\n",
    "plt.xlabel('Flow Rate [kg/s]')\n",
    "plt.ylabel(r'$g_b$')\n",
    "plt.grid()\n",
    "plt.savefig('gb-vs-flow-Reynolds.PNG', bbox_inches='tight')"
   ]
  },
  {
   "cell_type": "code",
   "execution_count": null,
   "metadata": {},
   "outputs": [],
   "source": [
    "fig, ax = plt.subplots(dpi=200)\n",
    "pts = ax.scatter(arr[0], arr[2], c=arr[10])\n",
    "cbar = plt.colorbar(pts)\n",
    "cbar.set_label(r'$q_b$ [W/m]')\n",
    "plt.xlabel('Flow Rate [kg/s]')\n",
    "plt.ylabel(r'$g_b$')\n",
    "plt.grid()\n",
    "plt.savefig('gb-vs-flow-qb.PNG', bbox_inches='tight')"
   ]
  },
  {
   "cell_type": "code",
   "execution_count": null,
   "metadata": {},
   "outputs": [],
   "source": [
    "fig, ax = plt.subplots(dpi=200)\n",
    "pts = ax.scatter(arr[0], arr[2], c=arr[11])\n",
    "cbar = plt.colorbar(pts)\n",
    "cbar.set_label(r'$R_a$ [m-k/W]')\n",
    "plt.xlabel('Flow Rate [kg/s]')\n",
    "plt.ylabel(r'$g_b$')\n",
    "plt.grid()\n",
    "plt.savefig('gb-vs-flow-Ra.PNG', bbox_inches='tight')"
   ]
  },
  {
   "cell_type": "code",
   "execution_count": null,
   "metadata": {},
   "outputs": [],
   "source": [
    "fig, ax = plt.subplots(dpi=200)\n",
    "pts = ax.scatter(arr[0], arr[2], c=arr[12])\n",
    "cbar = plt.colorbar(pts)\n",
    "cbar.set_label(r'$R_{12}$ [m-k/W]')\n",
    "plt.xlabel('Flow Rate [kg/s]')\n",
    "plt.ylabel(r'$g_b$')\n",
    "plt.grid()\n",
    "plt.savefig('gb-vs-flow-R12.PNG', bbox_inches='tight')"
   ]
  },
  {
   "cell_type": "code",
   "execution_count": null,
   "metadata": {},
   "outputs": [],
   "source": [
    "fig, ax = plt.subplots(dpi=200)\n",
    "pts = ax.scatter(arr[5], arr[10])\n",
    "ax.plot([9.985, 10], [9.985, 10], c='k')"
   ]
  },
  {
   "cell_type": "code",
   "execution_count": null,
   "metadata": {},
   "outputs": [],
   "source": [
    "df_05_10.iloc[-1]"
   ]
  },
  {
   "cell_type": "code",
   "execution_count": null,
   "metadata": {},
   "outputs": [],
   "source": [
    "dfs = [df_002_10, df_003_10, df_004_10, df_005_10, df_01_10, df_03_10, df_05_10]\n",
    "labels = [0.02, 0.03, 0.04, 0.05, 0.1, 0.3, 0.5]\n",
    "fig, ax = plt.subplots(dpi=200)\n",
    "\n",
    "for idx, df in enumerate(dfs):\n",
    "    qf = df['GroundHeatExchangerSTS:GHE 1:Heat Rate [W]'].values / 76.2\n",
    "    qb = df['GroundHeatExchangerSTS:GHE 1:BH Heat Rate [W]'].values / 76.2\n",
    "    if idx == 0:\n",
    "        ax.plot(qb[1:], qf[1:], label=r'$\\dot{}={}$ kg/s'.format('m', labels[idx]), linestyle='--')\n",
    "    else:\n",
    "        ax.plot(qb[1:], qf[1:], label=r'$\\dot{}={}$ kg/s'.format('m', labels[idx]))\n",
    "\n",
    "plt.legend()\n",
    "plt.grid()\n",
    "plt.xlabel(r'$q_b$ [W/m]')\n",
    "plt.ylabel(r'$q_f$ [W/m]')\n",
    "plt.savefig('qf_vs_qb_full.PNG', bbox_inches='tight')\n",
    "plt.show()"
   ]
  },
  {
   "cell_type": "code",
   "execution_count": null,
   "metadata": {},
   "outputs": [],
   "source": [
    "dfs = [df_002_10, df_003_10, df_004_10, df_005_10, df_01_10, df_03_10, df_05_10]\n",
    "labels = [0.02, 0.03, 0.04, 0.05, 0.1, 0.3, 0.5]\n",
    "fig, ax = plt.subplots(dpi=200)\n",
    "\n",
    "for idx, df in enumerate(dfs):\n",
    "    qf = df['GroundHeatExchangerSTS:GHE 1:Heat Rate [W]'].values / 76.2\n",
    "    qb = df['GroundHeatExchangerSTS:GHE 1:BH Heat Rate [W]'].values / 76.2\n",
    "    if idx == 0:\n",
    "        ax.plot(qb[1:], qf[1:], label=r'$\\dot{}={}$ kg/s'.format('m', labels[idx]), linestyle='--')\n",
    "    else:\n",
    "        ax.plot(qb[1:], qf[1:], label=r'$\\dot{}={}$ kg/s'.format('m', labels[idx]))\n",
    "\n",
    "plt.legend()\n",
    "plt.grid()\n",
    "plt.xlabel(r'$q_b$ [W/m]')\n",
    "plt.ylabel(r'$q_f$ [W/m]')\n",
    "plt.xlim([9.8, 9.9])\n",
    "plt.ylim([9.98, 10])\n",
    "plt.savefig('qf_vs_qb_zoom.PNG', bbox_inches='tight')\n",
    "plt.show()"
   ]
  },
  {
   "cell_type": "code",
   "execution_count": null,
   "metadata": {},
   "outputs": [],
   "source": [
    "dfs = [df_002_10, df_003_10, df_004_10, df_005_10, df_01_10, df_03_10, df_05_10]\n",
    "labels = [0.02, 0.03, 0.04, 0.05, 0.1, 0.3, 0.5]\n",
    "fig, ax = plt.subplots(dpi=200)\n",
    "\n",
    "for idx, df in enumerate(dfs):\n",
    "    tb = df['GroundHeatExchangerSTS:GHE 1:Borehole Wall Temp. [C]'].values\n",
    "    qb = df['GroundHeatExchangerSTS:GHE 1:BH Heat Rate [W]'].values / 76.2\n",
    "    if idx == 0:\n",
    "        ax.plot(qb[1:], tb[1:], label=r'$\\dot{}={}$ kg/s'.format('m', labels[idx]), linestyle='--')\n",
    "    else:\n",
    "        ax.plot(qb[1:], tb[1:], label=r'$\\dot{}={}$ kg/s'.format('m', labels[idx]))\n",
    "\n",
    "plt.legend()\n",
    "plt.grid()\n",
    "plt.xlabel(r'$T_b$ [C]')\n",
    "plt.ylabel(r'$q_b$ [W/m]')\n",
    "plt.xlim([9.8, 9.9])\n",
    "plt.ylim([17, 17.4])\n",
    "plt.show()"
   ]
  },
  {
   "cell_type": "code",
   "execution_count": null,
   "metadata": {},
   "outputs": [],
   "source": []
  }
 ],
 "metadata": {
  "kernelspec": {
   "display_name": "Python 3",
   "language": "python",
   "name": "python3"
  },
  "language_info": {
   "codemirror_mode": {
    "name": "ipython",
    "version": 3
   },
   "file_extension": ".py",
   "mimetype": "text/x-python",
   "name": "python",
   "nbconvert_exporter": "python",
   "pygments_lexer": "ipython3",
   "version": "3.7.3"
  }
 },
 "nbformat": 4,
 "nbformat_minor": 2
}
