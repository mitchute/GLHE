{
 "cells": [
  {
   "cell_type": "code",
   "execution_count": null,
   "metadata": {},
   "outputs": [],
   "source": [
    "import os\n",
    "import sys\n",
    "import json\n",
    "import datetime\n",
    "\n",
    "import pandas as pd\n",
    "import numpy as np\n",
    "\n",
    "from scipy.interpolate import interp1d"
   ]
  },
  {
   "cell_type": "code",
   "execution_count": null,
   "metadata": {},
   "outputs": [],
   "source": [
    "cwd = os.getcwd()\n",
    "join = os.path.join\n",
    "norm = os.path.normpath"
   ]
  },
  {
   "cell_type": "code",
   "execution_count": null,
   "metadata": {},
   "outputs": [],
   "source": [
    "import matplotlib.pyplot as plt\n",
    "%matplotlib inline"
   ]
  },
  {
   "cell_type": "code",
   "execution_count": null,
   "metadata": {},
   "outputs": [],
   "source": [
    "plt.style.use('seaborn-bright')\n",
    "plt.rcParams['figure.figsize'] = [7, 5]\n",
    "plt.rcParams['font.size'] = 12\n",
    "\n",
    "# pd.set_option('display.max_columns', None)\n",
    "# pd.set_option('display.max_rows', None)"
   ]
  },
  {
   "cell_type": "code",
   "execution_count": null,
   "metadata": {},
   "outputs": [],
   "source": [
    "sts = np.genfromtxt('sts.csv', delimiter=',')\n",
    "lntts_sts = sts[:,0]\n",
    "g_sts = sts[:,1]\n",
    "\n",
    "f_sts = interp1d(lntts_sts, g_sts)"
   ]
  },
  {
   "cell_type": "code",
   "execution_count": null,
   "metadata": {},
   "outputs": [],
   "source": [
    "lts = np.genfromtxt('lts.csv', delimiter=',')\n",
    "lntts_lts = lts[:,0]\n",
    "g_lts = lts[:,1]\n",
    "\n",
    "f_lts = interp1d(lntts_lts, g_lts)"
   ]
  },
  {
   "cell_type": "code",
   "execution_count": null,
   "metadata": {},
   "outputs": [],
   "source": [
    "fig = plt.figure(dpi=200)\n",
    "\n",
    "ax = fig.add_subplot(111)\n",
    "\n",
    "ax.plot(lntts_sts, g_sts, label='STS (1D-FV Model)')\n",
    "ax.plot(lntts_lts, g_lts, label='LTS (FLS Model)')\n",
    "\n",
    "ax.plot(-15, f_sts(-15), marker='o', linestyle='', c='k')\n",
    "ax.plot(-12.5, f_sts(-12.5), marker='o', linestyle='', c='k')\n",
    "ax.plot(-10, f_sts(-10), marker='o', linestyle='', c='k')\n",
    "\n",
    "ax.plot(-7.5, f_lts(-7.5), marker='o', linestyle='', c='k')\n",
    "ax.plot(-5, f_lts(-5), marker='o', linestyle='', c='k')\n",
    "ax.plot(-2.5, f_lts(-2.5), marker='o', linestyle='', c='k')\n",
    "ax.plot(0, f_lts(0), marker='o', linestyle='', c='k')\n",
    "ax.plot(1.74, f_lts(1.74), marker='o', linestyle='', c='k')\n",
    "\n",
    "ax.annotate('2.8 min.', xy=(-16, 0.2))\n",
    "ax.annotate('33.9 min.', xy=(-12, 0))\n",
    "ax.annotate('6.9 hr.', xy=(-12, 1.5))\n",
    "ax.annotate('3.5 days', xy=(-7, 2.6))\n",
    "ax.annotate('1.4 mo.', xy=(-7.5, 4))\n",
    "ax.annotate('1.4 yr.', xy=(-2, 4.7))\n",
    "ax.annotate('17.3 yr.', xy=(-2.5, 5.9))\n",
    "ax.annotate('100 yr.', xy=(0.5, 5.5))\n",
    "\n",
    "plt.ylabel(r'$g$')\n",
    "plt.xlabel(r'$\\ln\\left(t / t_s \\right)$')\n",
    "plt.grid()\n",
    "plt.legend()\n",
    "plt.savefig('g-vs-lntts.PNG', bbox_inches='tight')\n",
    "plt.show()"
   ]
  },
  {
   "cell_type": "code",
   "execution_count": null,
   "metadata": {},
   "outputs": [],
   "source": [
    "sts_002 = np.genfromtxt('sts_0.02.csv', delimiter=',')\n",
    "lntts_002 = sts_002[:,0]\n",
    "g_002 = sts_002[:,1]"
   ]
  },
  {
   "cell_type": "code",
   "execution_count": null,
   "metadata": {},
   "outputs": [],
   "source": [
    "sts_005 = np.genfromtxt('sts_0.05.csv', delimiter=',')\n",
    "lntts_005 = sts_005[:,0]\n",
    "g_005 = sts_005[:,1]"
   ]
  },
  {
   "cell_type": "code",
   "execution_count": null,
   "metadata": {},
   "outputs": [],
   "source": [
    "sts_02 = np.genfromtxt('sts_0.2.csv', delimiter=',')\n",
    "lntts_02 = sts_02[:,0]\n",
    "g_02 = sts_02[:,1]"
   ]
  },
  {
   "cell_type": "code",
   "execution_count": null,
   "metadata": {},
   "outputs": [],
   "source": [
    "sts_05 = np.genfromtxt('sts_0.5.csv', delimiter=',')\n",
    "lntts_05 = sts_05[:,0]\n",
    "g_05 = sts_05[:,1]"
   ]
  },
  {
   "cell_type": "code",
   "execution_count": null,
   "metadata": {},
   "outputs": [],
   "source": [
    "err_002 = (g_002 - g_05)"
   ]
  },
  {
   "cell_type": "code",
   "execution_count": null,
   "metadata": {},
   "outputs": [],
   "source": [
    "err_005 = (g_005 - g_05)"
   ]
  },
  {
   "cell_type": "code",
   "execution_count": null,
   "metadata": {},
   "outputs": [],
   "source": [
    "err_02 = (g_02 - g_05)"
   ]
  },
  {
   "cell_type": "code",
   "execution_count": null,
   "metadata": {},
   "outputs": [],
   "source": [
    "fig = plt.figure(dpi=200)\n",
    "\n",
    "ax = fig.add_subplot(211)\n",
    "\n",
    "ax.plot(lntts_002, g_002, label='0.02 kg/s')\n",
    "ax.plot(lntts_005, g_005, label='0.05 kg/s', linestyle=':')\n",
    "ax.plot(lntts_02, g_02, label='0.2 kg/s', linestyle='--')\n",
    "ax.plot(lntts_05, g_05, label='0.5 kg/s', linestyle='-.')\n",
    "\n",
    "plt.ylabel(r'$g$')\n",
    "plt.grid()\n",
    "plt.legend()\n",
    "\n",
    "ax2 = fig.add_subplot(212)\n",
    "\n",
    "ax2.plot(lntts_002, err_002)\n",
    "ax2.plot(lntts_002, err_005)\n",
    "ax2.plot(lntts_002, err_02)\n",
    "\n",
    "plt.grid()\n",
    "plt.ylabel(r'$g$ Error')\n",
    "plt.xlabel(r'$\\ln\\left(t / t_s \\right)$')\n",
    "plt.savefig('sts-vs-lntts-flow.PNG', bbox_inches='tight')\n",
    "plt.show()"
   ]
  },
  {
   "cell_type": "code",
   "execution_count": null,
   "metadata": {},
   "outputs": [],
   "source": []
  }
 ],
 "metadata": {
  "kernelspec": {
   "display_name": "Python 3",
   "language": "python",
   "name": "python3"
  },
  "language_info": {
   "codemirror_mode": {
    "name": "ipython",
    "version": 3
   },
   "file_extension": ".py",
   "mimetype": "text/x-python",
   "name": "python",
   "nbconvert_exporter": "python",
   "pygments_lexer": "ipython3",
   "version": "3.7.3"
  }
 },
 "nbformat": 4,
 "nbformat_minor": 2
}
