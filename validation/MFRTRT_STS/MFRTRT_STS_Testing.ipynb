{
 "cells": [
  {
   "cell_type": "code",
   "execution_count": null,
   "metadata": {},
   "outputs": [],
   "source": [
    "import os\n",
    "import sys\n",
    "import json\n",
    "import datetime\n",
    "\n",
    "import pandas as pd\n",
    "import numpy as np"
   ]
  },
  {
   "cell_type": "code",
   "execution_count": null,
   "metadata": {},
   "outputs": [],
   "source": [
    "cwd = os.getcwd()\n",
    "join = os.path.join\n",
    "norm = os.path.normpath"
   ]
  },
  {
   "cell_type": "code",
   "execution_count": null,
   "metadata": {},
   "outputs": [],
   "source": [
    "sys.path.append(norm(join(cwd, '..', '..', '..', 'glhe')))"
   ]
  },
  {
   "cell_type": "code",
   "execution_count": null,
   "metadata": {},
   "outputs": [],
   "source": [
    "from standalone.plant_loop import PlantLoop\n",
    "import glhe"
   ]
  },
  {
   "cell_type": "code",
   "execution_count": null,
   "metadata": {},
   "outputs": [],
   "source": [
    "import matplotlib.pyplot as plt\n",
    "%matplotlib inline"
   ]
  },
  {
   "cell_type": "code",
   "execution_count": null,
   "metadata": {},
   "outputs": [],
   "source": [
    "plt.style.use('ggplot')\n",
    "plt.rcParams['figure.figsize'] = [15, 9]\n",
    "plt.rcParams['font.size'] = 14\n",
    "\n",
    "# pd.set_option('display.max_columns', None)\n",
    "# pd.set_option('display.max_rows', None)"
   ]
  },
  {
   "cell_type": "code",
   "execution_count": null,
   "metadata": {},
   "outputs": [],
   "source": [
    "data_path = norm(join(cwd, '..', '..', 'validation', 'MFRTRT', 'MFRTRT_loads.csv'))\n",
    "df_raw_data = pd.read_csv(data_path, parse_dates=True, index_col='Date/Time')"
   ]
  },
  {
   "cell_type": "code",
   "execution_count": null,
   "metadata": {},
   "outputs": [],
   "source": [
    "df_sim_input_data = df_raw_data[['Inst. HT [1] [W]', 'mdot [kg/s]', 'Outlet 1 [C]', 'Inlet 1 [C]']].copy(deep=True)\n",
    "df_sim_input_data.rename(columns = {'Inst. HT [1] [W]': 'Exp. HT Rate [W]', \n",
    "                                    'Outlet 1 [C]': 'Exp. Inlet [C]', \n",
    "                                    'Inlet 1 [C]': 'Exp. Outlet [C]'}, inplace=True)\n",
    "# df_sim_input_data.to_csv(join(cwd, 'input_data.csv'))"
   ]
  },
  {
   "cell_type": "code",
   "execution_count": null,
   "metadata": {},
   "outputs": [],
   "source": [
    "df_sim_input_data['time'] = pd.to_timedelta(df_sim_input_data.index)\n",
    "df_sim_input_data['time'] = datetime.datetime(year=2019, month=1, day=1, hour=0, minute=0) + (df_sim_input_data['time'] - df_sim_input_data['time'][0])\n",
    "df_sim_input_data.set_index('time', inplace=True)\n",
    "df_sim_input_data.index.rename('Date/Time', inplace=True)"
   ]
  },
  {
   "cell_type": "code",
   "execution_count": null,
   "metadata": {},
   "outputs": [],
   "source": [
    "d = glhe.globals.functions.load_json('MFRTRT_STS_input.json')\n",
    "# d['ground-heat-exchanger'][0]['g-function-path'] = norm(join(cwd, '..', 'MFRTRT_EWT_g_functions', 'EWT_experimental_g_functions.csv'))\n",
    "d['temperature-profile'][0]['path'] = norm(join(cwd, 'input_data.csv'))\n",
    "d['flow-profile'][0]['path'] = norm(join(cwd, 'input_data.csv'))\n",
    "d['simulation']['time-step'] = 30\n",
    "d['simulation']['runtime'] = 3600 * 50"
   ]
  },
  {
   "cell_type": "code",
   "execution_count": null,
   "metadata": {},
   "outputs": [],
   "source": [
    "with open(join(cwd, 'in.json'), 'w') as f:\n",
    "    f.write(json.dumps(d, sort_keys=True, indent=2, separators=(',', ': ')))"
   ]
  },
  {
   "cell_type": "code",
   "execution_count": null,
   "metadata": {},
   "outputs": [],
   "source": [
    "PlantLoop('in.json').simulate()"
   ]
  },
  {
   "cell_type": "code",
   "execution_count": null,
   "metadata": {},
   "outputs": [],
   "source": [
    "df = pd.read_csv('out.csv', index_col=0, parse_dates=True)"
   ]
  },
  {
   "cell_type": "code",
   "execution_count": null,
   "metadata": {},
   "outputs": [],
   "source": [
    "start_time = '2019-01-03 00:30:00'\n",
    "end_time = '2019-01-03 1:30:00'\n",
    "\n",
    "ax = df_sim_input_data[['Exp. Inlet [C]', 'Exp. Outlet [C]']].loc[start_time:end_time].plot(style='x--')\n",
    "df[['GroundHeatExchangerSTS:GHE 1:Inlet Temp. [C]',\n",
    "    'GroundHeatExchangerSTS:GHE 1:Outlet Temp. [C]',\n",
    "    'GroundHeatExchangerSTS:GHE 1:Borehole Wall Temp. [C]']].loc[start_time:end_time].plot(ax=ax)"
   ]
  },
  {
   "cell_type": "code",
   "execution_count": null,
   "metadata": {},
   "outputs": [],
   "source": [
    "# start_time = '2019-01-01 00:00:00'\n",
    "# end_time = '2019-01-01 12:00:00'\n",
    "\n",
    "ax = df_sim_input_data[['Exp. HT Rate [W]']].loc[start_time:end_time].plot(style='x--')\n",
    "df[['GroundHeatExchangerSTS:GHE 1:Heat Rate [W]',\n",
    "    'GroundHeatExchangerSTS:GHE 1:BH Heat Rate [W]']].loc[start_time:end_time].plot(ax=ax)"
   ]
  },
  {
   "cell_type": "code",
   "execution_count": null,
   "metadata": {},
   "outputs": [],
   "source": [
    "df[['SingleUTubeBHGrouted:BH 1:BH Resist. [m-K/W]',\n",
    "   'SingleUTubeBHGrouted:BH 1:Effective BH Resist. [m-K/W]']].loc[start_time:end_time].plot()"
   ]
  },
  {
   "cell_type": "code",
   "execution_count": null,
   "metadata": {},
   "outputs": [],
   "source": []
  },
  {
   "cell_type": "code",
   "execution_count": null,
   "metadata": {},
   "outputs": [],
   "source": [
    "# def plot_it(timestamp):\n",
    "#     t_in = []\n",
    "#     t_out = []\n",
    "#     depth = 76.2\n",
    "#     num_segs = 10\n",
    "#     dz = depth / num_segs\n",
    "#     d = np.arange(dz , depth + dz, dz)\n",
    "#     for i in range(10):\n",
    "#         val_in = df['SegmentUTubeBHGrouted:Seg No. {}:Inlet Temp Leg 1 [C]'.format(i+1)].loc[timestamp]\n",
    "#         val_out = df['SegmentUTubeBHGrouted:Seg No. {}:Outlet Temp Leg 1 [C]'.format(i+1)].loc[timestamp]\n",
    "#         t_in.append(val_in)\n",
    "#         t_out.append(val_out)\n",
    "\n",
    "#     plt.plot(t_in, d, label='Leg 1')\n",
    "#     plt.plot(t_out, d, label='Leg 2', linestyle='--')\n",
    "#     plt.ylim(80, 0)\n",
    "#     plt.ylabel('Depth [m]')\n",
    "#     plt.xlabel('Temperature [C]')\n",
    "#     plt.legend()"
   ]
  },
  {
   "cell_type": "code",
   "execution_count": null,
   "metadata": {},
   "outputs": [],
   "source": [
    "# plot_it('2019-01-01 00:10:00')"
   ]
  },
  {
   "cell_type": "code",
   "execution_count": null,
   "metadata": {},
   "outputs": [],
   "source": [
    "# Tg = 16.1\n",
    "# df['g'] = (df['GroundHeatExchangerSTS:GHE 1:Outlet Temp [C]'] - Tg) * 2 * 3.14159 * 2.7 / (4000 / 76.2)"
   ]
  },
  {
   "cell_type": "code",
   "execution_count": null,
   "metadata": {},
   "outputs": [],
   "source": [
    "df['g'].plot()"
   ]
  }
 ],
 "metadata": {
  "kernelspec": {
   "display_name": "Python 3",
   "language": "python",
   "name": "python3"
  },
  "language_info": {
   "codemirror_mode": {
    "name": "ipython",
    "version": 3
   },
   "file_extension": ".py",
   "mimetype": "text/x-python",
   "name": "python",
   "nbconvert_exporter": "python",
   "pygments_lexer": "ipython3",
   "version": "3.7.3"
  }
 },
 "nbformat": 4,
 "nbformat_minor": 2
}
