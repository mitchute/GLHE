{
 "cells": [
  {
   "cell_type": "code",
   "execution_count": null,
   "metadata": {},
   "outputs": [],
   "source": [
    "import os\n",
    "import sys\n",
    "import json\n",
    "import datetime\n",
    "\n",
    "import pandas as pd\n",
    "import numpy as np"
   ]
  },
  {
   "cell_type": "code",
   "execution_count": null,
   "metadata": {},
   "outputs": [],
   "source": [
    "cwd = os.getcwd()\n",
    "join = os.path.join\n",
    "norm = os.path.normpath"
   ]
  },
  {
   "cell_type": "code",
   "execution_count": null,
   "metadata": {},
   "outputs": [],
   "source": [
    "sys.path.append(norm(join(cwd, '..', '..', '..', 'glhe')))"
   ]
  },
  {
   "cell_type": "code",
   "execution_count": null,
   "metadata": {},
   "outputs": [],
   "source": [
    "from standalone.plant_loop import PlantLoop\n",
    "import glhe"
   ]
  },
  {
   "cell_type": "code",
   "execution_count": null,
   "metadata": {},
   "outputs": [],
   "source": [
    "import matplotlib.pyplot as plt\n",
    "%matplotlib inline"
   ]
  },
  {
   "cell_type": "code",
   "execution_count": null,
   "metadata": {},
   "outputs": [],
   "source": [
    "plt.style.use('ggplot')\n",
    "plt.rcParams['figure.figsize'] = [15, 9]\n",
    "plt.rcParams['font.size'] = 14\n",
    "\n",
    "# pd.set_option('display.max_columns', None)\n",
    "# pd.set_option('display.max_rows', None)"
   ]
  },
  {
   "cell_type": "code",
   "execution_count": null,
   "metadata": {},
   "outputs": [],
   "source": [
    "data_path = norm(join(cwd, '..', '..', 'validation', 'MFRTRT', 'MFRTRT_loads.csv'))\n",
    "df_raw_data = pd.read_csv(data_path, parse_dates=True, index_col='Date/Time')"
   ]
  },
  {
   "cell_type": "code",
   "execution_count": null,
   "metadata": {},
   "outputs": [],
   "source": [
    "df_sim_input_data = df_raw_data[['Inst. HT [1] [W]', 'mdot [kg/s]', 'Outlet 1 [C]', 'Inlet 1 [C]']].copy(deep=True)\n",
    "df_sim_input_data.rename(columns = {'Inst. HT [1] [W]': 'Exp. HT Rate [W]', \n",
    "                                    'Outlet 1 [C]': 'Exp. Inlet [C]', \n",
    "                                    'Inlet 1 [C]': 'Exp. Outlet [C]'}, inplace=True)\n",
    "df_sim_input_data.to_csv(join(cwd, 'input_data_high.csv'))"
   ]
  },
  {
   "cell_type": "code",
   "execution_count": null,
   "metadata": {},
   "outputs": [],
   "source": [
    "df_sim_input_data['time'] = pd.to_timedelta(df_sim_input_data.index)\n",
    "df_sim_input_data['time'] = datetime.datetime(year=2019, month=1, day=1, hour=0, minute=0) + (df_sim_input_data['time'] - df_sim_input_data['time'][0])\n",
    "df_sim_input_data.set_index('time', inplace=True)\n",
    "df_sim_input_data.index.rename('Date/Time', inplace=True)"
   ]
  },
  {
   "cell_type": "code",
   "execution_count": null,
   "metadata": {},
   "outputs": [],
   "source": [
    "d = glhe.utilities.functions.load_json('MFRTRT_STS_input.json')\n",
    "d['ground-heat-exchanger'][0]['g-function-path'] = norm(join(cwd, 'g.csv'))\n",
    "d['temperature-profile'][0]['path'] = norm(join(cwd, 'input_data_high.csv'))\n",
    "d['flow-profile'][0]['path'] = norm(join(cwd, 'input_data_high.csv'))\n",
    "d['simulation']['output-path'] = cwd\n",
    "d['simulation']['output-csv-name'] = 'out_high.csv'\n",
    "\n",
    "d['simulation']['time-step'] = 15\n",
    "d['simulation']['runtime'] = 3600 * 50\n",
    "d['borehole-definitions'][0]['number-iterations'] = 2\n",
    "d['borehole-definitions'][0]['fraction-grout'] = 0.25\n",
    "d['borehole-definitions'][0]['segments'] = 1"
   ]
  },
  {
   "cell_type": "code",
   "execution_count": null,
   "metadata": {},
   "outputs": [],
   "source": [
    "with open(join(cwd, 'in_high.json'), 'w') as f:\n",
    "    f.write(json.dumps(d, sort_keys=True, indent=2, separators=(',', ': ')))"
   ]
  },
  {
   "cell_type": "code",
   "execution_count": null,
   "metadata": {},
   "outputs": [],
   "source": [
    "PlantLoop('in_high.json').simulate()"
   ]
  },
  {
   "cell_type": "code",
   "execution_count": null,
   "metadata": {},
   "outputs": [],
   "source": [
    "df = pd.read_csv('out_high.csv', index_col=0, parse_dates=True)"
   ]
  },
  {
   "cell_type": "code",
   "execution_count": null,
   "metadata": {},
   "outputs": [],
   "source": [
    "start_time = '2019-01-01 00:00:00'\n",
    "end_time = '2019-01-01 02:00:00'\n",
    "\n",
    "ax = df_sim_input_data[['Exp. Inlet [C]', 'Exp. Outlet [C]']].loc[start_time:end_time].plot(style='x--')\n",
    "df[['GroundHeatExchangerSTS:GHE 1:Inlet Temp. [C]',\n",
    "    'GroundHeatExchangerSTS:GHE 1:Outlet Temp. [C]',\n",
    "    'GroundHeatExchangerSTS:GHE 1:Borehole Wall Temp. [C]']].loc[start_time:end_time].plot(ax=ax)"
   ]
  },
  {
   "cell_type": "code",
   "execution_count": null,
   "metadata": {},
   "outputs": [],
   "source": [
    "df['Outlet Temp Error [C]'] = df['GroundHeatExchangerSTS:GHE 1:Outlet Temp. [C]'] - df_sim_input_data['Exp. Outlet [C]']"
   ]
  },
  {
   "cell_type": "code",
   "execution_count": null,
   "metadata": {},
   "outputs": [],
   "source": [
    "'RMSE: {:0.4f} [C]'.format(np.mean(df['Outlet Temp Error [C]'] ** 2) ** 0.5)"
   ]
  },
  {
   "cell_type": "code",
   "execution_count": null,
   "metadata": {},
   "outputs": [],
   "source": [
    "'MBE: {:0.4f} [C]'.format(np.mean(df['Outlet Temp Error [C]']))"
   ]
  },
  {
   "cell_type": "code",
   "execution_count": null,
   "metadata": {},
   "outputs": [],
   "source": [
    "data_path_low = norm(join(cwd, '..', '..', 'validation', 'MFRTRT', 'MFRTRT_Low_Flow_Loads.csv'))\n",
    "df_raw_data_low = pd.read_csv(data_path_low, parse_dates=True, index_col='Date/Time')"
   ]
  },
  {
   "cell_type": "code",
   "execution_count": null,
   "metadata": {},
   "outputs": [],
   "source": [
    "df_raw_data_low['time'] = pd.to_timedelta(df_raw_data_low.index)\n",
    "df_raw_data_low['time'] = datetime.datetime(year=2019, month=1, day=1, hour=0, minute=0) + (df_raw_data_low['time'] - df_raw_data_low['time'][0])\n",
    "df_raw_data_low.set_index('time', inplace=True)\n",
    "df_raw_data_low.index.rename('Date/Time', inplace=True)"
   ]
  },
  {
   "cell_type": "code",
   "execution_count": null,
   "metadata": {},
   "outputs": [],
   "source": [
    "df_raw_data_low.to_csv(join(cwd, 'input_data_low.csv'))"
   ]
  },
  {
   "cell_type": "code",
   "execution_count": null,
   "metadata": {},
   "outputs": [],
   "source": [
    "d_low = glhe.utilities.functions.load_json('MFRTRT_STS_input.json')\n",
    "d_low['ground-heat-exchanger'][0]['g-function-path'] = norm(join(cwd, 'g.csv'))\n",
    "d_low['temperature-profile'][0]['path'] = norm(join(cwd, 'input_data_low.csv'))\n",
    "d_low['flow-profile'][0]['path'] = norm(join(cwd, 'input_data_low.csv'))\n",
    "d_low['simulation']['output-path'] = cwd\n",
    "d_low['simulation']['output-csv-name'] = 'out_low.csv'\n",
    "d_low['simulation']['initial-temperature'] = 17.1\n",
    "d_low['ground-temperature-model']['temperature'] = 17.1\n",
    "\n",
    "d_low['simulation']['time-step'] = 15\n",
    "d_low['simulation']['runtime'] = 3600 * 50\n",
    "d_low['borehole-definitions'][0]['number-iterations'] = 2\n",
    "d_low['borehole-definitions'][0]['fraction-grout'] = 0.25\n",
    "d_low['borehole-definitions'][0]['segments'] = 1"
   ]
  },
  {
   "cell_type": "code",
   "execution_count": null,
   "metadata": {},
   "outputs": [],
   "source": [
    "with open(join(cwd, 'in_low.json'), 'w') as f:\n",
    "    f.write(json.dumps(d_low, sort_keys=True, indent=2, separators=(',', ': ')))"
   ]
  },
  {
   "cell_type": "code",
   "execution_count": null,
   "metadata": {},
   "outputs": [],
   "source": [
    "PlantLoop('in_low.json').simulate()"
   ]
  },
  {
   "cell_type": "code",
   "execution_count": null,
   "metadata": {},
   "outputs": [],
   "source": [
    "df_low = pd.read_csv('out_low.csv', index_col=0, parse_dates=True)"
   ]
  },
  {
   "cell_type": "code",
   "execution_count": null,
   "metadata": {
    "scrolled": false
   },
   "outputs": [],
   "source": [
    "start_time = '2019-01-03 00:00:00'\n",
    "end_time = '2019-01-03 02:00:00'\n",
    "\n",
    "ax = df_raw_data_low[['Exp. Inlet [C]', 'Exp. Outlet [C]']].loc[start_time:end_time].plot(style='x--')\n",
    "df_low[['GroundHeatExchangerSTS:GHE 1:Inlet Temp. [C]']].loc[start_time:end_time].plot(ax=ax)\n",
    "df_low[['GroundHeatExchangerSTS:GHE 1:Outlet Temp. [C]']].loc[start_time:end_time].plot(ax=ax)\n",
    "df_low[['GroundHeatExchangerSTS:GHE 1:Borehole Wall Temp. [C]']].loc[start_time:end_time].plot(ax=ax, style=':')"
   ]
  },
  {
   "cell_type": "code",
   "execution_count": null,
   "metadata": {},
   "outputs": [],
   "source": [
    "df_low['Outlet Temp Error [C]'] = df_low['GroundHeatExchangerSTS:GHE 1:Outlet Temp. [C]'] - df_raw_data_low['Exp. Outlet [C]']"
   ]
  },
  {
   "cell_type": "code",
   "execution_count": null,
   "metadata": {},
   "outputs": [],
   "source": [
    "'RMSE: {:0.4f} [C]'.format(np.mean(df_low['Outlet Temp Error [C]'] ** 2) ** 0.5)"
   ]
  },
  {
   "cell_type": "code",
   "execution_count": null,
   "metadata": {},
   "outputs": [],
   "source": [
    "'MBE: {:0.4f} [C]'.format(np.mean(df_low['Outlet Temp Error [C]']))"
   ]
  }
 ],
 "metadata": {
  "kernelspec": {
   "display_name": "Python 3",
   "language": "python",
   "name": "python3"
  },
  "language_info": {
   "codemirror_mode": {
    "name": "ipython",
    "version": 3
   },
   "file_extension": ".py",
   "mimetype": "text/x-python",
   "name": "python",
   "nbconvert_exporter": "python",
   "pygments_lexer": "ipython3",
   "version": "3.7.3"
  }
 },
 "nbformat": 4,
 "nbformat_minor": 2
}
