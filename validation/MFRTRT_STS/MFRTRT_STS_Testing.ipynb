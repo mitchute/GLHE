{
 "cells": [
  {
   "cell_type": "code",
   "execution_count": null,
   "metadata": {},
   "outputs": [],
   "source": [
    "import os\n",
    "import sys\n",
    "import json\n",
    "import datetime\n",
    "\n",
    "import pandas as pd\n",
    "import numpy as np"
   ]
  },
  {
   "cell_type": "code",
   "execution_count": null,
   "metadata": {},
   "outputs": [],
   "source": [
    "cwd = os.getcwd()\n",
    "join = os.path.join\n",
    "norm = os.path.normpath"
   ]
  },
  {
   "cell_type": "code",
   "execution_count": null,
   "metadata": {},
   "outputs": [],
   "source": [
    "sys.path.append(norm(join(cwd, '..', '..', '..', 'glhe')))"
   ]
  },
  {
   "cell_type": "code",
   "execution_count": null,
   "metadata": {},
   "outputs": [],
   "source": [
    "from standalone.plant_loop import PlantLoop\n",
    "import glhe"
   ]
  },
  {
   "cell_type": "code",
   "execution_count": null,
   "metadata": {},
   "outputs": [],
   "source": [
    "import matplotlib.pyplot as plt\n",
    "import matplotlib.dates as mdates\n",
    "%matplotlib inline"
   ]
  },
  {
   "cell_type": "code",
   "execution_count": null,
   "metadata": {},
   "outputs": [],
   "source": [
    "plt.style.use('seaborn-bright')\n",
    "plt.rcParams['figure.figsize'] = [7, 5]\n",
    "plt.rcParams['font.size'] = 12\n",
    "\n",
    "# pd.set_option('display.max_columns', None)\n",
    "# pd.set_option('display.max_rows', None)"
   ]
  },
  {
   "cell_type": "code",
   "execution_count": null,
   "metadata": {},
   "outputs": [],
   "source": [
    "data_path = norm(join(cwd, '..', '..', 'validation', 'MFRTRT', 'MFRTRT_loads.csv'))\n",
    "df_raw_data = pd.read_csv(data_path, parse_dates=True, index_col='Date/Time')"
   ]
  },
  {
   "cell_type": "code",
   "execution_count": null,
   "metadata": {},
   "outputs": [],
   "source": [
    "df_sim_input_data = df_raw_data[['Inst. HT [1] [W]', 'mdot [kg/s]', 'Outlet 1 [C]', 'Inlet 1 [C]']].copy(deep=True)\n",
    "df_sim_input_data.rename(columns = {'Inst. HT [1] [W]': 'Exp. HT Rate [W]', \n",
    "                                    'Outlet 1 [C]': 'Exp. Inlet [C]', \n",
    "                                    'Inlet 1 [C]': 'Exp. Outlet [C]'}, inplace=True)"
   ]
  },
  {
   "cell_type": "code",
   "execution_count": null,
   "metadata": {},
   "outputs": [],
   "source": [
    "df_sim_input_data['time'] = pd.to_timedelta(df_sim_input_data.index)\n",
    "df_sim_input_data['time'] = datetime.datetime(year=2019, month=1, day=1, hour=0, minute=0) + (df_sim_input_data['time'] - df_sim_input_data['time'][0])\n",
    "df_sim_input_data.set_index('time', inplace=True)\n",
    "df_sim_input_data.index.rename('Date/Time', inplace=True)"
   ]
  },
  {
   "cell_type": "code",
   "execution_count": null,
   "metadata": {},
   "outputs": [],
   "source": [
    "timestep = 60\n",
    "\n",
    "df_sim_input_data = df_sim_input_data.resample('{}S'.format(timestep)).mean()\n",
    "df_sim_input_data.dropna(inplace=True)\n",
    "\n",
    "df_sim_input_data.to_csv(join(cwd, 'input_data_high.csv'))"
   ]
  },
  {
   "cell_type": "code",
   "execution_count": null,
   "metadata": {},
   "outputs": [],
   "source": [
    "d = glhe.utilities.functions.load_json('MFRTRT_STS_input.json')\n",
    "d['ground-heat-exchanger'][0]['g-function-path'] = norm(join(cwd, 'g.csv'))\n",
    "d['temperature-profile'][0]['path'] = norm(join(cwd, 'input_data_high.csv'))\n",
    "d['flow-profile'][0]['path'] = norm(join(cwd, 'input_data_high.csv'))\n",
    "d['simulation']['output-path'] = cwd\n",
    "d['simulation']['output-csv-name'] = 'out_high.csv'\n",
    "\n",
    "d['simulation']['time-step'] = timestep\n",
    "d['simulation']['runtime'] = 3600 * 193\n",
    "d['borehole-definitions'][0]['number-iterations'] = 2\n",
    "d['borehole-definitions'][0]['fraction-grout'] = 0.333\n",
    "d['borehole-definitions'][0]['segments'] = 1"
   ]
  },
  {
   "cell_type": "code",
   "execution_count": null,
   "metadata": {},
   "outputs": [],
   "source": [
    "with open(join(cwd, 'in_high.json'), 'w') as f:\n",
    "    f.write(json.dumps(d, sort_keys=True, indent=2, separators=(',', ': ')))"
   ]
  },
  {
   "cell_type": "code",
   "execution_count": null,
   "metadata": {},
   "outputs": [],
   "source": [
    "PlantLoop('in_high.json').simulate()"
   ]
  },
  {
   "cell_type": "code",
   "execution_count": null,
   "metadata": {},
   "outputs": [],
   "source": [
    "df = pd.read_csv('out_high.csv', index_col=0, parse_dates=True)"
   ]
  },
  {
   "cell_type": "code",
   "execution_count": null,
   "metadata": {},
   "outputs": [],
   "source": [
    "df['Outlet Temp Error [C]'] = df['GroundHeatExchangerSTS:GHE 1:Outlet Temp. [C]'] - df_sim_input_data['Exp. Outlet [C]']\n",
    "df['Heat Rate Error [W]'] = df['GroundHeatExchangerSTS:GHE 1:Heat Rate [W]'] - df_sim_input_data['Exp. HT Rate [W]']\n",
    "df['DT Error [C]'] = (df['GroundHeatExchangerSTS:GHE 1:Inlet Temp. [C]'] - df['GroundHeatExchangerSTS:GHE 1:Outlet Temp. [C]']) - (df_sim_input_data['Exp. Inlet [C]'] - df_sim_input_data['Exp. Outlet [C]'])\n",
    "df['Heat Rate Error [%]'] = (df['GroundHeatExchangerSTS:GHE 1:Heat Rate [W]'] - df_sim_input_data['Exp. HT Rate [W]']) / df_sim_input_data['Exp. HT Rate [W]'] * 100"
   ]
  },
  {
   "cell_type": "code",
   "execution_count": null,
   "metadata": {},
   "outputs": [],
   "source": [
    "def plot_temps(chart_no):\n",
    "\n",
    "    fig = plt.figure(dpi=200)\n",
    "    ax = fig.add_subplot(211)\n",
    "    \n",
    "    if chart_no == 1:\n",
    "        start_time = '2019-01-01 00:00:00'\n",
    "        end_time = '2019-01-01 00:30:00'\n",
    "    elif chart_no == 2:\n",
    "        start_time = '2019-01-01 00:00:00'\n",
    "        end_time = '2019-01-01 02:00:00'\n",
    "    elif chart_no == 3:\n",
    "        start_time = '2019-01-03 00:00:00'\n",
    "        end_time = '2019-01-03 02:00:00'\n",
    "    elif chart_no == 4:\n",
    "        start_time = '2019-01-06 01:00:00'\n",
    "        end_time = '2019-01-06 03:00:00'\n",
    "    elif chart_no == 5:\n",
    "        start_time = '2019-01-01 01:00:00'\n",
    "        end_time = '2019-01-09 00:00:00'\n",
    "        \n",
    "    ax.plot(df_sim_input_data['Exp. Inlet [C]'].loc[start_time:end_time], label='Exp. Inlet')\n",
    "    ax.plot(df['GroundHeatExchangerSTS:GHE 1:Inlet Temp. [C]'].loc[start_time:end_time], linestyle='--', label='Sim. Inlet')\n",
    "    \n",
    "    ax.plot(df_sim_input_data['Exp. Outlet [C]'].loc[start_time:end_time], label='Exp. Outlet')\n",
    "    ax.plot(df['GroundHeatExchangerSTS:GHE 1:Outlet Temp. [C]'].loc[start_time:end_time], linestyle='--', label='Sim. Outlet')\n",
    "\n",
    "    plt.ylabel('Temperature [C]')\n",
    "    plt.grid()\n",
    "    plt.legend()\n",
    "    ax.legend(loc=0, ncol=2)\n",
    "    \n",
    "    if chart_no in [1, 2, 3, 4]:\n",
    "        ax.xaxis.set_major_formatter(mdates.DateFormatter(\"%H-%M\"))\n",
    "    elif chart_no in [5]:\n",
    "        ax.xaxis.set_major_formatter(mdates.DateFormatter(\"%d\"))\n",
    "        \n",
    "    ax2 = fig.add_subplot(212)\n",
    "    ax2.plot(df['DT Error [C]'].loc[start_time:end_time], label=r'$\\Delta$T Error')\n",
    "\n",
    "    if chart_no in [1, 2, 3, 4]:\n",
    "        ax2.xaxis.set_major_formatter(mdates.DateFormatter(\"%H-%M\"))\n",
    "        plt.xlabel('Hr-Min')\n",
    "    elif chart_no in [5]:\n",
    "        ax2.xaxis.set_major_formatter(mdates.DateFormatter(\"%d\"))\n",
    "        plt.xlabel('Day')\n",
    "\n",
    "    plt.ylabel('Error [C]')\n",
    "\n",
    "    plt.grid()\n",
    "    \n",
    "    if chart_no == 1:\n",
    "        plt.savefig('Temps_High_First-30min_ts-{}.PNG'.format(timestep), bbox_inches='tight')\n",
    "    elif chart_no == 2:\n",
    "        plt.savefig('Temps_High_First-2hr_ts-{}.PNG'.format(timestep), bbox_inches='tight')\n",
    "    elif chart_no == 3:\n",
    "        plt.savefig('Temps_High_First-FlowChange_ts-{}.PNG'.format(timestep), bbox_inches='tight')\n",
    "    elif chart_no == 4:\n",
    "        plt.savefig('Temps_High_Fourth-FlowChange_ts-{}.PNG'.format(timestep), bbox_inches='tight')\n",
    "    elif chart_no == 5:\n",
    "        plt.savefig('Temps_High_Full_ts-{}.PNG'.format(timestep), bbox_inches='tight')\n",
    "    plt.show()"
   ]
  },
  {
   "cell_type": "code",
   "execution_count": null,
   "metadata": {},
   "outputs": [],
   "source": [
    "plot_temps(1)"
   ]
  },
  {
   "cell_type": "code",
   "execution_count": null,
   "metadata": {},
   "outputs": [],
   "source": [
    "plot_temps(2)"
   ]
  },
  {
   "cell_type": "code",
   "execution_count": null,
   "metadata": {},
   "outputs": [],
   "source": [
    "plot_temps(3)"
   ]
  },
  {
   "cell_type": "code",
   "execution_count": null,
   "metadata": {},
   "outputs": [],
   "source": [
    "plot_temps(4)"
   ]
  },
  {
   "cell_type": "code",
   "execution_count": null,
   "metadata": {},
   "outputs": [],
   "source": [
    "plot_temps(5)"
   ]
  },
  {
   "cell_type": "code",
   "execution_count": null,
   "metadata": {},
   "outputs": [],
   "source": [
    "data_path_low = norm(join(cwd, '..', '..', 'validation', 'MFRTRT', 'MFRTRT_Low_Flow_Loads.csv'))\n",
    "df_raw_data_low = pd.read_csv(data_path_low, parse_dates=True, index_col='Date/Time')"
   ]
  },
  {
   "cell_type": "code",
   "execution_count": null,
   "metadata": {},
   "outputs": [],
   "source": [
    "df_raw_data_low['time'] = pd.to_timedelta(df_raw_data_low.index)\n",
    "df_raw_data_low['time'] = datetime.datetime(year=2019, month=1, day=1, hour=0, minute=0) + (df_raw_data_low['time'] - df_raw_data_low['time'][0])\n",
    "df_raw_data_low.set_index('time', inplace=True)\n",
    "df_raw_data_low.index.rename('Date/Time', inplace=True)"
   ]
  },
  {
   "cell_type": "code",
   "execution_count": null,
   "metadata": {},
   "outputs": [],
   "source": [
    "df_raw_data_low = df_raw_data_low.resample('{}S'.format(timestep)).mean()\n",
    "df_raw_data_low.dropna(inplace=True)\n",
    "\n",
    "df_raw_data_low.to_csv(join(cwd, 'input_data_low.csv'))"
   ]
  },
  {
   "cell_type": "code",
   "execution_count": null,
   "metadata": {},
   "outputs": [],
   "source": [
    "d_low = glhe.utilities.functions.load_json('MFRTRT_STS_input.json')\n",
    "d_low['ground-heat-exchanger'][0]['g-function-path'] = norm(join(cwd, 'g.csv'))\n",
    "d_low['temperature-profile'][0]['path'] = norm(join(cwd, 'input_data_low.csv'))\n",
    "d_low['flow-profile'][0]['path'] = norm(join(cwd, 'input_data_low.csv'))\n",
    "d_low['simulation']['output-path'] = cwd\n",
    "d_low['simulation']['output-csv-name'] = 'out_low.csv'\n",
    "d_low['simulation']['initial-temperature'] = 17.1\n",
    "d_low['ground-temperature-model']['temperature'] = 17.1\n",
    "\n",
    "d_low['simulation']['time-step'] = timestep\n",
    "d_low['simulation']['runtime'] = 3600 * 68\n",
    "d_low['borehole-definitions'][0]['number-iterations'] = 2\n",
    "d_low['borehole-definitions'][0]['fraction-grout'] = 0.333\n",
    "d_low['borehole-definitions'][0]['segments'] = 1"
   ]
  },
  {
   "cell_type": "code",
   "execution_count": null,
   "metadata": {},
   "outputs": [],
   "source": [
    "with open(join(cwd, 'in_low.json'), 'w') as f:\n",
    "    f.write(json.dumps(d_low, sort_keys=True, indent=2, separators=(',', ': ')))"
   ]
  },
  {
   "cell_type": "code",
   "execution_count": null,
   "metadata": {},
   "outputs": [],
   "source": [
    "PlantLoop('in_low.json').simulate()"
   ]
  },
  {
   "cell_type": "code",
   "execution_count": null,
   "metadata": {},
   "outputs": [],
   "source": [
    "df_low = pd.read_csv('out_low.csv', index_col=0, parse_dates=True)"
   ]
  },
  {
   "cell_type": "code",
   "execution_count": null,
   "metadata": {},
   "outputs": [],
   "source": [
    "df_low['Outlet Temp Error [C]'] = df_low['GroundHeatExchangerSTS:GHE 1:Outlet Temp. [C]'] - df_raw_data_low['Exp. Outlet [C]']\n",
    "df_low['Heat Rate Error [W]'] = df_low['GroundHeatExchangerSTS:GHE 1:Heat Rate [W]'] - df_raw_data_low['Exp. HT Rate [W]']\n",
    "df_low['DT Error [C]'] = (df_low['GroundHeatExchangerSTS:GHE 1:Inlet Temp. [C]'] - df_low['GroundHeatExchangerSTS:GHE 1:Outlet Temp. [C]']) - (df_raw_data_low['Exp. Inlet [C]'] - df_raw_data_low['Exp. Outlet [C]'])\n",
    "df_low['Heat Rate Error [%]'] = (df_low['GroundHeatExchangerSTS:GHE 1:Heat Rate [W]'] - df_raw_data_low['Exp. HT Rate [W]']) / df_raw_data_low['Exp. HT Rate [W]'] * 100"
   ]
  },
  {
   "cell_type": "code",
   "execution_count": null,
   "metadata": {},
   "outputs": [],
   "source": [
    "def plot_temps_low(chart_no):\n",
    "\n",
    "    fig = plt.figure(dpi=200)\n",
    "    ax = fig.add_subplot(211)\n",
    "    \n",
    "    if chart_no == 1:\n",
    "        start_time = '2019-01-01 00:00:00'\n",
    "        end_time = '2019-01-01 00:30:00'\n",
    "    elif chart_no == 2:\n",
    "        start_time = '2019-01-01 00:00:00'\n",
    "        end_time = '2019-01-01 02:00:00'\n",
    "    elif chart_no == 3:\n",
    "        start_time = '2019-01-01 01:00:00'\n",
    "        end_time = '2019-01-02 18:00:00'\n",
    "        \n",
    "    ax.plot(df_raw_data_low['Exp. Inlet [C]'].loc[start_time:end_time], label='Exp. Inlet')\n",
    "    ax.plot(df_low['GroundHeatExchangerSTS:GHE 1:Inlet Temp. [C]'].loc[start_time:end_time], linestyle='--', label='Sim. Inlet')\n",
    "    \n",
    "    ax.plot(df_raw_data_low['Exp. Outlet [C]'].loc[start_time:end_time], label='Exp. Outlet')\n",
    "    ax.plot(df_low['GroundHeatExchangerSTS:GHE 1:Outlet Temp. [C]'].loc[start_time:end_time], linestyle='--', label='Sim. Outlet')\n",
    "\n",
    "    plt.ylabel('Temperature [C]')\n",
    "    plt.grid()\n",
    "    plt.legend()\n",
    "    ax.legend(loc=0, ncol=2)\n",
    "    \n",
    "    if chart_no in [1, 2]:\n",
    "        ax.xaxis.set_major_formatter(mdates.DateFormatter(\"%H-%M\"))\n",
    "    elif chart_no in [3]:\n",
    "        ax.xaxis.set_major_formatter(mdates.DateFormatter(\"%d\"))\n",
    "        \n",
    "    ax2 = fig.add_subplot(212)\n",
    "    ax2.plot(df_low['DT Error [C]'].loc[start_time:end_time], label=r'$\\Delta$T Error')\n",
    "\n",
    "    if chart_no in [1, 2]:\n",
    "        ax2.xaxis.set_major_formatter(mdates.DateFormatter(\"%H-%M\"))\n",
    "        plt.xlabel('Hr-Min')\n",
    "    elif chart_no in [3]:\n",
    "        ax2.xaxis.set_major_formatter(mdates.DateFormatter(\"%d\"))\n",
    "        plt.xlabel('Day')\n",
    "\n",
    "    plt.ylabel('Error [C]')\n",
    "\n",
    "    plt.grid()\n",
    "    \n",
    "    if chart_no == 1:\n",
    "        plt.savefig('Temps_Low_First-30min_ts-{}.PNG'.format(timestep), bbox_inches='tight')\n",
    "    elif chart_no == 2:\n",
    "        plt.savefig('Temps_Low_First-2hr_ts-{}.PNG'.format(timestep), bbox_inches='tight')\n",
    "    elif chart_no == 3:\n",
    "        plt.savefig('Temps_Low_Full_ts-{}.PNG'.format(timestep), bbox_inches='tight')\n",
    "    plt.show()"
   ]
  },
  {
   "cell_type": "code",
   "execution_count": null,
   "metadata": {},
   "outputs": [],
   "source": [
    "plot_temps_low(1)"
   ]
  },
  {
   "cell_type": "code",
   "execution_count": null,
   "metadata": {},
   "outputs": [],
   "source": [
    "plot_temps_low(2)"
   ]
  },
  {
   "cell_type": "code",
   "execution_count": null,
   "metadata": {},
   "outputs": [],
   "source": [
    "plot_temps_low(3)"
   ]
  },
  {
   "cell_type": "code",
   "execution_count": null,
   "metadata": {},
   "outputs": [],
   "source": []
  }
 ],
 "metadata": {
  "kernelspec": {
   "display_name": "Python 3",
   "language": "python",
   "name": "python3"
  },
  "language_info": {
   "codemirror_mode": {
    "name": "ipython",
    "version": 3
   },
   "file_extension": ".py",
   "mimetype": "text/x-python",
   "name": "python",
   "nbconvert_exporter": "python",
   "pygments_lexer": "ipython3",
   "version": "3.7.3"
  }
 },
 "nbformat": 4,
 "nbformat_minor": 2
}
