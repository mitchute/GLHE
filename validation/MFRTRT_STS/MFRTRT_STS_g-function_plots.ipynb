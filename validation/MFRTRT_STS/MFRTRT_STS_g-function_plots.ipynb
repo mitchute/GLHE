{
 "cells": [
  {
   "cell_type": "code",
   "execution_count": null,
   "metadata": {},
   "outputs": [],
   "source": [
    "import os\n",
    "import sys\n",
    "import json\n",
    "import datetime\n",
    "\n",
    "import pandas as pd\n",
    "import numpy as np"
   ]
  },
  {
   "cell_type": "code",
   "execution_count": null,
   "metadata": {},
   "outputs": [],
   "source": [
    "cwd = os.getcwd()\n",
    "join = os.path.join\n",
    "norm = os.path.normpath"
   ]
  },
  {
   "cell_type": "code",
   "execution_count": null,
   "metadata": {},
   "outputs": [],
   "source": [
    "import matplotlib.pyplot as plt\n",
    "%matplotlib inline"
   ]
  },
  {
   "cell_type": "code",
   "execution_count": null,
   "metadata": {},
   "outputs": [],
   "source": [
    "plt.style.use('ggplot')\n",
    "plt.rcParams['figure.figsize'] = [15, 9]\n",
    "plt.rcParams['font.size'] = 14\n",
    "\n",
    "# pd.set_option('display.max_columns', None)\n",
    "# pd.set_option('display.max_rows', None)"
   ]
  },
  {
   "cell_type": "code",
   "execution_count": null,
   "metadata": {},
   "outputs": [],
   "source": [
    "sts = np.genfromtxt('D:\\\\Dropbox\\\\OSU\\Research\\\\GHX Modeling\\\\GLHE\\\\GLHE\\\\validation\\\\MFRTRT_LTS\\\\sts.csv', delimiter=',')\n",
    "lts = np.genfromtxt('D:\\\\Dropbox\\\\OSU\\Research\\\\GHX Modeling\\\\GLHE\\\\GLHE\\\\validation\\\\MFRTRT_LTS\\\\lts.csv', delimiter=',')\n",
    "g = np.genfromtxt('D:\\\\Dropbox\\\\OSU\\Research\\\\GHX Modeling\\\\GLHE\\\\GLHE\\\\validation\\\\MFRTRT_LTS\\\\g.csv', delimiter=',')\n",
    "g_b = np.genfromtxt('D:\\\\Dropbox\\\\OSU\\Research\\\\GHX Modeling\\\\GLHE\\\\GLHE\\\\validation\\\\MFRTRT_LTS\\\\g_b.csv', delimiter=',')\n",
    "g_b_exp = np.genfromtxt('D:\\\\Dropbox\\\\OSU\\Research\\\\GHX Modeling\\\\GLHE\\\\GLHE\\\\validation\\\\MFRTRT_LTS\\\\g_b_exp.csv', delimiter=',')"
   ]
  },
  {
   "cell_type": "code",
   "execution_count": null,
   "metadata": {},
   "outputs": [],
   "source": [
    "plt.plot(lts[:, 0], lts[:, 1], label='pygfunction')\n",
    "plt.plot(sts[:, 0], sts[:, 1], label='Xu-Spitler Radial-Numerical', linestyle='--')\n",
    "plt.plot(g[:, 0], g[:, 1], label='g')\n",
    "plt.plot(g_b[:, 0], g_b[:, 1], label='g_b')\n",
    "plt.plot(g_b_exp[:, 0], g_b_exp[:, 1], label='g_b (Exp.)')\n",
    "plt.xlabel('ln(t/ts)')\n",
    "plt.ylabel('g')\n",
    "plt.legend()"
   ]
  },
  {
   "cell_type": "code",
   "execution_count": null,
   "metadata": {},
   "outputs": [],
   "source": []
  }
 ],
 "metadata": {
  "kernelspec": {
   "display_name": "Python 3",
   "language": "python",
   "name": "python3"
  },
  "language_info": {
   "codemirror_mode": {
    "name": "ipython",
    "version": 3
   },
   "file_extension": ".py",
   "mimetype": "text/x-python",
   "name": "python",
   "nbconvert_exporter": "python",
   "pygments_lexer": "ipython3",
   "version": "3.7.3"
  }
 },
 "nbformat": 4,
 "nbformat_minor": 2
}
