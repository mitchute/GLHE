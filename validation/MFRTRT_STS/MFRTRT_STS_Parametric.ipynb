{
 "cells": [
  {
   "cell_type": "code",
   "execution_count": null,
   "metadata": {},
   "outputs": [],
   "source": [
    "import os\n",
    "import sys\n",
    "import json\n",
    "import datetime\n",
    "\n",
    "import pareto\n",
    "\n",
    "import pandas as pd\n",
    "import numpy as np"
   ]
  },
  {
   "cell_type": "code",
   "execution_count": null,
   "metadata": {},
   "outputs": [],
   "source": [
    "cwd = os.getcwd()\n",
    "join = os.path.join\n",
    "norm = os.path.normpath"
   ]
  },
  {
   "cell_type": "code",
   "execution_count": null,
   "metadata": {},
   "outputs": [],
   "source": [
    "sys.path.append(norm(join(cwd, '..', '..', '..', 'glhe')))"
   ]
  },
  {
   "cell_type": "code",
   "execution_count": null,
   "metadata": {},
   "outputs": [],
   "source": [
    "from standalone.plant_loop import PlantLoop\n",
    "import glhe"
   ]
  },
  {
   "cell_type": "code",
   "execution_count": null,
   "metadata": {},
   "outputs": [],
   "source": [
    "import matplotlib.pyplot as plt\n",
    "%matplotlib inline"
   ]
  },
  {
   "cell_type": "code",
   "execution_count": null,
   "metadata": {},
   "outputs": [],
   "source": [
    "plt.style.use('seaborn-bright')\n",
    "plt.rcParams['figure.figsize'] = [7, 5]\n",
    "plt.rcParams['font.size'] = 14\n",
    "\n",
    "# pd.set_option('display.max_columns', None)\n",
    "# pd.set_option('display.max_rows', None)"
   ]
  },
  {
   "cell_type": "code",
   "execution_count": null,
   "metadata": {},
   "outputs": [],
   "source": [
    "def run_simulation(f, dt, N_seg, N_iter, flow):\n",
    "    \n",
    "    d = glhe.utilities.functions.load_json('MFRTRT_STS_input.json')\n",
    "    d['borehole-definitions'][0]['number-iterations'] = N_iter\n",
    "    d['borehole-definitions'][0]['fraction-grout'] = f\n",
    "    d['borehole-definitions'][0]['segments'] = N_seg\n",
    "    \n",
    "    d['ground-heat-exchanger'][0]['g-function-path'] = norm(join(cwd, 'g.csv'))\n",
    "    d['simulation']['time-step'] = dt\n",
    "    d['simulation']['runtime'] = 3600 * 24\n",
    "    d['simulation']['output-path'] = cwd\n",
    "    \n",
    "    if flow == 'low':\n",
    "        d['temperature-profile'][0]['path'] = norm(join(cwd, 'input_data_low.csv'))\n",
    "        d['flow-profile'][0]['path'] = norm(join(cwd, 'input_data_low.csv'))\n",
    "        d['simulation']['initial-temperature'] = 17.1\n",
    "        d['ground-temperature-model']['temperature'] = 17.1\n",
    "    else:\n",
    "        d['temperature-profile'][0]['path'] = norm(join(cwd, 'input_data_high.csv'))\n",
    "        d['flow-profile'][0]['path'] = norm(join(cwd, 'input_data_high.csv'))\n",
    "        d['simulation']['initial-temperature'] = 16.1\n",
    "        d['ground-temperature-model']['temperature'] = 16.1\n",
    "    \n",
    "    f_name = '{}_f-{}_dt-{}_Nseg-{}_Niter-{}'.format(flow, f, dt, N_seg, N_iter)\n",
    "    \n",
    "    d['simulation']['output-csv-name'] = 'out_{}.csv'.format(f_name)\n",
    "    \n",
    "    with open(join(cwd, 'in_{}.json'.format(f_name)), 'w') as f:\n",
    "        f.write(json.dumps(d, sort_keys=True, indent=2, separators=(',', ': ')))\n",
    "    \n",
    "    PlantLoop('in_{}.json'.format(f_name)).simulate()"
   ]
  },
  {
   "cell_type": "code",
   "execution_count": null,
   "metadata": {
    "scrolled": false
   },
   "outputs": [],
   "source": [
    "dts = [30]\n",
    "fs = [0.25, 0.5, 0.75]\n",
    "N_segs = [1]\n",
    "N_iters = [1, 2, 3]\n",
    "flows = ['low', 'high']\n",
    "\n",
    "for f in fs:\n",
    "    for dt in dts:\n",
    "        for N_seg in N_segs:\n",
    "            for N_iter in N_iters:\n",
    "                for flow in flows:\n",
    "                    run_simulation(f, dt, N_seg, N_iter, flow)\n",
    "                    print('f: {}, dt: {}, N_seg: {}, N_iter: {}, Flow: {}'.format(f, dt, N_seg, N_iter, flow))"
   ]
  },
  {
   "cell_type": "code",
   "execution_count": null,
   "metadata": {},
   "outputs": [],
   "source": [
    "def process_results(f, dt, N_seg, N_iter, flow):\n",
    "    \n",
    "    f_name = 'out_{}_f-{}_dt-{}_Nseg-{}_Niter-{}'.format(flow, f, dt, N_seg, N_iter)\n",
    "\n",
    "    if not os.path.exists('{}.csv'.format(f_name)):\n",
    "        return 0, 0, 0\n",
    "    \n",
    "    if not os.path.exists('{}.txt'.format(f_name)):\n",
    "        return 0, 0, 0\n",
    "    \n",
    "    print('f: {}, dt: {}, N_seg: {}, N_iter: {}, Flow: {}'.format(f, dt, N_seg, N_iter, flow))\n",
    "    \n",
    "    df = pd.read_csv('{}.csv'.format(f_name), parse_dates=True, index_col='Date/Time')\n",
    "\n",
    "    df_data = pd.read_csv('input_data_{}.csv'.format(flow), parse_dates=True, index_col='Date/Time')\n",
    "    df_data['time'] = pd.to_timedelta(df_data.index)\n",
    "    df_data['time'] = datetime.datetime(year=2019, month=1, day=1, hour=0, minute=0) + (df_data['time'] - df_data['time'][0])\n",
    "    df_data.set_index('time', inplace=True)\n",
    "    df_data.index.rename('Date/Time', inplace=True)\n",
    "    \n",
    "    \n",
    "    df_data.resample('{}S'.format(dt)).mean()\n",
    "    df['Outlet Temp Error [C]'] = df['GroundHeatExchangerSTS:GHE 1:Outlet Temp. [C]'] - df_data['Exp. Outlet [C]']\n",
    "\n",
    "    rmse = np.mean(df['Outlet Temp Error [C]'] ** 2) ** 0.5\n",
    "    mbe = np.mean(df['Outlet Temp Error [C]'])\n",
    "\n",
    "    mm = 0 \n",
    "    ss = 0 \n",
    "    ss_tot = 0\n",
    "\n",
    "    with open('{}.txt'.format(f_name)) as f:\n",
    "        for line in f:\n",
    "            tokens = line.split(':')\n",
    "            mm = float(tokens[-2]) * 60\n",
    "            ss = float(tokens[-1])\n",
    "            ss_tot = mm + ss\n",
    "\n",
    "    return rmse, mbe, ss_tot"
   ]
  },
  {
   "cell_type": "code",
   "execution_count": null,
   "metadata": {},
   "outputs": [],
   "source": [
    "dts = [30]\n",
    "fs = [0.25, 0.5, 0.75]\n",
    "N_segs = [1, 2, 3, 4]\n",
    "N_iters = [1, 2, 3]\n",
    "flows = ['low', 'high']\n",
    "\n",
    "columns = ['grout-fraction', 'time step', 'number-segments', 'number-iterations', 'flow', 'rmse', 'mbe', 'time']\n",
    "\n",
    "df_all = pd.DataFrame(columns=columns)\n",
    "idx = 0\n",
    "\n",
    "for f in fs:\n",
    "    for dt in dts:\n",
    "        for N_seg in N_segs:\n",
    "            for N_iter in N_iters:\n",
    "                for flow in flows:\n",
    "                    rmse, mbe, time = process_results(f, dt, N_seg, N_iter, flow)\n",
    "                    d_data = {'grout-fraction': f,\n",
    "                              'time step': dt, \n",
    "                              'number-segments': N_seg,\n",
    "                              'number-iterations': N_iter,\n",
    "                              'flow': flow,\n",
    "                              'rmse': rmse,\n",
    "                              'mbe': mbe,\n",
    "                              'time': time}\n",
    "                    \n",
    "                    df_temp = pd.DataFrame(d_data, index=[idx])\n",
    "                    df_all = pd.concat([df_all, df_temp], axis=0, sort=True)\n",
    "                    idx += 1"
   ]
  },
  {
   "cell_type": "code",
   "execution_count": null,
   "metadata": {},
   "outputs": [],
   "source": [
    "df_low = df_all.loc[df_all['flow']=='low']\n",
    "df_low = df_low.drop('flow', axis=1)\n",
    "\n",
    "df_high = df_all.loc[df_all['flow']=='high']\n",
    "df_high = df_high.drop('flow', axis=1)"
   ]
  },
  {
   "cell_type": "code",
   "execution_count": null,
   "metadata": {},
   "outputs": [],
   "source": [
    "df_low.head()"
   ]
  },
  {
   "cell_type": "code",
   "execution_count": null,
   "metadata": {},
   "outputs": [],
   "source": [
    "df_high.head()"
   ]
  },
  {
   "cell_type": "code",
   "execution_count": null,
   "metadata": {},
   "outputs": [],
   "source": [
    "def merge(df1, df2):\n",
    "    dts = [30]\n",
    "    fs = [0.25, 0.5, 0.75]\n",
    "    N_segs = [1, 2, 3, 4]\n",
    "    N_iters = [1, 2, 3]\n",
    "\n",
    "    columns = ['grout-fraction', 'time step', 'number-segments', 'number-iterations', 'rmse', 'mbe', 'time']\n",
    "    \n",
    "    df = pd.DataFrame(columns=columns)\n",
    "    idx = 0\n",
    "    \n",
    "    for f in fs:\n",
    "        for dt in dts:\n",
    "            for N_seg in N_segs:\n",
    "                for N_iter in N_iters:\n",
    "                    rmse1 = df1['rmse'].loc[(df1['grout-fraction'] == f) &\n",
    "                                            (df1['time step'] == dt) &\n",
    "                                            (df1['number-segments'] == N_seg) &\n",
    "                                            (df1['number-iterations'] == N_iter)].values\n",
    "                    \n",
    "                    mbe1 = df1['mbe'].loc[(df1['grout-fraction'] == f) &\n",
    "                                          (df1['time step'] == dt) &\n",
    "                                          (df1['number-segments'] == N_seg) &\n",
    "                                          (df1['number-iterations'] == N_iter)].values\n",
    "                    \n",
    "                    time1 = df1['time'].loc[(df1['grout-fraction'] == f) &\n",
    "                                            (df1['time step'] == dt) &\n",
    "                                            (df1['number-segments'] == N_seg) &\n",
    "                                            (df1['number-iterations'] == N_iter)].values\n",
    "                    \n",
    "                    rmse2 = df2['rmse'].loc[(df2['grout-fraction'] == f) &\n",
    "                                            (df2['time step'] == dt) &\n",
    "                                            (df2['number-segments'] == N_seg) &\n",
    "                                            (df2['number-iterations'] == N_iter)].values\n",
    "                    \n",
    "                    mbe2 = df2['mbe'].loc[(df2['grout-fraction'] == f) &\n",
    "                                          (df2['time step'] == dt) &\n",
    "                                          (df2['number-segments'] == N_seg) &\n",
    "                                          (df2['number-iterations'] == N_iter)].values\n",
    "                    \n",
    "                    time2 = df2['time'].loc[(df2['grout-fraction'] == f) &\n",
    "                                            (df2['time step'] == dt) &\n",
    "                                            (df2['number-segments'] == N_seg) &\n",
    "                                            (df2['number-iterations'] == N_iter)].values\n",
    "                    \n",
    "                    if (rmse1 != 0) and (rmse2 != 0):\n",
    "                        d_data = {'grout-fraction': f,\n",
    "                                  'time step': dt, \n",
    "                                  'number-segments': N_seg,\n",
    "                                  'number-iterations': N_iter,\n",
    "                                  'rmse': np.mean([rmse1, rmse2]),\n",
    "                                  'mbe': np.mean([mbe1, mbe2]),\n",
    "                                  'time': np.mean([time1, time2])}\n",
    "\n",
    "                        df_temp = pd.DataFrame(d_data, index=[idx])\n",
    "                        df = pd.concat([df, df_temp], axis=0, sort=True)\n",
    "                        idx += 1\n",
    "    return df"
   ]
  },
  {
   "cell_type": "code",
   "execution_count": null,
   "metadata": {},
   "outputs": [],
   "source": [
    "df_merge = merge(df_low, df_high)"
   ]
  },
  {
   "cell_type": "code",
   "execution_count": null,
   "metadata": {},
   "outputs": [],
   "source": [
    "df_merge.head()"
   ]
  },
  {
   "cell_type": "code",
   "execution_count": null,
   "metadata": {},
   "outputs": [],
   "source": [
    "fig = plt.figure(dpi=200)\n",
    "\n",
    "c = df_merge['grout-fraction']\n",
    "plt.scatter(df_merge['rmse'], df_merge['time'], marker='x', c=c)\n",
    "\n",
    "plt.title('Grout Fraction')\n",
    "plt.ylabel('Simulation Time [s]')\n",
    "plt.xlabel('RMSE [C]')\n",
    "plt.colorbar()\n",
    "plt.grid()\n",
    "plt.savefig('STS_Grout_Fraction.PNG', bbox_inches='tight')\n",
    "plt.show()"
   ]
  },
  {
   "cell_type": "code",
   "execution_count": null,
   "metadata": {},
   "outputs": [],
   "source": [
    "fig = plt.figure(dpi=200)\n",
    "\n",
    "c = df_merge['time step']\n",
    "plt.scatter(df_merge['rmse'], df_merge['time'], marker='x', c=c)\n",
    "\n",
    "plt.title('Time Step')\n",
    "plt.ylabel('Simulation Time [s]')\n",
    "plt.xlabel('RMSE [C]')\n",
    "plt.colorbar()\n",
    "plt.grid()\n",
    "plt.savefig('STS_Time_Step.PNG', bbox_inches='tight')\n",
    "plt.show()"
   ]
  },
  {
   "cell_type": "code",
   "execution_count": null,
   "metadata": {},
   "outputs": [],
   "source": [
    "fig = plt.figure(dpi=200)\n",
    "\n",
    "c = df_merge['number-segments']\n",
    "plt.scatter(df_merge['rmse'], df_merge['time'], marker='x', c=c)\n",
    "\n",
    "plt.title('Segments')\n",
    "plt.ylabel('Simulation Time [s]')\n",
    "plt.xlabel('RMSE [C]')\n",
    "plt.colorbar()\n",
    "plt.grid()\n",
    "plt.show()"
   ]
  },
  {
   "cell_type": "code",
   "execution_count": null,
   "metadata": {},
   "outputs": [],
   "source": [
    "fig = plt.figure(dpi=200)\n",
    "\n",
    "c = df_merge['number-iterations']\n",
    "plt.scatter(df_merge['rmse'], df_merge['time'], marker='x', c=c)\n",
    "\n",
    "plt.title('Iterations')\n",
    "plt.ylabel('Simulation Time [s]')\n",
    "plt.xlabel('RMSE [C]')\n",
    "plt.colorbar()\n",
    "plt.grid()\n",
    "plt.savefig('STS_Iterations.PNG', bbox_inches='tight')\n",
    "plt.show()"
   ]
  },
  {
   "cell_type": "code",
   "execution_count": null,
   "metadata": {},
   "outputs": [],
   "source": [
    "def define_pareto(df_in, x_col_idx, y_col_idx):\n",
    "    df = pd.DataFrame.from_records(pareto.eps_sort([list(df_in.itertuples(False))], [x_col_idx, y_col_idx]), columns=list(df_in.columns.values))\n",
    "    df.sort_values(by=['rmse'], inplace=True)\n",
    "    return df"
   ]
  },
  {
   "cell_type": "code",
   "execution_count": null,
   "metadata": {},
   "outputs": [],
   "source": [
    "df_pareto = define_pareto(df_merge, 4, 5)\n",
    "df_pareto.to_csv('STS_Pareto_Data.csv')"
   ]
  },
  {
   "cell_type": "code",
   "execution_count": null,
   "metadata": {},
   "outputs": [],
   "source": [
    "df_pareto"
   ]
  },
  {
   "cell_type": "code",
   "execution_count": null,
   "metadata": {},
   "outputs": [],
   "source": [
    "fig = plt.figure(dpi=200)\n",
    "\n",
    "plt.scatter(df_merge['rmse'], df_merge['time'], marker='x')\n",
    "plt.plot(df_pareto['rmse'], df_pareto['time'], c='r', label='Pareto')\n",
    "plt.ylabel('Simulation Time [s]')\n",
    "plt.xlabel('RMSE [C]')\n",
    "# plt.xlim([0.24, 0.3])\n",
    "# plt.ylim([30, 100])\n",
    "plt.legend()\n",
    "plt.grid()\n",
    "plt.savefig('STS_Pareto.PNG', bbox_inches='tight')\n",
    "plt.show()"
   ]
  },
  {
   "cell_type": "code",
   "execution_count": null,
   "metadata": {},
   "outputs": [],
   "source": [
    "data_path_high = norm(join(cwd, '..', '..', 'validation', 'MFRTRT', 'MFRTRT_loads.csv'))\n",
    "df_raw_data_high = pd.read_csv(data_path_high, parse_dates=True, index_col='Date/Time')\n",
    "df_exp_high = df_raw_data_high[['Inst. HT [1] [W]', 'mdot [kg/s]', 'Outlet 1 [C]', 'Inlet 1 [C]']].copy(deep=True)\n",
    "df_exp_high.rename(columns = {'Inst. HT [1] [W]': 'Exp. HT Rate [W]', \n",
    "                                    'Outlet 1 [C]': 'Exp. Inlet [C]', \n",
    "                                    'Inlet 1 [C]': 'Exp. Outlet [C]'}, inplace=True)\n",
    "df_exp_high['time'] = pd.to_timedelta(df_exp_high.index)\n",
    "df_exp_high['time'] = datetime.datetime(year=2019, month=1, day=1, hour=0, minute=0) + (df_exp_high['time'] - df_exp_high['time'][0])\n",
    "df_exp_high.set_index('time', inplace=True)\n",
    "df_exp_high.index.rename('Date/Time', inplace=True)\n",
    "df_exp_high = df_exp_high.resample('30S').mean()"
   ]
  },
  {
   "cell_type": "code",
   "execution_count": null,
   "metadata": {},
   "outputs": [],
   "source": [
    "data_path_low = norm(join(cwd, '..', '..', 'validation', 'MFRTRT', 'MFRTRT_Low_Flow_Loads.csv'))\n",
    "df_exp_low = pd.read_csv(data_path_low, parse_dates=True, index_col='Date/Time')\n",
    "df_exp_low['time'] = pd.to_timedelta(df_exp_low.index)\n",
    "df_exp_low['time'] = datetime.datetime(year=2019, month=1, day=1, hour=0, minute=0) + (df_exp_low['time'] - df_exp_low['time'][0])\n",
    "df_exp_low.set_index('time', inplace=True)\n",
    "df_exp_low.index.rename('Date/Time', inplace=True)\n",
    "df_exp_low = df_exp_low.resample('30S').mean()"
   ]
  },
  {
   "cell_type": "code",
   "execution_count": null,
   "metadata": {},
   "outputs": [],
   "source": [
    "f = 0.5\n",
    "dt = 30\n",
    "N_seg = 1\n",
    "N_iter = 2\n",
    "\n",
    "df_high = pd.read_csv('out_high_f-{}_dt-{}_Nseg-{}_Niter-{}.csv'.format(f, dt, N_seg, N_iter), parse_dates=True, index_col=0)\n",
    "df_low = pd.read_csv('out_low_f-{}_dt-{}_Nseg-{}_Niter-{}.csv'.format(f, dt, N_seg, N_iter), parse_dates=True, index_col=0)"
   ]
  },
  {
   "cell_type": "code",
   "execution_count": null,
   "metadata": {},
   "outputs": [],
   "source": [
    "df_high['Outlet Temp Error [C]'] = df_high['GroundHeatExchangerSTS:GHE 1:Outlet Temp. [C]'] - df_exp_high['Exp. Outlet [C]']\n",
    "df_low['Outlet Temp Error [C]'] = df_low['GroundHeatExchangerSTS:GHE 1:Outlet Temp. [C]'] - df_exp_low['Exp. Outlet [C]']"
   ]
  },
  {
   "cell_type": "code",
   "execution_count": null,
   "metadata": {},
   "outputs": [],
   "source": [
    "start_time = '2019-01-01 00:00:00'\n",
    "end_time = '2019-01-02 00:00:00'\n",
    "\n",
    "fig = plt.figure(dpi=200)\n",
    "\n",
    "ax = fig.add_subplot(111)\n",
    "\n",
    "ln1 = ax.plot(df_exp_high['Exp. Inlet [C]'].loc[start_time:end_time], label='Exp. Inlet', marker='x')\n",
    "ln2 = ax.plot(df_exp_high['Exp. Outlet [C]'].loc[start_time:end_time], label='Exp. Outlet', marker='x')\n",
    "\n",
    "ln3 = ax.plot(df_high['GroundHeatExchangerSTS:GHE 1:Inlet Temp. [C]'].loc[start_time:end_time], linestyle='--', label='Sim. Inlet')\n",
    "ln4 = ax.plot(df_high['GroundHeatExchangerSTS:GHE 1:Outlet Temp. [C]'].loc[start_time:end_time], linestyle='--', label='Sim. Outlet')\n",
    "\n",
    "ax.grid()\n",
    "ax.set_ylabel('Temperature [C]')\n",
    "\n",
    "ax2 = ax.twinx()\n",
    "ax2.set_ylabel('Error [C]')\n",
    "ax2.set_xlabel('Date/Time')\n",
    "ln5 = ax2.plot(df_high['Outlet Temp Error [C]'].loc[start_time:end_time], linestyle='-.', label='Outlet Error')\n",
    "\n",
    "lns = ln1 + ln2 + ln3 + ln4 + ln5\n",
    "labs = [l.get_label() for l in lns]\n",
    "ax2.legend(lns, labs, loc=4)\n",
    "\n",
    "plt.gcf().autofmt_xdate()\n",
    "\n",
    "# plt.savefig('STS_High_Results_30_Min.PNG', bbox_inches='tight')\n",
    "# plt.savefig('STS_High_Results_2_hr.PNG', bbox_inches='tight')\n",
    "plt.savefig('STS_High_Results_24_hr.PNG', bbox_inches='tight')\n",
    "\n",
    "plt.show()"
   ]
  },
  {
   "cell_type": "code",
   "execution_count": null,
   "metadata": {},
   "outputs": [],
   "source": [
    "start_time = '2019-01-01 00:00:00'\n",
    "end_time = '2019-01-02 00:00:00'\n",
    "\n",
    "fig = plt.figure(dpi=200)\n",
    "\n",
    "ax = fig.add_subplot(111)\n",
    "\n",
    "ln1 = ax.plot(df_exp_low['Exp. Inlet [C]'].loc[start_time:end_time], label='Exp. Inlet', marker='x')\n",
    "ln2 = ax.plot(df_exp_low['Exp. Outlet [C]'].loc[start_time:end_time], label='Exp. Outlet', marker='x')\n",
    "\n",
    "ln3 = ax.plot(df_low['GroundHeatExchangerSTS:GHE 1:Inlet Temp. [C]'].loc[start_time:end_time], linestyle='--', label='Sim. Inlet')\n",
    "ln4 = ax.plot(df_low['GroundHeatExchangerSTS:GHE 1:Outlet Temp. [C]'].loc[start_time:end_time], linestyle='--', label='Sim. Outlet')\n",
    "\n",
    "ax.grid()\n",
    "ax.set_ylabel('Temperature [C]')\n",
    "\n",
    "ax2 = ax.twinx()\n",
    "ax2.set_ylabel('Error [C]')\n",
    "ax2.set_xlabel('Date/Time')\n",
    "ln5 = ax2.plot(df_low['Outlet Temp Error [C]'].loc[start_time:end_time], linestyle='-.', label='Outlet Error')\n",
    "\n",
    "lns = ln1 + ln2 + ln3 + ln4 + ln5\n",
    "labs = [l.get_label() for l in lns]\n",
    "ax2.legend(lns, labs, loc=2)\n",
    "\n",
    "plt.gcf().autofmt_xdate()\n",
    "\n",
    "# plt.savefig('STS_Low_Results_30_Min.PNG', bbox_inches='tight')\n",
    "# plt.savefig('STS_Low_Results_2_hr.PNG', bbox_inches='tight')\n",
    "plt.savefig('STS_Low_Results_24_hr.PNG', bbox_inches='tight')\n",
    "\n",
    "plt.show()"
   ]
  },
  {
   "cell_type": "code",
   "execution_count": null,
   "metadata": {},
   "outputs": [],
   "source": []
  }
 ],
 "metadata": {
  "kernelspec": {
   "display_name": "Python 3",
   "language": "python",
   "name": "python3"
  },
  "language_info": {
   "codemirror_mode": {
    "name": "ipython",
    "version": 3
   },
   "file_extension": ".py",
   "mimetype": "text/x-python",
   "name": "python",
   "nbconvert_exporter": "python",
   "pygments_lexer": "ipython3",
   "version": "3.7.3"
  }
 },
 "nbformat": 4,
 "nbformat_minor": 2
}
