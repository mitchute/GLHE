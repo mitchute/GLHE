{
 "cells": [
  {
   "cell_type": "code",
   "execution_count": null,
   "metadata": {},
   "outputs": [],
   "source": [
    "import os\n",
    "import sys\n",
    "\n",
    "import pandas as pd\n",
    "import numpy as np"
   ]
  },
  {
   "cell_type": "code",
   "execution_count": null,
   "metadata": {},
   "outputs": [],
   "source": [
    "cwd = os.getcwd()\n",
    "join = os.path.join\n",
    "norm = os.path.normpath"
   ]
  },
  {
   "cell_type": "code",
   "execution_count": null,
   "metadata": {},
   "outputs": [],
   "source": [
    "import matplotlib.pyplot as plt\n",
    "%matplotlib inline"
   ]
  },
  {
   "cell_type": "code",
   "execution_count": null,
   "metadata": {},
   "outputs": [],
   "source": [
    "plt.style.use('seaborn-bright')\n",
    "plt.rcParams['figure.figsize'] = [15, 9]\n",
    "plt.rcParams['font.size'] = 12"
   ]
  },
  {
   "cell_type": "code",
   "execution_count": null,
   "metadata": {},
   "outputs": [],
   "source": [
    "sys.path.append(norm(join(cwd, '..', '..', '..', 'glhe')))"
   ]
  },
  {
   "cell_type": "code",
   "execution_count": null,
   "metadata": {},
   "outputs": [],
   "source": [
    "from standalone.plant_loop import PlantLoop\n",
    "import glhe"
   ]
  },
  {
   "cell_type": "code",
   "execution_count": null,
   "metadata": {},
   "outputs": [],
   "source": [
    "d = glhe.utilities.functions.load_json('Neighbor_GHEs.json')\n",
    "\n",
    "# d['ground-heat-exchanger'][0]['g-function-path'] = join(cwd, 'g.csv')\n",
    "d['ground-heat-exchanger'][0]['simulation-mode'] = 'direct'\n",
    "\n",
    "d['load-profile'] = [{}]\n",
    "d['load-profile'][0]['load-profile-type'] = 'constant'\n",
    "d['load-profile'][0]['name'] = 'constant load'\n",
    "d['load-profile'][0]['value'] = 1500\n",
    "\n",
    "d['flow-profile'][0]['value'] = 0.446\n",
    "\n",
    "d.pop('swedish-heat-pump')\n",
    "d['topology']['demand-side'][1] = {'comp-type': 'load-profile', 'name': 'constant load'}\n",
    "\n",
    "d['simulation']['runtime'] = 3600 * 48\n",
    "d['simulation']['time-step'] = 60\n",
    "\n",
    "f_in = 'in_direct.json'\n",
    "f_out = 'out_direct.csv'    \n",
    "\n",
    "d['simulation']['output-csv-name'] = f_out\n",
    "d['simulation']['output-path'] = cwd\n",
    "\n",
    "glhe.utilities.functions.write_json(f_in, d)\n",
    "\n",
    "PlantLoop(f_in).simulate()\n",
    "\n",
    "alpha = d['soil']['conductivity'] / (d['soil']['density'] * d['soil']['specific-heat'])\n",
    "h = d['borehole-definitions'][0]['length']\n",
    "ts = h ** 2 / (9 * alpha)\n",
    "\n",
    "df = pd.read_csv('out_direct.csv', index_col=0, parse_dates=True)\n",
    "\n",
    "df['lntts'] = np.log(df['Elapsed Time [s]'] / ts)\n",
    "\n",
    "df['Rb'] = df['SingleUTubeBHGrouted:BH 1:BH Resist. [m-K/W]']\n",
    "\n",
    "df['gb'] = (df['GroundHeatExchangerSTS:SELF-GHE:Outlet Temp. [C]'] - df['GroundHeatExchangerSTS:SELF-GHE:Borehole Wall Temp. [C]']) / (df['GroundHeatExchangerSTS:SELF-GHE:Heat Rate [W]'] * df['Rb'] / h)"
   ]
  },
  {
   "cell_type": "code",
   "execution_count": null,
   "metadata": {},
   "outputs": [],
   "source": [
    "df.columns"
   ]
  },
  {
   "cell_type": "code",
   "execution_count": null,
   "metadata": {},
   "outputs": [],
   "source": [
    "df['SingleUTubeBHGrouted:BH 1:BH Resist. [m-K/W]'].plot()"
   ]
  },
  {
   "cell_type": "code",
   "execution_count": null,
   "metadata": {},
   "outputs": [],
   "source": [
    "plt.plot(df['lntts'], df['gb'])"
   ]
  },
  {
   "cell_type": "code",
   "execution_count": null,
   "metadata": {},
   "outputs": [],
   "source": [
    "lntts = df['lntts'].values\n",
    "gb = df['gb'].values"
   ]
  },
  {
   "cell_type": "code",
   "execution_count": null,
   "metadata": {},
   "outputs": [],
   "source": [
    "lntts, gb = glhe.utilities.functions.resample_g_functions(lntts, gb)"
   ]
  },
  {
   "cell_type": "code",
   "execution_count": null,
   "metadata": {},
   "outputs": [],
   "source": [
    "arr = np.array([lntts, gb])"
   ]
  },
  {
   "cell_type": "code",
   "execution_count": null,
   "metadata": {},
   "outputs": [],
   "source": [
    "glhe.utilities.functions.write_arrays_to_csv(join(cwd, 'gb_out.csv'), arr)"
   ]
  },
  {
   "cell_type": "code",
   "execution_count": null,
   "metadata": {},
   "outputs": [],
   "source": []
  }
 ],
 "metadata": {
  "kernelspec": {
   "display_name": "Python 3",
   "language": "python",
   "name": "python3"
  },
  "language_info": {
   "codemirror_mode": {
    "name": "ipython",
    "version": 3
   },
   "file_extension": ".py",
   "mimetype": "text/x-python",
   "name": "python",
   "nbconvert_exporter": "python",
   "pygments_lexer": "ipython3",
   "version": "3.7.3"
  }
 },
 "nbformat": 4,
 "nbformat_minor": 2
}
