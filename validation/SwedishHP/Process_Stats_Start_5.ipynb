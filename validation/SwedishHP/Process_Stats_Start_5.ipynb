{
 "cells": [
  {
   "cell_type": "code",
   "execution_count": null,
   "metadata": {},
   "outputs": [],
   "source": [
    "import os\n",
    "import sys\n",
    "\n",
    "import pandas as pd\n",
    "import numpy as np"
   ]
  },
  {
   "cell_type": "code",
   "execution_count": null,
   "metadata": {},
   "outputs": [],
   "source": [
    "cwd = os.getcwd()\n",
    "join = os.path.join\n",
    "norm = os.path.normpath"
   ]
  },
  {
   "cell_type": "code",
   "execution_count": null,
   "metadata": {},
   "outputs": [],
   "source": [
    "import matplotlib.pyplot as plt\n",
    "%matplotlib inline"
   ]
  },
  {
   "cell_type": "code",
   "execution_count": null,
   "metadata": {},
   "outputs": [],
   "source": [
    "plt.style.use('seaborn-bright')\n",
    "plt.rcParams['figure.figsize'] = [7, 5]\n",
    "plt.rcParams['font.size'] = 12"
   ]
  },
  {
   "cell_type": "code",
   "execution_count": null,
   "metadata": {},
   "outputs": [],
   "source": [
    "def resample_data(df, freq):\n",
    "    \n",
    "    df_sums = df.copy(deep=True)\n",
    "    df_means = df.copy(deep=True)\n",
    "    \n",
    "    df_sums = df_sums.resample(freq).sum()\n",
    "    df_means = df_means.resample(freq).mean()\n",
    "    \n",
    "    for col in df_sums.columns:\n",
    "        if '[kWh]' in col:\n",
    "            # drop col from means\n",
    "            df_means.drop(col, axis=1, inplace=True)\n",
    "        else:\n",
    "            # drop col from sums\n",
    "            df_sums.drop(col, axis=1, inplace=True)\n",
    "            \n",
    "    df_temp = pd.concat([df_sums, df_means], axis=1, sort=True)\n",
    "    return df_temp.reindex(sorted(df_temp.columns), axis=1)"
   ]
  },
  {
   "cell_type": "code",
   "execution_count": null,
   "metadata": {},
   "outputs": [],
   "source": [
    "def process_results(path):\n",
    "    \n",
    "    df = pd.read_csv(path)\n",
    "    \n",
    "    df['Total Imm. Elec. [W]'] = df['SwedishHP:SVENSKA VARMMEPUMPE:Electrical Usage for Immersion Heater for Heating [W]'] + \\\n",
    "                                 df['SwedishHP:SVENSKA VARMMEPUMPE:Electrical Usage for Immersion Heater fow Water Heating [W]']\n",
    "    \n",
    "    df['Total HP Elec. [W]'] = df['SwedishHP:SVENSKA VARMMEPUMPE:Electrical Usage for Heating [W]'] + \\\n",
    "                               df['SwedishHP:SVENSKA VARMMEPUMPE:Electrical Usage for Water Heating [W]']\n",
    "    \n",
    "    df['COP [-]'] = (df['SwedishHP:SVENSKA VARMMEPUMPE:Heating Load [W]'] + \\\n",
    "                     df['SwedishHP:SVENSKA VARMMEPUMPE:Water Heating Load [W]']) / \\\n",
    "                    (df['Total HP Elec. [W]'] + df['Total Imm. Elec. [W]'])\n",
    "    \n",
    "    for col in df.columns:\n",
    "        if '[W]' in col:\n",
    "            # convert W to kWh. assuming a 1 hour timestep\n",
    "            df[col] = df[col]  / 1000\n",
    "            \n",
    "            # rename\n",
    "            new_name = col.replace('[W]', '[kWh]')\n",
    "            df.rename(columns={col: new_name}, inplace=True)\n",
    "            \n",
    "    # get rid of leap days --- FML\n",
    "    periods = pd.period_range('2019-01-01 00:00:00', '2038-12-31 23:00:00', freq='H')\n",
    "    is_leap_day = (periods.month == 2) & (periods.day == 29)\n",
    "    periods_without_leap = periods[~is_leap_day]\n",
    "    timestamps = periods_without_leap.to_timestamp()\n",
    "    \n",
    "    df.drop('Date/Time', axis=1, inplace=True)\n",
    "    df.drop(df.head(1).index, inplace=True)\n",
    "    df['Date/Time'] = timestamps\n",
    "    df.set_index('Date/Time', inplace=True)\n",
    "        \n",
    "    df_mo = resample_data(df, 'M')\n",
    "    df_ann = resample_data(df_mo, 'A')\n",
    "    \n",
    "    return df, df_mo, df_ann"
   ]
  },
  {
   "cell_type": "code",
   "execution_count": null,
   "metadata": {},
   "outputs": [],
   "source": [
    "df_s, df_s_mo, df_s_ann = process_results('out_20-yr_self.csv')\n",
    "df_c1, df_c1_mo, df_c1_ann = process_results('out_20-yr_1-cross_start-5-yr.csv')\n",
    "df_c2, df_c2_mo, df_c2_ann = process_results('out_20-yr_2-cross_start-5-yr.csv')\n",
    "df_c3, df_c3_mo, df_c3_ann = process_results('out_20-yr_3-cross_start-5-yr.csv')"
   ]
  },
  {
   "cell_type": "code",
   "execution_count": null,
   "metadata": {},
   "outputs": [],
   "source": [
    "df_s_mo.columns"
   ]
  },
  {
   "cell_type": "code",
   "execution_count": null,
   "metadata": {},
   "outputs": [],
   "source": [
    "def plot_ann_data(col, xlabel, y1_label, y2_label, percent_change=False, save_name=False):\n",
    "\n",
    "    fig = plt.figure(dpi=200)\n",
    "\n",
    "    ax = fig.add_subplot(211)\n",
    "\n",
    "    x = np.arange(1, 21)\n",
    "\n",
    "    ax.plot(x, df_s_ann[col], label='None', c='k')\n",
    "    ax.plot(x, df_c1_ann[col], label='1', c='r')\n",
    "    ax.plot(x, df_c2_ann[col], label='2', c='g')\n",
    "    ax.plot(x, df_c3_ann[col], label='3', c='b')\n",
    "    plt.legend()\n",
    "    plt.grid()\n",
    "    plt.ylabel(y1_label)\n",
    "\n",
    "    ax2 = fig.add_subplot(212)\n",
    "    \n",
    "    if percent_change:\n",
    "        err1 = (df_c1_ann[col] - df_s_ann[col]) / df_s_ann[col] * 100\n",
    "        err2 = (df_c2_ann[col] - df_s_ann[col]) / df_s_ann[col] * 100\n",
    "        err3 = (df_c3_ann[col] - df_s_ann[col]) / df_s_ann[col] * 100\n",
    "    else:\n",
    "        err1 = df_c1_ann[col] - df_s_ann[col]\n",
    "        err2 = df_c2_ann[col] - df_s_ann[col]\n",
    "        err3 = df_c3_ann[col] - df_s_ann[col]\n",
    "\n",
    "    ax2.plot(x, err1, c='r')\n",
    "    ax2.plot(x, err2, c='g')\n",
    "    ax2.plot(x, err3, c='b')\n",
    "    plt.ylabel(y2_label)\n",
    "    plt.xlabel(xlabel)\n",
    "    plt.grid()\n",
    "    \n",
    "    if save_name:\n",
    "        plt.savefig(save_name, bbox_inches='tight')\n",
    "\n",
    "    plt.show()"
   ]
  },
  {
   "cell_type": "code",
   "execution_count": null,
   "metadata": {},
   "outputs": [],
   "source": [
    "plot_ann_data('SwedishHP:SVENSKA VARMMEPUMPE:Inlet Temp. [C]', 'Years', 'Ave. HP Inlet Temp. [C]', r'$\\Delta$ T',  save_name='HP-Inlet-Temp_Start-5-yr.PNG')"
   ]
  },
  {
   "cell_type": "code",
   "execution_count": null,
   "metadata": {},
   "outputs": [],
   "source": [
    "plot_ann_data('COP [-]', 'Years', 'Ave. COP [-]', '% Change', percent_change=True,  save_name='COP_Start-5-yr.PNG')"
   ]
  },
  {
   "cell_type": "code",
   "execution_count": null,
   "metadata": {},
   "outputs": [],
   "source": [
    "plot_ann_data('Total HP Elec. [kWh]', 'Years', 'Tot. HP Elec. [kWh]', '% Change', percent_change=True,  save_name='HP-Elec_Start-5-yr.PNG')"
   ]
  },
  {
   "cell_type": "code",
   "execution_count": null,
   "metadata": {},
   "outputs": [],
   "source": [
    "plot_ann_data('Total Imm. Elec. [kWh]', 'Years', 'Tot. HTR Elec. [kWh]', '% Change', percent_change=True,  save_name='HTR_Elec_Start-5-yr.PNG')"
   ]
  },
  {
   "cell_type": "code",
   "execution_count": null,
   "metadata": {},
   "outputs": [],
   "source": [
    "def plot_ann_data_src_side(col, xlabel, y1_label, y2_label, save_name=False):\n",
    "\n",
    "    fig = plt.figure(dpi=200)\n",
    "\n",
    "    ax = fig.add_subplot(211)\n",
    "\n",
    "    x = np.arange(1, 21)\n",
    "\n",
    "    ax.plot(x, abs(df_s_ann[col]), label='None', c='k')\n",
    "    ax.plot(x, abs(df_c1_ann[col]), label='1', c='r')\n",
    "    ax.plot(x, abs(df_c2_ann[col]), label='2', c='g')\n",
    "    ax.plot(x, abs(df_c3_ann[col]), label='3', c='b')\n",
    "    plt.legend()\n",
    "    plt.grid()\n",
    "    plt.ylabel(y1_label)\n",
    "\n",
    "    ax2 = fig.add_subplot(212)\n",
    "    \n",
    "    err1 = (df_c1_ann[col] - df_s_ann[col]) / df_s_ann[col] * 100\n",
    "    err2 = (df_c2_ann[col] - df_s_ann[col]) / df_s_ann[col] * 100\n",
    "    err3 = (df_c3_ann[col] - df_s_ann[col]) / df_s_ann[col] * 100\n",
    "\n",
    "    ax2.plot(x, err1, c='r')\n",
    "    ax2.plot(x, err2, c='g')\n",
    "    ax2.plot(x, err3, c='b')\n",
    "    plt.ylabel(y2_label)\n",
    "    plt.xlabel(xlabel)\n",
    "    plt.grid()\n",
    "    \n",
    "    if save_name:\n",
    "        plt.savefig(save_name, bbox_inches='tight')\n",
    "\n",
    "    plt.show()"
   ]
  },
  {
   "cell_type": "code",
   "execution_count": null,
   "metadata": {},
   "outputs": [],
   "source": [
    "plot_ann_data_src_side('SwedishHP:SVENSKA VARMMEPUMPE:Source-side Heat Rate [kWh]', 'Years', 'Tot. HP. Src-Side [kWh]', '% Change',  save_name='HP-SRC-Side_Start-5-yr.PNG')"
   ]
  },
  {
   "cell_type": "code",
   "execution_count": null,
   "metadata": {},
   "outputs": [],
   "source": [
    "plot_ann_data_src_side('SwedishHP:SVENSKA VARMMEPUMPE:Load-side Heat Rate [kWh]', 'Years', 'Tot. HP. Load-Side [kWh]', '% Change', save_name='HP-Load-Side_Start-5-yr.PNG')"
   ]
  },
  {
   "cell_type": "code",
   "execution_count": null,
   "metadata": {},
   "outputs": [],
   "source": [
    "plot_ann_data('GroundHeatExchangerLTS:SELF-GHE:BH Resist. [m-K/W]', 'Years', r'$R_b$ [m-K/W]', '% Change', percent_change=True, save_name='Rb_Start-5-yr.PNG')"
   ]
  },
  {
   "cell_type": "code",
   "execution_count": null,
   "metadata": {},
   "outputs": [],
   "source": [
    "plot_ann_data('GroundHeatExchangerLTS:SELF-GHE:Borehole Wall Temp. [C]', 'Years', 'BH Wall Temp. [C]', r'$\\Delta$ T', save_name='BH_Wall_Temp_Start-5-yr.PNG')"
   ]
  },
  {
   "cell_type": "code",
   "execution_count": null,
   "metadata": {},
   "outputs": [],
   "source": [
    "df_s_mo_ann_mean = df_s_mo.resample('A').mean()"
   ]
  },
  {
   "cell_type": "code",
   "execution_count": null,
   "metadata": {},
   "outputs": [],
   "source": [
    "df_c3_mo_mean = df_c3_mo.resample('A').mean()"
   ]
  },
  {
   "cell_type": "code",
   "execution_count": null,
   "metadata": {},
   "outputs": [],
   "source": [
    "def plot_montly_mean_data(col, xlabel, y1_label, save_name=False):\n",
    "\n",
    "    fig = plt.figure(dpi=200)\n",
    "\n",
    "    ax = fig.add_subplot(111)\n",
    "    \n",
    "    xday = np.linspace(0, 20, num=175200)\n",
    "    xmo = np.arange(1/12, 20, 1/12)\n",
    "    xann = np.arange(1, 21)\n",
    "    ax.plot(xday, df_s[col], label='Hourly')\n",
    "    ax.plot(xmo, df_s_mo[col], label='Monthly')\n",
    "    ax.plot(xann, df_s_mo_ann_mean[col], label='Annual')\n",
    "    plt.legend()\n",
    "    plt.grid()\n",
    "    plt.ylabel(y1_label)\n",
    "    \n",
    "    plt.xlabel('Years')\n",
    "    \n",
    "    if save_name:\n",
    "        plt.savefig(save_name, bbox_inches='tight')\n",
    "\n",
    "    plt.show()"
   ]
  },
  {
   "cell_type": "code",
   "execution_count": null,
   "metadata": {},
   "outputs": [],
   "source": [
    "plot_montly_mean_data('SwedishHP:SVENSKA VARMMEPUMPE:Inlet Temp. [C]', 'Years', 'HP Inlet Temp. [C]', save_name='Self_Houly_Monthly_Annual_Inlet_Temp.PNG')"
   ]
  },
  {
   "cell_type": "code",
   "execution_count": null,
   "metadata": {},
   "outputs": [],
   "source": [
    "fig = plt.figure(dpi=200)\n",
    "\n",
    "ax = fig.add_subplot(111)\n",
    "\n",
    "x = np.arange(0, 48, 1)\n",
    "\n",
    "start = '2019-02-01 00:00:00'\n",
    "end =   '2019-02-02 23:00:00'\n",
    "\n",
    "ln1 = ax.plot(x, df_s['SwedishHP:SVENSKA VARMMEPUMPE:Inlet Temp. [C]'].loc[start:end], label=r'$T_{HP,in,src}$ [C]', c='g')\n",
    "ln2 = ax.plot(x, df_s['SwedishHP:SVENSKA VARMMEPUMPE:Outlet Temp. [C]'].loc[start:end], label=r'$T_{HP,out,src}$ [C]', c='b')\n",
    "ln3 = ax.plot(x, df_s['SwedishHP:SVENSKA VARMMEPUMPE:Outdoor Air Temp. [C]'].loc[start:end], label=r'$T_{oda}$ [C]', c='k')\n",
    "\n",
    "ax.legend(loc=2)\n",
    "ax.set_ylabel('Temperature [C]')\n",
    "ax.set_xlabel('Hour')\n",
    "\n",
    "ax2 = ax.twinx()\n",
    "\n",
    "ln4 = ax2.plot(x, df_s['SwedishHP:SVENSKA VARMMEPUMPE:Heating Load [kWh]'].loc[start:end], label=r'$Q_{htg}$ [kW]', c='r', linestyle='--')\n",
    "ln5 = ax2.plot(x, df_s['SwedishHP:SVENSKA VARMMEPUMPE:Water Heating Load [kWh]'].loc[start:end], label=r'$Q_{wtr}$ [kW]', c='c', linestyle='-.')\n",
    "\n",
    "# lns = ln1+ln2+ln3+ln4+ln5\n",
    "# labs = [l.get_label() for l in lns]\n",
    "\n",
    "ax2.legend(loc=1)\n",
    "ax2.set_ylabel('Load [kW]')\n",
    "\n",
    "plt.xticks(np.arange(0, 48+6, 6))\n",
    "\n",
    "plt.grid()\n",
    "\n",
    "plt.savefig('Feb_Temps_Loads_Self.PNG')\n",
    "\n",
    "plt.show()"
   ]
  },
  {
   "cell_type": "code",
   "execution_count": null,
   "metadata": {},
   "outputs": [],
   "source": [
    "np.arange(0, 48+6, 6)"
   ]
  },
  {
   "cell_type": "code",
   "execution_count": null,
   "metadata": {},
   "outputs": [],
   "source": []
  }
 ],
 "metadata": {
  "kernelspec": {
   "display_name": "Python 3",
   "language": "python",
   "name": "python3"
  },
  "language_info": {
   "codemirror_mode": {
    "name": "ipython",
    "version": 3
   },
   "file_extension": ".py",
   "mimetype": "text/x-python",
   "name": "python",
   "nbconvert_exporter": "python",
   "pygments_lexer": "ipython3",
   "version": "3.7.3"
  }
 },
 "nbformat": 4,
 "nbformat_minor": 2
}
