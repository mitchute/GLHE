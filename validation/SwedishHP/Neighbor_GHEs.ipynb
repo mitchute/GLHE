{
 "cells": [
  {
   "cell_type": "code",
   "execution_count": null,
   "metadata": {},
   "outputs": [],
   "source": [
    "import os\n",
    "import sys\n",
    "\n",
    "import pandas as pd\n",
    "import numpy as np"
   ]
  },
  {
   "cell_type": "code",
   "execution_count": null,
   "metadata": {},
   "outputs": [],
   "source": [
    "cwd = os.getcwd()\n",
    "join = os.path.join\n",
    "norm = os.path.normpath"
   ]
  },
  {
   "cell_type": "code",
   "execution_count": null,
   "metadata": {},
   "outputs": [],
   "source": [
    "import matplotlib.pyplot as plt\n",
    "%matplotlib inline"
   ]
  },
  {
   "cell_type": "code",
   "execution_count": null,
   "metadata": {},
   "outputs": [],
   "source": [
    "plt.style.use('seaborn-bright')\n",
    "plt.rcParams['figure.figsize'] = [15, 9]\n",
    "plt.rcParams['font.size'] = 12"
   ]
  },
  {
   "cell_type": "code",
   "execution_count": null,
   "metadata": {},
   "outputs": [],
   "source": [
    "sys.path.append(norm(join(cwd, '..', '..', '..', 'glhe')))"
   ]
  },
  {
   "cell_type": "code",
   "execution_count": null,
   "metadata": {},
   "outputs": [],
   "source": [
    "from standalone.plant_loop import PlantLoop\n",
    "import glhe"
   ]
  },
  {
   "cell_type": "code",
   "execution_count": null,
   "metadata": {},
   "outputs": [],
   "source": [
    "d = glhe.globals.functions.load_json('Neighbor_GHEs.json')\n",
    "d['ground-heat-exchanger'][0]['g-function-path'] = join(cwd, 'g_neighbor.csv')\n",
    "d['ground-heat-exchanger'][0]['g-cross-function-path'] = join(cwd, 'gx_neighbor.csv')\n",
    "d['ground-heat-exchanger'][0]['cross-loads-path'] = join(cwd, 'Cross_Loads.csv')\n",
    "d['swedish-heat-pump'][0]['load-data-path'] = join(cwd, 'HP_Loads_ODT.csv')\n",
    "d['flow-profile'][0]['path'] = join(cwd, 'HP_Loads_ODT.csv')\n",
    "\n",
    "d['simulation']['runtime'] = 3600 * 1000\n",
    "\n",
    "glhe.globals.functions.write_json('in_neighbor.json', d)"
   ]
  },
  {
   "cell_type": "code",
   "execution_count": null,
   "metadata": {},
   "outputs": [],
   "source": [
    "PlantLoop('in_neighbor.json').simulate()"
   ]
  },
  {
   "cell_type": "code",
   "execution_count": null,
   "metadata": {},
   "outputs": [],
   "source": [
    "df = pd.read_csv('out.csv', index_col=0, parse_dates=True)"
   ]
  },
  {
   "cell_type": "code",
   "execution_count": null,
   "metadata": {},
   "outputs": [],
   "source": [
    "df.head(2)"
   ]
  },
  {
   "cell_type": "code",
   "execution_count": null,
   "metadata": {},
   "outputs": [],
   "source": [
    "df.columns"
   ]
  },
  {
   "cell_type": "code",
   "execution_count": null,
   "metadata": {},
   "outputs": [],
   "source": [
    "df[['GroundHeatExchangerSimple:GHE 1:Heat Rate [W]',\n",
    "    'GroundHeatExchangerSimple:GHE 1:BH Heat Rate [W]']].plot()"
   ]
  },
  {
   "cell_type": "code",
   "execution_count": null,
   "metadata": {},
   "outputs": [],
   "source": [
    "df[['GroundHeatExchangerSimple:GHE 1:Inlet Temp. [C]',\n",
    "    'GroundHeatExchangerSimple:GHE 1:Outlet Temp. [C]']].plot()"
   ]
  },
  {
   "cell_type": "code",
   "execution_count": null,
   "metadata": {},
   "outputs": [],
   "source": [
    "df[['SwedishHP:SVENSKA VARMMEPUMPE:Inlet Temp. [C]',\n",
    "    'SwedishHP:SVENSKA VARMMEPUMPE:Outlet Temp. [C]']].plot()"
   ]
  },
  {
   "cell_type": "code",
   "execution_count": null,
   "metadata": {},
   "outputs": [],
   "source": [
    "df[['SwedishHP:SVENSKA VARMMEPUMPE:Source-side Heat Rate [W]',\n",
    "    'SwedishHP:SVENSKA VARMMEPUMPE:Load-side Heat Rate [W]',\n",
    "    'SwedishHP:SVENSKA VARMMEPUMPE:Total Immersion Heater Usage for Heating and Water Heating [W]',\n",
    "    'SwedishHP:SVENSKA VARMMEPUMPE:Heating Load [W]',\n",
    "    'SwedishHP:SVENSKA VARMMEPUMPE:Water Heating Load [W]']].plot()"
   ]
  },
  {
   "cell_type": "code",
   "execution_count": null,
   "metadata": {},
   "outputs": [],
   "source": []
  },
  {
   "cell_type": "code",
   "execution_count": null,
   "metadata": {},
   "outputs": [],
   "source": []
  }
 ],
 "metadata": {
  "kernelspec": {
   "display_name": "Python 3",
   "language": "python",
   "name": "python3"
  },
  "language_info": {
   "codemirror_mode": {
    "name": "ipython",
    "version": 3
   },
   "file_extension": ".py",
   "mimetype": "text/x-python",
   "name": "python",
   "nbconvert_exporter": "python",
   "pygments_lexer": "ipython3",
   "version": "3.7.3"
  }
 },
 "nbformat": 4,
 "nbformat_minor": 2
}
