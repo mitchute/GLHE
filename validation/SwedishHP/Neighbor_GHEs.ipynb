{
 "cells": [
  {
   "cell_type": "code",
   "execution_count": null,
   "metadata": {},
   "outputs": [],
   "source": [
    "import os\n",
    "import sys\n",
    "\n",
    "import pandas as pd\n",
    "import numpy as np"
   ]
  },
  {
   "cell_type": "code",
   "execution_count": null,
   "metadata": {},
   "outputs": [],
   "source": [
    "cwd = os.getcwd()\n",
    "join = os.path.join\n",
    "norm = os.path.normpath"
   ]
  },
  {
   "cell_type": "code",
   "execution_count": null,
   "metadata": {},
   "outputs": [],
   "source": [
    "import matplotlib.pyplot as plt\n",
    "%matplotlib inline"
   ]
  },
  {
   "cell_type": "code",
   "execution_count": null,
   "metadata": {},
   "outputs": [],
   "source": [
    "plt.style.use('seaborn-bright')\n",
    "plt.rcParams['figure.figsize'] = [15, 9]\n",
    "plt.rcParams['font.size'] = 12"
   ]
  },
  {
   "cell_type": "code",
   "execution_count": null,
   "metadata": {},
   "outputs": [],
   "source": [
    "sys.path.append(norm(join(cwd, '..', '..', '..', 'glhe')))"
   ]
  },
  {
   "cell_type": "code",
   "execution_count": null,
   "metadata": {},
   "outputs": [],
   "source": [
    "from standalone.plant_loop import PlantLoop\n",
    "import glhe"
   ]
  },
  {
   "cell_type": "code",
   "execution_count": null,
   "metadata": {},
   "outputs": [],
   "source": [
    "def run_sim(years_to_sim, num_cross=None, years_to_delay_cross=None, dist_cross=None, testing=False):\n",
    "\n",
    "    d = glhe.utilities.functions.load_json('Neighbor_GHEs.json')\n",
    "    \n",
    "    d['ground-heat-exchanger'][0]['g-function-path'] = join(cwd, 'g.csv')\n",
    "    d['ground-heat-exchanger'][0]['g_b-function-path'] = join(cwd, 'g_b.csv')\n",
    "    d['ground-heat-exchanger'][0]['g_b-flow-rates'] = [0.43, 0.46]\n",
    "\n",
    "    if num_cross:\n",
    "        d['ground-heat-exchanger'][0]['cross-loads'] = [{}]\n",
    "        \n",
    "        if dist_cross == 10:\n",
    "            d['ground-heat-exchanger'][0]['cross-loads'][0]['g-function-path'] = join(cwd, 'g_cross_10m.csv')\n",
    "        elif dist_cross == 15:\n",
    "            d['ground-heat-exchanger'][0]['cross-loads'][0]['g-function-path'] = join(cwd, 'g_cross_15m.csv')\n",
    "        elif dist_cross == 20:\n",
    "            d['ground-heat-exchanger'][0]['cross-loads'][0]['g-function-path'] = join(cwd, 'g_cross_20m.csv')\n",
    "        \n",
    "        d['ground-heat-exchanger'][0]['cross-loads'][0]['load-data-path'] = join(cwd, 'Cross_Loads.csv')\n",
    "        d['ground-heat-exchanger'][0]['cross-loads'][0]['start-time'] = 3600 * 24 * 365 * years_to_delay_cross\n",
    "        d['ground-heat-exchanger'][0]['cross-loads'][0]['number-of-instances'] = num_cross\n",
    "        d['ground-heat-exchanger'][0]['cross-loads'][0]['length'] = 150\n",
    "\n",
    "    d['swedish-heat-pump'][0]['load-data-path'] = join(cwd, 'HP_Loads_ODT.csv')\n",
    "    d['flow-profile'][0]['path'] = join(cwd, 'HP_Loads_ODT.csv')\n",
    "\n",
    "    d['simulation']['runtime'] = 3600 * 24 * 365 * years_to_sim\n",
    "    \n",
    "    if testing:\n",
    "        f_in = 'in.json'\n",
    "        f_out = 'out.csv'    \n",
    "    elif num_cross:\n",
    "        f_in = 'in_{}-yr_{}-cross_{}-m_start-{}-yr.json'.format(years_to_sim, num_cross, dist_cross, years_to_delay_cross)\n",
    "        f_out = 'out_{}-yr_{}-cross_{}-m_start-{}-yr.csv'.format(years_to_sim, num_cross, dist_cross, years_to_delay_cross)\n",
    "    else:\n",
    "        f_in = 'in_{}-yr_self.json'.format(years_to_sim)\n",
    "        f_out = 'out_{}-yr_self.csv'.format(years_to_sim)\n",
    "        \n",
    "    d['simulation']['output-csv-name'] = f_out\n",
    "    d['simulation']['output-path'] = cwd\n",
    "\n",
    "    glhe.utilities.functions.write_json(f_in, d)\n",
    "    \n",
    "    PlantLoop(f_in).simulate()"
   ]
  },
  {
   "cell_type": "code",
   "execution_count": null,
   "metadata": {},
   "outputs": [],
   "source": [
    "run_sim(20, testing=False)"
   ]
  },
  {
   "cell_type": "code",
   "execution_count": null,
   "metadata": {},
   "outputs": [],
   "source": [
    "run_sim(20, num_cross=1, years_to_delay_cross=0, dist_cross=10)"
   ]
  },
  {
   "cell_type": "code",
   "execution_count": null,
   "metadata": {},
   "outputs": [],
   "source": [
    "run_sim(20, num_cross=1, years_to_delay_cross=0, dist_cross=15)"
   ]
  },
  {
   "cell_type": "code",
   "execution_count": null,
   "metadata": {},
   "outputs": [],
   "source": [
    "run_sim(20, num_cross=1, years_to_delay_cross=0, dist_cross=20)"
   ]
  },
  {
   "cell_type": "code",
   "execution_count": null,
   "metadata": {},
   "outputs": [],
   "source": [
    "def resample_data(df, freq):\n",
    "    \n",
    "    df_sums = df.copy(deep=True)\n",
    "    df_means = df.copy(deep=True)\n",
    "    \n",
    "    df_sums = df_sums.resample(freq).sum()\n",
    "    df_means = df_means.resample(freq).mean()\n",
    "    \n",
    "    for col in df_sums.columns:\n",
    "        if '[W]' in col:\n",
    "            # drop col from means\n",
    "            df_means.drop(col, axis=1, inplace=True)\n",
    "            \n",
    "            # convert W to kWh. assuming a 1 hour timestep\n",
    "            df_sums[col] = df_sums[col]  / 1000\n",
    "            \n",
    "            # rename\n",
    "            new_name = col.replace('[W]', '[kWh]')\n",
    "            df_sums.rename(columns={col: new_name}, inplace=True)\n",
    "            \n",
    "        else:\n",
    "            # drop col from sums\n",
    "            df_sums.drop(col, axis=1, inplace=True)\n",
    "            \n",
    "    df_temp = pd.concat([df_sums, df_means], axis=1, sort=True)\n",
    "    return df_temp.reindex(sorted(df_temp.columns), axis=1)"
   ]
  },
  {
   "cell_type": "code",
   "execution_count": null,
   "metadata": {},
   "outputs": [],
   "source": [
    "df_self = pd.read_csv('out_5-yr_self.csv', index_col=0, parse_dates=True)\n",
    "df_cross = pd.read_csv('out_5-yr_3-cross_start-2-yr.csv', index_col=0, parse_dates=True)"
   ]
  },
  {
   "cell_type": "code",
   "execution_count": null,
   "metadata": {},
   "outputs": [],
   "source": [
    "df_self = resample_data(df_self, 'M')\n",
    "df_cross = resample_data(df_cross, 'M')"
   ]
  },
  {
   "cell_type": "code",
   "execution_count": null,
   "metadata": {},
   "outputs": [],
   "source": [
    "df_self.columns"
   ]
  },
  {
   "cell_type": "code",
   "execution_count": null,
   "metadata": {},
   "outputs": [],
   "source": [
    "fig = plt.figure()\n",
    "\n",
    "ax = fig.add_subplot(111)\n",
    "\n",
    "cols = ['GroundHeatExchangerLTS:SELF-GHE:BH Resist. [m-K/W]']\n",
    "\n",
    "for col in cols: \n",
    "    ax.plot(df_self[col], label='Self')\n",
    "    ax.plot(df_cross[col], label='Cross')\n",
    "\n",
    "plt.legend()\n",
    "plt.show()"
   ]
  },
  {
   "cell_type": "code",
   "execution_count": null,
   "metadata": {},
   "outputs": [],
   "source": [
    "df_march_self = df_self.loc[df_self.index.month==3]\n",
    "df_march_cross = df_cross.loc[df_cross.index.month==3]"
   ]
  },
  {
   "cell_type": "code",
   "execution_count": null,
   "metadata": {},
   "outputs": [],
   "source": [
    "fig = plt.figure()\n",
    "\n",
    "ax = fig.add_subplot(111)\n",
    "\n",
    "x = range(1, df_march.shape[0] + 1)\n",
    "\n",
    "ax.bar(x, df_march_self['SwedishHP:SVENSKA VARMMEPUMPE:Electrical Usage for Water Heating [kWh]'])\n",
    "ax.bar(x, df_march_cross['SwedishHP:SVENSKA VARMMEPUMPE:Electrical Usage for Water Heating [kWh]'])\n",
    "\n",
    "plt.show()"
   ]
  },
  {
   "cell_type": "code",
   "execution_count": null,
   "metadata": {},
   "outputs": [],
   "source": [
    "df_march.shape"
   ]
  },
  {
   "cell_type": "code",
   "execution_count": null,
   "metadata": {},
   "outputs": [],
   "source": [
    "df_march_self['SwedishHP:SVENSKA VARMMEPUMPE:Source-side Heat Rate [kWh]']"
   ]
  },
  {
   "cell_type": "code",
   "execution_count": null,
   "metadata": {},
   "outputs": [],
   "source": [
    "df_march_cross['SwedishHP:SVENSKA VARMMEPUMPE:Source-side Heat Rate [kWh]']"
   ]
  },
  {
   "cell_type": "code",
   "execution_count": null,
   "metadata": {},
   "outputs": [],
   "source": []
  }
 ],
 "metadata": {
  "kernelspec": {
   "display_name": "Python 3",
   "language": "python",
   "name": "python3"
  },
  "language_info": {
   "codemirror_mode": {
    "name": "ipython",
    "version": 3
   },
   "file_extension": ".py",
   "mimetype": "text/x-python",
   "name": "python",
   "nbconvert_exporter": "python",
   "pygments_lexer": "ipython3",
   "version": "3.7.3"
  }
 },
 "nbformat": 4,
 "nbformat_minor": 2
}
