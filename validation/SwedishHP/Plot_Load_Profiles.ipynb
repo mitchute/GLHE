{
 "cells": [
  {
   "cell_type": "code",
   "execution_count": null,
   "metadata": {},
   "outputs": [],
   "source": [
    "import os\n",
    "import sys\n",
    "\n",
    "import pandas as pd\n",
    "import numpy as np"
   ]
  },
  {
   "cell_type": "code",
   "execution_count": null,
   "metadata": {},
   "outputs": [],
   "source": [
    "cwd = os.getcwd()\n",
    "join = os.path.join\n",
    "norm = os.path.normpath"
   ]
  },
  {
   "cell_type": "code",
   "execution_count": null,
   "metadata": {},
   "outputs": [],
   "source": [
    "import matplotlib.pyplot as plt\n",
    "%matplotlib inline"
   ]
  },
  {
   "cell_type": "code",
   "execution_count": null,
   "metadata": {},
   "outputs": [],
   "source": [
    "plt.style.use('seaborn-bright')\n",
    "plt.rcParams['figure.figsize'] = [15, 9]\n",
    "plt.rcParams['font.size'] = 12"
   ]
  },
  {
   "cell_type": "code",
   "execution_count": null,
   "metadata": {},
   "outputs": [],
   "source": [
    "df = pd.read_csv('HP_Loads_ODT.csv', parse_dates=True, index_col=0)"
   ]
  },
  {
   "cell_type": "code",
   "execution_count": null,
   "metadata": {},
   "outputs": [],
   "source": [
    "df.columns"
   ]
  },
  {
   "cell_type": "code",
   "execution_count": null,
   "metadata": {
    "scrolled": false
   },
   "outputs": [],
   "source": [
    "fig = plt.figure(figsize=(7, 5), dpi=300)\n",
    "ax = fig.add_subplot(1, 1, 1)\n",
    "\n",
    "x = np.arange(0, 8760)\n",
    "y = df['Building Heating Loads (W)'].values / 1000\n",
    "\n",
    "ln1 = ax.plot(x, y, c='r', label='Heating Load')\n",
    "plt.xlabel('Hours')\n",
    "plt.ylabel('Heating Load [kW]')\n",
    "plt.grid()\n",
    "\n",
    "ax2 = ax.twinx()\n",
    "y2 = df['Outdoor Air Temperature (C)'].values\n",
    "ln2 = ax2.plot(x, y2, label='ODT')\n",
    "plt.ylabel('Outdoor Air Temperature [C]')\n",
    "\n",
    "lns = ln1+ln2\n",
    "labs = [l.get_label() for l in lns]\n",
    "ax.legend(lns, labs, loc=1)\n",
    "\n",
    "plt.savefig('Loads_ODT.PNG', bbox_inches='tight')\n",
    "plt.show()"
   ]
  },
  {
   "cell_type": "code",
   "execution_count": null,
   "metadata": {},
   "outputs": [],
   "source": [
    "fig = plt.figure(figsize=(7, 5), dpi=300)\n",
    "ax = fig.add_subplot(1, 1, 1)\n",
    "\n",
    "x = np.arange(0, 8760)\n",
    "y = df['Water Heating Loads (W)'].loc['2019-01-01 00:00:00' : '2019-12-31 23:00:00'].values / 1000\n",
    "\n",
    "ln1 = ax.plot(x, y, c='g', label='Heating Load')\n",
    "plt.xlabel('Hours')\n",
    "plt.ylabel('Domestic Water Heating [kW]')\n",
    "plt.grid()\n",
    "\n",
    "plt.savefig('Water_Loads.PNG', bbox_inches='tight')\n",
    "plt.show()"
   ]
  },
  {
   "cell_type": "code",
   "execution_count": null,
   "metadata": {},
   "outputs": [],
   "source": [
    "arr_g = np.genfromtxt('g.csv', delimiter=',').T\n",
    "arr_g_b = np.genfromtxt('g_b.csv', delimiter=',').T\n",
    "arr_g_cross = np.genfromtxt('g_cross_10m.csv', delimiter=',').T"
   ]
  },
  {
   "cell_type": "code",
   "execution_count": null,
   "metadata": {},
   "outputs": [],
   "source": [
    "fig = plt.figure(figsize=(7, 5), dpi=300)\n",
    "ax = fig.add_subplot(1, 1, 1)\n",
    "\n",
    "ax.plot(arr_g[0], arr_g[1], label=r'$g_{self}$')\n",
    "ax.plot(arr_g_b[0], arr_g_b[1], label=r'$g_{b,self}$')\n",
    "ax.plot(arr_g_cross[0], arr_g_cross[1], label=r'$g_{cross}$')\n",
    "\n",
    "num = 8\n",
    "x = arr_g_cross[0][num]\n",
    "y = arr_g_cross[1][num]\n",
    "ax.plot(x, y, marker='o', linestyle='', c='k')\n",
    "ax.annotate('0.5 yr.', xy=(x-2.5, y+0.2))\n",
    "\n",
    "num = 15\n",
    "x = arr_g_cross[0][num]\n",
    "y = arr_g_cross[1][num]\n",
    "ax.plot(x, y, marker='o', linestyle='', c='k')\n",
    "ax.annotate('20 yr.', xy=(x-2.5, y+0.2))\n",
    "\n",
    "plt.xlabel(r'$\\ln\\left(t/t_s\\right)$')\n",
    "plt.ylabel(r'$g$')\n",
    "plt.grid()\n",
    "plt.legend()\n",
    "plt.savefig('g-function-values.PNG', bbox_inches='tight')\n",
    "plt.show()"
   ]
  },
  {
   "cell_type": "code",
   "execution_count": null,
   "metadata": {},
   "outputs": [],
   "source": []
  }
 ],
 "metadata": {
  "kernelspec": {
   "display_name": "Python 3",
   "language": "python",
   "name": "python3"
  },
  "language_info": {
   "codemirror_mode": {
    "name": "ipython",
    "version": 3
   },
   "file_extension": ".py",
   "mimetype": "text/x-python",
   "name": "python",
   "nbconvert_exporter": "python",
   "pygments_lexer": "ipython3",
   "version": "3.7.3"
  }
 },
 "nbformat": 4,
 "nbformat_minor": 2
}
