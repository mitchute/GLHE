{
 "cells": [
  {
   "cell_type": "code",
   "execution_count": null,
   "metadata": {},
   "outputs": [],
   "source": [
    "import os\n",
    "import sys\n",
    "\n",
    "import numpy as np"
   ]
  },
  {
   "cell_type": "code",
   "execution_count": null,
   "metadata": {},
   "outputs": [],
   "source": [
    "cwd = os.getcwd()\n",
    "join = os.path.join\n",
    "norm = os.path.normpath"
   ]
  },
  {
   "cell_type": "code",
   "execution_count": null,
   "metadata": {},
   "outputs": [],
   "source": [
    "sys.path.insert(0, norm(join(cwd, '..', '..', '..', 'GLHE')))"
   ]
  },
  {
   "cell_type": "code",
   "execution_count": null,
   "metadata": {},
   "outputs": [],
   "source": [
    "from unit_tests.glhe.topology.test_pipe import TestPipe\n",
    "from glhe.interface.response import SimulationResponse"
   ]
  },
  {
   "cell_type": "code",
   "execution_count": null,
   "metadata": {},
   "outputs": [],
   "source": [
    "import matplotlib.pyplot as plt\n",
    "%matplotlib inline"
   ]
  },
  {
   "cell_type": "code",
   "execution_count": null,
   "metadata": {},
   "outputs": [],
   "source": [
    "plt.style.use('seaborn-bright')\n",
    "plt.rcParams['figure.figsize'] = [7, 5]\n",
    "plt.rcParams['font.size'] = 14\n",
    "\n",
    "# pd.set_option('display.max_columns', None)\n",
    "# pd.set_option('display.max_rows', None)"
   ]
  },
  {
   "cell_type": "code",
   "execution_count": null,
   "metadata": {},
   "outputs": [],
   "source": [
    "def check_response(m_dot, dt):\n",
    "    init_temp = 20\n",
    "    \n",
    "    inlet_temp = 25\n",
    "    pipe = TestPipe.add_instance()\n",
    "    t_tr = pipe.calc_transit_time(m_dot, inlet_temp)\n",
    "    re = pipe.m_dot_to_re(m_dot, inlet_temp)\n",
    "    \n",
    "    end_time = int(t_tr * 4.0)\n",
    "    \n",
    "    times = np.arange(0, end_time, dt)\n",
    "    tau = []\n",
    "    temps = []\n",
    "\n",
    "    for t in times:\n",
    "        temps.append((pipe.simulate_time_step(SimulationResponse(t, dt, m_dot, inlet_temp)).temperature - init_temp) / (inlet_temp - init_temp))\n",
    "        tau.append(t / t_tr)\n",
    "        \n",
    "    return tau, temps, re, t_tr"
   ]
  },
  {
   "cell_type": "code",
   "execution_count": null,
   "metadata": {},
   "outputs": [],
   "source": [
    "def plot_results(m_dot):\n",
    "    fig = plt.figure(dpi=200)\n",
    "    ax = fig.add_subplot()\n",
    "   \n",
    "    _, _, _, t_tr = check_response(m_dot, 10)\n",
    "\n",
    "    dts = [t_tr * 0.02, t_tr * 0.05, t_tr * 0.10, t_tr * 0.2]\n",
    "    \n",
    "    for dt in dts:\n",
    "        x, y, re, t_tr = check_response(m_dot, dt)\n",
    "        plt.plot(x, y, label='{:0.02f}'.format(dt/t_tr), linestyle='--')\n",
    "\n",
    "    plt.title('Re = {:0.0f}'.format(re))\n",
    "    plt.ylabel('Non-dimensional Response [-]')\n",
    "    plt.xlabel('Non-dimensional Transit Time [-]')\n",
    "    plt.xlim([0, 1.6])\n",
    "    plt.legend(title=r'$\\Delta t / t_{tr}$')\n",
    "    plt.grid()\n",
    "    plt.savefig('Pipe_Re-{:0.0f}.PNG'.format(re), bbox_inches='tight')\n",
    "    plt.show()"
   ]
  },
  {
   "cell_type": "code",
   "execution_count": null,
   "metadata": {},
   "outputs": [],
   "source": [
    "plot_results(0.01)"
   ]
  },
  {
   "cell_type": "code",
   "execution_count": null,
   "metadata": {},
   "outputs": [],
   "source": [
    "plot_results(0.03)"
   ]
  },
  {
   "cell_type": "code",
   "execution_count": null,
   "metadata": {},
   "outputs": [],
   "source": [
    "plot_results(0.05)"
   ]
  },
  {
   "cell_type": "code",
   "execution_count": null,
   "metadata": {},
   "outputs": [],
   "source": [
    "plot_results(0.1)"
   ]
  },
  {
   "cell_type": "code",
   "execution_count": null,
   "metadata": {},
   "outputs": [],
   "source": [
    "plot_results(0.25)"
   ]
  },
  {
   "cell_type": "code",
   "execution_count": null,
   "metadata": {},
   "outputs": [],
   "source": [
    "plot_results(0.5)"
   ]
  },
  {
   "cell_type": "code",
   "execution_count": null,
   "metadata": {
    "scrolled": false
   },
   "outputs": [],
   "source": [
    "plot_results(1.0)"
   ]
  },
  {
   "cell_type": "code",
   "execution_count": null,
   "metadata": {},
   "outputs": [],
   "source": []
  }
 ],
 "metadata": {
  "kernelspec": {
   "display_name": "Python 3",
   "language": "python",
   "name": "python3"
  },
  "language_info": {
   "codemirror_mode": {
    "name": "ipython",
    "version": 3
   },
   "file_extension": ".py",
   "mimetype": "text/x-python",
   "name": "python",
   "nbconvert_exporter": "python",
   "pygments_lexer": "ipython3",
   "version": "3.7.3"
  }
 },
 "nbformat": 4,
 "nbformat_minor": 2
}
