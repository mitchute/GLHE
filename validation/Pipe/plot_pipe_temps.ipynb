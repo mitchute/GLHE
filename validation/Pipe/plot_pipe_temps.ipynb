{
 "cells": [
  {
   "cell_type": "code",
   "execution_count": null,
   "metadata": {},
   "outputs": [],
   "source": [
    "import os\n",
    "import sys\n",
    "\n",
    "sys.path.insert(0, os.path.abspath('../../../'))"
   ]
  },
  {
   "cell_type": "code",
   "execution_count": null,
   "metadata": {},
   "outputs": [],
   "source": [
    "from test_pipe import TestPipe\n",
    "from glhe.interface.response import SimulationResponse"
   ]
  },
  {
   "cell_type": "code",
   "execution_count": null,
   "metadata": {},
   "outputs": [],
   "source": [
    "import matplotlib.pyplot as plt\n",
    "%matplotlib inline"
   ]
  },
  {
   "cell_type": "code",
   "execution_count": null,
   "metadata": {},
   "outputs": [],
   "source": [
    "plt.style.use('ggplot')\n",
    "plt.rcParams['figure.figsize'] = [15, 9]\n",
    "plt.rcParams['font.size'] = 14\n",
    "\n",
    "# pd.set_option('display.max_columns', None)\n",
    "# pd.set_option('display.max_rows', None)"
   ]
  },
  {
   "cell_type": "code",
   "execution_count": null,
   "metadata": {},
   "outputs": [],
   "source": [
    "m_dot = 0.1\n",
    "inlet_temp = 25"
   ]
  },
  {
   "cell_type": "code",
   "execution_count": null,
   "metadata": {},
   "outputs": [],
   "source": [
    "def check_response(dt):\n",
    "    \n",
    "    dts = range(60, 800, dt)\n",
    "    tau = []\n",
    "    t = []\n",
    "    \n",
    "    pipe = TestPipe.add_instance()\n",
    "    t_tr = pipe.calc_transit_time(m_dot, inlet_temp)\n",
    "    \n",
    "    print('dt: {}\\nTranist time: {:0.1f}\\n'.format(dt, t_tr))\n",
    "\n",
    "    for dt in dts:\n",
    "        t.append(pipe.simulate_time_step(SimulationResponse(0, dt, m_dot, inlet_temp)).temperature)\n",
    "        tau.append(dt / t_tr)\n",
    "        \n",
    "    return tau, t"
   ]
  },
  {
   "cell_type": "code",
   "execution_count": null,
   "metadata": {},
   "outputs": [],
   "source": [
    "fig = plt.figure()\n",
    "ax = fig.add_subplot()\n",
    "\n",
    "dts = [10, 20, 60, 120]\n",
    "\n",
    "for dt in dts:\n",
    "    plt.plot(*check_response(dt), label='Time step: {}'.format(dt), linestyle='--')\n",
    "\n",
    "    \n",
    "plt.ylabel('Temperature [C]')\n",
    "plt.xlabel('Non-dimensional transit time [-]')\n",
    "plt.legend()\n",
    "plt.show()"
   ]
  },
  {
   "cell_type": "code",
   "execution_count": null,
   "metadata": {},
   "outputs": [],
   "source": []
  }
 ],
 "metadata": {
  "kernelspec": {
   "display_name": "Python 3",
   "language": "python",
   "name": "python3"
  },
  "language_info": {
   "codemirror_mode": {
    "name": "ipython",
    "version": 3
   },
   "file_extension": ".py",
   "mimetype": "text/x-python",
   "name": "python",
   "nbconvert_exporter": "python",
   "pygments_lexer": "ipython3",
   "version": "3.7.3"
  }
 },
 "nbformat": 4,
 "nbformat_minor": 2
}
