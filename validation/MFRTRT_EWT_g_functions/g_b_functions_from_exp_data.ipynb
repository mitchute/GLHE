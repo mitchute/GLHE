{
 "cells": [
  {
   "cell_type": "code",
   "execution_count": null,
   "metadata": {},
   "outputs": [],
   "source": [
    "import os\n",
    "\n",
    "import pandas as pd\n",
    "import numpy as np\n",
    "\n",
    "from math import pi"
   ]
  },
  {
   "cell_type": "code",
   "execution_count": null,
   "metadata": {},
   "outputs": [],
   "source": [
    "cwd = os.getcwd()\n",
    "join = os.path.join\n",
    "norm = os.path.normpath"
   ]
  },
  {
   "cell_type": "code",
   "execution_count": null,
   "metadata": {},
   "outputs": [],
   "source": [
    "import matplotlib.pyplot as plt\n",
    "%matplotlib inline"
   ]
  },
  {
   "cell_type": "code",
   "execution_count": null,
   "metadata": {},
   "outputs": [],
   "source": [
    "plt.style.use('ggplot')\n",
    "plt.rcParams['figure.figsize'] = [15, 9]\n",
    "plt.rcParams['font.size'] = 14\n",
    "\n",
    "# pd.set_option('display.max_columns', None)\n",
    "# pd.set_option('display.max_rows', None)"
   ]
  },
  {
   "cell_type": "code",
   "execution_count": null,
   "metadata": {},
   "outputs": [],
   "source": [
    "path = norm(join(os.getcwd(), '../../validation/MFRTRT'))\n",
    "df_raw = pd.read_csv(join(path, 'MFRTRT_loads.csv'), index_col=[0], parse_dates=True)\n",
    "df_raw.head(1)"
   ]
  },
  {
   "cell_type": "code",
   "execution_count": null,
   "metadata": {},
   "outputs": [],
   "source": [
    "ks = 2.7\n",
    "H = 76.2\n",
    "rho_cp_s = 2500 * 850\n",
    "alpha = ks / rho_cp_s\n",
    "ts = H**2 / (9*alpha)\n",
    "R_b = 0.194"
   ]
  },
  {
   "cell_type": "code",
   "execution_count": null,
   "metadata": {},
   "outputs": [],
   "source": [
    "df = df_raw.copy(deep=True)"
   ]
  },
  {
   "cell_type": "code",
   "execution_count": null,
   "metadata": {},
   "outputs": [],
   "source": [
    "df['Mean HT [W]'] = df[['Inst. HT [1] [W]', 'Inst. HT [2] [W]']].mean(axis=1)\n",
    "df['Mean EWT [C]'] = df[['Inlet 1 [C]', 'Inlet 2 [C]']].mean(axis=1)\n",
    "df['EWT - Tg [C]'] = df['Mean EWT [C]'] - df['Mean EWT [C]'].iloc[0]\n",
    "df['q [W/m]'] = df['Mean HT [W]'] / H\n",
    "df['delta t'] = df.index.to_series().diff().dt.seconds.div(1, fill_value=0)\n",
    "df['d/dt (EWT - Tg) [C/s]'] = df['EWT - Tg [C]'] / df['delta t']\n",
    "df['t [s]'] = df['delta t'].cumsum()\n",
    "df['t/ts'] = df['t [s]'] / ts"
   ]
  },
  {
   "cell_type": "code",
   "execution_count": null,
   "metadata": {},
   "outputs": [],
   "source": [
    "# df = df.resample('1T').mean()"
   ]
  },
  {
   "cell_type": "code",
   "execution_count": null,
   "metadata": {},
   "outputs": [],
   "source": [
    "df[['EWT - Tg [C]', 'd/dt (EWT - Tg) [C/s]']].loc['2013-12-20 12:00:00' : '2013-12-20 12:30:00'].plot(marker='x')"
   ]
  },
  {
   "cell_type": "code",
   "execution_count": null,
   "metadata": {},
   "outputs": [],
   "source": [
    "df.dropna(inplace=True, subset=['d/dt (EWT - Tg) [C/s]'])"
   ]
  },
  {
   "cell_type": "code",
   "execution_count": null,
   "metadata": {},
   "outputs": [],
   "source": [
    "df['EWT - Tg [C]'].loc[df['d/dt (EWT - Tg) [C/s]'] < 0.025] = 0"
   ]
  },
  {
   "cell_type": "code",
   "execution_count": null,
   "metadata": {},
   "outputs": [],
   "source": [
    "df[['EWT - Tg [C]', 'd/dt (EWT - Tg) [C/s]']].loc['2013-12-20 12:00:00' : '2013-12-20 12:30:00'].plot(marker='x')"
   ]
  },
  {
   "cell_type": "code",
   "execution_count": null,
   "metadata": {},
   "outputs": [],
   "source": [
    "df[['q [W/m]']].loc['2013-12-20 12:00:00' : '2013-12-20 12:30:00'].plot()"
   ]
  },
  {
   "cell_type": "code",
   "execution_count": null,
   "metadata": {},
   "outputs": [],
   "source": [
    "df['g_b [-]'] = df['EWT - Tg [C]'] / (df['q [W/m]'] * R_b)"
   ]
  },
  {
   "cell_type": "code",
   "execution_count": null,
   "metadata": {},
   "outputs": [],
   "source": [
    "df.loc['2013-12-20 12:00:00' : '2013-12-22 12:00:00'].plot(x='t/ts', y='g_b [-]', logx=True)"
   ]
  },
  {
   "cell_type": "code",
   "execution_count": null,
   "metadata": {},
   "outputs": [],
   "source": [
    "plt.semilogx(np.logspace(-7.6, -3.8, num=75), np.ones([75,]), marker='x')"
   ]
  },
  {
   "cell_type": "code",
   "execution_count": null,
   "metadata": {},
   "outputs": [],
   "source": [
    "times = np.around(np.logspace(-7.6, -3.6, num=100) * ts)\n",
    "times"
   ]
  },
  {
   "cell_type": "code",
   "execution_count": null,
   "metadata": {},
   "outputs": [],
   "source": [
    "rolled = np.roll(times, shift=-1)\n",
    "rolled[-1] = 1.4e5\n",
    "rolled"
   ]
  },
  {
   "cell_type": "code",
   "execution_count": null,
   "metadata": {},
   "outputs": [],
   "source": [
    "def calc_g_vals(in_times):\n",
    "    ret_times = []\n",
    "    ret_g = []\n",
    "    for idx, low in enumerate(in_times):\n",
    "        high = rolled[idx]\n",
    "        val = df.loc[(df['t [s]'] > low) & (df['t [s]'] <= high)]['g_b [-]'].mean()\n",
    "        if not np.isnan(val):\n",
    "            ret_times.append(np.mean([low, high]))\n",
    "            ret_g.append(val)\n",
    "    return np.array(ret_times), np.array(ret_g)"
   ]
  },
  {
   "cell_type": "code",
   "execution_count": null,
   "metadata": {},
   "outputs": [],
   "source": [
    "t, g_b = calc_g_vals(times)"
   ]
  },
  {
   "cell_type": "code",
   "execution_count": null,
   "metadata": {},
   "outputs": [],
   "source": [
    "t_ts = t / ts"
   ]
  },
  {
   "cell_type": "code",
   "execution_count": null,
   "metadata": {},
   "outputs": [],
   "source": [
    "t_ts_raw = df.loc['2013-12-20 12:00:00' : '2013-12-22 12:00:00']['t/ts'].values.tolist()\n",
    "g_b_raw = df.loc['2013-12-20 12:00:00' : '2013-12-22 12:00:00']['g_b [-]'].values.tolist()\n",
    "plt.semilogx(t_ts_raw, g_b_raw, label='Raw')\n",
    "plt.semilogx(t_ts, g_b, marker='x', label='Sim Data')\n",
    "plt.xlabel('t/ts')\n",
    "plt.ylabel('g_b')\n",
    "plt.xlim(1e-8, 1e-3)\n",
    "plt.legend()\n",
    "plt.show()"
   ]
  },
  {
   "cell_type": "code",
   "execution_count": null,
   "metadata": {},
   "outputs": [],
   "source": [
    "out_data = np.array([np.log(t_ts), g_b])"
   ]
  },
  {
   "cell_type": "code",
   "execution_count": null,
   "metadata": {},
   "outputs": [],
   "source": [
    "np.savetxt('exp_ewt_g_functions.csv', np.transpose(out_data), delimiter=',')"
   ]
  }
 ],
 "metadata": {
  "kernelspec": {
   "display_name": "Python 3",
   "language": "python",
   "name": "python3"
  },
  "language_info": {
   "codemirror_mode": {
    "name": "ipython",
    "version": 3
   },
   "file_extension": ".py",
   "mimetype": "text/x-python",
   "name": "python",
   "nbconvert_exporter": "python",
   "pygments_lexer": "ipython3",
   "version": "3.7.3"
  }
 },
 "nbformat": 4,
 "nbformat_minor": 2
}
