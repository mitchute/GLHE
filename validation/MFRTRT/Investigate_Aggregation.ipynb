{
 "cells": [
  {
   "cell_type": "code",
   "execution_count": null,
   "metadata": {},
   "outputs": [],
   "source": [
    "import io\n",
    "import os\n",
    "import sys\n",
    "import json\n",
    "import tempfile\n",
    "import pandas as pd\n",
    "import numpy as np\n",
    "\n",
    "from scipy.interpolate import interp1d\n",
    "\n",
    "import matplotlib.pyplot as plt\n",
    "%matplotlib inline\n",
    "\n",
    "from CoolProp.CoolProp import PropsSI\n",
    "\n",
    "# shortcuts\n",
    "cwd = os.getcwd()\n",
    "join = os.path.join\n",
    "norm = os.path.normpath"
   ]
  },
  {
   "cell_type": "code",
   "execution_count": null,
   "metadata": {},
   "outputs": [],
   "source": [
    "plt.style.use('ggplot')\n",
    "plt.rcParams['figure.figsize'] = [15, 9]\n",
    "plt.rcParams['font.size'] = 14\n",
    "\n",
    "pd.set_option('display.max_columns', None)\n",
    "# pd.set_option('display.max_rows', None)"
   ]
  },
  {
   "cell_type": "code",
   "execution_count": null,
   "metadata": {},
   "outputs": [],
   "source": [
    "def add_delimiters(fpath, delimiter=','):\n",
    "    \n",
    "    s_data = ''\n",
    "    max_num_delimiters = 0\n",
    "    \n",
    "    with open(fpath, 'r') as f:\n",
    "        for line in f:\n",
    "            s_data += line\n",
    "            delimiter_count = line.count(delimiter)\n",
    "            if delimiter_count > max_num_delimiters:\n",
    "                max_num_delimiters = delimiter_count\n",
    "    \n",
    "    s_delimiters = delimiter * max_num_delimiters + '\\n'\n",
    "    \n",
    "    return io.StringIO(s_delimiters + s_data)"
   ]
  },
  {
   "cell_type": "code",
   "execution_count": null,
   "metadata": {},
   "outputs": [],
   "source": [
    "def load_data(d_files, drop_col=False):\n",
    "    dfs = []\n",
    "    \n",
    "    for key, file in sorted(d_files.items()):\n",
    "        \n",
    "        d = pd.read_csv(add_delimiters(file), index_col=0)\n",
    "        \n",
    "        if drop_col:\n",
    "            d.drop(labels='Unnamed: 1', axis=1, inplace=True)\n",
    "            \n",
    "        d.index.name = 'time stamp'\n",
    "            \n",
    "        d['data'] = key\n",
    "        dfs.append(d)\n",
    "        \n",
    "    return pd.concat(dfs).reset_index().set_index(['time stamp', 'data'])"
   ]
  },
  {
   "cell_type": "code",
   "execution_count": null,
   "metadata": {},
   "outputs": [],
   "source": [
    "f_dyna = {'Load': 'loads_dynamic.csv',\n",
    "          'g-val': 'g_dynamic.csv',\n",
    "          'Width': 'widths_dynamic.csv'}\n",
    "\n",
    "df_dynamic = load_data(f_dyna, True)\n",
    "df_dynamic.head()"
   ]
  },
  {
   "cell_type": "code",
   "execution_count": null,
   "metadata": {},
   "outputs": [],
   "source": [
    "f_stat = {'Load': 'loads_static.csv',\n",
    "          'g-val': 'g_static.csv',\n",
    "          'Width': 'widths_static.csv'}\n",
    "\n",
    "df_static = load_data(f_stat)\n",
    "df_static.head()"
   ]
  },
  {
   "cell_type": "code",
   "execution_count": null,
   "metadata": {
    "scrolled": true
   },
   "outputs": [],
   "source": [
    "f_none = {'Load': 'loads_none.csv',\n",
    "          'g-val': 'g_none.csv',\n",
    "          'Width': 'widths_none.csv'}\n",
    "\n",
    "df_none = load_data(f_none)\n",
    "df_none.head()"
   ]
  },
  {
   "cell_type": "code",
   "execution_count": null,
   "metadata": {},
   "outputs": [],
   "source": [
    "df_none.loc[240, 'Load'][0]"
   ]
  },
  {
   "cell_type": "code",
   "execution_count": null,
   "metadata": {
    "scrolled": true
   },
   "outputs": [],
   "source": [
    "list(df_none.loc[240, 'Load'].dropna())"
   ]
  },
  {
   "cell_type": "code",
   "execution_count": null,
   "metadata": {},
   "outputs": [],
   "source": [
    "list(df_none.loc[240, 'Width'].dropna())"
   ]
  },
  {
   "cell_type": "code",
   "execution_count": null,
   "metadata": {},
   "outputs": [],
   "source": [
    "list(df_none.loc[240, 'g-val'].dropna())"
   ]
  },
  {
   "cell_type": "code",
   "execution_count": null,
   "metadata": {},
   "outputs": [],
   "source": [
    "c_0 = 1 / (2 * np.pi * 2.7)"
   ]
  },
  {
   "cell_type": "code",
   "execution_count": null,
   "metadata": {},
   "outputs": [],
   "source": [
    "def calc_history_temp_rise(df, timestep):\n",
    "\n",
    "    temp_rise_sum = 0\n",
    "\n",
    "    def get_load(energy, width):\n",
    "        return energy / width\n",
    "    \n",
    "    def calc_temp_rise(energy_i, \n",
    "                       energy_i_minus_1, \n",
    "                       width_i,\n",
    "                       width_i_minus_1,\n",
    "                       g):\n",
    "        load_i = get_load(energy_i, width_i)\n",
    "        load_i_minus_1 = get_load(energy_i_minus_1, width_i_minus_1)\n",
    "        return (load_i - load_i_minus_1) * g * c_0\n",
    "\n",
    "    num = df.loc[timestep, 'Load'].count()\n",
    "    \n",
    "    loads = list(df.loc[timestep, 'Load'].dropna())\n",
    "    widths = list(df.loc[timestep, 'Width'].dropna())\n",
    "    gs = list(df.loc[timestep, 'g-val'].dropna())\n",
    "    \n",
    "    for i in range(num - 1):\n",
    "        energy_i = loads[i]\n",
    "        energy_i_minus_1 = loads[i + 1]\n",
    "        width_i = widths[i]\n",
    "        width_i_minus_1 = widths[i + 1]\n",
    "        g = gs[i + 1]\n",
    "        \n",
    "        temp_rise_sum += calc_temp_rise(energy_i,\n",
    "                                        energy_i_minus_1,\n",
    "                                        width_i,\n",
    "                                        width_i_minus_1,\n",
    "                                        g)\n",
    "\n",
    "    energy = loads[-1]\n",
    "    width = widths[-1]\n",
    "    g = gs[-1]\n",
    "    \n",
    "    temp_rise_sum += get_load(energy, width) * g * c_0\n",
    "    \n",
    "    return temp_rise_sum"
   ]
  },
  {
   "cell_type": "code",
   "execution_count": null,
   "metadata": {},
   "outputs": [],
   "source": [
    "calc_history_temp_rise(df_none, 120)"
   ]
  },
  {
   "cell_type": "code",
   "execution_count": null,
   "metadata": {},
   "outputs": [],
   "source": [
    "t_g = 16.1\n",
    "r_b = 0.1621\n",
    "depth = 76.2\n",
    "soil_diffusivity = 2.7 / (2500 * 880)"
   ]
  },
  {
   "cell_type": "code",
   "execution_count": null,
   "metadata": {},
   "outputs": [],
   "source": [
    "def calc_MFT(df, timestep):\n",
    "    energy = df.loc[timestep, 'Load'][0]\n",
    "    width = df.loc[timestep, 'Width'][0]\n",
    "    \n",
    "    load = energy / width\n",
    "    \n",
    "    arr = [t_g,  calc_history_temp_rise(df, timestep), load * r_b]\n",
    "    arr.append(sum(arr))\n",
    "    return arr"
   ]
  },
  {
   "cell_type": "code",
   "execution_count": null,
   "metadata": {},
   "outputs": [],
   "source": [
    "calc_MFT(df_none, 120)"
   ]
  },
  {
   "cell_type": "code",
   "execution_count": null,
   "metadata": {},
   "outputs": [],
   "source": [
    "timestamps = list(df_none.index.levels[0])"
   ]
  },
  {
   "cell_type": "code",
   "execution_count": null,
   "metadata": {},
   "outputs": [],
   "source": [
    "def calc_all_MFT(df):\n",
    "    lst = []\n",
    "    for time in timestamps:\n",
    "        lst.append(calc_MFT(df, time))\n",
    "        \n",
    "    return lst"
   ]
  },
  {
   "cell_type": "code",
   "execution_count": null,
   "metadata": {},
   "outputs": [],
   "source": [
    "df_d = pd.DataFrame(data=calc_all_MFT(df_dynamic), index=timestamps, columns=['Tg', 'Temp Hist', 'Load Rb', 'MFT'])\n",
    "df_s = pd.DataFrame(data=calc_all_MFT(df_static), index=timestamps, columns=['Tg', 'Temp Hist', 'Load Rb', 'MFT'])\n",
    "df_n = pd.DataFrame(data=calc_all_MFT(df_none), index=timestamps, columns=['Tg', 'Temp Hist', 'Load Rb', 'MFT'])"
   ]
  },
  {
   "cell_type": "code",
   "execution_count": null,
   "metadata": {},
   "outputs": [],
   "source": [
    "df_exp_raw = pd.read_csv('MFRTRT_loads.csv', parse_dates=True, index_col='Date/Time')\n",
    "df_exp_raw = df_exp_raw.resample('2T').mean()"
   ]
  },
  {
   "cell_type": "code",
   "execution_count": null,
   "metadata": {},
   "outputs": [],
   "source": [
    "df_exp = df_exp_raw.interpolate(method='linear')\n",
    "df_exp['Run Time'] = df_exp.index.to_series().diff().dt.total_seconds().cumsum()\n",
    "df_exp['Run Time'].iloc[0] = 0\n",
    "df_exp['Run Time'] += 120\n",
    "df_exp.set_index('Run Time', drop=True, inplace=True)\n",
    "df_exp['MFT'] = df_exp[['Inlet 1 [C]', 'Outlet 1 [C]']].mean(axis=1)\n",
    "df_exp.head(2)"
   ]
  },
  {
   "cell_type": "code",
   "execution_count": null,
   "metadata": {},
   "outputs": [],
   "source": [
    "start_pt = 0\n",
    "end_pt = 6000\n",
    "\n",
    "fig = plt.figure()\n",
    "ax = fig.add_subplot(1, 1, 1)\n",
    "\n",
    "ax.plot(df_s.loc[start_pt:end_pt]['MFT'], label='Static')\n",
    "ax.plot(df_d.loc[start_pt:end_pt]['MFT'], label='Dynamic')\n",
    "ax.plot(df_n.loc[start_pt:end_pt]['MFT'], label='None')\n",
    "ax.plot(df_exp.loc[start_pt:end_pt]['MFT'], label='Exp', marker='x')\n",
    "\n",
    "ax.set_ylim(16, 26)\n",
    "\n",
    "plt.legend()\n",
    "plt.show()"
   ]
  },
  {
   "cell_type": "code",
   "execution_count": null,
   "metadata": {},
   "outputs": [],
   "source": [
    "fig = plt.figure()\n",
    "ax = fig.add_subplot(1, 1, 1)\n",
    "\n",
    "ax.plot(df_s.loc[start_pt:end_pt]['Temp Hist'], label='Static')\n",
    "ax.plot(df_d.loc[start_pt:end_pt]['Temp Hist'], label='Dynamic')\n",
    "ax.plot(df_n.loc[start_pt:end_pt]['Temp Hist'], label='None', linestyle='--')\n",
    "\n",
    "plt.legend()\n",
    "plt.show()"
   ]
  },
  {
   "cell_type": "code",
   "execution_count": null,
   "metadata": {},
   "outputs": [],
   "source": [
    "fig = plt.figure()\n",
    "ax = fig.add_subplot(1, 1, 1)\n",
    "\n",
    "ax.plot(df_s.loc[start_pt:end_pt]['Load Rb'], label='Static')\n",
    "ax.plot(df_d.loc[start_pt:end_pt]['Load Rb'], label='Dynamic')\n",
    "ax.plot(df_n.loc[start_pt:end_pt]['Load Rb'], label='None', linestyle='--')\n",
    "\n",
    "plt.legend()\n",
    "plt.show()"
   ]
  },
  {
   "cell_type": "code",
   "execution_count": null,
   "metadata": {},
   "outputs": [],
   "source": [
    "g_data = np.loadtxt('MFRTRT_g_functions.csv', delimiter=',')\n",
    "g_func = interp1d(g_data[:,0], g_data[:,1])"
   ]
  },
  {
   "cell_type": "code",
   "execution_count": null,
   "metadata": {},
   "outputs": [],
   "source": [
    "def get_g_val(timestep):\n",
    "    ts = depth ** 2 / (9 * soil_diffusivity)\n",
    "    lntts = np.log(timestep / ts)\n",
    "    return g_func(lntts)"
   ]
  },
  {
   "cell_type": "code",
   "execution_count": null,
   "metadata": {},
   "outputs": [],
   "source": [
    "get_g_val(3000)"
   ]
  },
  {
   "cell_type": "code",
   "execution_count": null,
   "metadata": {},
   "outputs": [],
   "source": []
  }
 ],
 "metadata": {
  "kernelspec": {
   "display_name": "Python 3",
   "language": "python",
   "name": "python3"
  },
  "language_info": {
   "codemirror_mode": {
    "name": "ipython",
    "version": 3
   },
   "file_extension": ".py",
   "mimetype": "text/x-python",
   "name": "python",
   "nbconvert_exporter": "python",
   "pygments_lexer": "ipython3",
   "version": "3.6.6"
  }
 },
 "nbformat": 4,
 "nbformat_minor": 2
}
