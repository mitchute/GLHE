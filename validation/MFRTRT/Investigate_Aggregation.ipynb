{
 "cells": [
  {
   "cell_type": "code",
   "execution_count": null,
   "metadata": {},
   "outputs": [],
   "source": [
    "import os\n",
    "import sys\n",
    "import json\n",
    "import tempfile\n",
    "import pandas as pd\n",
    "import numpy as np\n",
    "\n",
    "import io\n",
    "\n",
    "from CoolProp.CoolProp import PropsSI\n",
    "\n",
    "# shortcuts\n",
    "cwd = os.getcwd()\n",
    "join = os.path.join\n",
    "norm = os.path.normpath"
   ]
  },
  {
   "cell_type": "code",
   "execution_count": null,
   "metadata": {},
   "outputs": [],
   "source": [
    "import matplotlib.pyplot as plt\n",
    "%matplotlib inline\n",
    "\n",
    "plt.style.use('ggplot')\n",
    "plt.rcParams['figure.figsize'] = [15, 9]\n",
    "plt.rcParams['font.size'] = 14\n",
    "\n",
    "pd.set_option('display.max_columns', None)\n",
    "# pd.set_option('display.max_rows', None)"
   ]
  },
  {
   "cell_type": "code",
   "execution_count": null,
   "metadata": {},
   "outputs": [],
   "source": [
    "def add_delimiters(fpath, delimiter=','):\n",
    "    \n",
    "    s_data = ''\n",
    "    max_num_delimiters = 0\n",
    "    \n",
    "    with open(fpath, 'r') as f:\n",
    "        for line in f:\n",
    "            s_data += line\n",
    "            delimiter_count = line.count(delimiter)\n",
    "            if delimiter_count > max_num_delimiters:\n",
    "                max_num_delimiters = delimiter_count\n",
    "    \n",
    "    s_delimiters = delimiter * max_num_delimiters + '\\n'\n",
    "    \n",
    "    return io.StringIO(s_delimiters + s_data)"
   ]
  },
  {
   "cell_type": "code",
   "execution_count": null,
   "metadata": {},
   "outputs": [],
   "source": [
    "def load_data(d_files, add_delimiters_to_header=False):\n",
    "    dfs = []\n",
    "    \n",
    "    for key, file in sorted(d_files.items()):\n",
    "        \n",
    "        if add_delimiters_to_header:\n",
    "            d = pd.read_csv(add_delimiters(file), index_col=0)\n",
    "        else:\n",
    "            d = pd.read_csv(file, index_col=0, header=None)\n",
    "            d.drop(labels=[1], axis=1, inplace=True)\n",
    "            \n",
    "        d.index.name = 'time stamp'\n",
    "        \n",
    "        d.head()\n",
    "            \n",
    "        d['data'] = key\n",
    "        dfs.append(d)\n",
    "        \n",
    "    return pd.concat(dfs).reset_index().set_index(['time stamp', 'data'])"
   ]
  },
  {
   "cell_type": "code",
   "execution_count": null,
   "metadata": {},
   "outputs": [],
   "source": [
    "f_dyna = {'Load': 'loads_dynamic.csv',\n",
    "          'g-val': 'g_dynamic.csv',\n",
    "          'Width': 'widths_dynamic.csv'}\n",
    "\n",
    "df_dynamic = load_data(f_dyna)\n",
    "df_dynamic.head()\n"
   ]
  },
  {
   "cell_type": "code",
   "execution_count": null,
   "metadata": {},
   "outputs": [],
   "source": [
    "f_stat = {'Load': 'loads_static.csv',\n",
    "          'g-val': 'g_static.csv',\n",
    "          'Width': 'widths_static.csv'}\n",
    "\n",
    "df_static = load_data(f_stat, True)\n",
    "df_static.head()"
   ]
  },
  {
   "cell_type": "code",
   "execution_count": null,
   "metadata": {
    "scrolled": true
   },
   "outputs": [],
   "source": [
    "f_none = {'Load': 'loads_none.csv',\n",
    "          'g-val': 'g_none.csv',\n",
    "          'Width': 'widths_none.csv'}\n",
    "\n",
    "df_none = load_data(f_none, True)\n",
    "df_none.head()"
   ]
  },
  {
   "cell_type": "code",
   "execution_count": null,
   "metadata": {},
   "outputs": [],
   "source": [
    "df_none.loc[240, 'Load'][0]"
   ]
  },
  {
   "cell_type": "code",
   "execution_count": null,
   "metadata": {
    "scrolled": true
   },
   "outputs": [],
   "source": [
    "list(df_none.loc[240, 'Load'].dropna())"
   ]
  },
  {
   "cell_type": "code",
   "execution_count": null,
   "metadata": {},
   "outputs": [],
   "source": [
    "list(df_none.loc[240, 'Width'].dropna())"
   ]
  },
  {
   "cell_type": "code",
   "execution_count": null,
   "metadata": {},
   "outputs": [],
   "source": [
    "list(df_none.loc[240, 'g-val'].dropna())"
   ]
  },
  {
   "cell_type": "code",
   "execution_count": null,
   "metadata": {},
   "outputs": [],
   "source": [
    "c_0 = 1 / (2 * np.pi * 2.7)"
   ]
  },
  {
   "cell_type": "code",
   "execution_count": null,
   "metadata": {},
   "outputs": [],
   "source": [
    "def calc_history_temp_rise(df, timestep):\n",
    "\n",
    "    temp_rise_sum = 0\n",
    "\n",
    "    def get_load(energy, width):\n",
    "        return energy / width\n",
    "    \n",
    "    def calc_temp_rise(energy_i, \n",
    "                       energy_i_minus_1, \n",
    "                       width_i,\n",
    "                       width_i_minus_1,\n",
    "                       g):\n",
    "        load_i = get_load(energy_i, width_i)\n",
    "        load_i_minus_1 = get_load(energy_i_minus_1, width_i_minus_1)\n",
    "        return (load_i - load_i_minus_1) * g * c_0\n",
    "\n",
    "    num = df.loc[timestep, 'Load'].count()\n",
    "    \n",
    "    loads = list(df.loc[timestep, 'Load'].dropna())\n",
    "    widths = list(df.loc[timestep, 'Width'].dropna())\n",
    "    gs = list(df.loc[timestep, 'g-val'].dropna())\n",
    "    \n",
    "    for i in range(num - 1):\n",
    "        energy_i = loads[i]\n",
    "        energy_i_minus_1 = loads[i + 1]\n",
    "        width_i = widths[i]\n",
    "        width_i_minus_1 = widths[i + 1]\n",
    "        g = gs[i + 1]\n",
    "        \n",
    "        temp_rise_sum += calc_temp_rise(energy_i,\n",
    "                                        energy_i_minus_1,\n",
    "                                        width_i,\n",
    "                                        width_i_minus_1,\n",
    "                                        g)\n",
    "\n",
    "    energy = loads[-1]\n",
    "    width = widths[-1]\n",
    "    g = gs[-1]\n",
    "    \n",
    "    temp_rise_sum += get_load(energy, width) * g * c_0\n",
    "    \n",
    "    return temp_rise_sum"
   ]
  },
  {
   "cell_type": "code",
   "execution_count": null,
   "metadata": {},
   "outputs": [],
   "source": [
    "calc_history_temp_rise(df_none, 120)"
   ]
  },
  {
   "cell_type": "code",
   "execution_count": null,
   "metadata": {},
   "outputs": [],
   "source": [
    "t_g = 16.1\n",
    "r_b = 0.1621"
   ]
  },
  {
   "cell_type": "code",
   "execution_count": null,
   "metadata": {},
   "outputs": [],
   "source": [
    "def calc_MFT(df, timestep):\n",
    "    energy = df.loc[timestep, 'Load'][0]\n",
    "    width = df.loc[timestep, 'Width'][0]\n",
    "    \n",
    "    load = energy / width\n",
    "    \n",
    "    return t_g + calc_history_temp_rise(df, 120)"
   ]
  }
 ],
 "metadata": {
  "kernelspec": {
   "display_name": "Python 3",
   "language": "python",
   "name": "python3"
  },
  "language_info": {
   "codemirror_mode": {
    "name": "ipython",
    "version": 3
   },
   "file_extension": ".py",
   "mimetype": "text/x-python",
   "name": "python",
   "nbconvert_exporter": "python",
   "pygments_lexer": "ipython3",
   "version": "3.6.6"
  }
 },
 "nbformat": 4,
 "nbformat_minor": 2
}
