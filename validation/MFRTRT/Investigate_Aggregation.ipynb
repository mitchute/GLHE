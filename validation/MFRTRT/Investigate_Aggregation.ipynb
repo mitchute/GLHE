{
 "cells": [
  {
   "cell_type": "code",
   "execution_count": null,
   "metadata": {},
   "outputs": [],
   "source": [
    "import io\n",
    "import os\n",
    "import sys\n",
    "import json\n",
    "import tempfile\n",
    "import pandas as pd\n",
    "import numpy as np\n",
    "\n",
    "from scipy.interpolate import interp1d\n",
    "\n",
    "import matplotlib.pyplot as plt\n",
    "%matplotlib inline\n",
    "\n",
    "from CoolProp.CoolProp import PropsSI\n",
    "\n",
    "# shortcuts\n",
    "cwd = os.getcwd()\n",
    "join = os.path.join\n",
    "norm = os.path.normpath"
   ]
  },
  {
   "cell_type": "code",
   "execution_count": null,
   "metadata": {},
   "outputs": [],
   "source": [
    "plt.style.use('ggplot')\n",
    "plt.rcParams['figure.figsize'] = [15, 9]\n",
    "plt.rcParams['font.size'] = 14\n",
    "\n",
    "pd.set_option('display.max_columns', None)\n",
    "# pd.set_option('display.max_rows', None)"
   ]
  },
  {
   "cell_type": "code",
   "execution_count": null,
   "metadata": {},
   "outputs": [],
   "source": [
    "def add_delimiters(fpath, delimiter=','):\n",
    "    \n",
    "    s_data = ''\n",
    "    max_num_delimiters = 0\n",
    "    \n",
    "    with open(fpath, 'r') as f:\n",
    "        for line in f:\n",
    "            s_data += line\n",
    "            delimiter_count = line.count(delimiter)\n",
    "            if delimiter_count > max_num_delimiters:\n",
    "                max_num_delimiters = delimiter_count\n",
    "    \n",
    "    s_delimiters = delimiter * max_num_delimiters + '\\n'\n",
    "    \n",
    "    return io.StringIO(s_delimiters + s_data)"
   ]
  },
  {
   "cell_type": "code",
   "execution_count": null,
   "metadata": {},
   "outputs": [],
   "source": [
    "def load_data(d_files, drop_col=False):\n",
    "    dfs = []\n",
    "    \n",
    "    for key, file in sorted(d_files.items()):\n",
    "        \n",
    "        d = pd.read_csv(add_delimiters(file), index_col=0)\n",
    "                \n",
    "        if drop_col:\n",
    "            d.drop(labels='Unnamed: 1', axis=1, inplace=True)\n",
    "            \n",
    "        d.index.name = 'time stamp'\n",
    "            \n",
    "        d['data'] = key\n",
    "        dfs.append(d)\n",
    "    return pd.concat(dfs).reset_index().set_index(['time stamp', 'data'])"
   ]
  },
  {
   "cell_type": "code",
   "execution_count": null,
   "metadata": {},
   "outputs": [],
   "source": [
    "f_dyna = {'Load': 'loads_dynamic.csv',\n",
    "          'g-val': 'g_dynamic.csv',\n",
    "          'Width': 'widths_dynamic.csv',\n",
    "          'Resist': 'widths_dynamic.csv'}\n",
    "\n",
    "df_dynamic = load_data(f_dyna)\n",
    "rb = pd.read_csv('resist_dynamic.csv', index_col=0, header=None)\n",
    "\n",
    "for i in df_dynamic.index.levels[0]:\n",
    "    df_dynamic.loc[i, 'Resist'] = np.nan\n",
    "    df_dynamic.loc[i, 'Resist'][0] = rb.loc[i]\n",
    "    \n",
    "df_dynamic.loc[120]"
   ]
  },
  {
   "cell_type": "code",
   "execution_count": null,
   "metadata": {},
   "outputs": [],
   "source": [
    "f_stat = {'Load': 'loads_static.csv',\n",
    "          'g-val': 'g_static.csv',\n",
    "          'Width': 'widths_static.csv',\n",
    "          'Resist': 'widths_static.csv'}\n",
    "\n",
    "df_static = load_data(f_stat)\n",
    "\n",
    "rb = pd.read_csv('resist_static.csv', index_col=0, header=None)\n",
    "\n",
    "for i in df_static.index.levels[0]:\n",
    "    df_static.loc[i, 'Resist'] = np.nan\n",
    "    df_static.loc[i, 'Resist'][0] = rb.loc[i]\n",
    "    \n",
    "df_static.loc[240]"
   ]
  },
  {
   "cell_type": "code",
   "execution_count": null,
   "metadata": {
    "scrolled": false
   },
   "outputs": [],
   "source": [
    "f_none = {'Load': 'loads_none.csv',\n",
    "          'g-val': 'g_none.csv',\n",
    "          'Width': 'widths_none.csv',\n",
    "          'Resist': 'widths_none.csv'}\n",
    "\n",
    "df_none = load_data(f_none)\n",
    "\n",
    "rb = pd.read_csv('resist_none.csv', index_col=0, header=None)\n",
    "\n",
    "for i in df_none.index.levels[0]:\n",
    "    df_none.loc[i, 'Resist'] = np.nan\n",
    "    df_none.loc[i, 'Resist'][0] = rb.loc[i]\n",
    "    \n",
    "df_none.loc[240]"
   ]
  },
  {
   "cell_type": "code",
   "execution_count": null,
   "metadata": {},
   "outputs": [],
   "source": [
    "t_g = 16.1\n",
    "depth = 76.2\n",
    "soil_cond = 2.7\n",
    "soil_dens = 2500\n",
    "soil_cp = 880\n",
    "c_0 = 1 / (2 * np.pi * soil_cond)\n",
    "soil_diffusivity = soil_cond / (soil_dens * soil_cp)\n",
    "ts = depth ** 2 / (9 * soil_diffusivity)"
   ]
  },
  {
   "cell_type": "code",
   "execution_count": null,
   "metadata": {},
   "outputs": [],
   "source": [
    "def calc_history_temp_rise(df, timestep):\n",
    "\n",
    "    temp_rise_sum = 0\n",
    "\n",
    "    def get_load(energy, width):\n",
    "        return energy / width\n",
    "    \n",
    "    def calc_temp_rise(energy_i, \n",
    "                       energy_i_minus_1, \n",
    "                       width_i,\n",
    "                       width_i_minus_1,\n",
    "                       g):\n",
    "        load_i = get_load(energy_i, width_i)\n",
    "        load_i_minus_1 = get_load(energy_i_minus_1, width_i_minus_1)\n",
    "        return (load_i - load_i_minus_1) * g * c_0\n",
    "\n",
    "    num = df.loc[timestep, 'Load'].count()\n",
    "    \n",
    "    loads = list(df.loc[timestep, 'Load'].dropna())\n",
    "    widths = list(df.loc[timestep, 'Width'].dropna())\n",
    "#     times = list(df.loc[timestep, 'Width'].dropna().cumsum())\n",
    "    \n",
    "#     def get_g_wrapped(x):\n",
    "#         r_b = df.loc[timestep, 'Resist'][0]\n",
    "#         return get_g_val(x, r_b)\n",
    "    \n",
    "#     gs = list(map(get_g_wrapped, times))\n",
    "    gs = list(df.loc[timestep, 'g-val'].dropna())\n",
    "       \n",
    "    for i in range(num - 1):\n",
    "        energy_i = loads[i]\n",
    "        energy_i_minus_1 = loads[i + 1]\n",
    "        width_i = widths[i]\n",
    "        width_i_minus_1 = widths[i + 1]\n",
    "        g = gs[i + 1]\n",
    "        \n",
    "        temp_rise_sum += calc_temp_rise(energy_i,\n",
    "                                        energy_i_minus_1,\n",
    "                                        width_i,\n",
    "                                        width_i_minus_1,\n",
    "                                        g)\n",
    "\n",
    "    energy = loads[-1]\n",
    "    width = widths[-1]\n",
    "    g = gs[-1]\n",
    "    \n",
    "    temp_rise_sum += get_load(energy, width) * g * c_0\n",
    "    \n",
    "    return temp_rise_sum"
   ]
  },
  {
   "cell_type": "code",
   "execution_count": null,
   "metadata": {},
   "outputs": [],
   "source": [
    "calc_history_temp_rise(df_none, 120)"
   ]
  },
  {
   "cell_type": "code",
   "execution_count": null,
   "metadata": {},
   "outputs": [],
   "source": [
    "def calc_MFT(df, timestep):\n",
    "    energy = df.loc[timestep, 'Load'][0]\n",
    "    width = df.loc[timestep, 'Width'][0]\n",
    "    r_b = df.loc[timestep, 'Resist'][0]\n",
    "    load = energy / width\n",
    "    \n",
    "    arr = [t_g,  calc_history_temp_rise(df, timestep), load * r_b]\n",
    "    arr.append(sum(arr))\n",
    "    return arr"
   ]
  },
  {
   "cell_type": "code",
   "execution_count": null,
   "metadata": {},
   "outputs": [],
   "source": [
    "calc_MFT(df_none, 120)"
   ]
  },
  {
   "cell_type": "code",
   "execution_count": null,
   "metadata": {},
   "outputs": [],
   "source": [
    "timestamps = list(df_none.index.levels[0])\n",
    "# timestamps"
   ]
  },
  {
   "cell_type": "code",
   "execution_count": null,
   "metadata": {},
   "outputs": [],
   "source": [
    "def calc_all_MFT(df):\n",
    "    lst = []\n",
    "    for time in timestamps:\n",
    "        lst.append(calc_MFT(df, time))\n",
    "        \n",
    "    return lst"
   ]
  },
  {
   "cell_type": "code",
   "execution_count": null,
   "metadata": {},
   "outputs": [],
   "source": [
    "df_d = pd.DataFrame(data=calc_all_MFT(df_dynamic), index=timestamps, columns=['Tg', 'Temp Hist', 'Load Rb', 'MFT'])"
   ]
  },
  {
   "cell_type": "code",
   "execution_count": null,
   "metadata": {},
   "outputs": [],
   "source": [
    "df_s = pd.DataFrame(data=calc_all_MFT(df_static), index=timestamps, columns=['Tg', 'Temp Hist', 'Load Rb', 'MFT'])"
   ]
  },
  {
   "cell_type": "code",
   "execution_count": null,
   "metadata": {},
   "outputs": [],
   "source": [
    "df_n = pd.DataFrame(data=calc_all_MFT(df_none), index=timestamps, columns=['Tg', 'Temp Hist', 'Load Rb', 'MFT'])"
   ]
  },
  {
   "cell_type": "code",
   "execution_count": null,
   "metadata": {},
   "outputs": [],
   "source": [
    "df_exp_raw = pd.read_csv('MFRTRT_loads.csv', parse_dates=True, index_col='Date/Time')\n",
    "df_exp_raw = df_exp_raw.resample('2T').mean()"
   ]
  },
  {
   "cell_type": "code",
   "execution_count": null,
   "metadata": {},
   "outputs": [],
   "source": [
    "df_exp = df_exp_raw.interpolate(method='linear')\n",
    "df_exp['Run Time'] = df_exp.index.to_series().diff().dt.total_seconds().cumsum()\n",
    "df_exp['Run Time'].iloc[0] = 0\n",
    "df_exp['Run Time'] += 120\n",
    "df_exp.set_index('Run Time', drop=True, inplace=True)\n",
    "df_exp['MFT'] = df_exp[['Inlet 1 [C]', 'Outlet 1 [C]']].mean(axis=1)\n",
    "df_exp.head(2)"
   ]
  },
  {
   "cell_type": "code",
   "execution_count": null,
   "metadata": {},
   "outputs": [],
   "source": [
    "start_pt = 0\n",
    "end_pt = 8000\n",
    "\n",
    "fig = plt.figure()\n",
    "ax = fig.add_subplot(1, 1, 1)\n",
    "\n",
    "ax.plot(df_s.loc[start_pt:end_pt]['MFT'], label='Static', linestyle='--')\n",
    "ax.plot(df_d.loc[start_pt:end_pt]['MFT'], label='Dynamic', linestyle='-.')\n",
    "ax.plot(df_n.loc[start_pt:end_pt]['MFT'], label='None')\n",
    "ax.plot(df_exp.loc[start_pt:end_pt]['MFT'], label='Exp', marker='x')\n",
    "\n",
    "# ax.set_ylim(16, 26)\n",
    "\n",
    "plt.legend()\n",
    "plt.show()"
   ]
  },
  {
   "cell_type": "code",
   "execution_count": null,
   "metadata": {},
   "outputs": [],
   "source": [
    "fig = plt.figure()\n",
    "ax = fig.add_subplot(1, 1, 1)\n",
    "\n",
    "ax.plot(df_s.loc[start_pt:end_pt]['Temp Hist'], label='Static')\n",
    "ax.plot(df_d.loc[start_pt:end_pt]['Temp Hist'], label='Dynamic')\n",
    "ax.plot(df_n.loc[start_pt:end_pt]['Temp Hist'], label='None', linestyle='--')\n",
    "\n",
    "plt.legend()\n",
    "plt.show()"
   ]
  },
  {
   "cell_type": "code",
   "execution_count": null,
   "metadata": {},
   "outputs": [],
   "source": [
    "fig = plt.figure()\n",
    "ax = fig.add_subplot(1, 1, 1)\n",
    "\n",
    "ax.plot(df_s.loc[start_pt:end_pt]['Load Rb'], label='Static')\n",
    "ax.plot(df_d.loc[start_pt:end_pt]['Load Rb'], label='Dynamic')\n",
    "ax.plot(df_n.loc[start_pt:end_pt]['Load Rb'], label='None', linestyle='--')\n",
    "\n",
    "plt.legend()\n",
    "plt.show()"
   ]
  },
  {
   "cell_type": "code",
   "execution_count": null,
   "metadata": {},
   "outputs": [],
   "source": [
    "g_data = np.loadtxt('MFRTRT_g_functions.csv', delimiter=',')\n",
    "g_func = interp1d(g_data[:,0], g_data[:,1], fill_value='extrapolate')"
   ]
  },
  {
   "cell_type": "code",
   "execution_count": null,
   "metadata": {},
   "outputs": [],
   "source": [
    "def get_g_val(t, r_b):\n",
    "    \n",
    "    lntts = np.log(t/ts)\n",
    "    \n",
    "    g = float(g_func(lntts))\n",
    "    \n",
    "    if (g / (2 * np.pi * soil_cond) + r_b) < 0:\n",
    "        return -r_b * 2 * np.pi * soil_cond\n",
    "    else:\n",
    "        return g"
   ]
  },
  {
   "cell_type": "code",
   "execution_count": null,
   "metadata": {},
   "outputs": [],
   "source": [
    "def plot_g_values(df, timestep):\n",
    "    \n",
    "    if df == 'none':\n",
    "        df = df_none\n",
    "    elif df == 'static':\n",
    "        df = df_static\n",
    "    elif df == 'dynamic':\n",
    "        df = df_dynamic\n",
    "    \n",
    "    sim = df.loc[timestep, 'g-val'].values\n",
    "    widths = df.loc[timestep, 'Width']\n",
    "    times = widths.cumsum()    \n",
    "\n",
    "    def get_g_wrapped(x):\n",
    "        r_b = df.loc[timestep, 'Resist'][0]\n",
    "        return get_g_val(x, r_b)\n",
    "    \n",
    "    act = list(map(get_g_wrapped, times))\n",
    "    \n",
    "    lntts = np.log(times / ts)\n",
    "    \n",
    "    fig = plt.figure()\n",
    "    ax = fig.add_subplot(1, 1, 1)\n",
    "    \n",
    "    ax.plot(lntts, act, label='Actual', marker='x')\n",
    "    ax.plot(lntts, sim, label='Sim', linestyle='--', marker='D')\n",
    "        \n",
    "    ax.set_xlim((-16, np.log(timestep/ts)))\n",
    "    ax.set_ylim((-3, get_g_wrapped(timestep)))\n",
    "    plt.legend()\n",
    "    plt.show()\n",
    "    \n",
    "    ret_df = pd.DataFrame(data={'times': times, 'lntts': lntts, 'Actual': act, 'Simulation': sim})\n",
    "    ret_df.set_index('times', inplace=True)\n",
    "    return ret_df"
   ]
  },
  {
   "cell_type": "code",
   "execution_count": null,
   "metadata": {},
   "outputs": [],
   "source": [
    "df_none.index.levels"
   ]
  },
  {
   "cell_type": "code",
   "execution_count": null,
   "metadata": {
    "scrolled": false
   },
   "outputs": [],
   "source": [
    "stat_plot_data = plot_g_values('static', 36000)"
   ]
  },
  {
   "cell_type": "code",
   "execution_count": null,
   "metadata": {
    "scrolled": false
   },
   "outputs": [],
   "source": [
    "dyna_plot_data = plot_g_values('dynamic', 36000)"
   ]
  },
  {
   "cell_type": "code",
   "execution_count": null,
   "metadata": {},
   "outputs": [],
   "source": [
    "none_plot_data = plot_g_values('none', 36000)"
   ]
  },
  {
   "cell_type": "code",
   "execution_count": null,
   "metadata": {},
   "outputs": [],
   "source": [
    "from ipywidgets import interactive\n",
    "import ipywidgets as widgets"
   ]
  },
  {
   "cell_type": "code",
   "execution_count": null,
   "metadata": {
    "scrolled": false
   },
   "outputs": [],
   "source": [
    "interactive_plot = interactive(plot_g_values, df='static', timestep=(120, 36000, 120))\n",
    "output = interactive_plot.children[-1]\n",
    "output.layout.height = '600px'\n",
    "interactive_plot"
   ]
  },
  {
   "cell_type": "code",
   "execution_count": null,
   "metadata": {},
   "outputs": [],
   "source": [
    "def plot_delta_g(timestep):\n",
    "    \n",
    "    fig = plt.figure()\n",
    "    ax = fig.add_subplot(1, 1, 1)\n",
    "   \n",
    "    y = df_static.loc[timestep, 'g-val'].diff().dropna()\n",
    "    x = df_static.loc[timestep, 'Width'].cumsum().dropna()[1:]\n",
    "    ax.plot(x, y, label='Static', linestyle='-.', marker='x')\n",
    "    \n",
    "    y = df_dynamic.loc[timestep, 'g-val'].diff().dropna()\n",
    "    x = df_dynamic.loc[timestep, 'Width'].cumsum().dropna()[1:]\n",
    "    ax.plot(x, y, label='Dynamic', linestyle='--', marker='D')\n",
    "\n",
    "    y = df_none.loc[timestep, 'g-val'].diff().dropna()\n",
    "    x = df_none.loc[timestep, 'Width'].cumsum().dropna()[1:]\n",
    "    ax.plot(x, y, label='None')\n",
    "    \n",
    "    ax.set_xlim((0, x[-1]))\n",
    "    \n",
    "    plt.legend()\n",
    "    plt.plot()"
   ]
  },
  {
   "cell_type": "code",
   "execution_count": null,
   "metadata": {},
   "outputs": [],
   "source": [
    "plot_delta_g(10800)"
   ]
  },
  {
   "cell_type": "code",
   "execution_count": null,
   "metadata": {},
   "outputs": [],
   "source": []
  }
 ],
 "metadata": {
  "kernelspec": {
   "display_name": "Python 3",
   "language": "python",
   "name": "python3"
  },
  "language_info": {
   "codemirror_mode": {
    "name": "ipython",
    "version": 3
   },
   "file_extension": ".py",
   "mimetype": "text/x-python",
   "name": "python",
   "nbconvert_exporter": "python",
   "pygments_lexer": "ipython3",
   "version": "3.7.1"
  }
 },
 "nbformat": 4,
 "nbformat_minor": 2
}
