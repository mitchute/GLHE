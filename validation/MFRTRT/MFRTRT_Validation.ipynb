{
 "cells": [
  {
   "cell_type": "code",
   "execution_count": null,
   "metadata": {},
   "outputs": [],
   "source": [
    "import os\n",
    "import sys\n",
    "import json\n",
    "import tempfile\n",
    "import pandas as pd\n",
    "\n",
    "from multiprocessing import Process\n",
    "from CoolProp.CoolProp import PropsSI\n",
    "\n",
    "import matplotlib.pyplot as plt\n",
    "%matplotlib inline\n",
    "\n",
    "# shortcuts\n",
    "cwd = os.getcwd()\n",
    "join = os.path.join\n",
    "norm = os.path.normpath\n",
    "\n",
    "sys.path.append(norm(join(cwd, '..', '..', '..', 'glhe')))\n",
    "sys.path.append(norm(join(cwd, '..', '..', '..', 'standalone')))\n",
    "\n",
    "from standalone.run_g_function import RunGFunctions"
   ]
  },
  {
   "cell_type": "code",
   "execution_count": null,
   "metadata": {},
   "outputs": [],
   "source": [
    "plt.style.use('ggplot')\n",
    "plt.rcParams['figure.figsize'] = [15, 9]\n",
    "plt.rcParams['font.size'] = 14\n",
    "\n",
    "pd.set_option('display.max_columns', None)\n",
    "# pd.set_option('display.max_rows', None)"
   ]
  },
  {
   "cell_type": "code",
   "execution_count": null,
   "metadata": {},
   "outputs": [],
   "source": [
    "df = pd.read_csv('MFRTRT_loads.csv', parse_dates=True, index_col='Date/Time')"
   ]
  },
  {
   "cell_type": "code",
   "execution_count": null,
   "metadata": {},
   "outputs": [],
   "source": [
    "df.head(3)"
   ]
  },
  {
   "cell_type": "code",
   "execution_count": null,
   "metadata": {},
   "outputs": [],
   "source": [
    "df = df.resample('2T').mean()\n",
    "df = df.interpolate(method='linear')"
   ]
  },
  {
   "cell_type": "code",
   "execution_count": null,
   "metadata": {},
   "outputs": [],
   "source": [
    "df.head(3)"
   ]
  },
  {
   "cell_type": "code",
   "execution_count": null,
   "metadata": {},
   "outputs": [],
   "source": [
    "df.plot(y=['mdot [kg/s]'])"
   ]
  },
  {
   "cell_type": "code",
   "execution_count": null,
   "metadata": {
    "scrolled": false
   },
   "outputs": [],
   "source": [
    "df.plot(y=['Meas. Total Power [W]'])"
   ]
  },
  {
   "cell_type": "code",
   "execution_count": null,
   "metadata": {},
   "outputs": [],
   "source": [
    "df.to_csv('in.csv', columns=['Meas. Total Power [W]', 'mdot [kg/s]'])"
   ]
  },
  {
   "cell_type": "code",
   "execution_count": null,
   "metadata": {},
   "outputs": [],
   "source": [
    "in_file = join(cwd, 'MFRTRT_input.json')\n",
    "with open(in_file, 'r') as f:\n",
    "    json_blob = f.read()\n",
    "in_json = json.loads(json_blob)"
   ]
  },
  {
   "cell_type": "code",
   "execution_count": null,
   "metadata": {},
   "outputs": [],
   "source": [
    "load_file = in_json['load-profile']['external']['path'] \n",
    "in_json['load-profile']['external']['path'] = join(cwd, load_file)\n",
    "\n",
    "flow_file = in_json['flow-profile']['external']['path']\n",
    "in_json['flow-profile']['external']['path'] = join(cwd, flow_file)\n",
    "\n",
    "g_file = in_json['g-functions']['file']\n",
    "in_json['g-functions']['file'] = join(cwd, g_file)"
   ]
  },
  {
   "cell_type": "code",
   "execution_count": null,
   "metadata": {},
   "outputs": [],
   "source": [
    "in_json['load-aggregation']['type'] = 'dynamic'\n",
    "in_json['simulation']['output-path'] = join(cwd, 'out_dynamic.csv')\n",
    "\n",
    "with open(join(cwd, 'in_dynamic.json'), 'w') as f:\n",
    "    f.write(json.dumps(in_json, sort_keys=True, indent=2))"
   ]
  },
  {
   "cell_type": "code",
   "execution_count": null,
   "metadata": {},
   "outputs": [],
   "source": [
    "in_json['load-aggregation']['type'] = 'static'\n",
    "in_json['simulation']['output-path'] = join(cwd, 'out_static.csv')\n",
    "\n",
    "with open(join(cwd, 'in_static.json'), 'w') as f:\n",
    "    f.write(json.dumps(in_json, sort_keys=True, indent=2))"
   ]
  },
  {
   "cell_type": "code",
   "execution_count": null,
   "metadata": {},
   "outputs": [],
   "source": [
    "in_json['load-aggregation']['type'] = 'none'\n",
    "in_json['simulation']['output-path'] = join(cwd, 'out_none.csv')\n",
    "\n",
    "with open(join(cwd, 'in_none.json'), 'w') as f:\n",
    "    f.write(json.dumps(in_json, sort_keys=True, indent=2))"
   ]
  },
  {
   "cell_type": "code",
   "execution_count": null,
   "metadata": {},
   "outputs": [],
   "source": [
    "in_static = os.path.join(os.getcwd(), 'in_static.json')\n",
    "in_dynamic = os.path.join(os.getcwd(), 'in_dynamic.json')\n",
    "in_none = os.path.join(os.getcwd(), 'in_none.json')"
   ]
  },
  {
   "cell_type": "code",
   "execution_count": null,
   "metadata": {},
   "outputs": [],
   "source": [
    "RunGFunctions(in_static).simulate()"
   ]
  },
  {
   "cell_type": "code",
   "execution_count": null,
   "metadata": {},
   "outputs": [],
   "source": [
    "RunGFunctions(in_dynamic).simulate()"
   ]
  },
  {
   "cell_type": "code",
   "execution_count": null,
   "metadata": {},
   "outputs": [],
   "source": [
    "RunGFunctions(in_none).simulate()"
   ]
  },
  {
   "cell_type": "code",
   "execution_count": null,
   "metadata": {},
   "outputs": [],
   "source": [
    "df_static = pd.read_csv(\"out_static.csv\")"
   ]
  },
  {
   "cell_type": "code",
   "execution_count": null,
   "metadata": {},
   "outputs": [],
   "source": [
    "df_dynamic = pd.read_csv(\"out_dynamic.csv\")"
   ]
  },
  {
   "cell_type": "code",
   "execution_count": null,
   "metadata": {},
   "outputs": [],
   "source": [
    "df_none = pd.read_csv(\"out_none.csv\")"
   ]
  },
  {
   "cell_type": "code",
   "execution_count": null,
   "metadata": {
    "scrolled": false
   },
   "outputs": [],
   "source": [
    "start_pt = 1350\n",
    "end_pt = 1500\n",
    "\n",
    "x = df_static.index[start_pt : end_pt]\n",
    "\n",
    "in_static = df_static['GLHE Inlet Temperature [C]'].values[start_pt : end_pt]\n",
    "out_static = df_static['GLHE Outlet Temperature [C]'].values[start_pt : end_pt]\n",
    "plt.plot(x, in_static, label='In (Static)', linestyle='--')\n",
    "plt.plot(x, out_static, label='Out (Static)', linestyle='--')\n",
    "\n",
    "in_dynamic = df_dynamic['GLHE Inlet Temperature [C]'].values[start_pt : end_pt]\n",
    "out_dynamic = df_dynamic['GLHE Outlet Temperature [C]'].values[start_pt : end_pt]\n",
    "plt.plot(x, in_dynamic, label='In (Dynamic)', linestyle='-.')\n",
    "plt.plot(x, out_dynamic, label='Out (Dynamic)', linestyle='-.')\n",
    "\n",
    "in_none = df_none['GLHE Inlet Temperature [C]'].values[start_pt : end_pt]\n",
    "out_none = df_none['GLHE Outlet Temperature [C]'].values[start_pt : end_pt]\n",
    "plt.plot(x, in_none, label='In (None)', linestyle='-.')\n",
    "plt.plot(x, out_none, label='Out (None)', linestyle='-.')\n",
    "\n",
    "in_exp = df['Inlet 1 [C]'].values[start_pt : end_pt]\n",
    "out_exp = df['Outlet 1 [C]'].values[start_pt : end_pt]\n",
    "plt.plot(x, in_exp, label='In (Exp)')\n",
    "plt.plot(x, out_exp, label='Out (Exp)')\n",
    "\n",
    "plt.legend()\n",
    "\n",
    "plt.show()"
   ]
  },
  {
   "cell_type": "code",
   "execution_count": null,
   "metadata": {},
   "outputs": [],
   "source": [
    "plt.plot(x, df_static['Flow Fraction [-]'][start_pt : end_pt], label='Static')\n",
    "plt.plot(x, df_dynamic['Flow Fraction [-]'][start_pt : end_pt], label='Dynamic')\n",
    "plt.plot(x, df_none['Flow Fraction [-]'][start_pt : end_pt], label='None')\n",
    "plt.legend()\n",
    "plt.show()"
   ]
  },
  {
   "cell_type": "code",
   "execution_count": null,
   "metadata": {},
   "outputs": [],
   "source": [
    "plt.plot(x, df['Meas. Total Power [W]'].values[start_pt : end_pt], label=\"Exp Data\")\n",
    "plt.plot(x, df_static['GLHE Heat Transfer Rate [W]'].values[start_pt : end_pt], label=\"Static\")\n",
    "plt.plot(x, df_dynamic['GLHE Heat Transfer Rate [W]'].values[start_pt : end_pt], label=\"Dynamic\")\n",
    "plt.plot(x, df_none['GLHE Heat Transfer Rate [W]'].values[start_pt : end_pt], label=\"None\")\n",
    "\n",
    "plt.legend()\n",
    "plt.show()"
   ]
  },
  {
   "cell_type": "code",
   "execution_count": null,
   "metadata": {},
   "outputs": [],
   "source": [
    "plt.plot(x, df_static['Load on GHE [W/m]'].values[start_pt : end_pt], label='Static')\n",
    "plt.plot(x, df_dynamic['Load on GHE [W/m]'].values[start_pt : end_pt], label='Dynamic') \n",
    "plt.plot(x, df_none['Load on GHE [W/m]'].values[start_pt : end_pt], label='None') \n",
    "\n",
    "plt.legend()\n",
    "plt.show()"
   ]
  },
  {
   "cell_type": "code",
   "execution_count": null,
   "metadata": {},
   "outputs": [],
   "source": [
    "plt.plot(x, df_static['Average Fluid Temp [C]'].values[start_pt : end_pt], label=\"Static\")\n",
    "plt.plot(x, df_dynamic['Average Fluid Temp [C]'].values[start_pt : end_pt], label=\"Dynamic\")\n",
    "plt.plot(x, df_none['Average Fluid Temp [C]'].values[start_pt : end_pt], label=\"None\")\n",
    "\n",
    "plt.legend()\n",
    "plt.show()"
   ]
  },
  {
   "cell_type": "code",
   "execution_count": null,
   "metadata": {},
   "outputs": [],
   "source": [
    "plt.plot(x, df_static[\"Local Borehole Resistance 'Rb' [K/(W/m)]\"].values[start_pt : end_pt], label=\"Static\")\n",
    "plt.plot(x, df_dynamic[\"Local Borehole Resistance 'Rb' [K/(W/m)]\"].values[start_pt : end_pt], label=\"Dynamic\")\n",
    "plt.plot(x, df_none[\"Local Borehole Resistance 'Rb' [K/(W/m)]\"].values[start_pt : end_pt], label=\"None\")\n",
    "\n",
    "plt.legend()\n",
    "plt.show()"
   ]
  },
  {
   "cell_type": "code",
   "execution_count": null,
   "metadata": {},
   "outputs": [],
   "source": [
    "plt.plot(x, df_static[\"Soil Resistance 'Rs' [K/(W/m)]\"].values[start_pt : end_pt], label=\"Static\")\n",
    "plt.plot(x, df_dynamic[\"Soil Resistance 'Rs' [K/(W/m)]\"].values[start_pt : end_pt], label=\"Dynamic\")\n",
    "plt.plot(x, df_none[\"Soil Resistance 'Rs' [K/(W/m)]\"].values[start_pt : end_pt], label=\"None\")\n",
    "\n",
    "plt.legend()\n",
    "plt.show()"
   ]
  },
  {
   "cell_type": "code",
   "execution_count": null,
   "metadata": {},
   "outputs": [],
   "source": []
  }
 ],
 "metadata": {
  "kernelspec": {
   "display_name": "Python 3",
   "language": "python",
   "name": "python3"
  },
  "language_info": {
   "codemirror_mode": {
    "name": "ipython",
    "version": 3
   },
   "file_extension": ".py",
   "mimetype": "text/x-python",
   "name": "python",
   "nbconvert_exporter": "python",
   "pygments_lexer": "ipython3",
   "version": "3.6.6"
  }
 },
 "nbformat": 4,
 "nbformat_minor": 2
}
