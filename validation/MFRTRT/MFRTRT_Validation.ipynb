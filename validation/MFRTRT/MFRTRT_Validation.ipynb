{
 "cells": [
  {
   "cell_type": "code",
   "execution_count": null,
   "metadata": {},
   "outputs": [],
   "source": [
    "import os\n",
    "import sys\n",
    "import json\n",
    "import tempfile\n",
    "import pandas as pd\n",
    "\n",
    "from CoolProp.CoolProp import PropsSI\n",
    "\n",
    "import matplotlib.pyplot as plt\n",
    "%matplotlib inline\n",
    "\n",
    "cwd = os.getcwd()\n",
    "sys.path.append(os.path.normpath(os.path.join(cwd, '..', '..', '..', 'glhe')))\n",
    "sys.path.append(os.path.normpath(os.path.join(cwd, '..', '..', '..', 'standalone')))"
   ]
  },
  {
   "cell_type": "code",
   "execution_count": null,
   "metadata": {},
   "outputs": [],
   "source": [
    "plt.style.use('ggplot')\n",
    "plt.rcParams['figure.figsize'] = [15, 9]\n",
    "plt.rcParams['font.size'] = 14\n",
    "\n",
    "pd.set_option('display.max_columns', None)\n",
    "# pd.set_option('display.max_rows', None)"
   ]
  },
  {
   "cell_type": "code",
   "execution_count": null,
   "metadata": {},
   "outputs": [],
   "source": [
    "df = pd.read_csv('MFRTRT_loads.csv', parse_dates=True, index_col='Date/Time')"
   ]
  },
  {
   "cell_type": "code",
   "execution_count": null,
   "metadata": {},
   "outputs": [],
   "source": [
    "df.head(3)"
   ]
  },
  {
   "cell_type": "code",
   "execution_count": null,
   "metadata": {},
   "outputs": [],
   "source": [
    "df = df.resample('15T').mean()"
   ]
  },
  {
   "cell_type": "code",
   "execution_count": null,
   "metadata": {},
   "outputs": [],
   "source": [
    "df.head(3)"
   ]
  },
  {
   "cell_type": "code",
   "execution_count": null,
   "metadata": {},
   "outputs": [],
   "source": [
    "df.plot(y=['mdot [kg/s]'])"
   ]
  },
  {
   "cell_type": "code",
   "execution_count": null,
   "metadata": {
    "scrolled": false
   },
   "outputs": [],
   "source": [
    "df.plot(y=['Meas. Total Power [W]'])"
   ]
  },
  {
   "cell_type": "code",
   "execution_count": null,
   "metadata": {},
   "outputs": [],
   "source": [
    "df.to_csv('in.csv', columns=['Meas. Total Power [W]', 'mdot [kg/s]'])"
   ]
  },
  {
   "cell_type": "code",
   "execution_count": null,
   "metadata": {},
   "outputs": [],
   "source": [
    "in_file = os.path.join(os.getcwd(), 'MFRTRT_input.json')\n",
    "with open(in_file, 'r') as f:\n",
    "    json_blob = f.read()\n",
    "in_json = json.loads(json_blob)"
   ]
  },
  {
   "cell_type": "code",
   "execution_count": null,
   "metadata": {},
   "outputs": [],
   "source": [
    "load_file = in_json['load-profile']['external']['path'] \n",
    "in_json['load-profile']['external']['path'] = os.path.join(os.getcwd(), load_file)\n",
    "\n",
    "flow_file = in_json['flow-profile']['external']['path']\n",
    "in_json['flow-profile']['external']['path'] = os.path.join(os.getcwd(), flow_file)\n",
    "\n",
    "g_file = in_json['g-functions']['file']\n",
    "in_json['g-functions']['file'] = os.path.join(os.getcwd(), g_file)"
   ]
  },
  {
   "cell_type": "code",
   "execution_count": null,
   "metadata": {},
   "outputs": [],
   "source": [
    "with open(os.path.join(os.getcwd(), 'in.json'), 'w') as f:\n",
    "    f.write(json.dumps(in_json, sort_keys=True, indent=2))"
   ]
  },
  {
   "cell_type": "code",
   "execution_count": null,
   "metadata": {},
   "outputs": [],
   "source": [
    "in_file = os.path.join(os.getcwd(), 'in.json')"
   ]
  },
  {
   "cell_type": "code",
   "execution_count": null,
   "metadata": {},
   "outputs": [],
   "source": [
    "from standalone.run_g_function import RunGFunctions"
   ]
  },
  {
   "cell_type": "code",
   "execution_count": null,
   "metadata": {},
   "outputs": [],
   "source": [
    "g = RunGFunctions(in_file)"
   ]
  },
  {
   "cell_type": "code",
   "execution_count": null,
   "metadata": {
    "scrolled": false
   },
   "outputs": [],
   "source": [
    "g.simulate()"
   ]
  },
  {
   "cell_type": "code",
   "execution_count": null,
   "metadata": {},
   "outputs": [],
   "source": [
    "df_model = pd.read_csv(\"out.csv\")"
   ]
  },
  {
   "cell_type": "code",
   "execution_count": null,
   "metadata": {},
   "outputs": [],
   "source": [
    "df_model.head(1)"
   ]
  },
  {
   "cell_type": "code",
   "execution_count": null,
   "metadata": {},
   "outputs": [],
   "source": [
    "# df_pro = pd.read_csv(\"GLHEPro.csv\", header=9, encoding = \"ISO-8859-1\")"
   ]
  },
  {
   "cell_type": "code",
   "execution_count": null,
   "metadata": {},
   "outputs": [],
   "source": [
    "# df_pro.head(1)"
   ]
  },
  {
   "cell_type": "code",
   "execution_count": null,
   "metadata": {
    "scrolled": false
   },
   "outputs": [],
   "source": [
    "num_pts = 776\n",
    "\n",
    "x = range(num_pts)\n",
    "\n",
    "\n",
    "in_model = df_model['GLHE Inlet Temperature [C]'].values[:num_pts]\n",
    "out_model = df_model['GLHE Outlet Temperature [C]'].values[:num_pts]\n",
    "plt.plot(x, in_model, label='Model Inlet', linestyle='--')\n",
    "plt.plot(x, out_model, label='Model Outlet', linestyle='--')\n",
    "\n",
    "# in_pro = df_pro[' HP Outlet fluid temperature (°C)'].values\n",
    "# out_pro = df_pro[' HP Inlet fluid temperature (°C)'].values\n",
    "# plt.plot(x, in_pro, label='GLHEPro Inlet', linestyle=':')\n",
    "# plt.plot(x, out_pro, label='GLHEPro Outlet', linestyle=':')\n",
    "\n",
    "in_exp = df['Inlet 1 [C]'].values[:num_pts]\n",
    "out_exp = df['Outlet 1 [C]'].values[:num_pts]\n",
    "plt.plot(x, in_exp, label='Exp. Inlet')\n",
    "plt.plot(x, out_exp, label='Exp. Outlet')\n",
    "\n",
    "plt.legend()\n",
    "\n",
    "plt.show()"
   ]
  },
  {
   "cell_type": "code",
   "execution_count": null,
   "metadata": {},
   "outputs": [],
   "source": [
    "plt.plot(x, df_model['Flow Fraction [-]'][:num_pts])\n",
    "plt.show()"
   ]
  },
  {
   "cell_type": "code",
   "execution_count": null,
   "metadata": {},
   "outputs": [],
   "source": [
    "plt.plot(x, df['Meas. Total Power [W]'].values[:num_pts], label=\"Exp Data\")\n",
    "plt.plot(x, df_model['GLHE Heat Transfer Rate [W]'].values[:num_pts], label=\"Model\")\n",
    "\n",
    "plt.legend()\n",
    "\n",
    "plt.show()"
   ]
  },
  {
   "cell_type": "code",
   "execution_count": null,
   "metadata": {},
   "outputs": [],
   "source": [
    "plt.plot(x, df_model['Load on GHE [W/m]'].values[:num_pts]) \n",
    "\n",
    "plt.show()"
   ]
  },
  {
   "cell_type": "code",
   "execution_count": null,
   "metadata": {},
   "outputs": [],
   "source": [
    "plt.plot(x, df_model['Average Fluid Temp [C]'].values[:num_pts], label=\"Tf\")\n",
    "plt.legend()\n",
    "plt.show()"
   ]
  },
  {
   "cell_type": "code",
   "execution_count": null,
   "metadata": {},
   "outputs": [],
   "source": [
    "plt.plot(x, df_model[\"Local Borehole Resistance 'Rb' [K/(W/m)]\"].values[:num_pts], label=\"Rb\")\n",
    "plt.plot(x, df_model[\"Soil Resistance 'Rs' [K/(W/m)]\"].values[:num_pts], label=\"Rs\")\n",
    "\n",
    "plt.legend()\n",
    "plt.show()"
   ]
  },
  {
   "cell_type": "code",
   "execution_count": null,
   "metadata": {},
   "outputs": [],
   "source": []
  }
 ],
 "metadata": {
  "kernelspec": {
   "display_name": "Python 3",
   "language": "python",
   "name": "python3"
  },
  "language_info": {
   "codemirror_mode": {
    "name": "ipython",
    "version": 3
   },
   "file_extension": ".py",
   "mimetype": "text/x-python",
   "name": "python",
   "nbconvert_exporter": "python",
   "pygments_lexer": "ipython3",
   "version": "3.6.6"
  }
 },
 "nbformat": 4,
 "nbformat_minor": 2
}
