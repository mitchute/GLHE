{
 "cells": [
  {
   "cell_type": "code",
   "execution_count": null,
   "metadata": {},
   "outputs": [],
   "source": [
    "import os\n",
    "import sys\n",
    "import json\n",
    "import tempfile\n",
    "import pandas as pd\n",
    "\n",
    "from threading import Thread\n",
    "from CoolProp.CoolProp import PropsSI\n",
    "\n",
    "# shortcuts\n",
    "cwd = os.getcwd()\n",
    "join = os.path.join\n",
    "norm = os.path.normpath\n",
    "\n",
    "sys.path.append(norm(join(cwd, '..', '..', '..', 'glhe')))\n",
    "sys.path.append(norm(join(cwd, '..', '..', '..', 'standalone')))\n",
    "\n",
    "from standalone.run_g_function import RunGFunctions"
   ]
  },
  {
   "cell_type": "code",
   "execution_count": null,
   "metadata": {},
   "outputs": [],
   "source": [
    "import matplotlib.pyplot as plt\n",
    "%matplotlib inline"
   ]
  },
  {
   "cell_type": "code",
   "execution_count": null,
   "metadata": {},
   "outputs": [],
   "source": [
    "plt.style.use('seaborn-bright')\n",
    "plt.rcParams['figure.figsize'] = [15, 9]\n",
    "plt.rcParams['font.size'] = 12\n",
    "\n",
    "pd.set_option('display.max_columns', None)\n",
    "# pd.set_option('display.max_rows', None)"
   ]
  },
  {
   "cell_type": "code",
   "execution_count": null,
   "metadata": {},
   "outputs": [],
   "source": [
    "df_exp = pd.read_csv('MFRTRT_loads.csv', parse_dates=True, index_col='Date/Time')"
   ]
  },
  {
   "cell_type": "code",
   "execution_count": null,
   "metadata": {},
   "outputs": [],
   "source": [
    "df_exp.head(1)"
   ]
  },
  {
   "cell_type": "code",
   "execution_count": null,
   "metadata": {},
   "outputs": [],
   "source": [
    "timestep = 1 # minutes\n",
    "df_exp = df_exp.resample('{}T'.format(timestep)).mean()\n",
    "df_exp = df_exp.interpolate(method='linear')"
   ]
  },
  {
   "cell_type": "code",
   "execution_count": null,
   "metadata": {},
   "outputs": [],
   "source": [
    "df_exp.head(3)"
   ]
  },
  {
   "cell_type": "code",
   "execution_count": null,
   "metadata": {},
   "outputs": [],
   "source": [
    "df_exp.plot(y=['mdot [kg/s]'])"
   ]
  },
  {
   "cell_type": "code",
   "execution_count": null,
   "metadata": {},
   "outputs": [],
   "source": [
    "df_exp.plot(y=['Meas. Total Power [W]'])"
   ]
  },
  {
   "cell_type": "code",
   "execution_count": null,
   "metadata": {},
   "outputs": [],
   "source": [
    "df_exp.to_csv('in.csv', columns=['Meas. Total Power [W]', 'mdot [kg/s]', 'Outlet 1 [C]'])"
   ]
  },
  {
   "cell_type": "code",
   "execution_count": null,
   "metadata": {
    "scrolled": false
   },
   "outputs": [],
   "source": [
    "df_exp['Run Time'] = df_exp.index.to_series().diff().dt.total_seconds().cumsum()\n",
    "df_exp['Run Time'].iloc[0] = 0\n",
    "df_exp['Run Time'] = df_exp['Run Time'].astype('int')\n",
    "df_exp.set_index('Run Time', drop=True, inplace=True)"
   ]
  },
  {
   "cell_type": "code",
   "execution_count": null,
   "metadata": {},
   "outputs": [],
   "source": [
    "in_file = join(cwd, 'MFRTRT_input.json')\n",
    "with open(in_file, 'r') as f:\n",
    "    json_blob = f.read()\n",
    "in_json = json.loads(json_blob)"
   ]
  },
  {
   "cell_type": "code",
   "execution_count": null,
   "metadata": {},
   "outputs": [],
   "source": [
    "in_json['simulation']['runtime'] = 190 * 3600\n",
    "in_json['simulation']['time-steps per hour'] = int(60 / timestep)"
   ]
  },
  {
   "cell_type": "code",
   "execution_count": null,
   "metadata": {},
   "outputs": [],
   "source": [
    "load_file = in_json['load-profile']['external']['path'] \n",
    "in_json['load-profile']['external']['path'] = join(cwd, load_file)\n",
    "\n",
    "flow_file = in_json['flow-profile']['external']['path']\n",
    "in_json['flow-profile']['external']['path'] = join(cwd, flow_file)\n",
    "\n",
    "g_file = in_json['g-functions']['file']\n",
    "in_json['g-functions']['file'] = join(cwd, g_file)"
   ]
  },
  {
   "cell_type": "code",
   "execution_count": null,
   "metadata": {},
   "outputs": [],
   "source": [
    "in_json['load-aggregation']['type'] = 'dynamic'\n",
    "in_json['simulation']['output-path'] = join(cwd, 'out.csv')\n",
    "in_json['simulation']['plant driver'] = 'inlet-flow'\n",
    "\n",
    "in_json['load-aggregation']['dynamic'] = {}\n",
    "in_json['load-aggregation']['dynamic']['runtime'] = in_json['simulation']['runtime'] = in_json['simulation']['runtime']\n",
    "\n",
    "with open(join(cwd, 'in.json'), 'w') as f:\n",
    "    f.write(json.dumps(in_json, sort_keys=True, indent=2))"
   ]
  },
  {
   "cell_type": "code",
   "execution_count": null,
   "metadata": {},
   "outputs": [],
   "source": [
    "in_path = os.path.join(os.getcwd(), 'in.json')"
   ]
  },
  {
   "cell_type": "code",
   "execution_count": null,
   "metadata": {},
   "outputs": [],
   "source": [
    "def do_a_run(in_file):\n",
    "    RunGFunctions(in_file).simulate()"
   ]
  },
  {
   "cell_type": "code",
   "execution_count": null,
   "metadata": {
    "scrolled": true
   },
   "outputs": [],
   "source": [
    "p2 = Thread(target=do_a_run, args=(in_path,))\n",
    "\n",
    "p2.start()\n",
    "\n",
    "p2.join()"
   ]
  },
  {
   "cell_type": "code",
   "execution_count": null,
   "metadata": {},
   "outputs": [],
   "source": [
    "df_model = pd.read_csv(\"out.csv\", index_col='Simulation Time')"
   ]
  },
  {
   "cell_type": "code",
   "execution_count": null,
   "metadata": {},
   "outputs": [],
   "source": [
    "start_pt = 0\n",
    "end_pt = 680000"
   ]
  },
  {
   "cell_type": "code",
   "execution_count": null,
   "metadata": {
    "scrolled": false
   },
   "outputs": [],
   "source": [
    "# fig = plt.figure(figsize=(7,5))\n",
    "fig = plt.figure()\n",
    "\n",
    "in_exp = df_exp['Outlet 1 [C]'].loc[start_pt : end_pt]\n",
    "out_exp = df_exp['Inlet 1 [C]'].loc[start_pt : end_pt]\n",
    "plt.plot(in_exp, label='Inlet (Exp)', marker='x', markevery=100)\n",
    "plt.plot(out_exp, label='Outlet (Exp)', marker='x', markevery=100)\n",
    "\n",
    "in_plant = df_model['Plant Outlet Temperature [C]'].loc[start_pt : end_pt]\n",
    "out_plant = df_model['Plant Inlet Temperature [C]'].loc[start_pt : end_pt]\n",
    "plt.plot(in_plant, label='Inlet from Plant', linestyle='--')\n",
    "plt.plot(out_plant, label='Outlet from Plant', linestyle='--')\n",
    "\n",
    "in_ghe = df_model['GHE Inlet Temp (After Pipe) [C]'].loc[start_pt : end_pt]\n",
    "out_ghe = df_model['GHE Outlet Temp (After Pipe) [C]'].loc[start_pt : end_pt]\n",
    "plt.plot(in_ghe, label='GHE Inlet After Pipe', linestyle='-.')\n",
    "plt.plot(out_ghe, label='GHE Outlet After Pipe', linestyle='-.')\n",
    "\n",
    "out_ghe_before = df_model['GHE Outlet Temp (Before Pipe) [C]'].loc[start_pt : end_pt]\n",
    "plt.plot(out_ghe_before, label='GHE Outlet Before Pipe', linestyle=':')\n",
    "\n",
    "plt.xlabel('Simulation Time [s]')\n",
    "plt.ylabel('Temperature [C]')\n",
    "\n",
    "plt.legend()\n",
    "plt.grid(True)\n",
    "# plt.savefig('Temps_1hr_1minTS.pdf', bbox_inches='tight')\n",
    "plt.show()"
   ]
  },
  {
   "cell_type": "code",
   "execution_count": null,
   "metadata": {},
   "outputs": [],
   "source": [
    "# fig = plt.figure(figsize=(7,5))\n",
    "fig = plt.figure()\n",
    "\n",
    "out_exp = df_exp['Inlet 1 [C]'].loc[start_pt : end_pt]\n",
    "plt.plot(in_exp, label='Inlet (Exp)', marker='x', markevery=10)\n",
    "\n",
    "in_plant = df_model['Plant Outlet Temperature [C]'].loc[start_pt : end_pt]\n",
    "plt.plot(in_plant, label='Inlet (From Plant)', linestyle='--')\n",
    "\n",
    "in_ghe = df_model['GHE Inlet Temp (After Pipe) [C]'].loc[start_pt : end_pt]\n",
    "plt.plot(in_ghe, label='Inlet (After Pipe)', linestyle='-.')\n",
    "\n",
    "plt.xlabel('Simulation Time [s]')\n",
    "plt.ylabel('Temperature [C]')\n",
    "\n",
    "plt.legend()\n",
    "plt.grid(True)\n",
    "# plt.savefig('Temps_1hr_1minTS.pdf', bbox_inches='tight')\n",
    "plt.show()"
   ]
  },
  {
   "cell_type": "code",
   "execution_count": null,
   "metadata": {
    "scrolled": true
   },
   "outputs": [],
   "source": [
    "fig = plt.figure(figsize=(7,5))\n",
    "# fig = plt.figure()\n",
    "plt.plot(df_model['Flow Fraction [-]'].loc[start_pt : end_pt])\n",
    "plt.xlabel('Simulation Time [s]')\n",
    "plt.ylabel('Flow Fraction [-]')\n",
    "plt.grid(True)\n",
    "\n",
    "# plt.savefig('FF_192hr_1minTS.pdf', bbox_inches='tight')\n",
    "plt.show()"
   ]
  },
  {
   "cell_type": "code",
   "execution_count": null,
   "metadata": {},
   "outputs": [],
   "source": [
    "plt.plot(df_exp['Meas. Total Power [W]'].loc[start_pt : end_pt], label=\"Exp Data\", marker='x')\n",
    "plt.plot(df_model['GLHE Heat Transfer Rate [W]'].loc[start_pt : end_pt], label=\"Model\")\n",
    "\n",
    "plt.legend()\n",
    "plt.show()"
   ]
  },
  {
   "cell_type": "code",
   "execution_count": null,
   "metadata": {},
   "outputs": [],
   "source": [
    "plt.plot(df_model['Load on GHE [W/m]'].loc[start_pt : end_pt], label='Model') \n",
    "\n",
    "plt.legend()\n",
    "plt.show()"
   ]
  },
  {
   "cell_type": "code",
   "execution_count": null,
   "metadata": {},
   "outputs": [],
   "source": [
    "df_exp['MFT'] = df_exp[['Inlet 1 [C]', 'Outlet 1 [C]']].mean(axis=1)"
   ]
  },
  {
   "cell_type": "code",
   "execution_count": null,
   "metadata": {},
   "outputs": [],
   "source": [
    "plt.plot(df_model['Average Fluid Temp [C]'].loc[start_pt : end_pt], label=\"Model\")\n",
    "plt.plot(df_exp['MFT'].loc[start_pt : end_pt], label=\"Exp\", marker='x')\n",
    "\n",
    "plt.legend()\n",
    "plt.show()"
   ]
  },
  {
   "cell_type": "code",
   "execution_count": null,
   "metadata": {},
   "outputs": [],
   "source": [
    "plt.plot(df_model[\"Local Borehole Resistance 'Rb' [K/(W/m)]\"].loc[start_pt : end_pt], label=\"Model\")\n",
    "\n",
    "plt.legend()\n",
    "plt.show()"
   ]
  },
  {
   "cell_type": "code",
   "execution_count": null,
   "metadata": {},
   "outputs": [],
   "source": [
    "plt.plot(df_model[\"Soil Resistance 'Rs' [K/(W/m)]\"].loc[start_pt : end_pt], label=\"Model\")\n",
    "\n",
    "plt.legend()\n",
    "plt.show()"
   ]
  },
  {
   "cell_type": "code",
   "execution_count": null,
   "metadata": {},
   "outputs": [],
   "source": []
  },
  {
   "cell_type": "code",
   "execution_count": null,
   "metadata": {},
   "outputs": [],
   "source": []
  }
 ],
 "metadata": {
  "kernelspec": {
   "display_name": "Python 3",
   "language": "python",
   "name": "python3"
  },
  "language_info": {
   "codemirror_mode": {
    "name": "ipython",
    "version": 3
   },
   "file_extension": ".py",
   "mimetype": "text/x-python",
   "name": "python",
   "nbconvert_exporter": "python",
   "pygments_lexer": "ipython3",
   "version": "3.7.1"
  }
 },
 "nbformat": 4,
 "nbformat_minor": 2
}
