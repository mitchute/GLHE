{
 "cells": [
  {
   "cell_type": "code",
   "execution_count": null,
   "metadata": {},
   "outputs": [],
   "source": [
    "import os\n",
    "import sys\n",
    "import json\n",
    "import pandas as pd\n",
    "import numpy as np \n",
    "\n",
    "from CoolProp.CoolProp import PropsSI\n",
    "\n",
    "# shortcuts\n",
    "cwd = os.getcwd()\n",
    "join = os.path.join\n",
    "norm = os.path.normpath\n",
    "\n",
    "sys.path.append(norm(join(cwd, '..', '..', '..', 'glhe')))\n",
    "sys.path.append(norm(join(cwd, '..', '..', '..', 'standalone')))\n",
    "\n",
    "from standalone.run_g_function import RunGFunctions"
   ]
  },
  {
   "cell_type": "code",
   "execution_count": null,
   "metadata": {},
   "outputs": [],
   "source": [
    "import matplotlib.pyplot as plt\n",
    "%matplotlib inline"
   ]
  },
  {
   "cell_type": "code",
   "execution_count": null,
   "metadata": {},
   "outputs": [],
   "source": [
    "plt.style.use('ggplot')\n",
    "plt.rcParams['figure.figsize'] = [15, 9]\n",
    "plt.rcParams['font.size'] = 14\n",
    "\n",
    "pd.set_option('display.max_columns', None)\n",
    "# pd.set_option('display.max_rows', None)"
   ]
  },
  {
   "cell_type": "code",
   "execution_count": null,
   "metadata": {},
   "outputs": [],
   "source": [
    "constant_trt_path = '1-s2.0-S0375650511000022-mmc1.xls'"
   ]
  },
  {
   "cell_type": "code",
   "execution_count": null,
   "metadata": {},
   "outputs": [],
   "source": [
    "df_const = pd.read_excel(constant_trt_path, sheet_name='TRT degC', skiprows=7, names=['Minutes', \n",
    "                                                                                      'Temp Water Supply [C]',\n",
    "                                                                                      'Temp Water Return [C]',\n",
    "                                                                                      'Temp Avg [C]',\n",
    "                                                                                      'Flow Rate [lps]',\n",
    "                                                                                      'Electric Power [W]',\n",
    "                                                                                      'Temp Diff [C]',\n",
    "                                                                                      'Calorimetric Power [W]'])\n",
    "\n",
    "# df_const['Time'] = pd.to_timedelta(pd.to_datetime(df_const['Minutes'], unit='m'))\n",
    "df_const['Date/Time'] = pd.to_datetime(df_const['Minutes'], unit='m')\n",
    "df_const.drop('Minutes', axis=1, inplace=True)\n",
    "df_const.set_index('Date/Time', inplace=True)\n",
    "df_const.apply(pd.to_numeric)\n",
    "df_const.head()"
   ]
  },
  {
   "cell_type": "code",
   "execution_count": null,
   "metadata": {},
   "outputs": [],
   "source": [
    "df_const.plot(y=['Temp Water Supply [C]', 'Temp Water Return [C]'])\n",
    "df_const.plot(y=['Electric Power [W]', 'Calorimetric Power [W]'])"
   ]
  },
  {
   "cell_type": "code",
   "execution_count": null,
   "metadata": {},
   "outputs": [],
   "source": [
    "def C_to_K(inputs):\n",
    "    return inputs + 273.15"
   ]
  },
  {
   "cell_type": "code",
   "execution_count": null,
   "metadata": {},
   "outputs": [],
   "source": [
    "df_const['Mass Flow Rate [kg/s]'] = df_const['Flow Rate [lps]'] * PropsSI('D', 'T', C_to_K(df_const['Temp Avg [C]'].values), 'P', 101325, 'Water') / 1000"
   ]
  },
  {
   "cell_type": "code",
   "execution_count": null,
   "metadata": {},
   "outputs": [],
   "source": [
    "timestep = 2 # minutes\n",
    "df_const = df_const.resample('{}T'.format(timestep)).mean()\n",
    "df_const = df_const.interpolate(method='linear')\n",
    "df_const.head()"
   ]
  },
  {
   "cell_type": "code",
   "execution_count": null,
   "metadata": {
    "scrolled": false
   },
   "outputs": [],
   "source": [
    "df_const.plot(y=['Temp Water Supply [C]', 'Temp Water Return [C]'])\n",
    "df_const.plot(y=['Electric Power [W]', 'Calorimetric Power [W]'])\n",
    "df_const.plot(y=['Flow Rate [lps]', 'Mass Flow Rate [kg/s]'])"
   ]
  },
  {
   "cell_type": "code",
   "execution_count": null,
   "metadata": {},
   "outputs": [],
   "source": [
    "df_const.to_csv('in.csv', columns=['Calorimetric Power [W]', 'Mass Flow Rate [kg/s]'])"
   ]
  },
  {
   "cell_type": "code",
   "execution_count": null,
   "metadata": {},
   "outputs": [],
   "source": [
    "runtime = 50 * 3600\n",
    "\n",
    "in_file = join(cwd, 'Sandbox_input.json')\n",
    "with open(in_file, 'r') as f:\n",
    "    json_blob = f.read()\n",
    "in_json = json.loads(json_blob)\n",
    "\n",
    "in_json['simulation']['runtime'] = runtime\n",
    "in_json['simulation']['time-steps per hour'] = int(60 / timestep)\n",
    "\n",
    "in_json['load-aggregation']['type'] = 'dynamic'\n",
    "\n",
    "in_json['load-aggregation']['dynamic'] = {}\n",
    "in_json['load-aggregation']['dynamic']['expansion rate'] = np.exp(0.2)\n",
    "in_json['load-aggregation']['dynamic']['runtime'] = in_json['simulation']['runtime']\n",
    "\n",
    "in_json['simulation']['output-path'] = join(cwd, 'out.csv')\n",
    "\n",
    "with open(join(cwd, 'in.json'), 'w') as f:\n",
    "    f.write(json.dumps(in_json, sort_keys=True, indent=2))\n",
    "    \n",
    "in_file = join(cwd, 'in.json')"
   ]
  },
  {
   "cell_type": "code",
   "execution_count": null,
   "metadata": {},
   "outputs": [],
   "source": [
    "RunGFunctions(in_file).simulate()"
   ]
  },
  {
   "cell_type": "code",
   "execution_count": null,
   "metadata": {},
   "outputs": [],
   "source": [
    "df_output = pd.read_csv(\"out.csv\", index_col='Simulation Time')"
   ]
  },
  {
   "cell_type": "code",
   "execution_count": null,
   "metadata": {},
   "outputs": [],
   "source": [
    "df_output['Time'] = pd.to_datetime(df_output.index, unit='s')\n",
    "df_output.set_index('Time', inplace=True)\n",
    "df_output.head(3)"
   ]
  },
  {
   "cell_type": "code",
   "execution_count": null,
   "metadata": {},
   "outputs": [],
   "source": [
    "start_pt = 0\n",
    "end_pt = 200\n",
    "\n",
    "in_model = df_output['GLHE Inlet Temperature [C]'].iloc[start_pt:end_pt]\n",
    "out_model = df_output['GLHE Outlet Temperature [C]'].iloc[start_pt:end_pt]\n",
    "plt.plot(in_model, label='In (Model)', linestyle='-.')\n",
    "plt.plot(out_model, label='Out (Model)', linestyle='-.')\n",
    "\n",
    "in_exp = df_const['Temp Water Supply [C]'].iloc[start_pt:end_pt]\n",
    "out_exp = df_const['Temp Water Return [C]'].iloc[start_pt:end_pt]\n",
    "plt.plot(in_exp, label='In (Exp)', marker='x')\n",
    "plt.plot(out_exp, label='Out (Exp)', marker='x')\n",
    "\n",
    "plt.legend()\n",
    "plt.show()"
   ]
  },
  {
   "cell_type": "code",
   "execution_count": null,
   "metadata": {},
   "outputs": [],
   "source": []
  }
 ],
 "metadata": {
  "kernelspec": {
   "display_name": "Python 3",
   "language": "python",
   "name": "python3"
  },
  "language_info": {
   "codemirror_mode": {
    "name": "ipython",
    "version": 3
   },
   "file_extension": ".py",
   "mimetype": "text/x-python",
   "name": "python",
   "nbconvert_exporter": "python",
   "pygments_lexer": "ipython3",
   "version": "3.6.7"
  }
 },
 "nbformat": 4,
 "nbformat_minor": 2
}
