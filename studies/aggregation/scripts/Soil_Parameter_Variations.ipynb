{
 "cells": [
  {
   "cell_type": "code",
   "execution_count": null,
   "metadata": {},
   "outputs": [],
   "source": [
    "import os\n",
    "\n",
    "import pandas as pd\n",
    "import numpy as np\n",
    "\n",
    "import matplotlib.pyplot as plt\n",
    "import matplotlib.ticker as ticker\n",
    "%matplotlib inline"
   ]
  },
  {
   "cell_type": "code",
   "execution_count": null,
   "metadata": {},
   "outputs": [],
   "source": [
    "plt.style.use('seaborn-bright')\n",
    "plt.rcParams['figure.figsize'] = [15, 9]\n",
    "plt.rcParams['font.size'] = 12\n",
    "\n",
    "pd.set_option('display.max_columns', None)\n",
    "# pd.set_option('display.max_rows', None)"
   ]
  },
  {
   "cell_type": "code",
   "execution_count": null,
   "metadata": {},
   "outputs": [],
   "source": [
    "cwd = os.getcwd()\n",
    "join = os.path.join\n",
    "norm = os.path.normpath"
   ]
  },
  {
   "cell_type": "code",
   "execution_count": null,
   "metadata": {},
   "outputs": [],
   "source": [
    "soil_path = norm(join(cwd, '../soil/runs/soil_stats.csv'))"
   ]
  },
  {
   "cell_type": "code",
   "execution_count": null,
   "metadata": {},
   "outputs": [],
   "source": [
    "df = pd.read_csv(soil_path, index_col=[0])"
   ]
  },
  {
   "cell_type": "code",
   "execution_count": null,
   "metadata": {},
   "outputs": [],
   "source": [
    "df['alpha'] = df['conductivity'] / (df['cp'] * df['density'])"
   ]
  },
  {
   "cell_type": "code",
   "execution_count": null,
   "metadata": {},
   "outputs": [],
   "source": [
    "df.head(2)"
   ]
  },
  {
   "cell_type": "code",
   "execution_count": null,
   "metadata": {
    "scrolled": false
   },
   "outputs": [],
   "source": [
    "fig = plt.figure(figsize=(7, 5), dpi=200)\n",
    "ax = fig.add_subplot(1, 1, 1)\n",
    "    \n",
    "x = df['rmse'].values\n",
    "y = df['run time fraction'].values\n",
    "\n",
    "map_colors = 'conductivity'\n",
    "\n",
    "c = df[map_colors]\n",
    "sc = ax.scatter(x, y, c=c, cmap='jet')\n",
    "cb = plt.colorbar(sc)\n",
    "\n",
    "cb.set_label('Conductivity [W/m-K]')\n",
    "\n",
    "plt.xlabel('RMSE MFT [C]')\n",
    "plt.ylabel('Runtime Fraction')\n",
    "\n",
    "plt.grid(True)\n",
    "\n",
    "plt.savefig('{}.pdf'.format('soil_conductivity'), bbox_inches='tight')\n",
    "\n",
    "plt.show()"
   ]
  },
  {
   "cell_type": "code",
   "execution_count": null,
   "metadata": {},
   "outputs": [],
   "source": [
    "def fmt(x, pos):\n",
    "    a, b = '{:.1e}'.format(x).split('e')\n",
    "    b = int(b)\n",
    "    return r'${} \\times 10^{{{}}}$'.format(a, b)"
   ]
  },
  {
   "cell_type": "code",
   "execution_count": null,
   "metadata": {},
   "outputs": [],
   "source": [
    "fig = plt.figure(figsize=(7, 5), dpi=200)\n",
    "ax = fig.add_subplot(1, 1, 1)\n",
    "    \n",
    "x = df['rmse'].values\n",
    "y = df['run time fraction'].values\n",
    "\n",
    "map_colors = 'alpha'\n",
    "\n",
    "c = df[map_colors]\n",
    "sc = ax.scatter(x, y, c=c, cmap='jet')\n",
    "cb = plt.colorbar(sc, format=ticker.FuncFormatter(fmt))\n",
    "\n",
    "cb.set_label('Thermal Diffusivity [$m^2/s$]')\n",
    "\n",
    "plt.xlabel('RMSE MFT [C]')\n",
    "plt.ylabel('Runtime Fraction')\n",
    "\n",
    "plt.grid(True)\n",
    "\n",
    "plt.savefig('{}.pdf'.format('soil_diffusivity'), bbox_inches='tight')\n",
    "\n",
    "plt.show()"
   ]
  }
 ],
 "metadata": {
  "kernelspec": {
   "display_name": "Python 3",
   "language": "python",
   "name": "python3"
  },
  "language_info": {
   "codemirror_mode": {
    "name": "ipython",
    "version": 3
   },
   "file_extension": ".py",
   "mimetype": "text/x-python",
   "name": "python",
   "nbconvert_exporter": "python",
   "pygments_lexer": "ipython3",
   "version": "3.6.7"
  }
 },
 "nbformat": 4,
 "nbformat_minor": 2
}
