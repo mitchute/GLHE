{
 "cells": [
  {
   "cell_type": "code",
   "execution_count": null,
   "metadata": {},
   "outputs": [],
   "source": [
    "import os\n",
    "\n",
    "import pandas as pd\n",
    "\n",
    "import matplotlib.pyplot as plt\n",
    "%matplotlib inline"
   ]
  },
  {
   "cell_type": "code",
   "execution_count": null,
   "metadata": {},
   "outputs": [],
   "source": [
    "plt.style.use('ggplot')\n",
    "plt.rcParams['figure.figsize'] = [15, 9]\n",
    "plt.rcParams['font.size'] = 14\n",
    "\n",
    "pd.set_option('display.max_columns', None)\n",
    "# pd.set_option('display.max_rows', None)"
   ]
  },
  {
   "cell_type": "code",
   "execution_count": null,
   "metadata": {},
   "outputs": [],
   "source": [
    "cwd = os.getcwd()\n",
    "join = os.path.join\n",
    "norm = os.path.normpath"
   ]
  },
  {
   "cell_type": "code",
   "execution_count": null,
   "metadata": {},
   "outputs": [],
   "source": [
    "none_path = norm(join(cwd, '../../../studies/aggregation/none/runs/balanced_1/out.csv'))"
   ]
  },
  {
   "cell_type": "code",
   "execution_count": null,
   "metadata": {},
   "outputs": [],
   "source": [
    "df_none = pd.read_csv(none_path, index_col=0)\n",
    "df_none.head(2)"
   ]
  },
  {
   "cell_type": "code",
   "execution_count": null,
   "metadata": {},
   "outputs": [],
   "source": [
    "test_path = norm(join(cwd, '../../../studies/aggregation/static/runs/balanced_1/4/4_2/out.csv'))"
   ]
  },
  {
   "cell_type": "code",
   "execution_count": null,
   "metadata": {},
   "outputs": [],
   "source": [
    "df_test = pd.read_csv(test_path, index_col=0)\n",
    "df_test.head(2)"
   ]
  },
  {
   "cell_type": "code",
   "execution_count": null,
   "metadata": {},
   "outputs": [],
   "source": [
    "((df_none['Average Fluid Temp [C]'] - df_test['Average Fluid Temp [C]']) ** 2).mean() ** 0.5"
   ]
  },
  {
   "cell_type": "code",
   "execution_count": null,
   "metadata": {},
   "outputs": [],
   "source": [
    "fig = plt.figure()\n",
    "\n",
    "start_idx = 0\n",
    "end_idx = 20\n",
    "\n",
    "plt.plot(df_none['Average Fluid Temp [C]'].iloc[start_idx:end_idx], label=\"none\")\n",
    "plt.plot(df_test['Average Fluid Temp [C]'].iloc[start_idx:end_idx], label=\"local agg\")\n",
    "# plt.plot(df_server['Average Fluid Temp [C]'].iloc[start_idx:end_idx], label=\"server agg\")\n",
    "# plt.plot(df_ubuntu['Average Fluid Temp [C]'].iloc[start_idx:end_idx], label=\"ubuntu agg\")\n",
    "\n",
    "plt.legend()\n",
    "plt.show()"
   ]
  },
  {
   "cell_type": "code",
   "execution_count": null,
   "metadata": {},
   "outputs": [],
   "source": [
    "df_none.columns"
   ]
  },
  {
   "cell_type": "code",
   "execution_count": null,
   "metadata": {},
   "outputs": [],
   "source": [
    "fig = plt.figure()\n",
    "\n",
    "var = \"Plant Load [W]\"\n",
    "\n",
    "plt.plot(df_none[var].iloc[start_idx:end_idx], label=\"none\")\n",
    "plt.plot(df_test[var].iloc[start_idx:end_idx], label=\"local agg\")\n",
    "# plt.plot(df_server[var].iloc[start_idx:end_idx], label=\"server agg\")\n",
    "# plt.plot(df_ubuntu[var].iloc[start_idx:end_idx], label=\"ubuntu agg\")\n",
    "\n",
    "plt.legend()\n",
    "plt.show()"
   ]
  },
  {
   "cell_type": "code",
   "execution_count": null,
   "metadata": {},
   "outputs": [],
   "source": [
    "df_loads = pd.read_csv('../../../studies/aggregation/base/balanced.csv')\n",
    "df_loads.head(1)"
   ]
  },
  {
   "cell_type": "code",
   "execution_count": null,
   "metadata": {},
   "outputs": [],
   "source": [
    "fig = plt.figure()\n",
    "\n",
    "var = \"Plant Load [W]\"\n",
    "\n",
    "plt.plot(df_loads['Load [W]'].iloc[start_idx:end_idx], label=\"actual\")\n",
    "plt.plot(df_none[var].iloc[start_idx:end_idx], label=\"none\", linestyle='-.')\n",
    "plt.plot(df_test[var].iloc[start_idx:end_idx], label=\"local agg\", linestyle='--')\n",
    "# plt.plot(df_server[var].iloc[start_idx:end_idx], label=\"server agg\")\n",
    "# plt.plot(df_ubuntu[var].iloc[start_idx:end_idx], label=\"ubuntu agg\")\n",
    "\n",
    "plt.legend()\n",
    "plt.show()"
   ]
  }
 ],
 "metadata": {
  "kernelspec": {
   "display_name": "Python 3",
   "language": "python",
   "name": "python3"
  },
  "language_info": {
   "codemirror_mode": {
    "name": "ipython",
    "version": 3
   },
   "file_extension": ".py",
   "mimetype": "text/x-python",
   "name": "python",
   "nbconvert_exporter": "python",
   "pygments_lexer": "ipython3",
   "version": "3.7.3"
  }
 },
 "nbformat": 4,
 "nbformat_minor": 2
}
