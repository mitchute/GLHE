{
 "cells": [
  {
   "cell_type": "code",
   "execution_count": null,
   "metadata": {},
   "outputs": [],
   "source": [
    "import os\n",
    "\n",
    "import pandas as pd\n",
    "import numpy as np\n",
    "\n",
    "import matplotlib.pyplot as plt\n",
    "%matplotlib inline"
   ]
  },
  {
   "cell_type": "code",
   "execution_count": null,
   "metadata": {},
   "outputs": [],
   "source": [
    "plt.style.use('seaborn-bright')\n",
    "plt.rcParams['figure.figsize'] = [15, 9]\n",
    "plt.rcParams['font.size'] = 12\n",
    "\n",
    "pd.set_option('display.max_columns', None)\n",
    "# pd.set_option('display.max_rows', None)"
   ]
  },
  {
   "cell_type": "code",
   "execution_count": null,
   "metadata": {},
   "outputs": [],
   "source": [
    "cwd = os.getcwd()\n",
    "join = os.path.join\n",
    "norm = os.path.normpath"
   ]
  },
  {
   "cell_type": "code",
   "execution_count": null,
   "metadata": {},
   "outputs": [],
   "source": [
    "d_path = norm(join(cwd, '../dynamic_timing/runs/dynamic_stats.csv'))"
   ]
  },
  {
   "cell_type": "code",
   "execution_count": null,
   "metadata": {},
   "outputs": [],
   "source": [
    "df_d = pd.read_csv(d_path, index_col=[0])"
   ]
  },
  {
   "cell_type": "code",
   "execution_count": null,
   "metadata": {},
   "outputs": [],
   "source": [
    "df_d['run time improvement'] = 1 / df_d['run time fraction']"
   ]
  },
  {
   "cell_type": "code",
   "execution_count": null,
   "metadata": {},
   "outputs": [],
   "source": [
    "df_d.head(2)"
   ]
  },
  {
   "cell_type": "code",
   "execution_count": null,
   "metadata": {},
   "outputs": [],
   "source": [
    "def plot_rmse_vs_sim_time(load, exp_rates, width):\n",
    "\n",
    "    fig = plt.figure()\n",
    "    ax = fig.add_subplot(1, 1, 1)\n",
    "    \n",
    "    markers = ['o', 'v', 's', 'p', '*', 'h']\n",
    "\n",
    "    for idx, exp_rate in enumerate(exp_rates):\n",
    "        mask_1 = (df_d['load'] == load) & (df_d['start width'] == width)\n",
    "        mask_2 = df_d['exp_rate'] == exp_rate\n",
    "        mask = mask_1 & mask_2\n",
    "        x = df_d['sim time'].loc[mask]\n",
    "        y = df_d['rmse'].loc[mask]\n",
    "        ax.plot(x, y, marker=markers[idx], label=exp_rate)\n",
    "        \n",
    "    plt.legend()\n",
    "    plt.grid(True)\n",
    "    plt.plot()"
   ]
  },
  {
   "cell_type": "code",
   "execution_count": null,
   "metadata": {},
   "outputs": [],
   "source": [
    "plot_rmse_vs_sim_time('balanced', [1.25, 1.50, 1.62, 1.75], 10)"
   ]
  },
  {
   "cell_type": "code",
   "execution_count": null,
   "metadata": {},
   "outputs": [],
   "source": [
    "def plot_rmse_vs_sim_time(load, widths, exp_rate):\n",
    "\n",
    "    fig = plt.figure()\n",
    "    ax = fig.add_subplot(1, 1, 1)\n",
    "    \n",
    "    markers = ['o', 'v', 's', 'p', '*', 'h']\n",
    "\n",
    "    for idx, width in enumerate(widths):\n",
    "        mask_1 = (df_d['load'] == load) & (df_d['exp_rate'] == exp_rate)\n",
    "        mask_2 = df_d['start width'] == width\n",
    "        mask = mask_1 & mask_2\n",
    "        x = df_d['sim time'].loc[mask]\n",
    "        y = df_d['rmse'].loc[mask]\n",
    "        ax.plot(x, y, marker=markers[idx], label=width)\n",
    "    \n",
    "    plt.legend()\n",
    "    plt.grid(True)\n",
    "    plt.plot()"
   ]
  },
  {
   "cell_type": "code",
   "execution_count": null,
   "metadata": {},
   "outputs": [],
   "source": [
    "plot_rmse_vs_sim_time('balanced', [1, 5, 10], 1.62)"
   ]
  }
 ],
 "metadata": {
  "kernelspec": {
   "display_name": "Python 3",
   "language": "python",
   "name": "python3"
  },
  "language_info": {
   "codemirror_mode": {
    "name": "ipython",
    "version": 3
   },
   "file_extension": ".py",
   "mimetype": "text/x-python",
   "name": "python",
   "nbconvert_exporter": "python",
   "pygments_lexer": "ipython3",
   "version": "3.6.6"
  }
 },
 "nbformat": 4,
 "nbformat_minor": 2
}
