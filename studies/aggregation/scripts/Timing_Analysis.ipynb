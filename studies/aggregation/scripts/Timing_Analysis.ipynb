{
 "cells": [
  {
   "cell_type": "code",
   "execution_count": null,
   "metadata": {},
   "outputs": [],
   "source": [
    "import os\n",
    "\n",
    "import pandas as pd\n",
    "import numpy as np\n",
    "\n",
    "import matplotlib.pyplot as plt\n",
    "%matplotlib inline"
   ]
  },
  {
   "cell_type": "code",
   "execution_count": null,
   "metadata": {},
   "outputs": [],
   "source": [
    "plt.style.use('seaborn-bright')\n",
    "plt.rcParams['figure.figsize'] = [15, 9]\n",
    "plt.rcParams['font.size'] = 12\n",
    "\n",
    "pd.set_option('display.max_columns', None)\n",
    "# pd.set_option('display.max_rows', None)"
   ]
  },
  {
   "cell_type": "code",
   "execution_count": null,
   "metadata": {},
   "outputs": [],
   "source": [
    "cwd = os.getcwd()\n",
    "join = os.path.join\n",
    "norm = os.path.normpath"
   ]
  },
  {
   "cell_type": "code",
   "execution_count": null,
   "metadata": {},
   "outputs": [],
   "source": [
    "d_path = norm(join(cwd, '../dynamic_timing/runs/dynamic_stats.csv'))"
   ]
  },
  {
   "cell_type": "code",
   "execution_count": null,
   "metadata": {},
   "outputs": [],
   "source": [
    "df_d = pd.read_csv(d_path, index_col=[0])"
   ]
  },
  {
   "cell_type": "code",
   "execution_count": null,
   "metadata": {},
   "outputs": [],
   "source": [
    "df_d['run time improvement'] = 1 / df_d['run time fraction']"
   ]
  },
  {
   "cell_type": "code",
   "execution_count": null,
   "metadata": {},
   "outputs": [],
   "source": [
    "df_d.head(2)"
   ]
  },
  {
   "cell_type": "code",
   "execution_count": null,
   "metadata": {},
   "outputs": [],
   "source": [
    "def plot_rmse(load):\n",
    "\n",
    "    fig, ax = plt.subplots(3, 1, sharex=True, sharey=True, figsize=(7, 5), dpi=200)\n",
    "    fig.tight_layout()\n",
    "\n",
    "    markers = ['o', 'v', 's', 'p', '*', 'h']\n",
    "    colors = ['r', 'g', 'b', 'k']\n",
    "    lines = ['-', '--', '-.', ':']\n",
    "\n",
    "    widths = [1, 5, 10]\n",
    "    exp_rates = [1.25, 1.50, 1.62, 1.75]\n",
    "\n",
    "    for idx, width in enumerate(widths):\n",
    "        mask_1 = (df_d['load'] == load) & (df_d['start width'] == width)\n",
    "\n",
    "        for idx_2, rate in enumerate(exp_rates):\n",
    "            mask_2 = df_d['exp_rate'] == rate\n",
    "            mask = mask_1 & mask_2\n",
    "            x = df_d['sim time'].loc[mask].values\n",
    "            y = df_d['rmse'].loc[mask].values\n",
    "            if idx == 1:\n",
    "                ax[idx].plot(x, y, marker=markers[idx_2], c=colors[idx_2], linestyle=lines[idx_2], label='{:0.2f}'.format(rate))\n",
    "            else:\n",
    "                ax[idx].plot(x, y, marker=markers[idx_2], c=colors[idx_2], linestyle=lines[idx_2])\n",
    "\n",
    "            if idx == 2:\n",
    "                ax[idx].set_xlabel('Simulation Years')\n",
    "\n",
    "            ax[idx].set_title('$N_b$ = {}'.format(width))\n",
    "            ax[idx].grid(True)\n",
    "\n",
    "    fig.text(-0.04, 0.5, 'RMSE MFT [C]', va='center', rotation='vertical')\n",
    "    fig.legend(bbox_to_anchor=(0.25, 0.57, 1, .102), loc='best',\n",
    "               ncol=1, borderaxespad=0., title=\"Expansion Rate\")\n",
    "    plt.savefig('timing_rmse_{}.pdf'.format(load), bbox_inches='tight')\n",
    "    plt.show()"
   ]
  },
  {
   "cell_type": "code",
   "execution_count": null,
   "metadata": {},
   "outputs": [],
   "source": [
    "plot_rmse('balanced')"
   ]
  },
  {
   "cell_type": "code",
   "execution_count": null,
   "metadata": {},
   "outputs": [],
   "source": [
    "plot_rmse('imbalanced')"
   ]
  },
  {
   "cell_type": "code",
   "execution_count": null,
   "metadata": {},
   "outputs": [],
   "source": [
    "def plot_runtime(load):\n",
    "\n",
    "    fig, ax = plt.subplots(3, 1, sharex=True, sharey=True, figsize=(7, 5), dpi=200)\n",
    "    fig.tight_layout()\n",
    "\n",
    "    markers = ['o', 'v', 's', 'p', '*', 'h']\n",
    "    colors = ['r', 'g', 'b', 'k']\n",
    "    lines = ['-', '--', '-.', ':']\n",
    "\n",
    "    widths = [1, 5, 10]\n",
    "    exp_rates = [1.25, 1.50, 1.62, 1.75]\n",
    "\n",
    "    for idx, width in enumerate(widths):\n",
    "        mask_1 = (df_d['load'] == load) & (df_d['start width'] == width)\n",
    "\n",
    "        for idx_2, rate in enumerate(exp_rates):\n",
    "            mask_2 = df_d['exp_rate'] == rate\n",
    "            mask = mask_1 & mask_2\n",
    "            x = df_d['sim time'].loc[mask].values\n",
    "            y = df_d['run time improvement'].loc[mask].values\n",
    "            if idx == 1:\n",
    "                ax[idx].plot(x, y, marker=markers[idx_2], c=colors[idx_2], linestyle=lines[idx_2], label='{:0.2f}'.format(rate))\n",
    "            else:\n",
    "                ax[idx].plot(x, y, marker=markers[idx_2], c=colors[idx_2], linestyle=lines[idx_2])\n",
    "\n",
    "            if idx == 2:\n",
    "                ax[idx].set_xlabel('Simulation Years')\n",
    "                \n",
    "            ax[idx].yaxis.set_major_formatter(plt.FuncFormatter('{:0.0f}$\\\\times$'.format))\n",
    "\n",
    "            ax[idx].set_title('$N_b$ = {}'.format(width))\n",
    "            ax[idx].grid(True)\n",
    "\n",
    "    fig.text(-0.04, 0.5, 'Runtime Improvement', va='center', rotation='vertical')\n",
    "    fig.legend(bbox_to_anchor=(0.25, 0.575, 1, .102), loc='best',\n",
    "               ncol=1, borderaxespad=0., title=\"Expansion Rate\")\n",
    "    plt.savefig('timing_runtime_{}.pdf'.format(load), bbox_inches='tight')\n",
    "    plt.show()"
   ]
  },
  {
   "cell_type": "code",
   "execution_count": null,
   "metadata": {},
   "outputs": [],
   "source": [
    "plot_runtime('balanced')"
   ]
  },
  {
   "cell_type": "code",
   "execution_count": null,
   "metadata": {},
   "outputs": [],
   "source": [
    "plot_runtime('imbalanced')"
   ]
  }
 ],
 "metadata": {
  "kernelspec": {
   "display_name": "Python 3",
   "language": "python",
   "name": "python3"
  },
  "language_info": {
   "codemirror_mode": {
    "name": "ipython",
    "version": 3
   },
   "file_extension": ".py",
   "mimetype": "text/x-python",
   "name": "python",
   "nbconvert_exporter": "python",
   "pygments_lexer": "ipython3",
   "version": "3.6.7"
  }
 },
 "nbformat": 4,
 "nbformat_minor": 2
}
