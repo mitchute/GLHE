{
 "cells": [
  {
   "cell_type": "code",
   "execution_count": null,
   "metadata": {},
   "outputs": [],
   "source": [
    "import os\n",
    "\n",
    "import pandas as pd\n",
    "import numpy as np\n",
    "\n",
    "import pareto\n",
    "\n",
    "from matplotlib.ticker import StrMethodFormatter\n",
    "\n",
    "import matplotlib.pyplot as plt\n",
    "%matplotlib inline"
   ]
  },
  {
   "cell_type": "code",
   "execution_count": null,
   "metadata": {},
   "outputs": [],
   "source": [
    "plt.style.use('seaborn-bright')\n",
    "plt.rcParams['figure.figsize'] = [15, 9]\n",
    "plt.rcParams['font.size'] = 12\n",
    "\n",
    "pd.set_option('display.max_columns', None)\n",
    "# pd.set_option('display.max_rows', None)"
   ]
  },
  {
   "cell_type": "code",
   "execution_count": null,
   "metadata": {},
   "outputs": [],
   "source": [
    "cwd = os.getcwd()\n",
    "join = os.path.join\n",
    "norm = os.path.normpath"
   ]
  },
  {
   "cell_type": "code",
   "execution_count": null,
   "metadata": {},
   "outputs": [],
   "source": [
    "dynamic_path = norm(join(cwd, '../dynamic/runs/dynamic_stats.csv'))\n",
    "static_path = norm(join(cwd, '../static/runs/static_stats.csv'))\n",
    "mlaa_path = norm(join(cwd, '../MLAA-Bernier/runs/MLAA_stats.csv'))\n",
    "liu_path = norm(join(cwd, '../Hierarchical-Liu/runs/Hierarchical_stats.csv'))\n",
    "cenk_path = norm(join(cwd, '../Yavuzturk/runs/Yavuzturk_stats.csv'))"
   ]
  },
  {
   "cell_type": "code",
   "execution_count": null,
   "metadata": {},
   "outputs": [],
   "source": [
    "df_d = pd.read_csv(dynamic_path, index_col=[0])\n",
    "df_s = pd.read_csv(static_path, index_col=[0])\n",
    "df_m = pd.read_csv(mlaa_path, index_col=[0])\n",
    "df_l = pd.read_csv(liu_path, index_col=[0])\n",
    "df_c = pd.read_csv(cenk_path, index_col=[0])"
   ]
  },
  {
   "cell_type": "code",
   "execution_count": null,
   "metadata": {},
   "outputs": [],
   "source": [
    "df_d.head(2)"
   ]
  },
  {
   "cell_type": "code",
   "execution_count": null,
   "metadata": {},
   "outputs": [],
   "source": [
    "def find_claesson(load, year):\n",
    "    _df = df_d.loc[(df_d['load'] == load) & (df_d['sim time'] == year) & (df_d['start width'] == 5) & (df_d['end width'] == 5) & (df_d['exp_rate'] == 2)]\n",
    "    x = _df['rmse'].values\n",
    "    y = _df['run time fraction'].values\n",
    "    return float(x), float(y)"
   ]
  },
  {
   "cell_type": "code",
   "execution_count": null,
   "metadata": {},
   "outputs": [],
   "source": [
    "def plot_all_methods_runtimefrac_vs_rmse(dfs, names, load, year):\n",
    "    fig = plt.figure(figsize=(7, 5), dpi=200)\n",
    "    ax = fig.add_subplot(1, 1, 1)\n",
    "    markers = ['X', 'D', 'v', 'h', '+', '*']\n",
    "    \n",
    "    for idx, df in enumerate(dfs):\n",
    "        mask = (df['load'] == load) & (df['sim time'] == year)\n",
    "        x = df.loc[mask]['rmse']\n",
    "        y = df.loc[mask]['run time fraction']\n",
    "        ax.scatter(x, y, label=names[idx], marker=markers[idx])\n",
    "      \n",
    "    x, y = find_claesson(load, year)\n",
    "    ax.scatter(x, y, label='Claesson', marker=markers[-1])\n",
    "    \n",
    "    plt.xlabel('RMSE MFT [C]')\n",
    "    plt.ylabel('Runtime Fraction')\n",
    "    plt.title('{} {}'.format(load.title(), year))\n",
    "    \n",
    "    plt.legend()\n",
    "    plt.grid(True)\n",
    "#     plt.savefig('{}_{}.pdf'.format(load, year), bbox_inches='tight')\n",
    "    plt.show()"
   ]
  },
  {
   "cell_type": "code",
   "execution_count": null,
   "metadata": {
    "scrolled": false
   },
   "outputs": [],
   "source": [
    "plot_all_methods_runtimefrac_vs_rmse([df_d, df_s, df_m, df_l, df_c], \n",
    "                                     ['Dynamic', 'Static', 'Bernier', 'Liu', 'Yavuzturk'],\n",
    "                                    'balanced',\n",
    "                                    1)"
   ]
  },
  {
   "cell_type": "code",
   "execution_count": null,
   "metadata": {},
   "outputs": [],
   "source": [
    "plot_all_methods_runtimefrac_vs_rmse([df_d, df_s, df_m, df_l, df_c], \n",
    "                                     ['Dynamic', 'Static', 'Bernier', 'Liu', 'Yavuzturk'],\n",
    "                                    'imbalanced',\n",
    "                                    1)"
   ]
  },
  {
   "cell_type": "code",
   "execution_count": null,
   "metadata": {},
   "outputs": [],
   "source": [
    "plot_all_methods_runtimefrac_vs_rmse([df_d, df_s, df_m, df_l, df_c], \n",
    "                                     ['Dynamic', 'Static', 'Bernier', 'Liu', 'Yavuzturk'],\n",
    "                                    'balanced',\n",
    "                                    5)"
   ]
  },
  {
   "cell_type": "code",
   "execution_count": null,
   "metadata": {},
   "outputs": [],
   "source": [
    "plot_all_methods_runtimefrac_vs_rmse([df_d, df_s, df_m, df_l, df_c], \n",
    "                                     ['Dynamic', 'Static', 'Bernier', 'Liu', 'Yavuzturk'],\n",
    "                                    'imbalanced',\n",
    "                                    5)"
   ]
  },
  {
   "cell_type": "code",
   "execution_count": null,
   "metadata": {},
   "outputs": [],
   "source": [
    "plot_all_methods_runtimefrac_vs_rmse([df_d, df_s, df_m, df_l, df_c], \n",
    "                                     ['Dynamic', 'Static', 'Bernier', 'Liu', 'Yavuzturk'],\n",
    "                                    'balanced',\n",
    "                                    10)"
   ]
  },
  {
   "cell_type": "code",
   "execution_count": null,
   "metadata": {},
   "outputs": [],
   "source": [
    "plot_all_methods_runtimefrac_vs_rmse([df_d, df_s, df_m, df_l, df_c], \n",
    "                                     ['Dynamic', 'Static', 'Bernier', 'Liu', 'Yavuzturk'],\n",
    "                                    'imbalanced',\n",
    "                                    10)"
   ]
  },
  {
   "cell_type": "code",
   "execution_count": null,
   "metadata": {},
   "outputs": [],
   "source": [
    "def define_pareto(df_in):\n",
    "    df = pd.DataFrame.from_records(pareto.eps_sort([list(df_in.itertuples(False))], [4, 5]), columns=list(df_in.columns.values))\n",
    "    df.sort_values(by=['rmse'], inplace=True)\n",
    "    return df"
   ]
  },
  {
   "cell_type": "code",
   "execution_count": null,
   "metadata": {},
   "outputs": [],
   "source": [
    "def plot_pareto_with_data(df, load, year, data_label, ymax=None, ymin=None):\n",
    "    mask = (df['sim time'] == year) & (df['load'] == load)\n",
    "    df_pareto = define_pareto(df.loc[mask])\n",
    "    \n",
    "    fig = plt.figure(figsize=(7, 5), dpi=200)\n",
    "    ax = fig.add_subplot(1, 1, 1)\n",
    "    \n",
    "    x = df['rmse'].loc[mask].values\n",
    "    y = df['run time fraction'].loc[mask].values\n",
    "    \n",
    "    plt.scatter(x, y, label=data_label)\n",
    "    plt.plot(df_pareto['rmse'].values, df_pareto['run time fraction'].values, c='r', label='Pareto')\n",
    "    \n",
    "    plt.xlabel('RMSE MFT [C]')\n",
    "    plt.ylabel('Runtime Fraction')\n",
    "    plt.title('{} {}'.format(load.title(), year))\n",
    "        \n",
    "    if ymax:\n",
    "        plt.gca().set_ylim(top=ymax)\n",
    "        \n",
    "    if ymin:\n",
    "        plt.gca().set_ylim(bottom=ymin)\n",
    "    \n",
    "    plt.legend()\n",
    "    plt.grid(True)\n",
    "    plt.savefig('{}_{}_pareto.pdf'.format(load, year), bbox_inches='tight')\n",
    "    plt.show()"
   ]
  },
  {
   "cell_type": "code",
   "execution_count": null,
   "metadata": {},
   "outputs": [],
   "source": [
    "plot_pareto_with_data(df_d, 'balanced', 1, 'Dynamic', ymax = 0.035, ymin=0.023)"
   ]
  },
  {
   "cell_type": "code",
   "execution_count": null,
   "metadata": {},
   "outputs": [],
   "source": [
    "plot_pareto_with_data(df_d, 'imbalanced', 1, 'Dynamic', ymax=0.035, ymin=0.023)"
   ]
  },
  {
   "cell_type": "code",
   "execution_count": null,
   "metadata": {},
   "outputs": [],
   "source": [
    "plot_pareto_with_data(df_d, 'balanced', 5, 'Dynamic', ymax=0.013, ymin=0.005)"
   ]
  },
  {
   "cell_type": "code",
   "execution_count": null,
   "metadata": {},
   "outputs": [],
   "source": [
    "plot_pareto_with_data(df_d, 'imbalanced', 5, 'Dynamic', ymax=0.013, ymin=0.005)"
   ]
  },
  {
   "cell_type": "code",
   "execution_count": null,
   "metadata": {},
   "outputs": [],
   "source": [
    "plot_pareto_with_data(df_d, 'balanced', 10, 'Dynamic', ymax=0.008, ymin=0.003)"
   ]
  },
  {
   "cell_type": "code",
   "execution_count": null,
   "metadata": {
    "scrolled": false
   },
   "outputs": [],
   "source": [
    "plot_pareto_with_data(df_d, 'imbalanced', 10, 'Dynamic', ymax=0.008, ymin=0.003)"
   ]
  },
  {
   "cell_type": "code",
   "execution_count": null,
   "metadata": {},
   "outputs": [],
   "source": [
    "df_d.head(1)"
   ]
  },
  {
   "cell_type": "code",
   "execution_count": null,
   "metadata": {},
   "outputs": [],
   "source": [
    "def get_all_paretos(df, loads, years):\n",
    "    \n",
    "    df_ret = pd.DataFrame(columns=df.columns)\n",
    "    \n",
    "    for load in loads:\n",
    "        for year in years:\n",
    "            mask = (df['load'] == load) & (df['sim time'] == year)\n",
    "            \n",
    "            df_pareto = define_pareto(df.loc[mask])\n",
    "            \n",
    "            df_ret = pd.concat([df_ret, df_pareto])\n",
    "        \n",
    "    return df_ret"
   ]
  },
  {
   "cell_type": "code",
   "execution_count": null,
   "metadata": {},
   "outputs": [],
   "source": [
    "df_all_pareto = get_all_paretos(df_d, ['balanced', 'imbalanced'], [1, 5, 10])"
   ]
  },
  {
   "cell_type": "code",
   "execution_count": null,
   "metadata": {},
   "outputs": [],
   "source": [
    "df_all_pareto.head(1)"
   ]
  },
  {
   "cell_type": "code",
   "execution_count": null,
   "metadata": {},
   "outputs": [],
   "source": [
    "df_all_pareto[['depth', \n",
    "               'end width', \n",
    "               'exp_rate', \n",
    "               'rmse', \n",
    "               'run time', \n",
    "               'run time fraction', \n",
    "               'run time stdev', \n",
    "               'sample count', \n",
    "               'sim time', \n",
    "               'start width']] = df_all_pareto[['depth', \n",
    "                                                'end width', \n",
    "                                                'exp_rate', \n",
    "                                                'rmse', \n",
    "                                                'run time', \n",
    "                                                'run time fraction', \n",
    "                                                'run time stdev', \n",
    "                                                'sample count', \n",
    "                                                'sim time', \n",
    "                                                'start width']].apply(pd.to_numeric)"
   ]
  },
  {
   "cell_type": "code",
   "execution_count": null,
   "metadata": {},
   "outputs": [],
   "source": [
    "df_all_pareto.hist()"
   ]
  },
  {
   "cell_type": "code",
   "execution_count": null,
   "metadata": {},
   "outputs": [],
   "source": [
    "def make_hist(series, label, save_name):\n",
    "\n",
    "    # https://community.modeanalytics.com/gallery/python_histogram/\n",
    "    ax = df_all_pareto.hist(column=series, by='sim time', bins=10, sharex=True, layout=(3, 1), figsize=(12,8), zorder=2, rwidth=0.9)\n",
    "    for i,x in enumerate(ax):\n",
    "\n",
    "        # Despine\n",
    "        x.spines['right'].set_visible(False)\n",
    "        x.spines['top'].set_visible(False)\n",
    "        x.spines['left'].set_visible(False)\n",
    "\n",
    "        # Switch off ticks\n",
    "        x.tick_params(axis=\"both\", which=\"both\", bottom=False, top=False, labelbottom=True, left=False, right=False, labelleft=True)\n",
    "\n",
    "        # Draw horizontal axis lines\n",
    "        vals = x.get_yticks()\n",
    "        for tick in vals:\n",
    "            x.axhline(y=tick, linestyle='dashed', alpha=0.4, color='#eeeeee', zorder=1)\n",
    "\n",
    "        # Set x-axis label\n",
    "        x.set_xlabel(label, labelpad=20, size=14)\n",
    "\n",
    "        # Set y-axis label\n",
    "        if i == 1:\n",
    "            x.set_ylabel(\"Frequency\", labelpad=50, size=14)\n",
    "\n",
    "        # Format y-axis label\n",
    "        x.yaxis.set_major_formatter(StrMethodFormatter('{x:,g}'))\n",
    "\n",
    "        x.tick_params(axis='x', rotation=0)\n",
    "        \n",
    "    fig = ax[0].get_figure()\n",
    "    fig.savefig(save_name, bbox_inches='tight')"
   ]
  },
  {
   "cell_type": "code",
   "execution_count": null,
   "metadata": {},
   "outputs": [],
   "source": [
    "make_hist('rmse', 'RMSE MFT [C]', 'hist_rmse.pdf')"
   ]
  },
  {
   "cell_type": "code",
   "execution_count": null,
   "metadata": {},
   "outputs": [],
   "source": [
    "def make_scatter_with_color_bar(df, color_name, color_label, title, ymax=None, ymin=None, save_name=None):\n",
    "\n",
    "    fig = plt.figure(figsize=(7, 5), dpi=200)\n",
    "    ax = fig.add_subplot(1, 1, 1)\n",
    "\n",
    "    c = df[color_name].values\n",
    "    sc = ax.scatter(df['rmse'].values, df['run time fraction'].values, c=c, cmap='jet', label='Dynamic')\n",
    "    cb = plt.colorbar(sc)\n",
    "    \n",
    "    cb.set_label(color_label)\n",
    "    \n",
    "    plt.xlabel('RMSE MFT [C]')\n",
    "    plt.ylabel('Runtime Fraction')\n",
    "    plt.title(title)\n",
    "        \n",
    "    if ymax:\n",
    "        plt.gca().set_ylim(top=ymax)\n",
    "        \n",
    "    if ymin:\n",
    "        plt.gca().set_ylim(bottom=ymin)\n",
    "    \n",
    "    plt.legend()\n",
    "    plt.grid(True)\n",
    "    \n",
    "    if save_name:\n",
    "        plt.savefig('{}.pdf'.format(save_name), bbox_inches='tight')\n",
    "        \n",
    "    plt.show()"
   ]
  },
  {
   "cell_type": "code",
   "execution_count": null,
   "metadata": {},
   "outputs": [],
   "source": [
    "df_d['sw-ew'] = df_d['start width'] - df_d['end width']"
   ]
  },
  {
   "cell_type": "code",
   "execution_count": null,
   "metadata": {},
   "outputs": [],
   "source": [
    "load = 'balanced'\n",
    "year = 1\n",
    "mask = (df_d['load'] == load) & (df_d['sim time'] == year)\n",
    "make_scatter_with_color_bar(df_d.loc[mask], 'exp_rate', 'Expansion Rate', '{} {}'.format(load.title(), year), save_name='{}_{}_exp_rate'.format(load, year))"
   ]
  },
  {
   "cell_type": "code",
   "execution_count": null,
   "metadata": {},
   "outputs": [],
   "source": [
    "load = 'imbalanced'\n",
    "year = 1\n",
    "mask = (df_d['load'] == load) & (df_d['sim time'] == year)\n",
    "make_scatter_with_color_bar(df_d.loc[mask], 'exp_rate', 'Expansion Rate', '{} {}'.format(load.title(), year), save_name='{}_{}_exp_rate'.format(load, year))"
   ]
  },
  {
   "cell_type": "code",
   "execution_count": null,
   "metadata": {},
   "outputs": [],
   "source": [
    "load = 'balanced'\n",
    "year = 5\n",
    "mask = (df_d['load'] == load) & (df_d['sim time'] == year)\n",
    "make_scatter_with_color_bar(df_d.loc[mask], 'exp_rate', 'Expansion Rate', '{} {}'.format(load.title(), year), save_name='{}_{}_exp_rate'.format(load, year))"
   ]
  },
  {
   "cell_type": "code",
   "execution_count": null,
   "metadata": {},
   "outputs": [],
   "source": [
    "load = 'imbalanced'\n",
    "year = 5\n",
    "mask = (df_d['load'] == load) & (df_d['sim time'] == year)\n",
    "make_scatter_with_color_bar(df_d.loc[mask], 'exp_rate', 'Expansion Rate', '{} {}'.format(load.title(), year), save_name='{}_{}_exp_rate'.format(load, year))"
   ]
  },
  {
   "cell_type": "code",
   "execution_count": null,
   "metadata": {},
   "outputs": [],
   "source": [
    "load = 'balanced'\n",
    "year = 10\n",
    "mask = (df_d['load'] == load) & (df_d['sim time'] == year)\n",
    "make_scatter_with_color_bar(df_d.loc[mask], 'exp_rate', 'Expansion Rate', '{} {}'.format(load.title(), year), save_name='{}_{}_exp_rate'.format(load, year))"
   ]
  },
  {
   "cell_type": "code",
   "execution_count": null,
   "metadata": {},
   "outputs": [],
   "source": [
    "load = 'imbalanced'\n",
    "year = 10\n",
    "mask = (df_d['load'] == load) & (df_d['sim time'] == year)\n",
    "make_scatter_with_color_bar(df_d.loc[mask], 'exp_rate', 'Expansion Rate', '{} {}'.format(load.title(), year), save_name='{}_{}_exp_rate'.format(load, year))"
   ]
  },
  {
   "cell_type": "code",
   "execution_count": null,
   "metadata": {},
   "outputs": [],
   "source": [
    "df_d.head(2)"
   ]
  },
  {
   "cell_type": "code",
   "execution_count": null,
   "metadata": {},
   "outputs": [],
   "source": [
    "def make_scatter_with_color_bar_and_markers(df, color_name, color_label, marker_data, marker_names, title, ymax=None, ymin=None, save_name=None):\n",
    "\n",
    "    fig = plt.figure(figsize=(7, 5), dpi=200)\n",
    "    ax = fig.add_subplot(1, 1, 1)\n",
    "\n",
    "    markers = ['X', 'D', 'v', 'h', '+', '*']\n",
    "    \n",
    "    for idx, m in enumerate(marker_names):\n",
    "        mask = df[marker_data] == marker_names[idx]\n",
    "        c = df[color_name].loc[mask].values\n",
    "        sc = ax.scatter(df['rmse'].loc[mask].values, df['run time fraction'].loc[mask].values, c=c, cmap='jet', label=str(m), marker=markers[idx])\n",
    "        \n",
    "    cb = plt.colorbar(sc)\n",
    "    cb.set_label(color_label)\n",
    "    \n",
    "    plt.xlabel('RMSE MFT [C]')\n",
    "    plt.ylabel('Runtime Fraction')\n",
    "    plt.title(title)\n",
    "        \n",
    "    if ymax:\n",
    "        plt.gca().set_ylim(top=ymax)\n",
    "        \n",
    "    if ymin:\n",
    "        plt.gca().set_ylim(bottom=ymin)\n",
    "    \n",
    "    plt.legend()\n",
    "    plt.grid(True)\n",
    "    \n",
    "    if save_name:\n",
    "        plt.savefig('{}.pdf'.format(save_name), bbox_inches='tight')\n",
    "        \n",
    "    plt.show()"
   ]
  },
  {
   "cell_type": "code",
   "execution_count": null,
   "metadata": {},
   "outputs": [],
   "source": [
    "load = 'balanced'\n",
    "year = 1\n",
    "\n",
    "mask_1 = (df_d['load'] == load) & (df_d['sim time'] == year)\n",
    "mask_2 = (df_d['exp_rate'] == 1.25) | (df_d['exp_rate'] == 1.50) | (df_d['exp_rate'] == 1.62) | (df_d['exp_rate'] == 1.75)\n",
    "mask = mask_1 & mask_2\n",
    "make_scatter_with_color_bar(df_d.loc[mask], 'start width', 'Start Width', '{} {}'.format(load.title(), year), save_name='{}_{}_125-to-175_exp_rate_start_width'.format(load, year))"
   ]
  },
  {
   "cell_type": "code",
   "execution_count": null,
   "metadata": {},
   "outputs": [],
   "source": [
    "load = 'imbalanced'\n",
    "year = 1\n",
    "\n",
    "mask_1 = (df_d['load'] == load) & (df_d['sim time'] == year)\n",
    "mask_2 = (df_d['exp_rate'] == 1.25) | (df_d['exp_rate'] == 1.50) | (df_d['exp_rate'] == 1.62) | (df_d['exp_rate'] == 1.75)\n",
    "mask = mask_1 & mask_2\n",
    "make_scatter_with_color_bar(df_d.loc[mask], 'start width', 'Start Width', '{} {}'.format(load.title(), year), save_name='{}_{}_125-to-175_exp_rate_start_width'.format(load, year))"
   ]
  },
  {
   "cell_type": "code",
   "execution_count": null,
   "metadata": {},
   "outputs": [],
   "source": [
    "load = 'balanced'\n",
    "year = 5\n",
    "\n",
    "mask_1 = (df_d['load'] == load) & (df_d['sim time'] == year)\n",
    "mask_2 = (df_d['exp_rate'] == 1.25) | (df_d['exp_rate'] == 1.50) | (df_d['exp_rate'] == 1.62) | (df_d['exp_rate'] == 1.75)\n",
    "mask = mask_1 & mask_2\n",
    "make_scatter_with_color_bar(df_d.loc[mask], 'start width', 'Start Width', '{} {}'.format(load.title(), year), save_name='{}_{}_125-to-175_exp_rate_start_width'.format(load, year))"
   ]
  },
  {
   "cell_type": "code",
   "execution_count": null,
   "metadata": {},
   "outputs": [],
   "source": [
    "load = 'imbalanced'\n",
    "year = 5\n",
    "\n",
    "mask_1 = (df_d['load'] == load) & (df_d['sim time'] == year)\n",
    "mask_2 = (df_d['exp_rate'] == 1.25) | (df_d['exp_rate'] == 1.50) | (df_d['exp_rate'] == 1.62) | (df_d['exp_rate'] == 1.75)\n",
    "mask = mask_1 & mask_2\n",
    "make_scatter_with_color_bar(df_d.loc[mask], 'start width', 'Start Width', '{} {}'.format(load.title(), year), save_name='{}_{}_125-to-175_exp_rate_start_width'.format(load, year))"
   ]
  },
  {
   "cell_type": "code",
   "execution_count": null,
   "metadata": {},
   "outputs": [],
   "source": [
    "load = 'imbalanced'\n",
    "year = 5\n",
    "\n",
    "mask_1 = (df_d['load'] == load) & (df_d['sim time'] == year)\n",
    "mask_2 = (df_d['exp_rate'] == 1.25) | (df_d['exp_rate'] == 1.50) | (df_d['exp_rate'] == 1.62) | (df_d['exp_rate'] == 1.75)\n",
    "mask = mask_1 & mask_2\n",
    "make_scatter_with_color_bar(df_d.loc[mask], 'start width', 'Start Width', '{} {}'.format(load.title(), year), save_name='{}_{}_125-to-175_exp_rate_start_width'.format(load, year))"
   ]
  },
  {
   "cell_type": "code",
   "execution_count": null,
   "metadata": {},
   "outputs": [],
   "source": [
    "load = 'balanced'\n",
    "year = 10\n",
    "\n",
    "mask_1 = (df_d['load'] == load) & (df_d['sim time'] == year)\n",
    "mask_2 = (df_d['exp_rate'] == 1.25) | (df_d['exp_rate'] == 1.50) | (df_d['exp_rate'] == 1.62) | (df_d['exp_rate'] == 1.75)\n",
    "mask = mask_1 & mask_2\n",
    "make_scatter_with_color_bar(df_d.loc[mask], 'start width', 'Start Width', '{} {}'.format(load.title(), year), save_name='{}_{}_125-to-175_exp_rate_start_width'.format(load, year))"
   ]
  },
  {
   "cell_type": "code",
   "execution_count": null,
   "metadata": {},
   "outputs": [],
   "source": [
    "load = 'imbalanced'\n",
    "year = 10\n",
    "\n",
    "mask_1 = (df_d['load'] == load) & (df_d['sim time'] == year)\n",
    "mask_2 = (df_d['exp_rate'] == 1.25) | (df_d['exp_rate'] == 1.50) | (df_d['exp_rate'] == 1.62) | (df_d['exp_rate'] == 1.75)\n",
    "mask = mask_1 & mask_2\n",
    "make_scatter_with_color_bar(df_d.loc[mask], 'start width', 'Start Width', '{} {}'.format(load.title(), year), save_name='{}_{}_125-to-175_exp_rate_start_width'.format(load, year))"
   ]
  },
  {
   "cell_type": "code",
   "execution_count": null,
   "metadata": {},
   "outputs": [],
   "source": [
    "load = 'balanced'\n",
    "year = 1\n",
    "\n",
    "mask_1 = (df_d['load'] == load) & (df_d['sim time'] == year) & (df_d['start width'] == df_d['end width'])\n",
    "mask_2 = (df_d['exp_rate'] == 1.25) | (df_d['exp_rate'] == 1.50) | (df_d['exp_rate'] == 1.62) | (df_d['exp_rate'] == 1.75)\n",
    "mask = mask_1 & mask_2\n",
    "make_scatter_with_color_bar(df_d.loc[mask], 'start width', 'Start Width', '{} {}'.format(load.title(), year), save_name='{}_{}_125-to-175_exp_rate_uniform_start_width_end_width'.format(load, year))"
   ]
  },
  {
   "cell_type": "code",
   "execution_count": null,
   "metadata": {},
   "outputs": [],
   "source": [
    "load = 'imbalanced'\n",
    "year = 1\n",
    "\n",
    "mask_1 = (df_d['load'] == load) & (df_d['sim time'] == year) & (df_d['start width'] == df_d['end width'])\n",
    "mask_2 = (df_d['exp_rate'] == 1.25) | (df_d['exp_rate'] == 1.50) | (df_d['exp_rate'] == 1.62) | (df_d['exp_rate'] == 1.75)\n",
    "mask = mask_1 & mask_2\n",
    "make_scatter_with_color_bar(df_d.loc[mask], 'start width', 'Start Width', '{} {}'.format(load.title(), year), save_name='{}_{}_125-to-175_exp_rate_uniform_start_width_end_width'.format(load, year))"
   ]
  },
  {
   "cell_type": "code",
   "execution_count": null,
   "metadata": {},
   "outputs": [],
   "source": [
    "load = 'balanced'\n",
    "year = 5\n",
    "\n",
    "mask_1 = (df_d['load'] == load) & (df_d['sim time'] == year) & (df_d['start width'] == df_d['end width'])\n",
    "mask_2 = (df_d['exp_rate'] == 1.25) | (df_d['exp_rate'] == 1.50) | (df_d['exp_rate'] == 1.62) | (df_d['exp_rate'] == 1.75)\n",
    "mask = mask_1 & mask_2\n",
    "make_scatter_with_color_bar(df_d.loc[mask], 'start width', 'Start Width', '{} {}'.format(load.title(), year), save_name='{}_{}_125-to-175_exp_rate_uniform_start_width_end_width'.format(load, year))"
   ]
  },
  {
   "cell_type": "code",
   "execution_count": null,
   "metadata": {},
   "outputs": [],
   "source": [
    "load = 'imbalanced'\n",
    "year = 5\n",
    "\n",
    "mask_1 = (df_d['load'] == load) & (df_d['sim time'] == year) & (df_d['start width'] == df_d['end width'])\n",
    "mask_2 = (df_d['exp_rate'] == 1.25) | (df_d['exp_rate'] == 1.50) | (df_d['exp_rate'] == 1.62) | (df_d['exp_rate'] == 1.75)\n",
    "mask = mask_1 & mask_2\n",
    "make_scatter_with_color_bar(df_d.loc[mask], 'start width', 'Start Width', '{} {}'.format(load.title(), year), save_name='{}_{}_125-to-175_exp_rate_uniform_start_width_end_width'.format(load, year))"
   ]
  },
  {
   "cell_type": "code",
   "execution_count": null,
   "metadata": {},
   "outputs": [],
   "source": [
    "load = 'balanced'\n",
    "year = 10\n",
    "\n",
    "mask_1 = (df_d['load'] == load) & (df_d['sim time'] == year) & (df_d['start width'] == df_d['end width'])\n",
    "mask_2 = (df_d['exp_rate'] == 1.25) | (df_d['exp_rate'] == 1.50) | (df_d['exp_rate'] == 1.62) | (df_d['exp_rate'] == 1.75)\n",
    "mask = mask_1 & mask_2\n",
    "make_scatter_with_color_bar(df_d.loc[mask], 'start width', 'Start Width', '{} {}'.format(load.title(), year), save_name='{}_{}_125-to-175_exp_rate_uniform_start_width_end_width'.format(load, year))"
   ]
  },
  {
   "cell_type": "code",
   "execution_count": null,
   "metadata": {},
   "outputs": [],
   "source": [
    "load = 'imbalanced'\n",
    "year = 10\n",
    "\n",
    "mask_1 = (df_d['load'] == load) & (df_d['sim time'] == year) & (df_d['start width'] == df_d['end width'])\n",
    "mask_2 = (df_d['exp_rate'] == 1.25) | (df_d['exp_rate'] == 1.50) | (df_d['exp_rate'] == 1.62) | (df_d['exp_rate'] == 1.75)\n",
    "mask = mask_1 & mask_2\n",
    "make_scatter_with_color_bar(df_d.loc[mask], 'start width', 'Start Width', '{} {}'.format(load.title(), year), save_name='{}_{}_125-to-175_exp_rate_uniform_start_width_end_width'.format(load, year))"
   ]
  },
  {
   "cell_type": "code",
   "execution_count": null,
   "metadata": {
    "scrolled": true
   },
   "outputs": [],
   "source": [
    "make_fig(pareto_i1, exp_rates, 'exp_rate', '1-year Imbalanced')\n",
    "make_fig(pareto_i2, exp_rates, 'exp_rate', '2-year Imbalanced')\n",
    "make_fig(pareto_i3, exp_rates, 'exp_rate', '3-year Imbalanced')\n",
    "make_fig(pareto_i4, exp_rates, 'exp_rate', '4-year Imbalanced')\n",
    "make_fig(pareto_i5, exp_rates, 'exp_rate', '5-year Imbalanced')\n",
    "make_fig(pareto_i6, exp_rates, 'exp_rate', '6-year Imbalanced')"
   ]
  },
  {
   "cell_type": "code",
   "execution_count": null,
   "metadata": {},
   "outputs": [],
   "source": [
    "def make_fig_with_annotation(df_in, mask_series, mask_col_name, annotate_col_name, title=None):\n",
    "    fig = plt.figure()\n",
    "    ax = fig.add_subplot(1, 1, 1)\n",
    "\n",
    "    for idx, mask in enumerate(reversed(mask_series)):\n",
    "        s = df_in[mask_col_name] == float(mask)\n",
    "\n",
    "        x = df_in.loc[s]['rmse']\n",
    "        y = df_in.loc[s]['run time']\n",
    "\n",
    "        m = markers[idx]\n",
    "        ax.scatter(x, y, marker=m, label=mask, s=60)\n",
    "              \n",
    "        for i, txt in enumerate(df_in.loc[s][annotate_col_name].values):\n",
    "            ax.annotate(txt, (x.values[i], y.values[i]))\n",
    "\n",
    "    if title:\n",
    "        plt.title(title)\n",
    "        \n",
    "    plt.legend()\n",
    "    plt.show()"
   ]
  },
  {
   "cell_type": "code",
   "execution_count": null,
   "metadata": {},
   "outputs": [],
   "source": [
    "exp_rate_mask = df['exp_rate'] == 1.75"
   ]
  },
  {
   "cell_type": "code",
   "execution_count": null,
   "metadata": {},
   "outputs": [],
   "source": [
    "start_widths = range(1, 6)"
   ]
  },
  {
   "cell_type": "code",
   "execution_count": null,
   "metadata": {},
   "outputs": [],
   "source": [
    "make_fig_with_annotation(df.loc[m_b1 & exp_rate_mask], start_widths, 'start width', 'end width', '1-year Balanced')\n",
    "make_fig_with_annotation(df.loc[m_b2 & exp_rate_mask], start_widths, 'start width', 'end width', '2-year Balanced')\n",
    "make_fig_with_annotation(df.loc[m_b3 & exp_rate_mask], start_widths, 'start width', 'end width', '3-year Balanced')\n",
    "make_fig_with_annotation(df.loc[m_b4 & exp_rate_mask], start_widths, 'start width', 'end width', '4-year Balanced')\n",
    "make_fig_with_annotation(df.loc[m_b5 & exp_rate_mask], start_widths, 'start width', 'end width', '5-year Balanced')\n",
    "make_fig_with_annotation(df.loc[m_b6 & exp_rate_mask], start_widths, 'start width', 'end width', '6-year Balanced')"
   ]
  },
  {
   "cell_type": "code",
   "execution_count": null,
   "metadata": {
    "scrolled": true
   },
   "outputs": [],
   "source": [
    "make_fig_with_annotation(df.loc[m_i1 & exp_rate_mask], start_widths, 'start width', 'end width', '1-year Imbalanced')\n",
    "make_fig_with_annotation(df.loc[m_i2 & exp_rate_mask], start_widths, 'start width', 'end width', '2-year Imbalanced')\n",
    "make_fig_with_annotation(df.loc[m_i3 & exp_rate_mask], start_widths, 'start width', 'end width', '3-year Imbalanced')\n",
    "make_fig_with_annotation(df.loc[m_i4 & exp_rate_mask], start_widths, 'start width', 'end width', '4-year Imbalanced')\n",
    "make_fig_with_annotation(df.loc[m_i5 & exp_rate_mask], start_widths, 'start width', 'end width', '5-year Imbalanced')\n",
    "make_fig_with_annotation(df.loc[m_i6 & exp_rate_mask], start_widths, 'start width', 'end width', '6-year Imbalanced')"
   ]
  },
  {
   "cell_type": "code",
   "execution_count": null,
   "metadata": {},
   "outputs": [],
   "source": [
    "def make_some_plot(*args):\n",
    "    fig = plt.figure()\n",
    "    ax = fig.add_subplot(1, 1, 1)\n",
    "    \n",
    "    args = args[0]\n",
    "    \n",
    "    for s in args:\n",
    "        print(args)\n",
    "        try:\n",
    "            ax.plot(s['x'], s['y'], label=s['label'])\n",
    "        except KeyError:\n",
    "                ax.plot(s['x'], s['y'])\n",
    "        \n",
    "    plt.grid()\n",
    "    plt.legend()\n",
    "    plt.show()"
   ]
  },
  {
   "cell_type": "code",
   "execution_count": null,
   "metadata": {},
   "outputs": [],
   "source": [
    "make_some_plot([a, b, c])"
   ]
  },
  {
   "cell_type": "code",
   "execution_count": null,
   "metadata": {},
   "outputs": [],
   "source": []
  }
 ],
 "metadata": {
  "kernelspec": {
   "display_name": "Python 3",
   "language": "python",
   "name": "python3"
  },
  "language_info": {
   "codemirror_mode": {
    "name": "ipython",
    "version": 3
   },
   "file_extension": ".py",
   "mimetype": "text/x-python",
   "name": "python",
   "nbconvert_exporter": "python",
   "pygments_lexer": "ipython3",
   "version": "3.6.7"
  }
 },
 "nbformat": 4,
 "nbformat_minor": 2
}
