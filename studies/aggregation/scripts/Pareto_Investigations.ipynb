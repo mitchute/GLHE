{
 "cells": [
  {
   "cell_type": "code",
   "execution_count": null,
   "metadata": {},
   "outputs": [],
   "source": [
    "import os\n",
    "\n",
    "import pandas as pd\n",
    "\n",
    "import pareto\n",
    "\n",
    "import matplotlib.pyplot as plt\n",
    "%matplotlib inline"
   ]
  },
  {
   "cell_type": "code",
   "execution_count": null,
   "metadata": {},
   "outputs": [],
   "source": [
    "plt.style.use('ggplot')\n",
    "plt.rcParams['figure.figsize'] = [15, 9]\n",
    "plt.rcParams['font.size'] = 14\n",
    "\n",
    "pd.set_option('display.max_columns', None)\n",
    "# pd.set_option('display.max_rows', None)"
   ]
  },
  {
   "cell_type": "code",
   "execution_count": null,
   "metadata": {},
   "outputs": [],
   "source": [
    "join = os.path.join\n",
    "norm = os.path.normpath"
   ]
  },
  {
   "cell_type": "code",
   "execution_count": null,
   "metadata": {},
   "outputs": [],
   "source": [
    "cwd = os.getcwd()"
   ]
  },
  {
   "cell_type": "code",
   "execution_count": null,
   "metadata": {},
   "outputs": [],
   "source": [
    "dynamic_path = norm(join(cwd, '../dynamic/runs/dynamic_stats.csv'))"
   ]
  },
  {
   "cell_type": "code",
   "execution_count": null,
   "metadata": {},
   "outputs": [],
   "source": [
    "dynamic_path"
   ]
  },
  {
   "cell_type": "code",
   "execution_count": null,
   "metadata": {},
   "outputs": [],
   "source": [
    "df = pd.read_csv(dynamic_path, index_col=[0])\n",
    "df.head()"
   ]
  },
  {
   "cell_type": "code",
   "execution_count": null,
   "metadata": {},
   "outputs": [],
   "source": [
    "m_b1 = (df['load'] == 'balanced') & (df['sim time'] == 1)\n",
    "m_b5 = (df['load'] == 'balanced') & (df['sim time'] == 5)\n",
    "m_i1 = (df['load'] == 'imbalanced') & (df['sim time'] == 1)\n",
    "m_i5 = (df['load'] == 'imbalanced') & (df['sim time'] == 5)"
   ]
  },
  {
   "cell_type": "code",
   "execution_count": null,
   "metadata": {},
   "outputs": [],
   "source": [
    "exp_rates = ['1.25', '1.50', '1.62', '1.75', '2.00', '2.25', '2.50', '2.75', '3.00']\n",
    "\n",
    "markers = ['o', 'v', '^', '<', '>', 'p', 'P', 's', 'h', '+', 'X', 'x', 'h', 'H', 'D', 'd']"
   ]
  },
  {
   "cell_type": "code",
   "execution_count": null,
   "metadata": {
    "scrolled": false
   },
   "outputs": [],
   "source": [
    "def make_fig(df_in, mask_series, mask_col_name, title=None):\n",
    "    fig = plt.figure()\n",
    "    ax = fig.add_subplot(1, 1, 1)\n",
    "\n",
    "    for idx, mask in enumerate(reversed(mask_series)):\n",
    "        s = df_in[mask_col_name] == float(mask)\n",
    "\n",
    "        x = df_in.loc[s]['rmse']\n",
    "        y = df_in.loc[s]['run time']\n",
    "\n",
    "        m = markers[idx]\n",
    "        ax.scatter(x, y, marker=m, label=mask, s=60)\n",
    "\n",
    "    if title:\n",
    "        plt.title(title)\n",
    "        \n",
    "    plt.legend()\n",
    "    plt.show()"
   ]
  },
  {
   "cell_type": "code",
   "execution_count": null,
   "metadata": {
    "scrolled": false
   },
   "outputs": [],
   "source": [
    "make_fig(df.loc[m_b1], exp_rates, 'exp_rate', '1-year Balanced')\n",
    "make_fig(df.loc[m_b5], exp_rates, 'exp_rate', '5-year Balanced')\n",
    "make_fig(df.loc[m_i1], exp_rates, 'exp_rate', '1-year Imbalanced')\n",
    "make_fig(df.loc[m_i5], exp_rates, 'exp_rate', '5-year Imbalanced')"
   ]
  },
  {
   "cell_type": "code",
   "execution_count": null,
   "metadata": {},
   "outputs": [],
   "source": [
    "def define_pareto(df_in):\n",
    "    df = pd.DataFrame.from_records(pareto.eps_sort([list(df_in.itertuples(False))], [4, 5]), columns=list(df_in.columns.values))\n",
    "    df.sort_values(by=['rmse'], inplace=True)\n",
    "    return df"
   ]
  },
  {
   "cell_type": "code",
   "execution_count": null,
   "metadata": {},
   "outputs": [],
   "source": [
    "pareto_b1 = define_pareto(df.loc[m_b1])\n",
    "pareto_b1.head(2)"
   ]
  },
  {
   "cell_type": "code",
   "execution_count": null,
   "metadata": {},
   "outputs": [],
   "source": [
    "pareto_b5 = define_pareto(df.loc[m_b5])\n",
    "pareto_b5.head(2)"
   ]
  },
  {
   "cell_type": "code",
   "execution_count": null,
   "metadata": {},
   "outputs": [],
   "source": [
    "pareto_i1 = define_pareto(df.loc[m_i1])\n",
    "pareto_i1.head(2)"
   ]
  },
  {
   "cell_type": "code",
   "execution_count": null,
   "metadata": {
    "scrolled": true
   },
   "outputs": [],
   "source": [
    "pareto_i5 = define_pareto(df.loc[m_i5])\n",
    "pareto_i5.head(2)"
   ]
  },
  {
   "cell_type": "code",
   "execution_count": null,
   "metadata": {
    "scrolled": false
   },
   "outputs": [],
   "source": [
    "make_fig(pareto_b1, exp_rates, 'exp_rate', '1-year Balanced')\n",
    "make_fig(pareto_b5, exp_rates, 'exp_rate', '5-year Balanced')\n",
    "make_fig(pareto_i1, exp_rates, 'exp_rate', '1-year Imbalanced')\n",
    "make_fig(pareto_i5, exp_rates, 'exp_rate', '5-year Imbalanced')"
   ]
  },
  {
   "cell_type": "code",
   "execution_count": null,
   "metadata": {},
   "outputs": [],
   "source": [
    "def make_fig_with_annotation(df_in, mask_series, mask_col_name, annotate_col_name, title=None):\n",
    "    fig = plt.figure()\n",
    "    ax = fig.add_subplot(1, 1, 1)\n",
    "\n",
    "    for idx, mask in enumerate(reversed(mask_series)):\n",
    "        s = df_in[mask_col_name] == float(mask)\n",
    "\n",
    "        x = df_in.loc[s]['rmse']\n",
    "        y = df_in.loc[s]['run time']\n",
    "\n",
    "        m = markers[idx]\n",
    "        ax.scatter(x, y, marker=m, label=mask, s=60)\n",
    "              \n",
    "        for i, txt in enumerate(df_in.loc[s][annotate_col_name].values):\n",
    "            ax.annotate(txt, (x.values[i], y.values[i]))\n",
    "\n",
    "    if title:\n",
    "        plt.title(title)\n",
    "        \n",
    "    plt.legend()\n",
    "    plt.show()"
   ]
  },
  {
   "cell_type": "code",
   "execution_count": null,
   "metadata": {},
   "outputs": [],
   "source": [
    "exp_rate_mask = df['exp_rate'] == 1.75"
   ]
  },
  {
   "cell_type": "code",
   "execution_count": null,
   "metadata": {},
   "outputs": [],
   "source": [
    "start_widths = range(1, 6)"
   ]
  },
  {
   "cell_type": "code",
   "execution_count": null,
   "metadata": {
    "scrolled": false
   },
   "outputs": [],
   "source": [
    "make_fig_with_annotation(df.loc[m_b1 & exp_rate_mask], start_widths, 'start width', 'end width', '1-year Balanced')\n",
    "make_fig_with_annotation(df.loc[m_b5 & exp_rate_mask], start_widths, 'start width', 'end width', '5-year Balanced')\n",
    "make_fig_with_annotation(df.loc[m_i1 & exp_rate_mask], start_widths, 'start width', 'end width', '1-year Imbalanced')\n",
    "make_fig_with_annotation(df.loc[m_i5 & exp_rate_mask], start_widths, 'start width', 'end width', '5-year Imbalanced')"
   ]
  },
  {
   "cell_type": "code",
   "execution_count": null,
   "metadata": {},
   "outputs": [],
   "source": []
  }
 ],
 "metadata": {
  "kernelspec": {
   "display_name": "Python 3",
   "language": "python",
   "name": "python3"
  },
  "language_info": {
   "codemirror_mode": {
    "name": "ipython",
    "version": 3
   },
   "file_extension": ".py",
   "mimetype": "text/x-python",
   "name": "python",
   "nbconvert_exporter": "python",
   "pygments_lexer": "ipython3",
   "version": "3.6.6"
  }
 },
 "nbformat": 4,
 "nbformat_minor": 2
}
