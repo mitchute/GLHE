{
 "cells": [
  {
   "cell_type": "code",
   "execution_count": null,
   "metadata": {},
   "outputs": [],
   "source": [
    "import os\n",
    "\n",
    "import pandas as pd\n",
    "\n",
    "import pareto\n",
    "\n",
    "import matplotlib.pyplot as plt\n",
    "%matplotlib inline"
   ]
  },
  {
   "cell_type": "code",
   "execution_count": null,
   "metadata": {},
   "outputs": [],
   "source": [
    "plt.style.use('seaborn-bright')\n",
    "plt.rcParams['figure.figsize'] = [15, 9]\n",
    "plt.rcParams['font.size'] = 12\n",
    "\n",
    "pd.set_option('display.max_columns', None)\n",
    "# pd.set_option('display.max_rows', None)"
   ]
  },
  {
   "cell_type": "code",
   "execution_count": null,
   "metadata": {},
   "outputs": [],
   "source": [
    "cwd = os.getcwd()\n",
    "join = os.path.join\n",
    "norm = os.path.normpath"
   ]
  },
  {
   "cell_type": "code",
   "execution_count": null,
   "metadata": {},
   "outputs": [],
   "source": [
    "dynamic_path = norm(join(cwd, '../dynamic/runs/dynamic_stats.csv'))\n",
    "static_path = norm(join(cwd, '../static/runs/static_stats.csv'))\n",
    "mlaa_path = norm(join(cwd, '../MLAA-Bernier/runs/MLAA_stats.csv'))\n",
    "liu_path = norm(join(cwd, '../Hierarchical-Liu/runs/Hierarchical_stats.csv'))\n",
    "cenk_path = norm(join(cwd, '../Yavuzturk/runs/Yavuzturk_stats.csv'))"
   ]
  },
  {
   "cell_type": "code",
   "execution_count": null,
   "metadata": {},
   "outputs": [],
   "source": [
    "df_d = pd.read_csv(dynamic_path, index_col=[0])\n",
    "df_s = pd.read_csv(static_path, index_col=[0])\n",
    "df_m = pd.read_csv(mlaa_path, index_col=[0])\n",
    "df_l = pd.read_csv(liu_path, index_col=[0])\n",
    "df_c = pd.read_csv(cenk_path, index_col=[0])"
   ]
  },
  {
   "cell_type": "code",
   "execution_count": null,
   "metadata": {},
   "outputs": [],
   "source": [
    "df_d.head(2)"
   ]
  },
  {
   "cell_type": "code",
   "execution_count": null,
   "metadata": {},
   "outputs": [],
   "source": [
    "def find_claesson(load, year):\n",
    "    _df = df_d.loc[(df_d['load'] == load) & (df_d['sim time'] == year) & (df_d['start width'] == 5) & (df_d['end width'] == 5) & (df_d['exp_rate'] == 2)]\n",
    "    x = _df['rmse'].values\n",
    "    y = _df['run time fraction'].values\n",
    "    return float(x), float(y)"
   ]
  },
  {
   "cell_type": "code",
   "execution_count": null,
   "metadata": {},
   "outputs": [],
   "source": [
    "find_claesson('balanced', 1)"
   ]
  },
  {
   "cell_type": "code",
   "execution_count": null,
   "metadata": {},
   "outputs": [],
   "source": [
    "markers = ['X', 'D', 'v', 'h', '+', '*']"
   ]
  },
  {
   "cell_type": "code",
   "execution_count": null,
   "metadata": {},
   "outputs": [],
   "source": [
    "def plot_all_methods_runtimefrac_vs_rmse(dfs, names, load, year):\n",
    "    fig = plt.figure(figsize=(7, 5), dpi=200)\n",
    "    ax = fig.add_subplot(1, 1, 1)\n",
    "    \n",
    "    for idx, df in enumerate(dfs):\n",
    "        mask = (df['load'] == load) & (df['sim time'] == year)\n",
    "        x = df.loc[mask]['rmse']\n",
    "        y = df.loc[mask]['run time fraction']\n",
    "        ax.scatter(x, y, label=names[idx], marker=markers[idx])\n",
    "      \n",
    "    x, y = find_claesson(load, year)\n",
    "    ax.scatter(x, y, label='Claesson', marker=markers[-1])\n",
    "    \n",
    "    plt.xlabel('RMSE MFT [C]')\n",
    "    plt.ylabel('Runtime Fraction')\n",
    "    plt.title('{} {}'.format(load.title(), year))\n",
    "    \n",
    "    plt.legend()\n",
    "    plt.grid(True)\n",
    "    plt.savefig('{}_{}.pdf'.format(load, year), bbox_inches='tight')\n",
    "    plt.show()"
   ]
  },
  {
   "cell_type": "code",
   "execution_count": null,
   "metadata": {
    "scrolled": false
   },
   "outputs": [],
   "source": [
    "plot_all_methods_runtimefrac_vs_rmse([df_d, df_s, df_m, df_l, df_c], \n",
    "                                     ['Dynamic', 'Static', 'Bernier', 'Liu', 'Yavuzturk'],\n",
    "                                    'balanced',\n",
    "                                    1)"
   ]
  },
  {
   "cell_type": "code",
   "execution_count": null,
   "metadata": {},
   "outputs": [],
   "source": [
    "plot_all_methods_runtimefrac_vs_rmse([df_d, df_s, df_m, df_l, df_c], \n",
    "                                     ['Dynamic', 'Static', 'Bernier', 'Liu', 'Yavuzturk'],\n",
    "                                    'imbalanced',\n",
    "                                    1)"
   ]
  },
  {
   "cell_type": "code",
   "execution_count": null,
   "metadata": {},
   "outputs": [],
   "source": [
    "plot_all_methods_runtimefrac_vs_rmse([df_d, df_s, df_m, df_l, df_c], \n",
    "                                     ['Dynamic', 'Static', 'Bernier', 'Liu', 'Yavuzturk'],\n",
    "                                    'balanced',\n",
    "                                    5)"
   ]
  },
  {
   "cell_type": "code",
   "execution_count": null,
   "metadata": {},
   "outputs": [],
   "source": [
    "plot_all_methods_runtimefrac_vs_rmse([df_d, df_s, df_m, df_l, df_c], \n",
    "                                     ['Dynamic', 'Static', 'Bernier', 'Liu', 'Yavuzturk'],\n",
    "                                    'imbalanced',\n",
    "                                    5)"
   ]
  },
  {
   "cell_type": "code",
   "execution_count": null,
   "metadata": {},
   "outputs": [],
   "source": [
    "plot_all_methods_runtimefrac_vs_rmse([df_d, df_s, df_m, df_l, df_c], \n",
    "                                     ['Dynamic', 'Static', 'Bernier', 'Liu', 'Yavuzturk'],\n",
    "                                    'balanced',\n",
    "                                    10)"
   ]
  },
  {
   "cell_type": "code",
   "execution_count": null,
   "metadata": {},
   "outputs": [],
   "source": [
    "plot_all_methods_runtimefrac_vs_rmse([df_d, df_s, df_m, df_l, df_c], \n",
    "                                     ['Dynamic', 'Static', 'Bernier', 'Liu', 'Yavuzturk'],\n",
    "                                    'imbalanced',\n",
    "                                    10)"
   ]
  },
  {
   "cell_type": "code",
   "execution_count": null,
   "metadata": {},
   "outputs": [],
   "source": [
    "def define_pareto(df_in):\n",
    "    df = pd.DataFrame.from_records(pareto.eps_sort([list(df_in.itertuples(False))], [4, 5]), columns=list(df_in.columns.values))\n",
    "    df.sort_values(by=['rmse'], inplace=True)\n",
    "    return df"
   ]
  },
  {
   "cell_type": "code",
   "execution_count": null,
   "metadata": {},
   "outputs": [],
   "source": [
    "m_b1 = (df_d['sim time'] == 1) & (df_d['load'] == 'balanced')"
   ]
  },
  {
   "cell_type": "code",
   "execution_count": null,
   "metadata": {},
   "outputs": [],
   "source": [
    "pareto_b1 = define_pareto(df_d.loc[m_b1])\n",
    "pareto_b1"
   ]
  },
  {
   "cell_type": "code",
   "execution_count": null,
   "metadata": {},
   "outputs": [],
   "source": [
    "\n",
    "pareto_b2 = define_pareto(df.loc[m_b2])\n",
    "pareto_b3 = define_pareto(df.loc[m_b3])\n",
    "pareto_b4 = define_pareto(df.loc[m_b4])\n",
    "pareto_b5 = define_pareto(df.loc[m_b5])\n",
    "pareto_b6 = define_pareto(df.loc[m_b6])"
   ]
  },
  {
   "cell_type": "code",
   "execution_count": null,
   "metadata": {},
   "outputs": [],
   "source": [
    "pareto_i1 = define_pareto(df.loc[m_i1])\n",
    "pareto_i2 = define_pareto(df.loc[m_i2])\n",
    "pareto_i3 = define_pareto(df.loc[m_i3])\n",
    "pareto_i4 = define_pareto(df.loc[m_i4])\n",
    "pareto_i5 = define_pareto(df.loc[m_i5])\n",
    "pareto_i6 = define_pareto(df.loc[m_i6])"
   ]
  },
  {
   "cell_type": "code",
   "execution_count": null,
   "metadata": {
    "scrolled": true
   },
   "outputs": [],
   "source": [
    "make_fig(pareto_b1, exp_rates, 'exp_rate', '1-year Balanced')\n",
    "make_fig(pareto_b2, exp_rates, 'exp_rate', '2-year Balanced')\n",
    "make_fig(pareto_b3, exp_rates, 'exp_rate', '3-year Balanced')\n",
    "make_fig(pareto_b4, exp_rates, 'exp_rate', '4-year Balanced')\n",
    "make_fig(pareto_b5, exp_rates, 'exp_rate', '5-year Balanced')\n",
    "make_fig(pareto_b6, exp_rates, 'exp_rate', '6-year Balanced')"
   ]
  },
  {
   "cell_type": "code",
   "execution_count": null,
   "metadata": {
    "scrolled": true
   },
   "outputs": [],
   "source": [
    "make_fig(pareto_i1, exp_rates, 'exp_rate', '1-year Imbalanced')\n",
    "make_fig(pareto_i2, exp_rates, 'exp_rate', '2-year Imbalanced')\n",
    "make_fig(pareto_i3, exp_rates, 'exp_rate', '3-year Imbalanced')\n",
    "make_fig(pareto_i4, exp_rates, 'exp_rate', '4-year Imbalanced')\n",
    "make_fig(pareto_i5, exp_rates, 'exp_rate', '5-year Imbalanced')\n",
    "make_fig(pareto_i6, exp_rates, 'exp_rate', '6-year Imbalanced')"
   ]
  },
  {
   "cell_type": "code",
   "execution_count": null,
   "metadata": {},
   "outputs": [],
   "source": [
    "def make_fig_with_annotation(df_in, mask_series, mask_col_name, annotate_col_name, title=None):\n",
    "    fig = plt.figure()\n",
    "    ax = fig.add_subplot(1, 1, 1)\n",
    "\n",
    "    for idx, mask in enumerate(reversed(mask_series)):\n",
    "        s = df_in[mask_col_name] == float(mask)\n",
    "\n",
    "        x = df_in.loc[s]['rmse']\n",
    "        y = df_in.loc[s]['run time']\n",
    "\n",
    "        m = markers[idx]\n",
    "        ax.scatter(x, y, marker=m, label=mask, s=60)\n",
    "              \n",
    "        for i, txt in enumerate(df_in.loc[s][annotate_col_name].values):\n",
    "            ax.annotate(txt, (x.values[i], y.values[i]))\n",
    "\n",
    "    if title:\n",
    "        plt.title(title)\n",
    "        \n",
    "    plt.legend()\n",
    "    plt.show()"
   ]
  },
  {
   "cell_type": "code",
   "execution_count": null,
   "metadata": {},
   "outputs": [],
   "source": [
    "exp_rate_mask = df['exp_rate'] == 1.75"
   ]
  },
  {
   "cell_type": "code",
   "execution_count": null,
   "metadata": {},
   "outputs": [],
   "source": [
    "start_widths = range(1, 6)"
   ]
  },
  {
   "cell_type": "code",
   "execution_count": null,
   "metadata": {},
   "outputs": [],
   "source": [
    "make_fig_with_annotation(df.loc[m_b1 & exp_rate_mask], start_widths, 'start width', 'end width', '1-year Balanced')\n",
    "make_fig_with_annotation(df.loc[m_b2 & exp_rate_mask], start_widths, 'start width', 'end width', '2-year Balanced')\n",
    "make_fig_with_annotation(df.loc[m_b3 & exp_rate_mask], start_widths, 'start width', 'end width', '3-year Balanced')\n",
    "make_fig_with_annotation(df.loc[m_b4 & exp_rate_mask], start_widths, 'start width', 'end width', '4-year Balanced')\n",
    "make_fig_with_annotation(df.loc[m_b5 & exp_rate_mask], start_widths, 'start width', 'end width', '5-year Balanced')\n",
    "make_fig_with_annotation(df.loc[m_b6 & exp_rate_mask], start_widths, 'start width', 'end width', '6-year Balanced')"
   ]
  },
  {
   "cell_type": "code",
   "execution_count": null,
   "metadata": {
    "scrolled": true
   },
   "outputs": [],
   "source": [
    "make_fig_with_annotation(df.loc[m_i1 & exp_rate_mask], start_widths, 'start width', 'end width', '1-year Imbalanced')\n",
    "make_fig_with_annotation(df.loc[m_i2 & exp_rate_mask], start_widths, 'start width', 'end width', '2-year Imbalanced')\n",
    "make_fig_with_annotation(df.loc[m_i3 & exp_rate_mask], start_widths, 'start width', 'end width', '3-year Imbalanced')\n",
    "make_fig_with_annotation(df.loc[m_i4 & exp_rate_mask], start_widths, 'start width', 'end width', '4-year Imbalanced')\n",
    "make_fig_with_annotation(df.loc[m_i5 & exp_rate_mask], start_widths, 'start width', 'end width', '5-year Imbalanced')\n",
    "make_fig_with_annotation(df.loc[m_i6 & exp_rate_mask], start_widths, 'start width', 'end width', '6-year Imbalanced')"
   ]
  },
  {
   "cell_type": "code",
   "execution_count": null,
   "metadata": {},
   "outputs": [],
   "source": [
    "def make_some_plot(*args):\n",
    "    fig = plt.figure()\n",
    "    ax = fig.add_subplot(1, 1, 1)\n",
    "    \n",
    "    args = args[0]\n",
    "    \n",
    "    for s in args:\n",
    "        print(args)\n",
    "        try:\n",
    "            ax.plot(s['x'], s['y'], label=s['label'])\n",
    "        except KeyError:\n",
    "                ax.plot(s['x'], s['y'])\n",
    "        \n",
    "    plt.grid()\n",
    "    plt.legend()\n",
    "    plt.show()"
   ]
  },
  {
   "cell_type": "code",
   "execution_count": null,
   "metadata": {},
   "outputs": [],
   "source": [
    "make_some_plot([a, b, c])"
   ]
  },
  {
   "cell_type": "code",
   "execution_count": null,
   "metadata": {},
   "outputs": [],
   "source": []
  }
 ],
 "metadata": {
  "kernelspec": {
   "display_name": "Python 3",
   "language": "python",
   "name": "python3"
  },
  "language_info": {
   "codemirror_mode": {
    "name": "ipython",
    "version": 3
   },
   "file_extension": ".py",
   "mimetype": "text/x-python",
   "name": "python",
   "nbconvert_exporter": "python",
   "pygments_lexer": "ipython3",
   "version": "3.6.7"
  }
 },
 "nbformat": 4,
 "nbformat_minor": 2
}
