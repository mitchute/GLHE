{
 "cells": [
  {
   "cell_type": "code",
   "execution_count": null,
   "metadata": {},
   "outputs": [],
   "source": [
    "import datetime\n",
    "import numpy as np\n",
    "import pandas as pd\n",
    "\n",
    "import matplotlib.pyplot as plt\n",
    "%matplotlib inline"
   ]
  },
  {
   "cell_type": "code",
   "execution_count": null,
   "metadata": {},
   "outputs": [],
   "source": [
    "plt.style.use('seaborn-bright')\n",
    "plt.rcParams['figure.figsize'] = [15, 9]\n",
    "plt.rcParams['font.size'] = 12\n",
    "\n",
    "pd.set_option('display.max_columns', None)\n",
    "# pd.set_option('display.max_rows', None)"
   ]
  },
  {
   "cell_type": "code",
   "execution_count": null,
   "metadata": {},
   "outputs": [],
   "source": [
    "balanced = \"RefBldgSmallOfficeNew2004_USA_KY_Cincinnati-Northern.Kentucky.AP.724210_TMY.csv\"\n",
    "imbalanced = \"RefBldgSmallOfficeNew2004_USA_FL_Miami.Intl.AP.722020_TMY3.csv\""
   ]
  },
  {
   "cell_type": "code",
   "execution_count": null,
   "metadata": {},
   "outputs": [],
   "source": [
    "def load_file(fname, max_load):\n",
    "    df = pd.read_csv(fname, skiprows=range(1,49)).set_index(pd.date_range(start='1/1/2018 00:00', periods=8760, freq='H')).drop(labels=['Date/Time'], axis=1)\n",
    "    df = df / (3600 * 1000)\n",
    "\n",
    "    d = {}\n",
    "    for x in list(df.columns):\n",
    "        d[x] = x.replace('[J]', '[kWh]')\n",
    "\n",
    "    df.rename(columns=d, inplace=True)\n",
    "    df.rename(columns=lambda x : x.strip(), inplace=True)\n",
    "    \n",
    "    df['Total Heating Energy [kWh]']  = df[['PSZ-AC:1:Air System Total Heating Energy [kWh](Hourly)', \n",
    "                                            'PSZ-AC:2:Air System Total Heating Energy [kWh](Hourly)',\n",
    "                                            'PSZ-AC:3:Air System Total Heating Energy [kWh](Hourly)',\n",
    "                                            'PSZ-AC:4:Air System Total Heating Energy [kWh](Hourly)',\n",
    "                                            'PSZ-AC:5:Air System Total Heating Energy [kWh](Hourly)']].sum(axis=1)\n",
    "\n",
    "    df['Total Cooling Energy [kWh]']  = df[['PSZ-AC:1:Air System Total Cooling Energy [kWh](Hourly)', \n",
    "                                            'PSZ-AC:2:Air System Total Cooling Energy [kWh](Hourly)',\n",
    "                                            'PSZ-AC:3:Air System Total Cooling Energy [kWh](Hourly)',\n",
    "                                            'PSZ-AC:4:Air System Total Cooling Energy [kWh](Hourly)',\n",
    "                                            'PSZ-AC:5:Air System Total Cooling Energy [kWh](Hourly)']].sum(axis=1)\n",
    "    \n",
    "    df['Balance'] = df['Total Cooling Energy [kWh]'] - df['Total Heating Energy [kWh]']\n",
    "    df['Load [W]'] = df['Balance'] * 1000\n",
    "    df['Load [W]'] = df['Load [W]'] * (max_load / df['Load [W]'].abs().max())\n",
    "    \n",
    "    return df"
   ]
  },
  {
   "cell_type": "code",
   "execution_count": null,
   "metadata": {},
   "outputs": [],
   "source": [
    "df_b = load_file(balanced, 5000)"
   ]
  },
  {
   "cell_type": "code",
   "execution_count": null,
   "metadata": {},
   "outputs": [],
   "source": [
    "df_b.plot(y=['Load [W]'])"
   ]
  },
  {
   "cell_type": "code",
   "execution_count": null,
   "metadata": {},
   "outputs": [],
   "source": [
    "df_i = load_file(imbalanced, 4000)"
   ]
  },
  {
   "cell_type": "code",
   "execution_count": null,
   "metadata": {},
   "outputs": [],
   "source": [
    "df_i.plot(y=['Load [W]'])"
   ]
  },
  {
   "cell_type": "code",
   "execution_count": null,
   "metadata": {},
   "outputs": [],
   "source": [
    "d = {\"Balance [kWh]\": [df_b['Balance'].sum(), df_i['Balance'].sum()],\n",
    "     \"Total Cooling Energy [kWh]\": [df_b['Total Cooling Energy [kWh]'].sum(), df_i['Total Cooling Energy [kWh]'].sum()],\n",
    " \"Total Heating Energy [kWh]\": [df_b['Total Heating Energy [kWh]'].sum(), df_i['Total Heating Energy [kWh]'].sum()]}\n",
    "\n",
    "df = pd.DataFrame(data=d, index=['Balanced', 'Imbalanced'])\n",
    "df"
   ]
  },
  {
   "cell_type": "code",
   "execution_count": null,
   "metadata": {},
   "outputs": [],
   "source": [
    "df_b['Mass Flow Rate [kg/s]'] = 0.1\n",
    "df_i['Mass Flow Rate [kg/s]'] = 0.1"
   ]
  },
  {
   "cell_type": "code",
   "execution_count": null,
   "metadata": {},
   "outputs": [],
   "source": [
    "df_b.to_csv('balanced.csv', columns=['Load [W]', 'Mass Flow Rate [kg/s]'])\n",
    "df_i.to_csv('imbalanced.csv', columns=['Load [W]', 'Mass Flow Rate [kg/s]'])"
   ]
  },
  {
   "cell_type": "code",
   "execution_count": null,
   "metadata": {},
   "outputs": [],
   "source": [
    "df_energy_monthly = pd.DataFrame(data={'Balanced': df_b['Balance'], \n",
    "                                       'Imbalanced': df_i['Balance']})\n",
    "\n",
    "df_energy_monthly = df_energy_monthly.resample('M').sum() / 76.2\n",
    "\n",
    "fig = plt.figure(figsize=(7,5))\n",
    "ax = fig.add_subplot(111)\n",
    "\n",
    "bar_width = 0.35\n",
    "index = np.arange(len(df_energy_monthly['Balanced']))\n",
    "\n",
    "ax.bar(index, df_energy_monthly['Balanced'], bar_width, label=\"Balanced\")\n",
    "ax.bar(index + bar_width, df_energy_monthly['Imbalanced'], bar_width, label=\"Imbalanced\")\n",
    "\n",
    "ax.set_title('Net GHE Energy \\n (+) Cooling (-) Heating')\n",
    "ax.set_ylabel('kWh/m')\n",
    "ax.set_xticks(index + bar_width / 2)\n",
    "ax.set_xticklabels(('Jan', 'Feb', 'Mar', 'Apr', 'May', 'Jun', 'Jul', 'Aug', 'Sep', 'Oct', 'Nov', 'Dec'))\n",
    "\n",
    "plt.grid()\n",
    "plt.legend()\n",
    "plt.savefig('Balanced-Imbalanced_Energy_Balance.pdf', bbox_inches='tight')"
   ]
  },
  {
   "cell_type": "code",
   "execution_count": null,
   "metadata": {},
   "outputs": [],
   "source": []
  }
 ],
 "metadata": {
  "kernelspec": {
   "display_name": "Python 3",
   "language": "python",
   "name": "python3"
  },
  "language_info": {
   "codemirror_mode": {
    "name": "ipython",
    "version": 3
   },
   "file_extension": ".py",
   "mimetype": "text/x-python",
   "name": "python",
   "nbconvert_exporter": "python",
   "pygments_lexer": "ipython3",
   "version": "3.6.6"
  }
 },
 "nbformat": 4,
 "nbformat_minor": 2
}
