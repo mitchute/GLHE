{
 "cells": [
  {
   "cell_type": "code",
   "execution_count": null,
   "metadata": {},
   "outputs": [],
   "source": [
    "import os\n",
    "import sys\n",
    "import json\n",
    "import datetime\n",
    "\n",
    "import pandas as pd\n",
    "import numpy as np"
   ]
  },
  {
   "cell_type": "code",
   "execution_count": null,
   "metadata": {},
   "outputs": [],
   "source": [
    "cwd = os.getcwd()\n",
    "join = os.path.join\n",
    "norm = os.path.normpath"
   ]
  },
  {
   "cell_type": "code",
   "execution_count": null,
   "metadata": {},
   "outputs": [],
   "source": [
    "sys.path.append(norm(join(cwd, '..', '..', '..', 'glhe')))"
   ]
  },
  {
   "cell_type": "code",
   "execution_count": null,
   "metadata": {},
   "outputs": [],
   "source": [
    "from standalone.plant_loop import PlantLoop\n",
    "import glhe"
   ]
  },
  {
   "cell_type": "code",
   "execution_count": null,
   "metadata": {},
   "outputs": [],
   "source": [
    "import matplotlib.pyplot as plt\n",
    "%matplotlib inline"
   ]
  },
  {
   "cell_type": "code",
   "execution_count": null,
   "metadata": {},
   "outputs": [],
   "source": [
    "plt.style.use('ggplot')\n",
    "plt.rcParams['figure.figsize'] = [15, 9]\n",
    "plt.rcParams['font.size'] = 14\n",
    "\n",
    "# pd.set_option('display.max_columns', None)\n",
    "# pd.set_option('display.max_rows', None)"
   ]
  },
  {
   "cell_type": "code",
   "execution_count": null,
   "metadata": {},
   "outputs": [],
   "source": [
    "d = glhe.globals.functions.load_json('EWT_MFRTRT_input.json')\n",
    "d['ground-heat-exchanger'][0]['g-function-path'] = join(cwd, 'EWT_experimental_g_functions.csv')\n",
    "d['ground-heat-exchanger'][0]['load-aggregation']['method'] = 'none'\n",
    "d['simulation']['time-steps-per-hour'] = 60\n",
    "d['simulation']['runtime'] = 14440"
   ]
  },
  {
   "cell_type": "code",
   "execution_count": null,
   "metadata": {},
   "outputs": [],
   "source": [
    "with open(join(cwd, 'in.json'), 'w') as f:\n",
    "    f.write(json.dumps(d, sort_keys=True, indent=2, separators=(',', ': ')))"
   ]
  },
  {
   "cell_type": "code",
   "execution_count": null,
   "metadata": {},
   "outputs": [],
   "source": [
    "PlantLoop('in.json').simulate()"
   ]
  },
  {
   "cell_type": "code",
   "execution_count": null,
   "metadata": {},
   "outputs": [],
   "source": [
    "df = pd.read_csv('out.csv', index_col='Date/Time', parse_dates=True)"
   ]
  },
  {
   "cell_type": "code",
   "execution_count": null,
   "metadata": {},
   "outputs": [],
   "source": [
    "h = d['borehole-definitions'][0]['depth']\n",
    "alpha = d['soil']['conductivity'] / (d['soil']['density'] * d['soil']['specific-heat'])\n",
    "ts = h**2 / (9*alpha)"
   ]
  },
  {
   "cell_type": "code",
   "execution_count": null,
   "metadata": {},
   "outputs": [],
   "source": [
    "df[['GroundHeatExchanger:GHE 1:Inlet Temp. [C]',\n",
    "   'GroundHeatExchanger:GHE 1:Outlet Temp [C]']].plot(grid=True)"
   ]
  },
  {
   "cell_type": "code",
   "execution_count": null,
   "metadata": {},
   "outputs": [],
   "source": [
    "plt.semilogx(df['Elapsed Time [s]'].values / ts, df['GroundHeatExchanger:GHE 1:Inlet Temp. [C]'].values, label='Inlet')\n",
    "plt.semilogx(df['Elapsed Time [s]'].values / ts, df['GroundHeatExchanger:GHE 1:Outlet Temp [C]'].values, label='Outlet')\n",
    "plt.ylabel('Temperature [C]')\n",
    "plt.xlabel('t/ts')\n",
    "plt.xlim(1e-8, 1e-3)\n",
    "plt.legend()\n",
    "plt.show()"
   ]
  },
  {
   "cell_type": "code",
   "execution_count": null,
   "metadata": {},
   "outputs": [],
   "source": [
    "data_path = norm(join(cwd, '..', '..', 'validation', 'MFRTRT', 'MFRTRT_loads.csv'))\n",
    "df_raw_data = pd.read_csv(data_path, parse_dates=True, index_col='Date/Time')"
   ]
  },
  {
   "cell_type": "code",
   "execution_count": null,
   "metadata": {},
   "outputs": [],
   "source": [
    "df_raw_data.head(1)"
   ]
  },
  {
   "cell_type": "code",
   "execution_count": null,
   "metadata": {},
   "outputs": [],
   "source": [
    "df_raw_data.columns"
   ]
  },
  {
   "cell_type": "code",
   "execution_count": null,
   "metadata": {},
   "outputs": [],
   "source": [
    "df_sim_input_data = df_raw_data[['Inst. HT [1] [W]', 'mdot [kg/s]', 'Outlet 1 [C]', 'Inlet 1 [C]']].copy(deep=True)\n",
    "df_sim_input_data.rename(columns = {'Inst. HT [1] [W]': 'HT Rate [W]', \n",
    "                                    'Outlet 1 [C]': 'Exp. Inlet [C]', \n",
    "                                    'Inlet 1 [C]': 'Exp. Outlet [C]'}, inplace=True)\n",
    "df_sim_input_data.resample('1T').mean()\n",
    "df_sim_input_data.to_csv(join(cwd, 'input_data.csv'))\n",
    "df_sim_input_data.head(1)"
   ]
  },
  {
   "cell_type": "code",
   "execution_count": null,
   "metadata": {},
   "outputs": [],
   "source": [
    "d['temperature-profile'] = [{'name': 'EWT Data', \n",
    "                             'temperature-profile-type': 'external',\n",
    "                             'path': join(cwd, 'input_data.csv')}]\n",
    "\n",
    "d['topology']['demand-side'][1] = {'comp-type': 'temperature-profile',\n",
    "                                   'name': 'EWT Data'}"
   ]
  },
  {
   "cell_type": "code",
   "execution_count": null,
   "metadata": {},
   "outputs": [],
   "source": [
    "with open(join(cwd, 'in.json'), 'w') as f:\n",
    "    f.write(json.dumps(d, sort_keys=True, indent=2, separators=(',', ': ')))"
   ]
  },
  {
   "cell_type": "code",
   "execution_count": null,
   "metadata": {},
   "outputs": [],
   "source": [
    "PlantLoop('in.json').simulate()"
   ]
  },
  {
   "cell_type": "code",
   "execution_count": null,
   "metadata": {},
   "outputs": [],
   "source": [
    "df = pd.read_csv('out.csv', index_col='Date/Time', parse_dates=True)"
   ]
  },
  {
   "cell_type": "code",
   "execution_count": null,
   "metadata": {},
   "outputs": [],
   "source": [
    "df.columns"
   ]
  },
  {
   "cell_type": "code",
   "execution_count": null,
   "metadata": {},
   "outputs": [],
   "source": [
    "df[['GroundHeatExchanger:GHE 1:Inlet Temp. [C]',\n",
    "   'GroundHeatExchanger:GHE 1:Outlet Temp [C]']].plot(grid=True)"
   ]
  },
  {
   "cell_type": "code",
   "execution_count": null,
   "metadata": {},
   "outputs": [],
   "source": [
    "df_sim_input_data['time'] = pd.to_timedelta(df_sim_input_data.index)\n",
    "df_sim_input_data['time'] = datetime.datetime(year=2019, month=1, day=1, hour=0, minute=0) + (df_sim_input_data['time'] - df_sim_input_data['time'][0])\n",
    "df_sim_input_data.set_index('time', inplace=True)\n",
    "df_sim_input_data.index.rename('Date/Time', inplace=True)\n",
    "df_sim_input_data.head(1)"
   ]
  },
  {
   "cell_type": "code",
   "execution_count": null,
   "metadata": {},
   "outputs": [],
   "source": [
    "ax = df_sim_input_data[['Exp. Inlet [C]', 'Exp. Outlet [C]']].loc[df.index[0] : df.index[-1]].plot()\n",
    "df[['GroundHeatExchanger:GHE 1:Inlet Temp. [C]',\n",
    "    'GroundHeatExchanger:GHE 1:Outlet Temp [C]']].rename(columns = {'GroundHeatExchanger:GHE 1:Inlet Temp. [C]': 'Sim. Inlet [C]',\n",
    "                                                                    'GroundHeatExchanger:GHE 1:Outlet Temp [C]': 'Sim. Outlet [C]'}).plot(grid=True, ax=ax, style='--')"
   ]
  },
  {
   "cell_type": "code",
   "execution_count": null,
   "metadata": {},
   "outputs": [],
   "source": [
    "ax = df_sim_input_data[['HT Rate [W]']].rename(columns={'HT Rate [W]': 'Exp. HT Rate [W]'}).loc[df.index[0] : df.index[-1]].plot()\n",
    "df[['GroundHeatExchanger:GHE 1:Heat Rate [W]']].rename(columns={'GroundHeatExchanger:GHE 1:Heat Rate [W]': 'Sim. HT Rate [W]'}).plot(grid=True, ax=ax)"
   ]
  },
  {
   "cell_type": "code",
   "execution_count": null,
   "metadata": {},
   "outputs": [],
   "source": []
  }
 ],
 "metadata": {
  "kernelspec": {
   "display_name": "Python 3",
   "language": "python",
   "name": "python3"
  },
  "language_info": {
   "codemirror_mode": {
    "name": "ipython",
    "version": 3
   },
   "file_extension": ".py",
   "mimetype": "text/x-python",
   "name": "python",
   "nbconvert_exporter": "python",
   "pygments_lexer": "ipython3",
   "version": "3.7.3"
  }
 },
 "nbformat": 4,
 "nbformat_minor": 2
}
