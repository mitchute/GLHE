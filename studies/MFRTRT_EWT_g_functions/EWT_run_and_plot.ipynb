{
 "cells": [
  {
   "cell_type": "code",
   "execution_count": null,
   "metadata": {},
   "outputs": [],
   "source": [
    "import os\n",
    "import sys\n",
    "import json\n",
    "\n",
    "import pandas as pd\n",
    "import numpy as np"
   ]
  },
  {
   "cell_type": "code",
   "execution_count": null,
   "metadata": {},
   "outputs": [],
   "source": [
    "cwd = os.getcwd()\n",
    "join = os.path.join\n",
    "norm = os.path.normpath"
   ]
  },
  {
   "cell_type": "code",
   "execution_count": null,
   "metadata": {},
   "outputs": [],
   "source": [
    "sys.path.append(norm(join(cwd, '..', '..', '..', 'glhe')))"
   ]
  },
  {
   "cell_type": "code",
   "execution_count": null,
   "metadata": {},
   "outputs": [],
   "source": [
    "from standalone.plant_loop import PlantLoop\n",
    "import glhe"
   ]
  },
  {
   "cell_type": "code",
   "execution_count": null,
   "metadata": {},
   "outputs": [],
   "source": [
    "import matplotlib.pyplot as plt\n",
    "%matplotlib inline"
   ]
  },
  {
   "cell_type": "code",
   "execution_count": null,
   "metadata": {},
   "outputs": [],
   "source": [
    "plt.style.use('ggplot')\n",
    "plt.rcParams['figure.figsize'] = [15, 9]\n",
    "plt.rcParams['font.size'] = 14\n",
    "\n",
    "# pd.set_option('display.max_columns', None)\n",
    "# pd.set_option('display.max_rows', None)"
   ]
  },
  {
   "cell_type": "code",
   "execution_count": null,
   "metadata": {},
   "outputs": [],
   "source": [
    "d = glhe.globals.functions.load_json('EWT_MFRTRT_input.json')\n",
    "d['ground-heat-exchanger'][0]['g-function-path'] = join(cwd, 'EWT_experimental_g_functions.csv')\n",
    "d['simulation']['time-steps-per-hour'] = 60\n",
    "d['simulation']['runtime'] = 14440"
   ]
  },
  {
   "cell_type": "code",
   "execution_count": null,
   "metadata": {},
   "outputs": [],
   "source": [
    "with open(join(cwd, 'in.json'), 'w') as f:\n",
    "    f.write(json.dumps(d, sort_keys=True, indent=2, separators=(',', ': ')))"
   ]
  },
  {
   "cell_type": "code",
   "execution_count": null,
   "metadata": {},
   "outputs": [],
   "source": [
    "PlantLoop('in.json').simulate()"
   ]
  },
  {
   "cell_type": "code",
   "execution_count": null,
   "metadata": {},
   "outputs": [],
   "source": [
    "df = pd.read_csv('out.csv', index_col='Date/Time', parse_dates=True)"
   ]
  },
  {
   "cell_type": "code",
   "execution_count": null,
   "metadata": {},
   "outputs": [],
   "source": [
    "h = d['borehole-definitions'][0]['depth']\n",
    "alpha = d['soil']['conductivity'] / (d['soil']['density'] * d['soil']['specific-heat'])\n",
    "ts = h**2 / (9*alpha)"
   ]
  },
  {
   "cell_type": "code",
   "execution_count": null,
   "metadata": {},
   "outputs": [],
   "source": [
    "df[['GroundHeatExchanger:GHE 1:Inlet Temp. [C]',\n",
    "   'GroundHeatExchanger:GHE 1:Outlet Temp [C]']].plot(grid=True)"
   ]
  },
  {
   "cell_type": "code",
   "execution_count": null,
   "metadata": {},
   "outputs": [],
   "source": [
    "plt.semilogx(df['Elapsed Time [s]'].values / ts, df['GroundHeatExchanger:GHE 1:Inlet Temp. [C]'].values, label='Inlet')\n",
    "plt.semilogx(df['Elapsed Time [s]'].values / ts, df['GroundHeatExchanger:GHE 1:Outlet Temp [C]'].values, label='Outlet')\n",
    "plt.ylabel('Temperature [C]')\n",
    "plt.xlabel('t/ts')\n",
    "plt.xlim(1e-8, 1e-3)\n",
    "plt.legend()\n",
    "plt.show()"
   ]
  },
  {
   "cell_type": "code",
   "execution_count": null,
   "metadata": {},
   "outputs": [],
   "source": []
  }
 ],
 "metadata": {
  "kernelspec": {
   "display_name": "Python 3",
   "language": "python",
   "name": "python3"
  },
  "language_info": {
   "codemirror_mode": {
    "name": "ipython",
    "version": 3
   },
   "file_extension": ".py",
   "mimetype": "text/x-python",
   "name": "python",
   "nbconvert_exporter": "python",
   "pygments_lexer": "ipython3",
   "version": "3.7.3"
  }
 },
 "nbformat": 4,
 "nbformat_minor": 2
}
