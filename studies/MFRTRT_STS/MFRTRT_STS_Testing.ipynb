{
 "cells": [
  {
   "cell_type": "code",
   "execution_count": null,
   "metadata": {},
   "outputs": [],
   "source": [
    "import os\n",
    "import sys\n",
    "import json\n",
    "\n",
    "import pandas as pd\n",
    "import numpy as np"
   ]
  },
  {
   "cell_type": "code",
   "execution_count": null,
   "metadata": {},
   "outputs": [],
   "source": [
    "cwd = os.getcwd()\n",
    "join = os.path.join\n",
    "norm = os.path.normpath"
   ]
  },
  {
   "cell_type": "code",
   "execution_count": null,
   "metadata": {},
   "outputs": [],
   "source": [
    "sys.path.append(norm(join(cwd, '..', '..', '..', 'glhe')))"
   ]
  },
  {
   "cell_type": "code",
   "execution_count": null,
   "metadata": {},
   "outputs": [],
   "source": [
    "from standalone.plant_loop import PlantLoop\n",
    "import glhe"
   ]
  },
  {
   "cell_type": "code",
   "execution_count": null,
   "metadata": {},
   "outputs": [],
   "source": [
    "import matplotlib.pyplot as plt\n",
    "%matplotlib inline"
   ]
  },
  {
   "cell_type": "code",
   "execution_count": null,
   "metadata": {},
   "outputs": [],
   "source": [
    "plt.style.use('ggplot')\n",
    "plt.rcParams['figure.figsize'] = [15, 9]\n",
    "plt.rcParams['font.size'] = 14\n",
    "\n",
    "# pd.set_option('display.max_columns', None)\n",
    "# pd.set_option('display.max_rows', None)"
   ]
  },
  {
   "cell_type": "code",
   "execution_count": null,
   "metadata": {},
   "outputs": [],
   "source": [
    "d = glhe.globals.functions.load_json('MFRTRT_STS_input.json')\n",
    "d['ground-heat-exchanger'][0]['g-function-path'] = norm(join(cwd, '..', 'MFRTRT_EWT_g_functions', 'EWT_experimental_g_functions.csv'))\n",
    "d['ground-heat-exchanger'][0]['load-aggregation']['method'] = 'dynamic'\n",
    "d['simulation']['time-steps-per-hour'] = 60\n",
    "d['simulation']['runtime'] = 3600 * 1"
   ]
  },
  {
   "cell_type": "code",
   "execution_count": null,
   "metadata": {},
   "outputs": [],
   "source": [
    "with open(join(cwd, 'in.json'), 'w') as f:\n",
    "    f.write(json.dumps(d, sort_keys=True, indent=2, separators=(',', ': ')))"
   ]
  },
  {
   "cell_type": "code",
   "execution_count": null,
   "metadata": {},
   "outputs": [],
   "source": [
    "PlantLoop('in.json').simulate()"
   ]
  },
  {
   "cell_type": "code",
   "execution_count": null,
   "metadata": {},
   "outputs": [],
   "source": [
    "df = pd.read_csv('out.csv', index_col=0, parse_dates=True)"
   ]
  },
  {
   "cell_type": "code",
   "execution_count": null,
   "metadata": {},
   "outputs": [],
   "source": [
    "styles = ['bs-','ro-','y^--', 'gx--']\n",
    "\n",
    "df[['ConstantLoad:CONSTANT 4000:Inlet Temp. [C]', \n",
    "    'ConstantLoad:CONSTANT 4000:Outlet Temp [C]',\n",
    "    'GroundHeatExchangerSTS:GHE 1:Inlet Temp. [C]',\n",
    "    'GroundHeatExchangerSTS:GHE 1:Outlet Temp [C]']].plot(style=styles)"
   ]
  },
  {
   "cell_type": "code",
   "execution_count": null,
   "metadata": {},
   "outputs": [],
   "source": [
    "def plot_it(timestamp):\n",
    "    t_in = []\n",
    "    t_out = []\n",
    "    depth = 76.2\n",
    "    num_segs = 10\n",
    "    dz = depth / num_segs\n",
    "    d = np.arange(dz , depth + dz, dz)\n",
    "    for i in range(10):\n",
    "        val_in = df['SegmentUTubeBHGrouted:Seg No. {}:Inlet Temp Leg 1 [C]'.format(i+1)].loc[timestamp]\n",
    "        val_out = df['SegmentUTubeBHGrouted:Seg No. {}:Outlet Temp Leg 1 [C]'.format(i+1)].loc[timestamp]\n",
    "        t_in.append(val_in)\n",
    "        t_out.append(val_out)\n",
    "\n",
    "    plt.plot(t_in, d, label='Leg 1')\n",
    "    plt.plot(t_out, d, label='Leg 2', linestyle='--')\n",
    "    plt.ylim(80, 0)\n",
    "    plt.ylabel('Depth [m]')\n",
    "    plt.xlabel('Temperature [C]')\n",
    "    plt.legend()"
   ]
  },
  {
   "cell_type": "code",
   "execution_count": null,
   "metadata": {},
   "outputs": [],
   "source": [
    "plot_it('2019-01-01 00:10:00')"
   ]
  },
  {
   "cell_type": "code",
   "execution_count": null,
   "metadata": {},
   "outputs": [],
   "source": [
    "Tg = 16.1\n",
    "df['g'] = (df['GroundHeatExchangerSTS:GHE 1:Outlet Temp [C]'] - Tg) * 2 * 3.14159 * 2.7 / (4000 / 76.2)"
   ]
  },
  {
   "cell_type": "code",
   "execution_count": null,
   "metadata": {},
   "outputs": [],
   "source": [
    "df['g'].plot()"
   ]
  },
  {
   "cell_type": "code",
   "execution_count": null,
   "metadata": {},
   "outputs": [],
   "source": []
  }
 ],
 "metadata": {
  "kernelspec": {
   "display_name": "Python 3",
   "language": "python",
   "name": "python3"
  },
  "language_info": {
   "codemirror_mode": {
    "name": "ipython",
    "version": 3
   },
   "file_extension": ".py",
   "mimetype": "text/x-python",
   "name": "python",
   "nbconvert_exporter": "python",
   "pygments_lexer": "ipython3",
   "version": "3.7.3"
  }
 },
 "nbformat": 4,
 "nbformat_minor": 2
}
