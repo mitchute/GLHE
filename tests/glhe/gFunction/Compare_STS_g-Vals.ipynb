{
 "cells": [
  {
   "cell_type": "code",
   "execution_count": null,
   "metadata": {},
   "outputs": [],
   "source": [
    "import os\n",
    "import sys\n",
    "\n",
    "import numpy as np\n",
    "import pandas as pd\n",
    "\n",
    "from io import StringIO\n",
    "from scipy.interpolate import interp1d\n",
    "\n",
    "# shortcuts\n",
    "cwd = os.getcwd()\n",
    "join = os.path.join\n",
    "norm = os.path.normpath\n",
    "\n",
    "sys.path.append(norm(join(cwd, '..', '..', '..', '..', 'glhe')))\n",
    "\n",
    "from test_calc_sts_g_functions import TestSTSGFunctions"
   ]
  },
  {
   "cell_type": "code",
   "execution_count": null,
   "metadata": {},
   "outputs": [],
   "source": [
    "import matplotlib.pyplot as plt\n",
    "%matplotlib inline"
   ]
  },
  {
   "cell_type": "code",
   "execution_count": null,
   "metadata": {},
   "outputs": [],
   "source": [
    "plt.style.use('seaborn-bright')\n",
    "plt.rcParams['figure.figsize'] = [15, 9]\n",
    "plt.rcParams['font.size'] = 12\n",
    "\n",
    "pd.set_option('display.max_columns', None)\n",
    "# pd.set_option('display.max_rows', None)"
   ]
  },
  {
   "cell_type": "code",
   "execution_count": null,
   "metadata": {},
   "outputs": [],
   "source": [
    "df = pd.read_csv(\"E+_GLHEPro_g-vals.csv\")"
   ]
  },
  {
   "cell_type": "code",
   "execution_count": null,
   "metadata": {},
   "outputs": [],
   "source": [
    "df.head(3)"
   ]
  },
  {
   "cell_type": "code",
   "execution_count": null,
   "metadata": {},
   "outputs": [],
   "source": [
    "f_eplus = interp1d(df['LNTTS (E+)'].dropna().values, df['g (E+)'].dropna().values)\n",
    "f_glhepro = interp1d(df['LNTTS (GLHEPro)'].dropna().values, df['g (GLHEPro)'].dropna().values)"
   ]
  },
  {
   "cell_type": "code",
   "execution_count": null,
   "metadata": {},
   "outputs": [],
   "source": [
    "tst = TestSTSGFunctions().add_instance()\n",
    "lntts, g = tst.calc_sts_g_functions()\n",
    "f_sts = interp1d(lntts, g, fill_value='extrapolate')"
   ]
  },
  {
   "cell_type": "code",
   "execution_count": null,
   "metadata": {},
   "outputs": [],
   "source": [
    "x = np.arange(-14.5, -9, 0.1)"
   ]
  },
  {
   "cell_type": "code",
   "execution_count": null,
   "metadata": {},
   "outputs": [],
   "source": [
    "plt.plot(x, f_eplus(x), label='E+')\n",
    "plt.plot(x, f_glhepro(x), label='GLHEPro')\n",
    "plt.plot(x, f_sts(x), label='GLHE')\n",
    "\n",
    "plt.xlabel('ln(t/ts)')\n",
    "plt.ylabel('g-function')\n",
    "\n",
    "plt.legend()\n",
    "plt.grid()\n",
    "plt.show()"
   ]
  },
  {
   "cell_type": "code",
   "execution_count": null,
   "metadata": {},
   "outputs": [],
   "source": []
  }
 ],
 "metadata": {
  "kernelspec": {
   "display_name": "Python 3",
   "language": "python",
   "name": "python3"
  },
  "language_info": {
   "codemirror_mode": {
    "name": "ipython",
    "version": 3
   },
   "file_extension": ".py",
   "mimetype": "text/x-python",
   "name": "python",
   "nbconvert_exporter": "python",
   "pygments_lexer": "ipython3",
   "version": "3.7.1"
  }
 },
 "nbformat": 4,
 "nbformat_minor": 2
}
