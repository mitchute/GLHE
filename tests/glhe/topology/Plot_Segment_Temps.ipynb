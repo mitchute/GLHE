{
 "cells": [
  {
   "cell_type": "code",
   "execution_count": null,
   "metadata": {},
   "outputs": [],
   "source": [
    "import pandas as pd\n",
    "import numpy as np\n",
    "\n",
    "from ipywidgets import interactive\n",
    "import ipywidgets as widgets"
   ]
  },
  {
   "cell_type": "code",
   "execution_count": null,
   "metadata": {},
   "outputs": [],
   "source": [
    "import matplotlib.pyplot as plt\n",
    "%matplotlib inline"
   ]
  },
  {
   "cell_type": "code",
   "execution_count": null,
   "metadata": {},
   "outputs": [],
   "source": [
    "plt.style.use('seaborn-bright')\n",
    "plt.rcParams['figure.figsize'] = [15, 9]\n",
    "plt.rcParams['font.size'] = 12\n",
    "\n",
    "pd.set_option('display.max_columns', None)\n",
    "# pd.set_option('display.max_rows', None)"
   ]
  },
  {
   "cell_type": "code",
   "execution_count": null,
   "metadata": {},
   "outputs": [],
   "source": [
    "df = pd.read_csv('segment_temps.csv', header=None, index_col=0)"
   ]
  },
  {
   "cell_type": "code",
   "execution_count": null,
   "metadata": {},
   "outputs": [],
   "source": [
    "def get_data(time):\n",
    "    arr_1 = df.loc[time].iloc[0].values\n",
    "    arr_1 = np.insert(arr_1, 0, 30.0)\n",
    "    arr_1 = np.delete(arr_1, -1)\n",
    "    \n",
    "    arr_2 = np.flip(df.loc[time].iloc[1].values)\n",
    "    arr_2 = np.delete(arr_2, 0)\n",
    "    \n",
    "    x = np.concatenate([arr_1, arr_2])\n",
    "    y = np.concatenate([np.arange(0, 76.2, 7.62), np.arange(76.2, -7.62, -7.62)])\n",
    "    \n",
    "    return x, y"
   ]
  },
  {
   "cell_type": "code",
   "execution_count": null,
   "metadata": {},
   "outputs": [],
   "source": [
    "def make_plot(time):\n",
    "    fig = plt.figure()\n",
    "    ax = fig.add_subplot(1, 1, 1)\n",
    "    \n",
    "#     time_1 = int(time / 3)\n",
    "#     x, y = get_data(time_1)\n",
    "#     plt.plot(x, y, label=time_1)\n",
    "    \n",
    "#     time_2 = int(time * 2 / 3)\n",
    "#     x, y = get_data(time_2)\n",
    "#     plt.plot(x, y, label=time_2)\n",
    "    \n",
    "    time_3 = int(time)\n",
    "    x, y = get_data(time_3)\n",
    "    plt.plot(x, y, label=time_3)\n",
    "    \n",
    "    plt.plot([20, 20], [0, 76.2])\n",
    "    \n",
    "    plt.legend()\n",
    "    plt.gca().invert_yaxis()\n",
    "    plt.show()"
   ]
  },
  {
   "cell_type": "code",
   "execution_count": null,
   "metadata": {},
   "outputs": [],
   "source": [
    "interactive_plot = interactive(make_plot, time=(0, 5000, 20))\n",
    "output = interactive_plot.children[-1]\n",
    "output.layout.height = '600px'\n",
    "interactive_plot"
   ]
  },
  {
   "cell_type": "code",
   "execution_count": null,
   "metadata": {},
   "outputs": [],
   "source": []
  }
 ],
 "metadata": {
  "kernelspec": {
   "display_name": "Python 3",
   "language": "python",
   "name": "python3"
  },
  "language_info": {
   "codemirror_mode": {
    "name": "ipython",
    "version": 3
   },
   "file_extension": ".py",
   "mimetype": "text/x-python",
   "name": "python",
   "nbconvert_exporter": "python",
   "pygments_lexer": "ipython3",
   "version": "3.6.8"
  }
 },
 "nbformat": 4,
 "nbformat_minor": 2
}
